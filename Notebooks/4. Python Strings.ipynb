{
 "cells": [
  {
   "cell_type": "markdown",
   "id": "ca9c8c3d",
   "metadata": {
    "editable": true,
    "slideshow": {
     "slide_type": ""
    },
    "tags": []
   },
   "source": [
    "# Introduction"
   ]
  },
  {
   "cell_type": "markdown",
   "id": "0f871143",
   "metadata": {},
   "source": [
    "The string data type is a sequence made up of one or more individual characters.\n",
    "\n",
    "The character could be a letter, digit, whitespace, or any symbol.\n",
    "\n",
    "Strings are delimited by single, double or triple quotes."
   ]
  },
  {
   "cell_type": "markdown",
   "id": "b1ccb70c",
   "metadata": {},
   "source": [
    "### Example"
   ]
  },
  {
   "cell_type": "code",
   "execution_count": 2,
   "id": "ad0ebc97",
   "metadata": {},
   "outputs": [],
   "source": [
    "country = \"India\"\n",
    "\n",
    "state = 'Karnataka'\n",
    "\n",
    "city = '''Bengaluru'''\n",
    "\n",
    "university = \"\"\"Dayananda Sagar University\"\"\""
   ]
  },
  {
   "cell_type": "markdown",
   "id": "b26d4f3a",
   "metadata": {},
   "source": [
    "Individual characters in a string are accessed using the subscript ([]) operator.\n",
    "\n",
    "The expression in brackets is called an index.\n",
    "\n",
    "The index of the first character is 0 and that of the last character is n-1, where n is the number of characters in a string."
   ]
  },
  {
   "cell_type": "markdown",
   "id": "03dd4f8a",
   "metadata": {},
   "source": [
    "### Example"
   ]
  },
  {
   "cell_type": "code",
   "execution_count": 3,
   "id": "6607baca",
   "metadata": {},
   "outputs": [],
   "source": [
    "country = \"India\""
   ]
  },
  {
   "cell_type": "code",
   "execution_count": 4,
   "id": "a3ac67dc",
   "metadata": {},
   "outputs": [
    {
     "data": {
      "text/plain": [
       "'I'"
      ]
     },
     "execution_count": 4,
     "metadata": {},
     "output_type": "execute_result"
    }
   ],
   "source": [
    "country[0]"
   ]
  },
  {
   "cell_type": "code",
   "execution_count": 5,
   "id": "1e78742a",
   "metadata": {},
   "outputs": [
    {
     "data": {
      "text/plain": [
       "'n'"
      ]
     },
     "execution_count": 5,
     "metadata": {},
     "output_type": "execute_result"
    }
   ],
   "source": [
    "country[1]"
   ]
  },
  {
   "cell_type": "code",
   "execution_count": 6,
   "id": "87acc6d9",
   "metadata": {},
   "outputs": [
    {
     "data": {
      "text/plain": [
       "'a'"
      ]
     },
     "execution_count": 6,
     "metadata": {},
     "output_type": "execute_result"
    }
   ],
   "source": [
    "country[4]"
   ]
  },
  {
   "cell_type": "code",
   "execution_count": 7,
   "id": "6a563ba3",
   "metadata": {},
   "outputs": [
    {
     "ename": "IndexError",
     "evalue": "string index out of range",
     "output_type": "error",
     "traceback": [
      "\u001b[1;31m---------------------------------------------------------------------------\u001b[0m",
      "\u001b[1;31mIndexError\u001b[0m                                Traceback (most recent call last)",
      "Cell \u001b[1;32mIn[7], line 1\u001b[0m\n\u001b[1;32m----> 1\u001b[0m country[\u001b[38;5;241m5\u001b[39m]\n",
      "\u001b[1;31mIndexError\u001b[0m: string index out of range"
     ]
    }
   ],
   "source": [
    "country[5]"
   ]
  },
  {
   "cell_type": "markdown",
   "id": "ca6db5f7",
   "metadata": {},
   "source": [
    "# String operations"
   ]
  },
  {
   "cell_type": "markdown",
   "id": "7a665004",
   "metadata": {},
   "source": [
    "## String Concatenation"
   ]
  },
  {
   "cell_type": "markdown",
   "id": "3bcf0fd9",
   "metadata": {},
   "source": [
    "Concatenate means to join together.\n",
    "\n",
    "Python uses the + operator to concatenate two strings."
   ]
  },
  {
   "cell_type": "markdown",
   "id": "89566916",
   "metadata": {},
   "source": [
    "### Example"
   ]
  },
  {
   "cell_type": "code",
   "execution_count": 8,
   "id": "18a8b48e",
   "metadata": {},
   "outputs": [
    {
     "name": "stdout",
     "output_type": "stream",
     "text": [
      "Hello, Welcome to Python Programming\n"
     ]
    }
   ],
   "source": [
    "text_one = \"Hello, \"\n",
    "\n",
    "text_two = \"Welcome to Python Programming\"\n",
    "\n",
    "message = text_one + text_two\n",
    "\n",
    "print(message)"
   ]
  },
  {
   "cell_type": "markdown",
   "id": "a9be0420",
   "metadata": {},
   "source": [
    "## Appending Strings"
   ]
  },
  {
   "cell_type": "markdown",
   "id": "1da3b4df",
   "metadata": {},
   "source": [
    "Appending means adding something to the end.\n",
    "\n",
    "In Python, one string can be added at the end of another string using the += operator."
   ]
  },
  {
   "cell_type": "markdown",
   "id": "d5d4abd7",
   "metadata": {},
   "source": [
    "### Example"
   ]
  },
  {
   "cell_type": "code",
   "execution_count": 10,
   "id": "ff49c834",
   "metadata": {},
   "outputs": [
    {
     "name": "stdout",
     "output_type": "stream",
     "text": [
      "Hello, Welcome to Computer Science and Engineering\n"
     ]
    }
   ],
   "source": [
    "message = \"Hello, \"\n",
    "\n",
    "message_two = \"Welcome to Computer Science and Engineering\"\n",
    "\n",
    "message += message_two\n",
    "\n",
    "print(message)"
   ]
  },
  {
   "cell_type": "markdown",
   "id": "c8358bc8",
   "metadata": {},
   "source": [
    "## Multiplying or Repeating a string"
   ]
  },
  {
   "cell_type": "markdown",
   "id": "f3ffb85f",
   "metadata": {},
   "source": [
    "Use the * operator to repeat a sstring n number of times."
   ]
  },
  {
   "cell_type": "markdown",
   "id": "251499d0",
   "metadata": {},
   "source": [
    "### Example"
   ]
  },
  {
   "cell_type": "code",
   "execution_count": 13,
   "id": "3538a575",
   "metadata": {},
   "outputs": [
    {
     "name": "stdout",
     "output_type": "stream",
     "text": [
      "ColourfulColourfulColourfulColourfulColourful\n"
     ]
    }
   ],
   "source": [
    "text = \"Colourful\"\n",
    "\n",
    "print(text * 5)"
   ]
  },
  {
   "cell_type": "code",
   "execution_count": 14,
   "id": "f496412e",
   "metadata": {},
   "outputs": [
    {
     "name": "stdout",
     "output_type": "stream",
     "text": [
      "Colourful Colourful Colourful Colourful Colourful \n"
     ]
    }
   ],
   "source": [
    "text = \"Colourful \"\n",
    "\n",
    "print(text * 5)"
   ]
  },
  {
   "cell_type": "markdown",
   "id": "67e2dc80",
   "metadata": {},
   "source": [
    "## Converting to string data type"
   ]
  },
  {
   "cell_type": "markdown",
   "id": "bef97a8d",
   "metadata": {},
   "source": [
    "The function *str()* is used to convert a value of any data type into string type."
   ]
  },
  {
   "cell_type": "markdown",
   "id": "70f3d0a8",
   "metadata": {},
   "source": [
    "### Example"
   ]
  },
  {
   "cell_type": "code",
   "execution_count": 15,
   "id": "57eff921",
   "metadata": {},
   "outputs": [
    {
     "name": "stdout",
     "output_type": "stream",
     "text": [
      "<class 'int'>\n"
     ]
    }
   ],
   "source": [
    "year = 2024\n",
    "\n",
    "print(type(year))"
   ]
  },
  {
   "cell_type": "code",
   "execution_count": 16,
   "id": "5346d53e",
   "metadata": {},
   "outputs": [
    {
     "name": "stdout",
     "output_type": "stream",
     "text": [
      "<class 'str'>\n"
     ]
    }
   ],
   "source": [
    "year = str(year)\n",
    "\n",
    "print(type(year))"
   ]
  },
  {
   "cell_type": "markdown",
   "id": "8af0fe84",
   "metadata": {},
   "source": [
    "## print function"
   ]
  },
  {
   "cell_type": "markdown",
   "id": "c883fb71",
   "metadata": {},
   "source": [
    "The print function prints one or more literals or values in a new line.\n",
    "\n",
    "To avoid printing a next literal on a new line, add the argument *end* with a separator like comma, whitespace, etc."
   ]
  },
  {
   "cell_type": "markdown",
   "id": "9cb02343",
   "metadata": {},
   "source": [
    "### Example"
   ]
  },
  {
   "cell_type": "code",
   "execution_count": 17,
   "id": "3abeee5c",
   "metadata": {},
   "outputs": [
    {
     "name": "stdout",
     "output_type": "stream",
     "text": [
      "Today is Saturday\n",
      "Tomorrow is Sunday\n"
     ]
    }
   ],
   "source": [
    "first_text = 'Today is Saturday'\n",
    "\n",
    "next_text = 'Tomorrow is Sunday'\n",
    "\n",
    "print(first_text)\n",
    "\n",
    "print(next_text)"
   ]
  },
  {
   "cell_type": "code",
   "execution_count": 18,
   "id": "493f7f8b",
   "metadata": {},
   "outputs": [
    {
     "name": "stdout",
     "output_type": "stream",
     "text": [
      "Today is Saturday,Tomorrow is Sunday\n"
     ]
    }
   ],
   "source": [
    "print(first_text, end=',')\n",
    "\n",
    "print(next_text)"
   ]
  },
  {
   "cell_type": "code",
   "execution_count": 19,
   "id": "14c35e02",
   "metadata": {},
   "outputs": [
    {
     "name": "stdout",
     "output_type": "stream",
     "text": [
      "Today is SaturdayTomorrow is Sunday\n"
     ]
    }
   ],
   "source": [
    "print(first_text, end='')\n",
    "\n",
    "print(next_text)"
   ]
  },
  {
   "cell_type": "code",
   "execution_count": 20,
   "id": "7692e5b6",
   "metadata": {},
   "outputs": [
    {
     "name": "stdout",
     "output_type": "stream",
     "text": [
      "Today is Saturday Tomorrow is Sunday\n"
     ]
    }
   ],
   "source": [
    "print(first_text, end=' ')\n",
    "\n",
    "print(next_text)"
   ]
  },
  {
   "cell_type": "markdown",
   "id": "3eae322a",
   "metadata": {},
   "source": [
    "## Raw String"
   ]
  },
  {
   "cell_type": "markdown",
   "id": "97d351ef",
   "metadata": {},
   "source": [
    "A raw string literal is prefixed by an 'r' and passes all the characters as it is."
   ]
  },
  {
   "cell_type": "markdown",
   "id": "adf920d3",
   "metadata": {},
   "source": [
    "### Example"
   ]
  },
  {
   "cell_type": "code",
   "execution_count": 21,
   "id": "6fcc147c",
   "metadata": {},
   "outputs": [
    {
     "name": "stdout",
     "output_type": "stream",
     "text": [
      "C:\\Workspace\n",
      "ewfolder\n"
     ]
    }
   ],
   "source": [
    "file_path = 'C:\\Workspace\\newfolder'\n",
    "\n",
    "print(file_path)"
   ]
  },
  {
   "cell_type": "code",
   "execution_count": 22,
   "id": "4d6f3c18",
   "metadata": {},
   "outputs": [
    {
     "name": "stdout",
     "output_type": "stream",
     "text": [
      "C:\\Workspace\\newfolder\n"
     ]
    }
   ],
   "source": [
    "file_path = r'C:\\Workspace\\newfolder'\n",
    "\n",
    "print(file_path)"
   ]
  },
  {
   "cell_type": "markdown",
   "id": "4c190a2d",
   "metadata": {},
   "source": [
    "# Strings are Immutable"
   ]
  },
  {
   "cell_type": "markdown",
   "id": "183e462e",
   "metadata": {},
   "source": [
    "Immutable means once created can't be changed.\n",
    "\n",
    "Whenever we try to modify an existing string variable, a new string is created."
   ]
  },
  {
   "cell_type": "markdown",
   "id": "aa7494af",
   "metadata": {},
   "source": [
    "### Example"
   ]
  },
  {
   "cell_type": "code",
   "execution_count": 27,
   "id": "9f3f4bee",
   "metadata": {},
   "outputs": [],
   "source": [
    "new_programming_language = 'Golang'"
   ]
  },
  {
   "cell_type": "code",
   "execution_count": 28,
   "id": "337efde5",
   "metadata": {},
   "outputs": [
    {
     "data": {
      "text/plain": [
       "1794403038448"
      ]
     },
     "execution_count": 28,
     "metadata": {},
     "output_type": "execute_result"
    }
   ],
   "source": [
    "id(new_programming_language)"
   ]
  },
  {
   "cell_type": "code",
   "execution_count": 29,
   "id": "ec056483",
   "metadata": {},
   "outputs": [],
   "source": [
    "new_programming_language = 'Rust'"
   ]
  },
  {
   "cell_type": "code",
   "execution_count": 30,
   "id": "6bc12d76",
   "metadata": {},
   "outputs": [
    {
     "data": {
      "text/plain": [
       "1794338194032"
      ]
     },
     "execution_count": 30,
     "metadata": {},
     "output_type": "execute_result"
    }
   ],
   "source": [
    "id(new_programming_language)"
   ]
  },
  {
   "cell_type": "markdown",
   "id": "833d46bf",
   "metadata": {},
   "source": [
    "# Built-in String Methods and Functions"
   ]
  },
  {
   "cell_type": "markdown",
   "id": "dffaa4c8",
   "metadata": {},
   "source": [
    "Strings are objects in Python.\n",
    "\n",
    "An object is an entity which possess both data and functions to manipulate that data.\n",
    "\n",
    "The functions are available to any instance (variable) of the object.\n",
    "\n",
    "A method is just like a function except that it is involed or called on an object."
   ]
  },
  {
   "cell_type": "markdown",
   "id": "d314b604",
   "metadata": {},
   "source": [
    "## *len()* function"
   ]
  },
  {
   "cell_type": "markdown",
   "id": "c918c2d8",
   "metadata": {},
   "source": [
    "Returns the length of the string."
   ]
  },
  {
   "cell_type": "markdown",
   "id": "6f6d7b33",
   "metadata": {},
   "source": [
    "### Example"
   ]
  },
  {
   "cell_type": "code",
   "execution_count": 7,
   "id": "2d389743",
   "metadata": {},
   "outputs": [
    {
     "data": {
      "text/plain": [
       "7"
      ]
     },
     "execution_count": 7,
     "metadata": {},
     "output_type": "execute_result"
    }
   ],
   "source": [
    "len('Rainbow')"
   ]
  },
  {
   "cell_type": "markdown",
   "id": "b361d352",
   "metadata": {},
   "source": [
    "### Example"
   ]
  },
  {
   "cell_type": "code",
   "execution_count": 5,
   "id": "2f8dcbe5",
   "metadata": {},
   "outputs": [],
   "source": [
    "text = 'Rainbow'"
   ]
  },
  {
   "cell_type": "code",
   "execution_count": 6,
   "id": "04a06ca9",
   "metadata": {},
   "outputs": [
    {
     "name": "stdout",
     "output_type": "stream",
     "text": [
      "7\n"
     ]
    }
   ],
   "source": [
    "print(len(text))"
   ]
  },
  {
   "cell_type": "markdown",
   "id": "ca27591e",
   "metadata": {},
   "source": [
    "## *lower()* method"
   ]
  },
  {
   "cell_type": "markdown",
   "id": "c1a15363",
   "metadata": {},
   "source": [
    "Converts all the characters in the string into lower case."
   ]
  },
  {
   "cell_type": "markdown",
   "id": "3338d752",
   "metadata": {},
   "source": [
    "### Example"
   ]
  },
  {
   "cell_type": "code",
   "execution_count": 8,
   "id": "5390861b",
   "metadata": {},
   "outputs": [],
   "source": [
    "message = 'Welcome to Bengaluru.'"
   ]
  },
  {
   "cell_type": "code",
   "execution_count": 9,
   "id": "f376cea4",
   "metadata": {},
   "outputs": [
    {
     "data": {
      "text/plain": [
       "'welcome to bengaluru.'"
      ]
     },
     "execution_count": 9,
     "metadata": {},
     "output_type": "execute_result"
    }
   ],
   "source": [
    "message.lower()"
   ]
  },
  {
   "cell_type": "markdown",
   "id": "89da35af",
   "metadata": {},
   "source": [
    "### Example"
   ]
  },
  {
   "cell_type": "code",
   "execution_count": 10,
   "id": "a09c5f05",
   "metadata": {},
   "outputs": [
    {
     "data": {
      "text/plain": [
       "'welcome to bengaluru.'"
      ]
     },
     "execution_count": 10,
     "metadata": {},
     "output_type": "execute_result"
    }
   ],
   "source": [
    "'Welcome to Bengaluru.'.lower()"
   ]
  },
  {
   "cell_type": "markdown",
   "id": "618c7aa8",
   "metadata": {},
   "source": [
    "## *upper()* method"
   ]
  },
  {
   "cell_type": "markdown",
   "id": "7625781b",
   "metadata": {},
   "source": [
    "Converts all the characters in the string into upper case."
   ]
  },
  {
   "cell_type": "markdown",
   "id": "6d1e0ba8",
   "metadata": {},
   "source": [
    "### Example"
   ]
  },
  {
   "cell_type": "code",
   "execution_count": 11,
   "id": "ea1f138f",
   "metadata": {},
   "outputs": [],
   "source": [
    "message = 'Welcome to Bengaluru.'"
   ]
  },
  {
   "cell_type": "code",
   "execution_count": 12,
   "id": "2c6d3dd7",
   "metadata": {},
   "outputs": [
    {
     "data": {
      "text/plain": [
       "'WELCOME TO BENGALURU.'"
      ]
     },
     "execution_count": 12,
     "metadata": {},
     "output_type": "execute_result"
    }
   ],
   "source": [
    "message.upper()"
   ]
  },
  {
   "cell_type": "markdown",
   "id": "72e4d789",
   "metadata": {},
   "source": [
    "## *swapcase()* method"
   ]
  },
  {
   "cell_type": "markdown",
   "id": "8a41be24",
   "metadata": {},
   "source": [
    "Toggles the case of every character."
   ]
  },
  {
   "cell_type": "markdown",
   "id": "0c08f4b8",
   "metadata": {},
   "source": [
    "### Example"
   ]
  },
  {
   "cell_type": "code",
   "execution_count": 13,
   "id": "386d6d05",
   "metadata": {},
   "outputs": [],
   "source": [
    "capital = 'Bengaluru is the capital city of Karnataka.'"
   ]
  },
  {
   "cell_type": "code",
   "execution_count": 14,
   "id": "14648994",
   "metadata": {},
   "outputs": [
    {
     "data": {
      "text/plain": [
       "'bENGALURU IS THE CAPITAL CITY OF kARNATAKA.'"
      ]
     },
     "execution_count": 14,
     "metadata": {},
     "output_type": "execute_result"
    }
   ],
   "source": [
    "capital.swapcase()"
   ]
  },
  {
   "cell_type": "markdown",
   "id": "31aedd71",
   "metadata": {},
   "source": [
    "## *title()* method"
   ]
  },
  {
   "cell_type": "markdown",
   "id": "6ab5f898",
   "metadata": {},
   "source": [
    "The title method capitalizes all first letters in each word of a string."
   ]
  },
  {
   "cell_type": "markdown",
   "id": "e103861e",
   "metadata": {},
   "source": [
    "### Example"
   ]
  },
  {
   "cell_type": "code",
   "execution_count": 4,
   "id": "ff7737cc",
   "metadata": {},
   "outputs": [
    {
     "data": {
      "text/plain": [
       "'India Is My Motherland'"
      ]
     },
     "execution_count": 4,
     "metadata": {},
     "output_type": "execute_result"
    }
   ],
   "source": [
    "'india is my motherland'.title()"
   ]
  },
  {
   "cell_type": "markdown",
   "id": "cbf7ac8a",
   "metadata": {},
   "source": [
    "### Example"
   ]
  },
  {
   "cell_type": "code",
   "execution_count": 2,
   "id": "92ba708a",
   "metadata": {},
   "outputs": [],
   "source": [
    "text = 'india is my motherland'"
   ]
  },
  {
   "cell_type": "code",
   "execution_count": 3,
   "id": "109f3f4c",
   "metadata": {},
   "outputs": [
    {
     "name": "stdout",
     "output_type": "stream",
     "text": [
      "India Is My Motherland\n"
     ]
    }
   ],
   "source": [
    "print(text.title())"
   ]
  },
  {
   "cell_type": "markdown",
   "id": "2f59b936",
   "metadata": {},
   "source": [
    "## *capitalize()* method"
   ]
  },
  {
   "cell_type": "markdown",
   "id": "4e2088e9",
   "metadata": {},
   "source": [
    "The method is used to capitalize the first letter of the string."
   ]
  },
  {
   "cell_type": "markdown",
   "id": "af42c2f6",
   "metadata": {},
   "source": [
    "### Example"
   ]
  },
  {
   "cell_type": "code",
   "execution_count": 21,
   "id": "dd3a9c7a",
   "metadata": {},
   "outputs": [
    {
     "name": "stdout",
     "output_type": "stream",
     "text": [
      "Violet is the first colour in the rainbow.\n"
     ]
    }
   ],
   "source": [
    "colour = 'violet is the first colour in the rainbow.'\n",
    "\n",
    "print(colour.capitalize())"
   ]
  },
  {
   "cell_type": "markdown",
   "id": "0fc4b008",
   "metadata": {},
   "source": [
    "## *strip()* method"
   ]
  },
  {
   "cell_type": "markdown",
   "id": "44675f3c",
   "metadata": {},
   "source": [
    "Removes all leading and trailing whitespace in a string. "
   ]
  },
  {
   "cell_type": "code",
   "execution_count": 27,
   "id": "687c088e",
   "metadata": {},
   "outputs": [],
   "source": [
    "text = '    Rainbow has seven colours.   '"
   ]
  },
  {
   "cell_type": "code",
   "execution_count": 28,
   "id": "3a351410",
   "metadata": {},
   "outputs": [
    {
     "name": "stdout",
     "output_type": "stream",
     "text": [
      "    Rainbow has seven colours.   \n"
     ]
    }
   ],
   "source": [
    "print(text)"
   ]
  },
  {
   "cell_type": "code",
   "execution_count": 29,
   "id": "a437470e",
   "metadata": {},
   "outputs": [
    {
     "data": {
      "text/plain": [
       "'Rainbow has seven colours.'"
      ]
     },
     "execution_count": 29,
     "metadata": {},
     "output_type": "execute_result"
    }
   ],
   "source": [
    "text.strip()"
   ]
  },
  {
   "cell_type": "markdown",
   "id": "dd1cbc54",
   "metadata": {},
   "source": [
    "## *lstrip()* method"
   ]
  },
  {
   "cell_type": "markdown",
   "id": "e2602b07",
   "metadata": {},
   "source": [
    "Removes all the leading whitespace in a string."
   ]
  },
  {
   "cell_type": "code",
   "execution_count": 23,
   "id": "8febb141",
   "metadata": {},
   "outputs": [],
   "source": [
    "text = '               Rainbow has seven colours.'"
   ]
  },
  {
   "cell_type": "code",
   "execution_count": 24,
   "id": "f359ed84",
   "metadata": {},
   "outputs": [
    {
     "data": {
      "text/plain": [
       "'Rainbow has seven colours.'"
      ]
     },
     "execution_count": 24,
     "metadata": {},
     "output_type": "execute_result"
    }
   ],
   "source": [
    "text.lstrip()"
   ]
  },
  {
   "cell_type": "markdown",
   "id": "b05656d5",
   "metadata": {},
   "source": [
    "## *rstrip()* method"
   ]
  },
  {
   "cell_type": "markdown",
   "id": "2e9a723b",
   "metadata": {},
   "source": [
    "Removes all the trailing whitespace in a string."
   ]
  },
  {
   "cell_type": "code",
   "execution_count": 25,
   "id": "28e4a307",
   "metadata": {},
   "outputs": [],
   "source": [
    "text = 'Rainbow has seven colours.          '"
   ]
  },
  {
   "cell_type": "code",
   "execution_count": 26,
   "id": "4942e752",
   "metadata": {},
   "outputs": [
    {
     "data": {
      "text/plain": [
       "'Rainbow has seven colours.'"
      ]
     },
     "execution_count": 26,
     "metadata": {},
     "output_type": "execute_result"
    }
   ],
   "source": [
    "text.rstrip()"
   ]
  },
  {
   "cell_type": "markdown",
   "id": "52fd9520",
   "metadata": {},
   "source": [
    "## *replace(old_str, new_str)* method"
   ]
  },
  {
   "cell_type": "markdown",
   "id": "461a1c54",
   "metadata": {},
   "source": [
    "The replace method works like a find and replace tool.\n",
    "\n",
    "It takes in two values within its parenthesis, one that it searches for and the other that it replaces the searched value with."
   ]
  },
  {
   "cell_type": "markdown",
   "id": "641c3c5a",
   "metadata": {},
   "source": [
    "### Example"
   ]
  },
  {
   "cell_type": "code",
   "execution_count": 30,
   "id": "aa4651d0",
   "metadata": {},
   "outputs": [],
   "source": [
    "words = \"Hello there!\""
   ]
  },
  {
   "cell_type": "code",
   "execution_count": 31,
   "id": "651849e0",
   "metadata": {},
   "outputs": [
    {
     "data": {
      "text/plain": [
       "'Hello there.'"
      ]
     },
     "execution_count": 31,
     "metadata": {},
     "output_type": "execute_result"
    }
   ],
   "source": [
    "words.replace('!', '.')"
   ]
  },
  {
   "cell_type": "markdown",
   "id": "b4316828",
   "metadata": {},
   "source": [
    "## *find(str, beg, end)* method"
   ]
  },
  {
   "cell_type": "markdown",
   "id": "11434cf7",
   "metadata": {},
   "source": [
    "Checks if *str* is present in the string.\n",
    "\n",
    "If found, returns the position at which *str* occurs, otherwise returns -1."
   ]
  },
  {
   "cell_type": "markdown",
   "id": "16c6cb60",
   "metadata": {},
   "source": [
    "### Example"
   ]
  },
  {
   "cell_type": "code",
   "execution_count": 34,
   "id": "e4e85d0c",
   "metadata": {},
   "outputs": [],
   "source": [
    "text = 'The sky is blue.'"
   ]
  },
  {
   "cell_type": "code",
   "execution_count": 35,
   "id": "8e451227",
   "metadata": {},
   "outputs": [
    {
     "data": {
      "text/plain": [
       "4"
      ]
     },
     "execution_count": 35,
     "metadata": {},
     "output_type": "execute_result"
    }
   ],
   "source": [
    "text.find('sky')"
   ]
  },
  {
   "cell_type": "markdown",
   "id": "96da62ac",
   "metadata": {},
   "source": [
    "### Example"
   ]
  },
  {
   "cell_type": "code",
   "execution_count": 38,
   "id": "d7a0ed3d",
   "metadata": {},
   "outputs": [],
   "source": [
    "aim = 'The sky is the limit.'"
   ]
  },
  {
   "cell_type": "code",
   "execution_count": 40,
   "id": "469b9470",
   "metadata": {},
   "outputs": [
    {
     "data": {
      "text/plain": [
       "11"
      ]
     },
     "execution_count": 40,
     "metadata": {},
     "output_type": "execute_result"
    }
   ],
   "source": [
    "aim.find('the')"
   ]
  },
  {
   "cell_type": "markdown",
   "id": "2e54fcf9",
   "metadata": {},
   "source": [
    "### Example"
   ]
  },
  {
   "cell_type": "code",
   "execution_count": 42,
   "id": "9c912767",
   "metadata": {},
   "outputs": [],
   "source": [
    "taste = 'Sugar is sweet and honey is sweeter'"
   ]
  },
  {
   "cell_type": "code",
   "execution_count": 43,
   "id": "90097099",
   "metadata": {},
   "outputs": [
    {
     "data": {
      "text/plain": [
       "25"
      ]
     },
     "execution_count": 43,
     "metadata": {},
     "output_type": "execute_result"
    }
   ],
   "source": [
    "taste.find('is', 10)"
   ]
  },
  {
   "cell_type": "markdown",
   "id": "eb2e76d2",
   "metadata": {},
   "source": [
    "### Example"
   ]
  },
  {
   "cell_type": "code",
   "execution_count": null,
   "id": "b6a119c9",
   "metadata": {},
   "outputs": [],
   "source": [
    "taste = 'Sugar is sweet and honey is sweeter'"
   ]
  },
  {
   "cell_type": "code",
   "execution_count": 44,
   "id": "56aa8c46",
   "metadata": {},
   "outputs": [
    {
     "data": {
      "text/plain": [
       "6"
      ]
     },
     "execution_count": 44,
     "metadata": {},
     "output_type": "execute_result"
    }
   ],
   "source": [
    "taste.find('is', 6, 27)"
   ]
  },
  {
   "cell_type": "markdown",
   "id": "f4c77610",
   "metadata": {},
   "source": [
    "## *count(str, beg, end)* method"
   ]
  },
  {
   "cell_type": "markdown",
   "id": "adb8a352",
   "metadata": {},
   "source": [
    "The method counts the number of times the *str* occurs in a string.\n",
    "\n",
    "*beg* specifies the beginning of the string to search and *end* is the length of the string to search."
   ]
  },
  {
   "cell_type": "markdown",
   "id": "d5140cd1",
   "metadata": {},
   "source": [
    "### Example"
   ]
  },
  {
   "cell_type": "code",
   "execution_count": 34,
   "id": "8c9d87df",
   "metadata": {},
   "outputs": [],
   "source": [
    "message = 'hello'"
   ]
  },
  {
   "cell_type": "code",
   "execution_count": 35,
   "id": "f4991de9",
   "metadata": {},
   "outputs": [
    {
     "data": {
      "text/plain": [
       "2"
      ]
     },
     "execution_count": 35,
     "metadata": {},
     "output_type": "execute_result"
    }
   ],
   "source": [
    "message.count('l')"
   ]
  },
  {
   "cell_type": "code",
   "execution_count": 37,
   "id": "cd6bf8dd",
   "metadata": {},
   "outputs": [
    {
     "data": {
      "text/plain": [
       "1"
      ]
     },
     "execution_count": 37,
     "metadata": {},
     "output_type": "execute_result"
    }
   ],
   "source": [
    "message.count('l', 0, 3) # hel"
   ]
  },
  {
   "cell_type": "code",
   "execution_count": 42,
   "id": "0d0ae410",
   "metadata": {},
   "outputs": [
    {
     "data": {
      "text/plain": [
       "2"
      ]
     },
     "execution_count": 42,
     "metadata": {},
     "output_type": "execute_result"
    }
   ],
   "source": [
    "message.count('l', 2, 4) # ll"
   ]
  },
  {
   "cell_type": "markdown",
   "id": "55870d8d",
   "metadata": {},
   "source": [
    "## *endswith(suffix, beg, end)* method"
   ]
  },
  {
   "cell_type": "markdown",
   "id": "7ef0ace5",
   "metadata": {},
   "source": [
    "Checks if the string ends with *suffix*.\n",
    "\n",
    "Returns True if ends with *suffix* and False otherwise.\n",
    "\n",
    "Set *beg* to 0 and *end* to the length of the string to search the entire string or use any other value to search a part of it."
   ]
  },
  {
   "cell_type": "markdown",
   "id": "0acafdca",
   "metadata": {},
   "source": [
    "### Examle"
   ]
  },
  {
   "cell_type": "code",
   "execution_count": 47,
   "id": "09820bef",
   "metadata": {},
   "outputs": [],
   "source": [
    "text = 'He is my best friend'"
   ]
  },
  {
   "cell_type": "code",
   "execution_count": 48,
   "id": "89461c4f",
   "metadata": {},
   "outputs": [
    {
     "data": {
      "text/plain": [
       "True"
      ]
     },
     "execution_count": 48,
     "metadata": {},
     "output_type": "execute_result"
    }
   ],
   "source": [
    "text.endswith('end')"
   ]
  },
  {
   "cell_type": "markdown",
   "id": "8c7ba4e2",
   "metadata": {},
   "source": [
    "### Example"
   ]
  },
  {
   "cell_type": "code",
   "execution_count": 49,
   "id": "c690f3b0",
   "metadata": {},
   "outputs": [],
   "source": [
    "text = \"Mount Everest is the tallest peak.\""
   ]
  },
  {
   "cell_type": "code",
   "execution_count": 50,
   "id": "669b5e70",
   "metadata": {},
   "outputs": [
    {
     "data": {
      "text/plain": [
       "False"
      ]
     },
     "execution_count": 50,
     "metadata": {},
     "output_type": "execute_result"
    }
   ],
   "source": [
    "text.endswith('is')"
   ]
  },
  {
   "cell_type": "markdown",
   "id": "5d4a9902",
   "metadata": {},
   "source": [
    "### Example"
   ]
  },
  {
   "cell_type": "code",
   "execution_count": 51,
   "id": "f2f74cca",
   "metadata": {},
   "outputs": [],
   "source": [
    "text = \"Mount Everest is the tallest peak.\""
   ]
  },
  {
   "cell_type": "code",
   "execution_count": 54,
   "id": "320107b1",
   "metadata": {},
   "outputs": [
    {
     "data": {
      "text/plain": [
       "True"
      ]
     },
     "execution_count": 54,
     "metadata": {},
     "output_type": "execute_result"
    }
   ],
   "source": [
    "text.endswith('is', 0, 16)"
   ]
  },
  {
   "cell_type": "markdown",
   "id": "40239005",
   "metadata": {},
   "source": [
    "## *startswith(prefix, beg, end)* method"
   ]
  },
  {
   "cell_type": "markdown",
   "id": "cc259f4e",
   "metadata": {},
   "source": [
    "Checks if the string starts with *prefix*.\n",
    "\n",
    "Returns True if starts with *prefix* and False otherwise.\n",
    "\n",
    "Set *beg* to 0 and *end* to the length of the string to search the entire string or use any other value to search a part of it."
   ]
  },
  {
   "cell_type": "markdown",
   "id": "0438dcc8",
   "metadata": {},
   "source": [
    "### Example"
   ]
  },
  {
   "cell_type": "code",
   "execution_count": 55,
   "id": "cd9a3d4f",
   "metadata": {},
   "outputs": [],
   "source": [
    "text = 'Work is worship'"
   ]
  },
  {
   "cell_type": "code",
   "execution_count": 56,
   "id": "1f1ddf62",
   "metadata": {},
   "outputs": [
    {
     "data": {
      "text/plain": [
       "True"
      ]
     },
     "execution_count": 56,
     "metadata": {},
     "output_type": "execute_result"
    }
   ],
   "source": [
    "text.startswith('Work')"
   ]
  },
  {
   "cell_type": "markdown",
   "id": "bb8e2900",
   "metadata": {},
   "source": [
    "### Example"
   ]
  },
  {
   "cell_type": "code",
   "execution_count": 57,
   "id": "b22508a2",
   "metadata": {},
   "outputs": [],
   "source": [
    "text = 'Bengaluru is the garden city'"
   ]
  },
  {
   "cell_type": "code",
   "execution_count": 59,
   "id": "59f8b96f",
   "metadata": {},
   "outputs": [
    {
     "data": {
      "text/plain": [
       "True"
      ]
     },
     "execution_count": 59,
     "metadata": {},
     "output_type": "execute_result"
    }
   ],
   "source": [
    "text.startswith('gard', 17)"
   ]
  },
  {
   "cell_type": "markdown",
   "id": "5450fa03",
   "metadata": {},
   "source": [
    "## *isalnum()* method"
   ]
  },
  {
   "cell_type": "markdown",
   "id": "78ba4f4b",
   "metadata": {},
   "source": [
    "Returns True if the string has atleast 1 character and every characer is either a number or an alphabet.\n",
    "\n",
    "Returns False otherwise."
   ]
  },
  {
   "cell_type": "markdown",
   "id": "9696babc",
   "metadata": {},
   "source": [
    "### Example"
   ]
  },
  {
   "cell_type": "code",
   "execution_count": 66,
   "id": "33ff3c34",
   "metadata": {},
   "outputs": [],
   "source": [
    "text = 'JamesBond007'"
   ]
  },
  {
   "cell_type": "code",
   "execution_count": 67,
   "id": "87a3c4e7",
   "metadata": {},
   "outputs": [
    {
     "data": {
      "text/plain": [
       "True"
      ]
     },
     "execution_count": 67,
     "metadata": {},
     "output_type": "execute_result"
    }
   ],
   "source": [
    "text.isalnum()"
   ]
  },
  {
   "cell_type": "markdown",
   "id": "ad224349",
   "metadata": {},
   "source": [
    "### Example"
   ]
  },
  {
   "cell_type": "code",
   "execution_count": 68,
   "id": "6b6cd1f0",
   "metadata": {},
   "outputs": [],
   "source": [
    "text = 'James Bond 007'"
   ]
  },
  {
   "cell_type": "code",
   "execution_count": 69,
   "id": "bf393e97",
   "metadata": {},
   "outputs": [
    {
     "data": {
      "text/plain": [
       "False"
      ]
     },
     "execution_count": 69,
     "metadata": {},
     "output_type": "execute_result"
    }
   ],
   "source": [
    "text.isalnum() # Contains a space"
   ]
  },
  {
   "cell_type": "markdown",
   "id": "38097ace",
   "metadata": {},
   "source": [
    "### Example"
   ]
  },
  {
   "cell_type": "code",
   "execution_count": 70,
   "id": "e6403837",
   "metadata": {},
   "outputs": [],
   "source": [
    "text = 'JamesBond'"
   ]
  },
  {
   "cell_type": "code",
   "execution_count": 71,
   "id": "1f98ae3d",
   "metadata": {},
   "outputs": [
    {
     "data": {
      "text/plain": [
       "True"
      ]
     },
     "execution_count": 71,
     "metadata": {},
     "output_type": "execute_result"
    }
   ],
   "source": [
    "text.isalnum()"
   ]
  },
  {
   "cell_type": "markdown",
   "id": "e01bedbe",
   "metadata": {},
   "source": [
    "### Example"
   ]
  },
  {
   "cell_type": "code",
   "execution_count": 72,
   "id": "4c9d9470",
   "metadata": {},
   "outputs": [],
   "source": [
    "year_independence = '1947'"
   ]
  },
  {
   "cell_type": "code",
   "execution_count": 73,
   "id": "cf09731e",
   "metadata": {},
   "outputs": [
    {
     "data": {
      "text/plain": [
       "True"
      ]
     },
     "execution_count": 73,
     "metadata": {},
     "output_type": "execute_result"
    }
   ],
   "source": [
    "year_independence.isalnum()"
   ]
  },
  {
   "cell_type": "markdown",
   "id": "3fd3f9eb",
   "metadata": {},
   "source": [
    "## *isalpha()* method"
   ]
  },
  {
   "cell_type": "markdown",
   "id": "dfc7b3e1",
   "metadata": {},
   "source": [
    "Returns True if the string has atleast 1 character and every character is an alphabet.\n",
    "\n",
    "Returns False otherwise."
   ]
  },
  {
   "cell_type": "markdown",
   "id": "835510ac",
   "metadata": {},
   "source": [
    "### Example"
   ]
  },
  {
   "cell_type": "code",
   "execution_count": 74,
   "id": "a48eca35",
   "metadata": {},
   "outputs": [],
   "source": [
    "text = 'JamesBond'"
   ]
  },
  {
   "cell_type": "code",
   "execution_count": 75,
   "id": "a1b367ba",
   "metadata": {},
   "outputs": [
    {
     "data": {
      "text/plain": [
       "True"
      ]
     },
     "execution_count": 75,
     "metadata": {},
     "output_type": "execute_result"
    }
   ],
   "source": [
    "text.isalpha()"
   ]
  },
  {
   "cell_type": "markdown",
   "id": "7b8a030f",
   "metadata": {},
   "source": [
    "### Example"
   ]
  },
  {
   "cell_type": "code",
   "execution_count": 76,
   "id": "9195c8c4",
   "metadata": {},
   "outputs": [],
   "source": [
    "text = 'JamesBond007'"
   ]
  },
  {
   "cell_type": "code",
   "execution_count": 77,
   "id": "54cc0fea",
   "metadata": {},
   "outputs": [
    {
     "data": {
      "text/plain": [
       "False"
      ]
     },
     "execution_count": 77,
     "metadata": {},
     "output_type": "execute_result"
    }
   ],
   "source": [
    "text.isalpha()"
   ]
  },
  {
   "cell_type": "markdown",
   "id": "65cf30ed",
   "metadata": {},
   "source": [
    "## *isdigit()* method"
   ]
  },
  {
   "cell_type": "markdown",
   "id": "32dfae8c",
   "metadata": {},
   "source": [
    "Returns True if the string contains only digits and False otherwise."
   ]
  },
  {
   "cell_type": "markdown",
   "id": "6d5926ba",
   "metadata": {},
   "source": [
    "### Example"
   ]
  },
  {
   "cell_type": "code",
   "execution_count": 78,
   "id": "f2eadf5c",
   "metadata": {},
   "outputs": [],
   "source": [
    "year_independence = '1947'"
   ]
  },
  {
   "cell_type": "code",
   "execution_count": 79,
   "id": "f93c67d7",
   "metadata": {},
   "outputs": [
    {
     "data": {
      "text/plain": [
       "True"
      ]
     },
     "execution_count": 79,
     "metadata": {},
     "output_type": "execute_result"
    }
   ],
   "source": [
    "year_independence.isdigit()"
   ]
  },
  {
   "cell_type": "markdown",
   "id": "a14c9fd5",
   "metadata": {},
   "source": [
    "### Example"
   ]
  },
  {
   "cell_type": "code",
   "execution_count": 80,
   "id": "69e9617f",
   "metadata": {},
   "outputs": [],
   "source": [
    "text = 'JamesBond007'"
   ]
  },
  {
   "cell_type": "code",
   "execution_count": 81,
   "id": "cbdf08c2",
   "metadata": {},
   "outputs": [
    {
     "data": {
      "text/plain": [
       "False"
      ]
     },
     "execution_count": 81,
     "metadata": {},
     "output_type": "execute_result"
    }
   ],
   "source": [
    "text.isdigit()"
   ]
  },
  {
   "cell_type": "markdown",
   "id": "456187d3",
   "metadata": {},
   "source": [
    "## *islower()* method"
   ]
  },
  {
   "cell_type": "markdown",
   "id": "bf6eaa8a",
   "metadata": {},
   "source": [
    "Returns True if the string has atleast 1 character and every character is a lowercase alphabet.\n",
    "\n",
    "Returns False otherwise."
   ]
  },
  {
   "cell_type": "markdown",
   "id": "06869f93",
   "metadata": {},
   "source": [
    "### Example"
   ]
  },
  {
   "cell_type": "code",
   "execution_count": 82,
   "id": "8bad3d38",
   "metadata": {},
   "outputs": [],
   "source": [
    "text = 'welcome to Bengaluru'"
   ]
  },
  {
   "cell_type": "code",
   "execution_count": 83,
   "id": "377b3b9d",
   "metadata": {},
   "outputs": [
    {
     "data": {
      "text/plain": [
       "False"
      ]
     },
     "execution_count": 83,
     "metadata": {},
     "output_type": "execute_result"
    }
   ],
   "source": [
    "text.islower()"
   ]
  },
  {
   "cell_type": "markdown",
   "id": "5447a7c4",
   "metadata": {},
   "source": [
    "### Example"
   ]
  },
  {
   "cell_type": "code",
   "execution_count": 84,
   "id": "1b999429",
   "metadata": {},
   "outputs": [],
   "source": [
    "text = 'welcome to bengaluru'"
   ]
  },
  {
   "cell_type": "code",
   "execution_count": 85,
   "id": "321b6ee6",
   "metadata": {},
   "outputs": [
    {
     "data": {
      "text/plain": [
       "True"
      ]
     },
     "execution_count": 85,
     "metadata": {},
     "output_type": "execute_result"
    }
   ],
   "source": [
    "text.islower()"
   ]
  },
  {
   "cell_type": "markdown",
   "id": "9b9a6f59",
   "metadata": {},
   "source": [
    "## *isupper()* method"
   ]
  },
  {
   "cell_type": "markdown",
   "id": "227bf91f",
   "metadata": {},
   "source": [
    "Returns True if the string has atleast 1 character and every character is a uppercase alphabet.\n",
    "\n",
    "Returns False otherwise."
   ]
  },
  {
   "cell_type": "markdown",
   "id": "5fa572d4",
   "metadata": {},
   "source": [
    "### Example"
   ]
  },
  {
   "cell_type": "code",
   "execution_count": 86,
   "id": "ebf3bb0e",
   "metadata": {},
   "outputs": [],
   "source": [
    "city = 'BENGALURU'"
   ]
  },
  {
   "cell_type": "code",
   "execution_count": 87,
   "id": "5d775c43",
   "metadata": {},
   "outputs": [
    {
     "data": {
      "text/plain": [
       "True"
      ]
     },
     "execution_count": 87,
     "metadata": {},
     "output_type": "execute_result"
    }
   ],
   "source": [
    "city.isupper()"
   ]
  },
  {
   "cell_type": "markdown",
   "id": "2523e0bf",
   "metadata": {},
   "source": [
    "### Example"
   ]
  },
  {
   "cell_type": "code",
   "execution_count": 88,
   "id": "9c86cadb",
   "metadata": {},
   "outputs": [],
   "source": [
    "city = 'Bengaluru'"
   ]
  },
  {
   "cell_type": "code",
   "execution_count": 89,
   "id": "74be8c83",
   "metadata": {},
   "outputs": [
    {
     "data": {
      "text/plain": [
       "False"
      ]
     },
     "execution_count": 89,
     "metadata": {},
     "output_type": "execute_result"
    }
   ],
   "source": [
    "city.isupper()"
   ]
  },
  {
   "cell_type": "markdown",
   "id": "9c9440b6",
   "metadata": {},
   "source": [
    "## *isspace()* method"
   ]
  },
  {
   "cell_type": "markdown",
   "id": "a47cdea5",
   "metadata": {},
   "source": [
    "Returns True if the string contains only whitespace characters.\n",
    "\n",
    "Returns False otherwise."
   ]
  },
  {
   "cell_type": "markdown",
   "id": "aea5999b",
   "metadata": {},
   "source": [
    "### Example"
   ]
  },
  {
   "cell_type": "code",
   "execution_count": 90,
   "id": "6db3f066",
   "metadata": {},
   "outputs": [],
   "source": [
    "message = '    '"
   ]
  },
  {
   "cell_type": "code",
   "execution_count": 91,
   "id": "0934b6c9",
   "metadata": {},
   "outputs": [
    {
     "data": {
      "text/plain": [
       "True"
      ]
     },
     "execution_count": 91,
     "metadata": {},
     "output_type": "execute_result"
    }
   ],
   "source": [
    "message.isspace()"
   ]
  },
  {
   "cell_type": "markdown",
   "id": "e6607289",
   "metadata": {},
   "source": [
    "### Example"
   ]
  },
  {
   "cell_type": "code",
   "execution_count": 92,
   "id": "94087c84",
   "metadata": {},
   "outputs": [],
   "source": [
    "message = 'Welcome'"
   ]
  },
  {
   "cell_type": "code",
   "execution_count": 93,
   "id": "8ee85a93",
   "metadata": {},
   "outputs": [
    {
     "data": {
      "text/plain": [
       "False"
      ]
     },
     "execution_count": 93,
     "metadata": {},
     "output_type": "execute_result"
    }
   ],
   "source": [
    "message.isspace()"
   ]
  },
  {
   "cell_type": "markdown",
   "id": "fa4bd68d",
   "metadata": {},
   "source": [
    "## *split(delim)* method"
   ]
  },
  {
   "cell_type": "markdown",
   "id": "1bf3f2c4",
   "metadata": {},
   "source": [
    "Returns a list of substrings separated by the specified delimiter.\n",
    "\n",
    "If no delimiter is specified, then by default it splits strings on all whitespace characters."
   ]
  },
  {
   "cell_type": "markdown",
   "id": "2e0bc9cb",
   "metadata": {},
   "source": [
    "### Example"
   ]
  },
  {
   "cell_type": "code",
   "execution_count": 94,
   "id": "3b28d09c",
   "metadata": {},
   "outputs": [],
   "source": [
    "message = 'Welcome to Python programming'"
   ]
  },
  {
   "cell_type": "code",
   "execution_count": 95,
   "id": "53ed12fc",
   "metadata": {},
   "outputs": [
    {
     "data": {
      "text/plain": [
       "['Welcome', 'to', 'Python', 'programming']"
      ]
     },
     "execution_count": 95,
     "metadata": {},
     "output_type": "execute_result"
    }
   ],
   "source": [
    "message.split()"
   ]
  },
  {
   "cell_type": "markdown",
   "id": "8d3d4095",
   "metadata": {},
   "source": [
    "### Example"
   ]
  },
  {
   "cell_type": "code",
   "execution_count": 97,
   "id": "de1a328a",
   "metadata": {},
   "outputs": [],
   "source": [
    "alphabets = 'a,b,c,d,e,f'"
   ]
  },
  {
   "cell_type": "code",
   "execution_count": 98,
   "id": "347b56cc",
   "metadata": {},
   "outputs": [
    {
     "data": {
      "text/plain": [
       "['a', 'b', 'c', 'd', 'e', 'f']"
      ]
     },
     "execution_count": 98,
     "metadata": {},
     "output_type": "execute_result"
    }
   ],
   "source": [
    "alphabets.split(',')"
   ]
  },
  {
   "cell_type": "markdown",
   "id": "fc699e5e",
   "metadata": {},
   "source": [
    "## *join(list)* method"
   ]
  },
  {
   "cell_type": "markdown",
   "id": "3bffbfdf",
   "metadata": {},
   "source": [
    "Joins a list of strings using the delimiter with which the function is invoked."
   ]
  },
  {
   "cell_type": "markdown",
   "id": "18449ccd",
   "metadata": {},
   "source": [
    "### Example"
   ]
  },
  {
   "cell_type": "code",
   "execution_count": 99,
   "id": "d25bb3b3",
   "metadata": {},
   "outputs": [],
   "source": [
    "words = ['Welcome', 'to', 'Python', 'programming']"
   ]
  },
  {
   "cell_type": "code",
   "execution_count": 100,
   "id": "b1a56b40",
   "metadata": {},
   "outputs": [
    {
     "data": {
      "text/plain": [
       "'Welcome to Python programming'"
      ]
     },
     "execution_count": 100,
     "metadata": {},
     "output_type": "execute_result"
    }
   ],
   "source": [
    "' '.join(words)"
   ]
  },
  {
   "cell_type": "markdown",
   "id": "51b07dc0",
   "metadata": {},
   "source": [
    "### Example"
   ]
  },
  {
   "cell_type": "code",
   "execution_count": 101,
   "id": "9c8c9445",
   "metadata": {},
   "outputs": [],
   "source": [
    "colours = ['Violet', 'Indigo', 'Blue', 'Green', 'Yellow', 'Orange', 'Red']"
   ]
  },
  {
   "cell_type": "code",
   "execution_count": 104,
   "id": "14ff10ae",
   "metadata": {},
   "outputs": [
    {
     "data": {
      "text/plain": [
       "'Violet; Indigo; Blue; Green; Yellow; Orange; Red'"
      ]
     },
     "execution_count": 104,
     "metadata": {},
     "output_type": "execute_result"
    }
   ],
   "source": [
    "'; '.join(colours)"
   ]
  },
  {
   "cell_type": "markdown",
   "id": "a56ae29e",
   "metadata": {},
   "source": [
    "## *isidentifier()* method"
   ]
  },
  {
   "cell_type": "markdown",
   "id": "e28f1c04",
   "metadata": {},
   "source": [
    "Returns True if the string is a valid identifier."
   ]
  },
  {
   "cell_type": "markdown",
   "id": "c3a9107f",
   "metadata": {},
   "source": [
    "### Example"
   ]
  },
  {
   "cell_type": "code",
   "execution_count": 105,
   "id": "c720f486",
   "metadata": {},
   "outputs": [],
   "source": [
    "city_name = 'Bengaluru'"
   ]
  },
  {
   "cell_type": "code",
   "execution_count": 106,
   "id": "b744bafc",
   "metadata": {},
   "outputs": [
    {
     "data": {
      "text/plain": [
       "True"
      ]
     },
     "execution_count": 106,
     "metadata": {},
     "output_type": "execute_result"
    }
   ],
   "source": [
    "city_name.isidentifier()"
   ]
  },
  {
   "cell_type": "markdown",
   "id": "798051a7",
   "metadata": {},
   "source": [
    "### Example"
   ]
  },
  {
   "cell_type": "code",
   "execution_count": 107,
   "id": "ae559bd8",
   "metadata": {},
   "outputs": [],
   "source": [
    "def add_numbers(a, b):\n",
    "    return a + b"
   ]
  },
  {
   "cell_type": "code",
   "execution_count": 109,
   "id": "dcc8fc96",
   "metadata": {},
   "outputs": [
    {
     "ename": "AttributeError",
     "evalue": "'function' object has no attribute 'isidentifier'",
     "output_type": "error",
     "traceback": [
      "\u001b[1;31m---------------------------------------------------------------------------\u001b[0m",
      "\u001b[1;31mAttributeError\u001b[0m                            Traceback (most recent call last)",
      "Cell \u001b[1;32mIn[109], line 1\u001b[0m\n\u001b[1;32m----> 1\u001b[0m add_numbers\u001b[38;5;241m.\u001b[39misidentifier()\n",
      "\u001b[1;31mAttributeError\u001b[0m: 'function' object has no attribute 'isidentifier'"
     ]
    }
   ],
   "source": [
    "add_numbers.isidentifier()"
   ]
  },
  {
   "cell_type": "markdown",
   "id": "0766a5c3",
   "metadata": {},
   "source": [
    "### Example"
   ]
  },
  {
   "cell_type": "code",
   "execution_count": 112,
   "id": "85e7a135",
   "metadata": {},
   "outputs": [],
   "source": [
    "class Person():\n",
    "    def __init__(self):\n",
    "        pass"
   ]
  },
  {
   "cell_type": "code",
   "execution_count": 113,
   "id": "e907be36",
   "metadata": {},
   "outputs": [
    {
     "ename": "AttributeError",
     "evalue": "type object 'Person' has no attribute 'isidentifier'",
     "output_type": "error",
     "traceback": [
      "\u001b[1;31m---------------------------------------------------------------------------\u001b[0m",
      "\u001b[1;31mAttributeError\u001b[0m                            Traceback (most recent call last)",
      "Cell \u001b[1;32mIn[113], line 1\u001b[0m\n\u001b[1;32m----> 1\u001b[0m Person\u001b[38;5;241m.\u001b[39misidentifier()\n",
      "\u001b[1;31mAttributeError\u001b[0m: type object 'Person' has no attribute 'isidentifier'"
     ]
    }
   ],
   "source": [
    "Person.isidentifier()"
   ]
  },
  {
   "cell_type": "markdown",
   "id": "e783b3eb",
   "metadata": {},
   "source": [
    "## *enumerate(str)* function"
   ]
  },
  {
   "cell_type": "markdown",
   "id": "27c98c22",
   "metadata": {},
   "source": [
    "Returns an enumerate object that lists the index and value of all the characters in the string as pairs."
   ]
  },
  {
   "cell_type": "markdown",
   "id": "9be8f2e8",
   "metadata": {},
   "source": [
    "### Example"
   ]
  },
  {
   "cell_type": "code",
   "execution_count": 114,
   "id": "58537962",
   "metadata": {},
   "outputs": [],
   "source": [
    "language = 'Kannada'"
   ]
  },
  {
   "cell_type": "code",
   "execution_count": 116,
   "id": "fe87f4ea",
   "metadata": {},
   "outputs": [
    {
     "data": {
      "text/plain": [
       "[(0, 'K'), (1, 'a'), (2, 'n'), (3, 'n'), (4, 'a'), (5, 'd'), (6, 'a')]"
      ]
     },
     "execution_count": 116,
     "metadata": {},
     "output_type": "execute_result"
    }
   ],
   "source": [
    "list(enumerate(language))"
   ]
  },
  {
   "cell_type": "markdown",
   "id": "96b4fb01",
   "metadata": {},
   "source": [
    "# Slice Operation"
   ]
  },
  {
   "cell_type": "markdown",
   "id": "be5e0885",
   "metadata": {},
   "source": [
    "A substring of a string is called a *slice*.\n",
    "\n",
    "A subset of a string can be taken from the original string using [] operator.\n",
    "\n",
    "The [] operator is known as slicing operator.\n",
    "\n",
    "The syntax of the slice operation is [start:end:stepsize].\n",
    "\n",
    "*start* specifies the beginning index of the substring and *end* is the index of the last character of the string."
   ]
  },
  {
   "cell_type": "markdown",
   "id": "f1b7f49f",
   "metadata": {},
   "source": [
    "### Example"
   ]
  },
  {
   "cell_type": "code",
   "execution_count": 1,
   "id": "a036278c",
   "metadata": {},
   "outputs": [],
   "source": [
    "movie_name = 'James Bond 007'"
   ]
  },
  {
   "cell_type": "code",
   "execution_count": 2,
   "id": "b2f518ef",
   "metadata": {},
   "outputs": [
    {
     "data": {
      "text/plain": [
       "'James'"
      ]
     },
     "execution_count": 2,
     "metadata": {},
     "output_type": "execute_result"
    }
   ],
   "source": [
    "movie_name[0:5]"
   ]
  },
  {
   "cell_type": "code",
   "execution_count": 5,
   "id": "7d3c9765",
   "metadata": {},
   "outputs": [
    {
     "data": {
      "text/plain": [
       "'Bond'"
      ]
     },
     "execution_count": 5,
     "metadata": {},
     "output_type": "execute_result"
    }
   ],
   "source": [
    "movie_name[6:10]"
   ]
  },
  {
   "cell_type": "code",
   "execution_count": 7,
   "id": "5484e7f4",
   "metadata": {},
   "outputs": [
    {
     "data": {
      "text/plain": [
       "'007'"
      ]
     },
     "execution_count": 7,
     "metadata": {},
     "output_type": "execute_result"
    }
   ],
   "source": [
    "movie_name[11:]"
   ]
  },
  {
   "cell_type": "markdown",
   "id": "980f8244",
   "metadata": {},
   "source": [
    "**Note:** Omitting either start or end index, by default takes start or end of the string. Omitting both means the entire string."
   ]
  },
  {
   "cell_type": "markdown",
   "id": "922a3f19",
   "metadata": {},
   "source": [
    "### Example"
   ]
  },
  {
   "cell_type": "code",
   "execution_count": 11,
   "id": "973c64d9",
   "metadata": {},
   "outputs": [
    {
     "data": {
      "text/plain": [
       "'James Bond 007'"
      ]
     },
     "execution_count": 11,
     "metadata": {},
     "output_type": "execute_result"
    }
   ],
   "source": [
    "movie_name[:]"
   ]
  },
  {
   "cell_type": "markdown",
   "id": "be950501",
   "metadata": {},
   "source": [
    "A string can be accessed either from a first character or from the last character.\n",
    "\n",
    "To access from the first character, use zero based index.\n",
    "\n",
    "To access from the last character, use the index starting from -1."
   ]
  },
  {
   "cell_type": "markdown",
   "id": "d1176d0f",
   "metadata": {},
   "source": [
    "### Example"
   ]
  },
  {
   "cell_type": "code",
   "execution_count": 12,
   "id": "e5c3cb6c",
   "metadata": {},
   "outputs": [],
   "source": [
    "language = 'Python'"
   ]
  },
  {
   "cell_type": "code",
   "execution_count": 16,
   "id": "eec45a97",
   "metadata": {},
   "outputs": [
    {
     "data": {
      "text/plain": [
       "'n'"
      ]
     },
     "execution_count": 16,
     "metadata": {},
     "output_type": "execute_result"
    }
   ],
   "source": [
    "language[-1]"
   ]
  },
  {
   "cell_type": "code",
   "execution_count": 17,
   "id": "8c7a8b60",
   "metadata": {},
   "outputs": [
    {
     "data": {
      "text/plain": [
       "'P'"
      ]
     },
     "execution_count": 17,
     "metadata": {},
     "output_type": "execute_result"
    }
   ],
   "source": [
    "language[-6]"
   ]
  },
  {
   "cell_type": "code",
   "execution_count": 18,
   "id": "0f32fb98",
   "metadata": {},
   "outputs": [
    {
     "data": {
      "text/plain": [
       "'thon'"
      ]
     },
     "execution_count": 18,
     "metadata": {},
     "output_type": "execute_result"
    }
   ],
   "source": [
    "language[-4:]"
   ]
  },
  {
   "cell_type": "code",
   "execution_count": 19,
   "id": "47fc1595",
   "metadata": {},
   "outputs": [
    {
     "data": {
      "text/plain": [
       "'Pyth'"
      ]
     },
     "execution_count": 19,
     "metadata": {},
     "output_type": "execute_result"
    }
   ],
   "source": [
    "language[:-2]"
   ]
  },
  {
   "cell_type": "code",
   "execution_count": 20,
   "id": "3174fc3a",
   "metadata": {},
   "outputs": [
    {
     "data": {
      "text/plain": [
       "'th'"
      ]
     },
     "execution_count": 20,
     "metadata": {},
     "output_type": "execute_result"
    }
   ],
   "source": [
    "language[-4:-2]"
   ]
  },
  {
   "cell_type": "markdown",
   "id": "e2a5d6b2",
   "metadata": {},
   "source": [
    "## Specifying Stride While Slicing Strings"
   ]
  },
  {
   "cell_type": "markdown",
   "id": "ba440353",
   "metadata": {},
   "source": [
    "*Stride* refers to the number of characters to move forward after the first character is retrieved from the string.\n",
    "\n",
    "*stride* is mentioned as the **third** argument in the slicing operator.\n",
    "\n",
    "The default value of stride is 1."
   ]
  },
  {
   "cell_type": "markdown",
   "id": "2629e622",
   "metadata": {},
   "source": [
    "### Example"
   ]
  },
  {
   "cell_type": "code",
   "execution_count": 21,
   "id": "b8d010c3",
   "metadata": {},
   "outputs": [],
   "source": [
    "message = 'Welcome'"
   ]
  },
  {
   "cell_type": "code",
   "execution_count": 23,
   "id": "2a2e3978",
   "metadata": {},
   "outputs": [
    {
     "data": {
      "text/plain": [
       "'cm'"
      ]
     },
     "execution_count": 23,
     "metadata": {},
     "output_type": "execute_result"
    }
   ],
   "source": [
    "message[3:7:2]"
   ]
  },
  {
   "cell_type": "code",
   "execution_count": 22,
   "id": "492697a8",
   "metadata": {},
   "outputs": [
    {
     "data": {
      "text/plain": [
       "'Wloe'"
      ]
     },
     "execution_count": 22,
     "metadata": {},
     "output_type": "execute_result"
    }
   ],
   "source": [
    "message[::2]"
   ]
  },
  {
   "cell_type": "markdown",
   "id": "447939a6",
   "metadata": {},
   "source": [
    "### Example"
   ]
  },
  {
   "cell_type": "code",
   "execution_count": 24,
   "id": "cc3a55a3",
   "metadata": {},
   "outputs": [],
   "source": [
    "language = 'Python'"
   ]
  },
  {
   "cell_type": "code",
   "execution_count": 25,
   "id": "92f944d6",
   "metadata": {},
   "outputs": [
    {
     "data": {
      "text/plain": [
       "'nohtyP'"
      ]
     },
     "execution_count": 25,
     "metadata": {},
     "output_type": "execute_result"
    }
   ],
   "source": [
    "language[::-1]"
   ]
  },
  {
   "cell_type": "markdown",
   "id": "7a7cd96a",
   "metadata": {},
   "source": [
    "# *ord()* And *chr()* Functions"
   ]
  },
  {
   "cell_type": "markdown",
   "id": "a0baf166",
   "metadata": {},
   "source": [
    "The *ord()* function returns the ASCII code of the character.\n",
    "\n",
    "The *chr()* function returns the character represented by a ASCII number."
   ]
  },
  {
   "cell_type": "markdown",
   "id": "943371a6",
   "metadata": {},
   "source": [
    "### Example"
   ]
  },
  {
   "cell_type": "code",
   "execution_count": 26,
   "id": "b622c700",
   "metadata": {},
   "outputs": [
    {
     "data": {
      "text/plain": [
       "65"
      ]
     },
     "execution_count": 26,
     "metadata": {},
     "output_type": "execute_result"
    }
   ],
   "source": [
    "ord('A')"
   ]
  },
  {
   "cell_type": "code",
   "execution_count": 28,
   "id": "981ba034",
   "metadata": {},
   "outputs": [
    {
     "data": {
      "text/plain": [
       "49"
      ]
     },
     "execution_count": 28,
     "metadata": {},
     "output_type": "execute_result"
    }
   ],
   "source": [
    "ord('1')"
   ]
  },
  {
   "cell_type": "markdown",
   "id": "e045d4c8",
   "metadata": {},
   "source": [
    "### Example"
   ]
  },
  {
   "cell_type": "code",
   "execution_count": 29,
   "id": "001937f6",
   "metadata": {},
   "outputs": [
    {
     "data": {
      "text/plain": [
       "'1'"
      ]
     },
     "execution_count": 29,
     "metadata": {},
     "output_type": "execute_result"
    }
   ],
   "source": [
    "chr(49)"
   ]
  },
  {
   "cell_type": "code",
   "execution_count": 30,
   "id": "2b15a1eb",
   "metadata": {},
   "outputs": [
    {
     "data": {
      "text/plain": [
       "'A'"
      ]
     },
     "execution_count": 30,
     "metadata": {},
     "output_type": "execute_result"
    }
   ],
   "source": [
    "chr(65)"
   ]
  },
  {
   "cell_type": "markdown",
   "id": "60f86905",
   "metadata": {},
   "source": [
    "# *in* And *not in* Operators"
   ]
  },
  {
   "cell_type": "markdown",
   "id": "d449862e",
   "metadata": {},
   "source": [
    "*in* and *not in* operators are used with strings to determine whether a string is present in another string.\n",
    "\n",
    "*in* and *not in* operators are also known as *membership* operators."
   ]
  },
  {
   "cell_type": "markdown",
   "id": "03b2117a",
   "metadata": {},
   "source": [
    "### Example"
   ]
  },
  {
   "cell_type": "code",
   "execution_count": 31,
   "id": "432026ce",
   "metadata": {},
   "outputs": [],
   "source": [
    "text = 'Welcome to Python programming'"
   ]
  },
  {
   "cell_type": "code",
   "execution_count": 34,
   "id": "b90831db",
   "metadata": {},
   "outputs": [
    {
     "name": "stdout",
     "output_type": "stream",
     "text": [
      "True\n"
     ]
    }
   ],
   "source": [
    "print('Python' in text)"
   ]
  },
  {
   "cell_type": "code",
   "execution_count": 35,
   "id": "d11c55cd",
   "metadata": {},
   "outputs": [
    {
     "name": "stdout",
     "output_type": "stream",
     "text": [
      "False\n"
     ]
    }
   ],
   "source": [
    "print('python' in text)"
   ]
  },
  {
   "cell_type": "code",
   "execution_count": 36,
   "id": "b5c8df60",
   "metadata": {},
   "outputs": [
    {
     "name": "stdout",
     "output_type": "stream",
     "text": [
      "True\n"
     ]
    }
   ],
   "source": [
    "print('prog' in text)"
   ]
  },
  {
   "cell_type": "markdown",
   "id": "761a2acd",
   "metadata": {},
   "source": [
    "### Example"
   ]
  },
  {
   "cell_type": "code",
   "execution_count": 37,
   "id": "744454cf",
   "metadata": {},
   "outputs": [],
   "source": [
    "text = 'Rainbow has seven colours'"
   ]
  },
  {
   "cell_type": "code",
   "execution_count": 38,
   "id": "fe4a7246",
   "metadata": {},
   "outputs": [
    {
     "name": "stdout",
     "output_type": "stream",
     "text": [
      "True\n"
     ]
    }
   ],
   "source": [
    "print('red' not in text)"
   ]
  },
  {
   "cell_type": "code",
   "execution_count": 39,
   "id": "7758c483",
   "metadata": {},
   "outputs": [
    {
     "name": "stdout",
     "output_type": "stream",
     "text": [
      "True\n"
     ]
    }
   ],
   "source": [
    "print('colors' not in text)"
   ]
  },
  {
   "cell_type": "markdown",
   "id": "cd021ca9",
   "metadata": {},
   "source": [
    "# Comparing Strings"
   ]
  },
  {
   "cell_type": "markdown",
   "id": "039efef1",
   "metadata": {},
   "source": [
    "Strings are compared using the relational (comparison) operators.\n",
    "\n",
    "Strings are compared by using the lexicographical (dictionary) order: using the ASCII value of the character. Uppercase letters come before the lowercase letters.\n",
    "\n",
    "The ASCII values of A-Z is 65-90 and a-z is 97-122."
   ]
  },
  {
   "cell_type": "markdown",
   "id": "1ede4192",
   "metadata": {},
   "source": [
    "### Example"
   ]
  },
  {
   "cell_type": "code",
   "execution_count": 40,
   "id": "3c347bee",
   "metadata": {},
   "outputs": [
    {
     "data": {
      "text/plain": [
       "True"
      ]
     },
     "execution_count": 40,
     "metadata": {},
     "output_type": "execute_result"
    }
   ],
   "source": [
    "'Book' == 'Book'"
   ]
  },
  {
   "cell_type": "markdown",
   "id": "f05f3cd5",
   "metadata": {},
   "source": [
    "### Example"
   ]
  },
  {
   "cell_type": "code",
   "execution_count": 41,
   "id": "891e2669",
   "metadata": {},
   "outputs": [
    {
     "data": {
      "text/plain": [
       "True"
      ]
     },
     "execution_count": 41,
     "metadata": {},
     "output_type": "execute_result"
    }
   ],
   "source": [
    "'Book' != 'book'"
   ]
  },
  {
   "cell_type": "markdown",
   "id": "d7bf757e",
   "metadata": {},
   "source": [
    "### Example"
   ]
  },
  {
   "cell_type": "code",
   "execution_count": 42,
   "id": "064eafb6",
   "metadata": {},
   "outputs": [
    {
     "data": {
      "text/plain": [
       "False"
      ]
     },
     "execution_count": 42,
     "metadata": {},
     "output_type": "execute_result"
    }
   ],
   "source": [
    "'Book' > 'book'"
   ]
  },
  {
   "cell_type": "code",
   "execution_count": 43,
   "id": "efbc8f95",
   "metadata": {},
   "outputs": [
    {
     "data": {
      "text/plain": [
       "(66, 98)"
      ]
     },
     "execution_count": 43,
     "metadata": {},
     "output_type": "execute_result"
    }
   ],
   "source": [
    "ord('B'), ord('b') # 66 is less than 98"
   ]
  },
  {
   "cell_type": "markdown",
   "id": "b55e6db5",
   "metadata": {},
   "source": [
    "### Example"
   ]
  },
  {
   "cell_type": "code",
   "execution_count": 44,
   "id": "e79e82e5",
   "metadata": {},
   "outputs": [
    {
     "data": {
      "text/plain": [
       "False"
      ]
     },
     "execution_count": 44,
     "metadata": {},
     "output_type": "execute_result"
    }
   ],
   "source": [
    "'cat' > 'cot'"
   ]
  },
  {
   "cell_type": "markdown",
   "id": "3568655e",
   "metadata": {},
   "source": [
    "# Iterating Strings"
   ]
  },
  {
   "cell_type": "markdown",
   "id": "74c245a1",
   "metadata": {},
   "source": [
    "A string is a sequence of characters.\n",
    "\n",
    "We can iterate through the string using *while* or *for* loop."
   ]
  },
  {
   "cell_type": "markdown",
   "id": "7aafd888",
   "metadata": {},
   "source": [
    "### Example"
   ]
  },
  {
   "cell_type": "code",
   "execution_count": 45,
   "id": "50095fe1",
   "metadata": {},
   "outputs": [],
   "source": [
    "language = 'Python'"
   ]
  },
  {
   "cell_type": "code",
   "execution_count": 46,
   "id": "7bf966d6",
   "metadata": {},
   "outputs": [],
   "source": [
    "index = 0\n",
    "\n",
    "language_length = len(language)"
   ]
  },
  {
   "cell_type": "code",
   "execution_count": 47,
   "id": "75a5b961",
   "metadata": {},
   "outputs": [
    {
     "name": "stdout",
     "output_type": "stream",
     "text": [
      "P\n",
      "y\n",
      "t\n",
      "h\n",
      "o\n",
      "n\n"
     ]
    }
   ],
   "source": [
    "while index < language_length:\n",
    "    print(language[index])\n",
    "    index += 1"
   ]
  },
  {
   "cell_type": "markdown",
   "id": "fd7110c8",
   "metadata": {},
   "source": [
    "### Example"
   ]
  },
  {
   "cell_type": "code",
   "execution_count": 48,
   "id": "9710ace5",
   "metadata": {},
   "outputs": [],
   "source": [
    "message = 'Welcome'"
   ]
  },
  {
   "cell_type": "code",
   "execution_count": 49,
   "id": "e3d19a21",
   "metadata": {},
   "outputs": [
    {
     "name": "stdout",
     "output_type": "stream",
     "text": [
      "W\n",
      "e\n",
      "l\n",
      "c\n",
      "o\n",
      "m\n",
      "e\n"
     ]
    }
   ],
   "source": [
    "for ch in message:\n",
    "    print(ch)"
   ]
  },
  {
   "cell_type": "code",
   "execution_count": null,
   "id": "1da34111",
   "metadata": {},
   "outputs": [],
   "source": []
  }
 ],
 "metadata": {
  "kernelspec": {
   "display_name": "Python 3 (ipykernel)",
   "language": "python",
   "name": "python3"
  },
  "language_info": {
   "codemirror_mode": {
    "name": "ipython",
    "version": 3
   },
   "file_extension": ".py",
   "mimetype": "text/x-python",
   "name": "python",
   "nbconvert_exporter": "python",
   "pygments_lexer": "ipython3",
   "version": "3.11.7"
  }
 },
 "nbformat": 4,
 "nbformat_minor": 5
}
