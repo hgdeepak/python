{
 "cells": [
  {
   "cell_type": "markdown",
   "id": "d41c12a4",
   "metadata": {},
   "source": [
    "# Introduction"
   ]
  },
  {
   "cell_type": "markdown",
   "id": "5128de4e",
   "metadata": {},
   "source": [
    "Code reusability is an important feature of Object Oriented Programming.\n",
    "\n",
    "Code reusability saves effort and cost required to build a software.\n",
    "\n",
    "Code reusability enhances the reliability of the software.\n",
    "\n",
    "Python supports creating new classes by re-using the existing and tested classes.\n",
    "\n",
    "The technique of creating a new class from an existing class is called *inheritance*.\n",
    "\n",
    "The existing class is called the *base class* and the new class is known as the *derived class* or *subclass*.\n",
    "\n",
    "The derived class is created by first inheriting the data and methods of the base class and then adding new data and methods to it.\n",
    "\n",
    "In the above process, the base class remains unchanged.\n",
    "\n",
    "The concept of inheritance is therefore used to implement the *is-a* relationship. Ex. A teacher is a person and a student is a person. All the common characteristics of teacher and student are specified in the person class and specialized features are incorporated in two separate classes using *Teacher* and *Student*.\n",
    "\n",
    "In inheritance, base classes are designed first and then the specialized classes are derived by inheriting/extending the base class. The inherited classes have all the features of the base class."
   ]
  },
  {
   "cell_type": "markdown",
   "id": "0f8f9433",
   "metadata": {},
   "source": [
    "# Inheriting Classes in Python"
   ]
  },
  {
   "cell_type": "markdown",
   "id": "9a63af87",
   "metadata": {},
   "source": [
    "### Example"
   ]
  },
  {
   "cell_type": "code",
   "execution_count": 76,
   "id": "847156f3",
   "metadata": {},
   "outputs": [],
   "source": [
    "class Person:\n",
    "    def __init__(self):\n",
    "        self.name = 'Deepak'\n",
    "        self.gender = 'Male'"
   ]
  },
  {
   "cell_type": "code",
   "execution_count": 77,
   "id": "d38b9f11",
   "metadata": {},
   "outputs": [],
   "source": [
    "class Teacher(Person):\n",
    "    pass"
   ]
  },
  {
   "cell_type": "code",
   "execution_count": 78,
   "id": "4c2fd0b0",
   "metadata": {},
   "outputs": [],
   "source": [
    "new_teacher = Teacher()"
   ]
  },
  {
   "cell_type": "code",
   "execution_count": 79,
   "id": "52395311",
   "metadata": {},
   "outputs": [
    {
     "data": {
      "text/plain": [
       "'Deepak'"
      ]
     },
     "execution_count": 79,
     "metadata": {},
     "output_type": "execute_result"
    }
   ],
   "source": [
    "new_teacher.name"
   ]
  },
  {
   "cell_type": "code",
   "execution_count": 80,
   "id": "18de4e4a",
   "metadata": {},
   "outputs": [
    {
     "data": {
      "text/plain": [
       "'Male'"
      ]
     },
     "execution_count": 80,
     "metadata": {},
     "output_type": "execute_result"
    }
   ],
   "source": [
    "new_teacher.gender"
   ]
  },
  {
   "cell_type": "markdown",
   "id": "16f21049",
   "metadata": {},
   "source": [
    "### Example"
   ]
  },
  {
   "cell_type": "code",
   "execution_count": 81,
   "id": "82252408",
   "metadata": {},
   "outputs": [],
   "source": [
    "new_teacher = Teacher()\n",
    "\n",
    "new_teacher.name = 'Chaitra'\n",
    "new_teacher.gender = 'Female'"
   ]
  },
  {
   "cell_type": "code",
   "execution_count": 82,
   "id": "f60b102b",
   "metadata": {},
   "outputs": [
    {
     "data": {
      "text/plain": [
       "'Chaitra'"
      ]
     },
     "execution_count": 82,
     "metadata": {},
     "output_type": "execute_result"
    }
   ],
   "source": [
    "new_teacher.name"
   ]
  },
  {
   "cell_type": "code",
   "execution_count": 83,
   "id": "900c7282",
   "metadata": {},
   "outputs": [
    {
     "data": {
      "text/plain": [
       "'Female'"
      ]
     },
     "execution_count": 83,
     "metadata": {},
     "output_type": "execute_result"
    }
   ],
   "source": [
    "new_teacher.gender"
   ]
  },
  {
   "cell_type": "markdown",
   "id": "9fd9afa3",
   "metadata": {},
   "source": [
    "### Example"
   ]
  },
  {
   "cell_type": "code",
   "execution_count": 84,
   "id": "085a244f",
   "metadata": {},
   "outputs": [],
   "source": [
    "class Teacher(Person):\n",
    "    def __init__(self):\n",
    "        self.specialization = 'Data Science and Machine Learning'"
   ]
  },
  {
   "cell_type": "code",
   "execution_count": 85,
   "id": "94376cd2",
   "metadata": {},
   "outputs": [],
   "source": [
    "new_teacher = Teacher()"
   ]
  },
  {
   "cell_type": "code",
   "execution_count": 86,
   "id": "efdd1332",
   "metadata": {},
   "outputs": [
    {
     "data": {
      "text/plain": [
       "'Data Science and Machine Learning'"
      ]
     },
     "execution_count": 86,
     "metadata": {},
     "output_type": "execute_result"
    }
   ],
   "source": [
    "new_teacher.specialization"
   ]
  },
  {
   "cell_type": "code",
   "execution_count": 87,
   "id": "63cb6152",
   "metadata": {},
   "outputs": [
    {
     "ename": "AttributeError",
     "evalue": "'Teacher' object has no attribute 'name'",
     "output_type": "error",
     "traceback": [
      "\u001b[1;31m---------------------------------------------------------------------------\u001b[0m",
      "\u001b[1;31mAttributeError\u001b[0m                            Traceback (most recent call last)",
      "Cell \u001b[1;32mIn[87], line 1\u001b[0m\n\u001b[1;32m----> 1\u001b[0m \u001b[43mnew_teacher\u001b[49m\u001b[38;5;241;43m.\u001b[39;49m\u001b[43mname\u001b[49m\n",
      "\u001b[1;31mAttributeError\u001b[0m: 'Teacher' object has no attribute 'name'"
     ]
    }
   ],
   "source": [
    "new_teacher.name"
   ]
  },
  {
   "cell_type": "markdown",
   "id": "ba8b8707",
   "metadata": {},
   "source": [
    "### Example"
   ]
  },
  {
   "cell_type": "code",
   "execution_count": 88,
   "id": "6eee4fbe",
   "metadata": {},
   "outputs": [],
   "source": [
    "class Person:\n",
    "    def __init__(self, name, gender):\n",
    "        self.name = name\n",
    "        self.gender = gender\n",
    "        \n",
    "    def print_person_details(self):\n",
    "        print(\"Name: \", self.name)\n",
    "        print(\"Gender: \", self.gender)"
   ]
  },
  {
   "cell_type": "code",
   "execution_count": 92,
   "id": "125f8137",
   "metadata": {},
   "outputs": [],
   "source": [
    "class Teacher(Person):\n",
    "    def __init__(self, name, gender, specialization):\n",
    "        Person.__init__(self, name, gender)\n",
    "        self.specialization = specialization\n",
    "        \n",
    "    def print_teacher_details(self):\n",
    "        Person.print_person_details(self)\n",
    "        print(\"Specialization: \", self.specialization)"
   ]
  },
  {
   "cell_type": "code",
   "execution_count": 93,
   "id": "4e2eb3ff",
   "metadata": {},
   "outputs": [],
   "source": [
    "new_teacher = Teacher('Deepak', 'Male', 'Data Science and Machine Learning')"
   ]
  },
  {
   "cell_type": "code",
   "execution_count": 94,
   "id": "efdfb7e4",
   "metadata": {},
   "outputs": [
    {
     "name": "stdout",
     "output_type": "stream",
     "text": [
      "Name:  Deepak\n",
      "Gender:  Male\n",
      "Specialization:  Data Science and Machine Learning\n"
     ]
    }
   ],
   "source": [
    "new_teacher.print_teacher_details()"
   ]
  },
  {
   "cell_type": "markdown",
   "id": "4f6fa4b9",
   "metadata": {},
   "source": [
    "## Using the *super( )* Method"
   ]
  },
  {
   "cell_type": "markdown",
   "id": "53947a7f",
   "metadata": {},
   "source": [
    "The *super()* is a built-in function that denotes the base class. \n",
    "\n",
    "When declaring attributes that are required within the superclass, *super()* is used to initialize its values."
   ]
  },
  {
   "cell_type": "markdown",
   "id": "619c2520",
   "metadata": {},
   "source": [
    "### Example"
   ]
  },
  {
   "cell_type": "code",
   "execution_count": null,
   "id": "d69371ab",
   "metadata": {},
   "outputs": [],
   "source": [
    "class Person:\n",
    "    def __init__(self, name, gender):\n",
    "        self.name = name\n",
    "        self.gender = gender\n",
    "        \n",
    "    def print_person_details(self):\n",
    "        print(\"Name: \", self.name)\n",
    "        print(\"Gender: \", self.gender)"
   ]
  },
  {
   "cell_type": "code",
   "execution_count": 70,
   "id": "6356775c",
   "metadata": {},
   "outputs": [],
   "source": [
    "class Teacher(Person):\n",
    "    def __init__(self, name, gender, specialization):\n",
    "        super().__init__(name, gender)\n",
    "        self.specialization = specialization\n",
    "        \n",
    "    def print_teacher_details(self):\n",
    "        super().print_person_details()\n",
    "        print(\"Specialization: \", self.specialization)"
   ]
  },
  {
   "cell_type": "code",
   "execution_count": 71,
   "id": "7822af24",
   "metadata": {},
   "outputs": [],
   "source": [
    "new_teacher = Teacher('Deepak', 'Male', 'Data Science and Machine Learning')"
   ]
  },
  {
   "cell_type": "code",
   "execution_count": 72,
   "id": "d0b0b037",
   "metadata": {},
   "outputs": [
    {
     "name": "stdout",
     "output_type": "stream",
     "text": [
      "Name:  Deepak\n",
      "Gender:  Male\n",
      "Specialization:  Data Science and Machine Learning\n"
     ]
    }
   ],
   "source": [
    "new_teacher.print_teacher_details()"
   ]
  },
  {
   "cell_type": "markdown",
   "id": "88909957",
   "metadata": {},
   "source": [
    "## Polymorphism and Method Overriding"
   ]
  },
  {
   "cell_type": "markdown",
   "id": "22249d42",
   "metadata": {},
   "source": [
    "Polymorphism refers to having several different forms.\n",
    "\n",
    "Polymorphism enables the programmers to assign a different meaning or usage to a variable, function, or an object in different contexts.\n",
    "\n",
    "Inheritance is related to classes and their hierarchy, polymorphism is related to methods.\n",
    "\n",
    "When polymorphism is applied to a method depending on the given parameters, a particular form of the method is selected for execution.\n",
    "\n",
    "Method overriding is one way of implementing polymorphism."
   ]
  },
  {
   "cell_type": "markdown",
   "id": "02c03b83",
   "metadata": {},
   "source": [
    "### Example"
   ]
  },
  {
   "cell_type": "code",
   "execution_count": 10,
   "id": "99ae025e",
   "metadata": {},
   "outputs": [],
   "source": [
    "class Person:\n",
    "    def __init__(self, name, gender):\n",
    "        self.name = name\n",
    "        self.gender = gender\n",
    "        \n",
    "    def print_details(self):\n",
    "        print(\"Name: \", self.name)\n",
    "        print(\"Gender: \", self.gender)"
   ]
  },
  {
   "cell_type": "code",
   "execution_count": 11,
   "id": "714a9216",
   "metadata": {},
   "outputs": [],
   "source": [
    "class Teacher(Person):\n",
    "    def __init__(self, name, gender, specialization):\n",
    "        super().__init__(name, gender)\n",
    "        self.specialization = specialization\n",
    "        \n",
    "    def print_details(self):\n",
    "        super().print_details()\n",
    "        print(\"Specialization: \", self.specialization)"
   ]
  },
  {
   "cell_type": "code",
   "execution_count": 12,
   "id": "b7e407c8",
   "metadata": {},
   "outputs": [],
   "source": [
    "deepak = Teacher('Deepak', 'Male', 'Data Science')"
   ]
  },
  {
   "cell_type": "code",
   "execution_count": 13,
   "id": "2a9ae0fd",
   "metadata": {},
   "outputs": [
    {
     "name": "stdout",
     "output_type": "stream",
     "text": [
      "Name:  Deepak\n",
      "Gender:  Male\n",
      "Specialization:  Data Science\n"
     ]
    }
   ],
   "source": [
    "deepak.print_details()"
   ]
  },
  {
   "cell_type": "markdown",
   "id": "90af38e5",
   "metadata": {},
   "source": [
    "The \\_\\_init\\_\\_ method defined in the derived class overrides the one defined in the base class."
   ]
  },
  {
   "cell_type": "markdown",
   "id": "b9dc1df1",
   "metadata": {},
   "source": [
    "## *isinstance()* function"
   ]
  },
  {
   "cell_type": "markdown",
   "id": "23b0f917",
   "metadata": {},
   "source": [
    "The *isinstance()* function returns True if the object is an instance of the class or other classes derived from it."
   ]
  },
  {
   "cell_type": "markdown",
   "id": "4623827d",
   "metadata": {},
   "source": [
    "### Example"
   ]
  },
  {
   "cell_type": "code",
   "execution_count": 3,
   "id": "841714d4",
   "metadata": {},
   "outputs": [],
   "source": [
    "class Person:\n",
    "    def __init__(self, name, gender):\n",
    "        self.name = name\n",
    "        self.gender = gender"
   ]
  },
  {
   "cell_type": "code",
   "execution_count": 4,
   "id": "f4786873",
   "metadata": {},
   "outputs": [],
   "source": [
    "deepak = Person('Deepak', 'Male')"
   ]
  },
  {
   "cell_type": "code",
   "execution_count": 5,
   "id": "003a94e6",
   "metadata": {},
   "outputs": [
    {
     "data": {
      "text/plain": [
       "True"
      ]
     },
     "execution_count": 5,
     "metadata": {},
     "output_type": "execute_result"
    }
   ],
   "source": [
    "isinstance(deepak, Person)"
   ]
  },
  {
   "cell_type": "markdown",
   "id": "bb385dbe",
   "metadata": {},
   "source": [
    "### Example"
   ]
  },
  {
   "cell_type": "code",
   "execution_count": 6,
   "id": "f5b96339",
   "metadata": {},
   "outputs": [],
   "source": [
    "class Person:\n",
    "    def __init__(self):\n",
    "        self.name = 'Dharmendra'\n",
    "        self.gender = 'Male'"
   ]
  },
  {
   "cell_type": "code",
   "execution_count": 7,
   "id": "259297e8",
   "metadata": {},
   "outputs": [],
   "source": [
    "class Teacher(Person):\n",
    "    pass"
   ]
  },
  {
   "cell_type": "code",
   "execution_count": 8,
   "id": "4711d30b",
   "metadata": {},
   "outputs": [],
   "source": [
    "dharmendra = Teacher()"
   ]
  },
  {
   "cell_type": "code",
   "execution_count": 9,
   "id": "fdae4913",
   "metadata": {},
   "outputs": [
    {
     "data": {
      "text/plain": [
       "True"
      ]
     },
     "execution_count": 9,
     "metadata": {},
     "output_type": "execute_result"
    }
   ],
   "source": [
    "isinstance(dharmendra, Person)"
   ]
  },
  {
   "cell_type": "markdown",
   "id": "f182d0cd",
   "metadata": {},
   "source": [
    "## *issubclass()* method"
   ]
  },
  {
   "cell_type": "code",
   "execution_count": 10,
   "id": "b3062b55",
   "metadata": {},
   "outputs": [
    {
     "data": {
      "text/plain": [
       "True"
      ]
     },
     "execution_count": 10,
     "metadata": {},
     "output_type": "execute_result"
    }
   ],
   "source": [
    "issubclass(Teacher, Person)"
   ]
  },
  {
   "cell_type": "code",
   "execution_count": 11,
   "id": "78cf091d",
   "metadata": {},
   "outputs": [
    {
     "data": {
      "text/plain": [
       "False"
      ]
     },
     "execution_count": 11,
     "metadata": {},
     "output_type": "execute_result"
    }
   ],
   "source": [
    "issubclass(Person, Teacher)"
   ]
  },
  {
   "cell_type": "markdown",
   "id": "52f576f4",
   "metadata": {},
   "source": [
    "# Types of Inheritance"
   ]
  },
  {
   "cell_type": "markdown",
   "id": "9974de7d",
   "metadata": {},
   "source": [
    "Python supports:\n",
    "\n",
    "* Single inheritance\n",
    "\n",
    "* Multiple inheritance\n",
    "\n",
    "* Multi-level inheritance\n",
    "\n",
    "* Multi-path inheritance\n",
    "\n",
    "In multiple inheritance, a class can be derived from more than one base class.\n",
    "\n"
   ]
  },
  {
   "cell_type": "markdown",
   "id": "5394c338",
   "metadata": {},
   "source": [
    "## Single Inheritance"
   ]
  },
  {
   "cell_type": "markdown",
   "id": "67945aeb",
   "metadata": {},
   "source": [
    "In single inheritance, a class can be derived from a single base class."
   ]
  },
  {
   "cell_type": "markdown",
   "id": "30e7ecd2",
   "metadata": {},
   "source": [
    "### Example"
   ]
  },
  {
   "cell_type": "code",
   "execution_count": 1,
   "id": "420d43ad",
   "metadata": {},
   "outputs": [],
   "source": [
    "class Person:\n",
    "    def __init__(self, name, gender):\n",
    "        self.name = name\n",
    "        self.gender = gender\n",
    "        \n",
    "    def print_details(self):\n",
    "        print(\"Name: \", self.name)\n",
    "        print(\"Gender: \", self.gender)"
   ]
  },
  {
   "cell_type": "code",
   "execution_count": 2,
   "id": "13a7b6e2",
   "metadata": {},
   "outputs": [],
   "source": [
    "class Teacher(Person):\n",
    "    def __init__(self, name, gender, specialization):\n",
    "        super().__init__(name, gender)\n",
    "        self.specialization = specialization\n",
    "        \n",
    "    def print_details(self):\n",
    "        super().print_details()\n",
    "        print(\"Specialization: \", self.specialization)"
   ]
  },
  {
   "cell_type": "markdown",
   "id": "7b62dcee",
   "metadata": {},
   "source": [
    "## Multiple Inheritance"
   ]
  },
  {
   "cell_type": "markdown",
   "id": "86103386",
   "metadata": {},
   "source": [
    "When a derived class inherits features from more thatn one base class, it is called *multiple inheritance*.\n",
    "\n",
    "In multiple inheritance, any specified member (attribute, method) is first searched in the current (derived) class.\n",
    "\n",
    "If the member is not found in the derived class, the search continues into parent classes in left-right fashion."
   ]
  },
  {
   "cell_type": "markdown",
   "id": "415329f0",
   "metadata": {},
   "source": [
    "### Example"
   ]
  },
  {
   "cell_type": "code",
   "execution_count": 3,
   "id": "7a8a106a",
   "metadata": {},
   "outputs": [],
   "source": [
    "class ClassOne():\n",
    "    pass\n",
    "\n",
    "class ClassTwo():\n",
    "    pass\n",
    "\n",
    "class Derived(ClassOne, ClassTwo):\n",
    "    pass"
   ]
  },
  {
   "cell_type": "markdown",
   "id": "3fcd78d3",
   "metadata": {},
   "source": [
    "## Multi-level Inheritance"
   ]
  },
  {
   "cell_type": "markdown",
   "id": "4e6dfc34",
   "metadata": {},
   "source": [
    "The technique of deriving a class from an already derived class is called *multi-level* inheritance.\n",
    "\n",
    "In multi-level inheritance, any specified member is first searched in the current class (derived class).\n",
    "\n",
    "If the member is not found in the derived class, then previous derived class is searched.\n",
    "\n",
    "If the member is not found, it is searched in the base class.\n",
    "\n",
    "This order is called *linearization of derived class*."
   ]
  },
  {
   "cell_type": "markdown",
   "id": "8cceeac4",
   "metadata": {},
   "source": [
    "### Example"
   ]
  },
  {
   "cell_type": "code",
   "execution_count": 4,
   "id": "f2c1e480",
   "metadata": {},
   "outputs": [],
   "source": [
    "class Person:\n",
    "    pass\n",
    "\n",
    "class Teacher(Person):\n",
    "    pass\n",
    "\n",
    "class ChairPerson(Teacher):\n",
    "    pass"
   ]
  },
  {
   "cell_type": "markdown",
   "id": "eb664c94",
   "metadata": {},
   "source": [
    "## Multi-path Inheritance"
   ]
  },
  {
   "cell_type": "markdown",
   "id": "bb18d8b5",
   "metadata": {},
   "source": [
    "Deriving a class from other derived classes that are in turn derived from the same base class is called *multi-path* inheritance."
   ]
  },
  {
   "cell_type": "markdown",
   "id": "7798f98c",
   "metadata": {},
   "source": [
    "# Composition or Containership"
   ]
  },
  {
   "cell_type": "code",
   "execution_count": 5,
   "id": "37407a1d",
   "metadata": {},
   "outputs": [],
   "source": [
    "class MusicPlayer():\n",
    "    def __init__(self):\n",
    "        self.status = False\n",
    "        self.play_list = []\n",
    "    \n",
    "    def play_music(self):\n",
    "        for music in self.play_list:\n",
    "            print(music)"
   ]
  },
  {
   "cell_type": "code",
   "execution_count": 6,
   "id": "4b67cbb1",
   "metadata": {},
   "outputs": [],
   "source": [
    "class Car():\n",
    "    def __init__(self):\n",
    "        self.player = MusicPlayer()"
   ]
  },
  {
   "cell_type": "code",
   "execution_count": 7,
   "id": "758ca480",
   "metadata": {},
   "outputs": [],
   "source": [
    "alto = Car()"
   ]
  },
  {
   "cell_type": "code",
   "execution_count": 8,
   "id": "d7761488",
   "metadata": {},
   "outputs": [],
   "source": [
    "alto.player.status = True"
   ]
  },
  {
   "cell_type": "code",
   "execution_count": 9,
   "id": "b73941e2",
   "metadata": {},
   "outputs": [],
   "source": [
    "alto.player.play_music()"
   ]
  },
  {
   "cell_type": "code",
   "execution_count": null,
   "id": "700a67e5",
   "metadata": {},
   "outputs": [],
   "source": []
  }
 ],
 "metadata": {
  "kernelspec": {
   "display_name": "Python 3 (ipykernel)",
   "language": "python",
   "name": "python3"
  },
  "language_info": {
   "codemirror_mode": {
    "name": "ipython",
    "version": 3
   },
   "file_extension": ".py",
   "mimetype": "text/x-python",
   "name": "python",
   "nbconvert_exporter": "python",
   "pygments_lexer": "ipython3",
   "version": "3.11.7"
  }
 },
 "nbformat": 4,
 "nbformat_minor": 5
}
