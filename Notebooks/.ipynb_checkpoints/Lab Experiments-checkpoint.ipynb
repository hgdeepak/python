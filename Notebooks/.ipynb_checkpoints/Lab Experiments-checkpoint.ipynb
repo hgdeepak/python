{
 "cells": [
  {
   "cell_type": "markdown",
   "id": "7159e3db",
   "metadata": {},
   "source": [
    "# Experiment 1"
   ]
  },
  {
   "cell_type": "markdown",
   "id": "364fdb32",
   "metadata": {},
   "source": [
    "## A. Develop a program to read and print values of variables of different data types."
   ]
  },
  {
   "cell_type": "code",
   "execution_count": null,
   "id": "24d995dd",
   "metadata": {},
   "outputs": [],
   "source": [
    "# integer data type\n",
    "\n",
    "year = int(input(\"Enter the current year: \"))\n",
    "\n",
    "print(year)"
   ]
  },
  {
   "cell_type": "code",
   "execution_count": null,
   "id": "80f4d28d",
   "metadata": {},
   "outputs": [],
   "source": [
    "# float data type\n",
    "\n",
    "temperature = float(input(\"Enter today's temperature in fahrenheit: \"))\n",
    "\n",
    "print(temperature)"
   ]
  },
  {
   "cell_type": "code",
   "execution_count": null,
   "id": "97c4f6f9",
   "metadata": {},
   "outputs": [],
   "source": [
    "# bool data type\n",
    "is_hot_outside = bool(input(\"Is it hot outside? \"))\n",
    "\n",
    "print(is_hot_outside)"
   ]
  },
  {
   "cell_type": "code",
   "execution_count": null,
   "id": "89fd924b",
   "metadata": {},
   "outputs": [],
   "source": [
    "# string data type\n",
    "name = input(\"What is your name? \")\n",
    "\n",
    "print(name)"
   ]
  },
  {
   "cell_type": "code",
   "execution_count": null,
   "id": "ac760d45",
   "metadata": {},
   "outputs": [],
   "source": [
    "# complex data type\n",
    "\n",
    "complex_number = complex(real=2, imag=3)\n",
    "\n",
    "print(complex_number)"
   ]
  },
  {
   "cell_type": "code",
   "execution_count": null,
   "id": "997a0593",
   "metadata": {},
   "outputs": [],
   "source": [
    "# None data type\n",
    "ninth_planet = None\n",
    "\n",
    "print(ninth_planet)"
   ]
  },
  {
   "cell_type": "markdown",
   "id": "fa0d877e",
   "metadata": {},
   "source": [
    "## B. Develop a program to calculate the bill amount for an item given its quantity sold, value, discount, and tax."
   ]
  },
  {
   "cell_type": "code",
   "execution_count": null,
   "id": "400dea5e",
   "metadata": {},
   "outputs": [],
   "source": [
    "unit_price = float(input(\"Enter the unit price of the item: \"))\n",
    "\n",
    "quantity = float(input(\"Enter the quantity sold: \"))\n",
    "\n",
    "discount = float(input(\"Enter the discount in percentage: \"))\n",
    "\n",
    "tax = float(input(\"Enter the tax in percentage: \"))"
   ]
  },
  {
   "cell_type": "code",
   "execution_count": null,
   "id": "c4b54ba6",
   "metadata": {},
   "outputs": [],
   "source": [
    "gross_price =  unit_price * quantity\n",
    "\n",
    "discount = round((discount/100) * gross_price, 2)\n",
    "\n",
    "discounted_price = gross_price - discount\n",
    "\n",
    "tax_amount = round((tax/100) * discounted_price, 2)\n",
    "\n",
    "net = discounted_price + tax_amount"
   ]
  },
  {
   "cell_type": "code",
   "execution_count": null,
   "id": "b75c5e6b",
   "metadata": {},
   "outputs": [],
   "source": [
    "print(\"*******************************************INVOICE*******************************************\")\n",
    "\n",
    "print()\n",
    "\n",
    "print(\"Quantity\\tUnit Price\\tGross Price\\tDiscount\\tDiscounted Price\\tTax\\t\\tNet Price\")\n",
    "\n",
    "print()\n",
    "\n",
    "print(\"*********************************************************************************************\")\n",
    "\n",
    "print()\n",
    "\n",
    "print(quantity, unit_price, gross_price, discount, discounted_price,tax_amount, net, sep=\"\\t \\t\")\n",
    "\n",
    "print(\"*********************************************************************************************\")"
   ]
  },
  {
   "cell_type": "markdown",
   "id": "ebf43c99",
   "metadata": {},
   "source": [
    "# Experiment 2"
   ]
  },
  {
   "cell_type": "markdown",
   "id": "7a24a2ad",
   "metadata": {},
   "source": [
    "## A. To develop a program to calculate the roots of a quadratic equation using conditional statements."
   ]
  },
  {
   "cell_type": "code",
   "execution_count": 22,
   "id": "a6fbf9ec",
   "metadata": {},
   "outputs": [
    {
     "name": "stdout",
     "output_type": "stream",
     "text": [
      "Enter the value of the co-efficient a: 1\n",
      "Enter the value of the co-efficient b: 2\n",
      "Enter the value of the co-efficient c: 3\n",
      "The roots are complex/imaginary.\n"
     ]
    },
    {
     "ename": "ValueError",
     "evalue": "math domain error",
     "output_type": "error",
     "traceback": [
      "\u001b[1;31m---------------------------------------------------------------------------\u001b[0m",
      "\u001b[1;31mValueError\u001b[0m                                Traceback (most recent call last)",
      "Cell \u001b[1;32mIn[22], line 30\u001b[0m\n\u001b[0;32m     24\u001b[0m \u001b[38;5;28mprint\u001b[39m(\u001b[38;5;124m\"\u001b[39m\u001b[38;5;124mThe roots are complex/imaginary.\u001b[39m\u001b[38;5;124m\"\u001b[39m)\n\u001b[0;32m     26\u001b[0m \u001b[38;5;66;03m#root1 = ((-b) + (discriminant ** 0.5)) / (2 * a)\u001b[39;00m\n\u001b[0;32m     27\u001b[0m \n\u001b[0;32m     28\u001b[0m \u001b[38;5;66;03m#root2 = ((-b) - (discriminant ** 0.5)) / (2 * a)\u001b[39;00m\n\u001b[1;32m---> 30\u001b[0m root1 \u001b[38;5;241m=\u001b[39m ((\u001b[38;5;241m-\u001b[39mb) \u001b[38;5;241m+\u001b[39m (math\u001b[38;5;241m.\u001b[39msqrt(discriminant))) \u001b[38;5;241m/\u001b[39m (\u001b[38;5;241m2\u001b[39m \u001b[38;5;241m*\u001b[39m a)\n\u001b[0;32m     32\u001b[0m root2 \u001b[38;5;241m=\u001b[39m ((\u001b[38;5;241m-\u001b[39mb) \u001b[38;5;241m-\u001b[39m (math\u001b[38;5;241m.\u001b[39msqrt(discriminant))) \u001b[38;5;241m/\u001b[39m (\u001b[38;5;241m2\u001b[39m \u001b[38;5;241m*\u001b[39m a)\n\u001b[0;32m     34\u001b[0m \u001b[38;5;28mprint\u001b[39m(\u001b[38;5;124m\"\u001b[39m\u001b[38;5;124mThe roots are \u001b[39m\u001b[38;5;132;01m{}\u001b[39;00m\u001b[38;5;124m and \u001b[39m\u001b[38;5;132;01m{}\u001b[39;00m\u001b[38;5;124m.\u001b[39m\u001b[38;5;124m\"\u001b[39m\u001b[38;5;241m.\u001b[39mformat(root1, root2))\n",
      "\u001b[1;31mValueError\u001b[0m: math domain error"
     ]
    }
   ],
   "source": [
    "a = int(input(\"Enter the value of the co-efficient a: \"))\n",
    "\n",
    "b = int(input(\"Enter the value of the co-efficient b: \"))\n",
    "\n",
    "c = int(input(\"Enter the value of the co-efficient c: \"))\n",
    "\n",
    "discriminant = (b * b) - (4 * a * c)\n",
    "\n",
    "if discriminant == 0:\n",
    "    print(\"The roots are equal.\")\n",
    "    \n",
    "    root = (-b) / (2 * a)\n",
    "    \n",
    "    print(\"The root is {}\".format(root))\n",
    "elif discriminant > 0:\n",
    "    print(\"The roots are real.\")\n",
    "    \n",
    "    root1 = ((-b) + (discriminant ** 0.5)) / (2 * a)\n",
    "    \n",
    "    root2 = ((-b) - (discriminant ** 0.5)) / (2 * a)\n",
    "    \n",
    "    print(\"The roots are {} and {}.\".format(root1, root2))    \n",
    "else:\n",
    "    print(\"The roots are complex/imaginary.\")\n",
    "    \n",
    "    root1 = ((-b) + (discriminant ** 0.5)) / (2 * a)\n",
    "    \n",
    "    root2 = ((-b) - (discriminant ** 0.5)) / (2 * a)\n",
    "       \n",
    "    print(\"The roots are {} and {}.\".format(root1, root2))"
   ]
  },
  {
   "cell_type": "markdown",
   "id": "4bab4a4c",
   "metadata": {},
   "source": [
    "##  B. To develop a program to find the sum of squares of even numbers."
   ]
  },
  {
   "cell_type": "markdown",
   "id": "5cd2a0ee",
   "metadata": {},
   "source": [
    "### Using *while* loop"
   ]
  },
  {
   "cell_type": "code",
   "execution_count": 18,
   "id": "1d28fe6e",
   "metadata": {},
   "outputs": [
    {
     "name": "stdout",
     "output_type": "stream",
     "text": [
      "Enter the number range: 10\n",
      "Sum of the squares of even numbers untill 10 is 220\n"
     ]
    }
   ],
   "source": [
    "# Get the range of numbers for finding the sum of squares\n",
    "number_range = int(input(\"Enter the number range: \"))\n",
    "\n",
    "# Initialize the starting number\n",
    "number = 0\n",
    "\n",
    "# Variable to hold the sum of squares of the number\n",
    "sum_square_even_numbers = 0\n",
    "\n",
    "# Loop through untill the number rage\n",
    "while number <= number_range:\n",
    "    if (number % 2 == 0):  # Check whether the number is even or odd\n",
    "        sum_square_even_numbers = sum_square_even_numbers + number ** 2  # If the number is even find the square and add to sum\n",
    "    else:\n",
    "        pass # If the number is odd, pass to next next number\n",
    "    \n",
    "    number = number + 1 # Get the next number\n",
    "    \n",
    "print(f\"Sum of the squares of even numbers untill {number_range} is {sum_square_even_numbers}.\")"
   ]
  },
  {
   "cell_type": "markdown",
   "id": "17c76da0",
   "metadata": {},
   "source": [
    "### Using *for* loop"
   ]
  },
  {
   "cell_type": "code",
   "execution_count": 19,
   "id": "1a08339d",
   "metadata": {},
   "outputs": [
    {
     "name": "stdout",
     "output_type": "stream",
     "text": [
      "Enter the number range: 6\n",
      "Sum of the squares of even numbers untill 6 is 56\n"
     ]
    }
   ],
   "source": [
    "# Get the range of numbers for finding the sum of squares\n",
    "number_range = int(input(\"Enter the number range: \"))\n",
    "\n",
    "# Variable to hold the sum of squares of the number\n",
    "sum_square_even_numbers = 0\n",
    "\n",
    "for number in range(2, number_range + 1, 2):\n",
    "    sum_square_even_numbers = sum_square_even_numbers + number ** 2  # Find the square of the number and add to sum\n",
    "    \n",
    "print(f\"Sum of the squares of even numbers untill {number_range} is {sum_square_even_numbers}.\")"
   ]
  },
  {
   "cell_type": "markdown",
   "id": "833fc019",
   "metadata": {},
   "source": [
    "# Experiment 3"
   ]
  },
  {
   "cell_type": "markdown",
   "id": "e594c270",
   "metadata": {},
   "source": [
    "## A. To develop a program to use a lambda function with an ordinary function."
   ]
  },
  {
   "cell_type": "markdown",
   "id": "7f973a5e",
   "metadata": {},
   "source": [
    "### Example 1"
   ]
  },
  {
   "cell_type": "code",
   "execution_count": 1,
   "id": "606d69a3",
   "metadata": {},
   "outputs": [],
   "source": [
    "def greet():\n",
    "    print(\"Hello, Welcome to Python programming.\")"
   ]
  },
  {
   "cell_type": "code",
   "execution_count": 2,
   "id": "d2628c04",
   "metadata": {},
   "outputs": [
    {
     "name": "stdout",
     "output_type": "stream",
     "text": [
      "Hello, Welcome to Python programming.\n"
     ]
    }
   ],
   "source": [
    "greet()"
   ]
  },
  {
   "cell_type": "markdown",
   "id": "ff62ca07",
   "metadata": {},
   "source": [
    "### Example 2"
   ]
  },
  {
   "cell_type": "code",
   "execution_count": 3,
   "id": "a143034c",
   "metadata": {},
   "outputs": [],
   "source": [
    "def add_two_numbers(number_one, number_two):\n",
    "    result = number_one + number_two\n",
    "    \n",
    "    print(result)"
   ]
  },
  {
   "cell_type": "code",
   "execution_count": 4,
   "id": "6fb9ea73",
   "metadata": {},
   "outputs": [
    {
     "name": "stdout",
     "output_type": "stream",
     "text": [
      "5\n"
     ]
    }
   ],
   "source": [
    "add_two_numbers(2, 3)"
   ]
  },
  {
   "cell_type": "markdown",
   "id": "3a68185d",
   "metadata": {},
   "source": [
    "### Example 3"
   ]
  },
  {
   "cell_type": "code",
   "execution_count": 5,
   "id": "cec0026d",
   "metadata": {},
   "outputs": [],
   "source": [
    "def add_two_numbers(number_one, number_two):\n",
    "    result = number_one + number_two\n",
    "    \n",
    "    return result"
   ]
  },
  {
   "cell_type": "code",
   "execution_count": 6,
   "id": "62aed123",
   "metadata": {},
   "outputs": [
    {
     "name": "stdout",
     "output_type": "stream",
     "text": [
      "7\n"
     ]
    }
   ],
   "source": [
    "result = add_two_numbers(3, 4)\n",
    "\n",
    "print(result)"
   ]
  },
  {
   "cell_type": "markdown",
   "id": "07ead786",
   "metadata": {},
   "source": [
    "### Example 4"
   ]
  },
  {
   "cell_type": "code",
   "execution_count": 7,
   "id": "4ac03a80",
   "metadata": {},
   "outputs": [],
   "source": [
    "greet = lambda : print(\"Hello, Welcome\")"
   ]
  },
  {
   "cell_type": "code",
   "execution_count": 8,
   "id": "7fcf78c1",
   "metadata": {},
   "outputs": [
    {
     "name": "stdout",
     "output_type": "stream",
     "text": [
      "Hello, Welcome\n"
     ]
    }
   ],
   "source": [
    "greet()"
   ]
  },
  {
   "cell_type": "markdown",
   "id": "daa0b308",
   "metadata": {},
   "source": [
    "### Example 5"
   ]
  },
  {
   "cell_type": "code",
   "execution_count": 9,
   "id": "089dcf69",
   "metadata": {},
   "outputs": [],
   "source": [
    "add_two_numbers = lambda first_num, sec_num: first_num + sec_num"
   ]
  },
  {
   "cell_type": "code",
   "execution_count": 10,
   "id": "8f02ed4c",
   "metadata": {},
   "outputs": [],
   "source": [
    "result = add_two_numbers(2, 3)"
   ]
  },
  {
   "cell_type": "code",
   "execution_count": 11,
   "id": "055b6766",
   "metadata": {},
   "outputs": [
    {
     "name": "stdout",
     "output_type": "stream",
     "text": [
      "5\n"
     ]
    }
   ],
   "source": [
    "print(result)"
   ]
  },
  {
   "cell_type": "markdown",
   "id": "b7fbfe30",
   "metadata": {},
   "source": [
    "### Example 6"
   ]
  },
  {
   "cell_type": "code",
   "execution_count": null,
   "id": "cd89ff75",
   "metadata": {},
   "outputs": [],
   "source": []
  }
 ],
 "metadata": {
  "kernelspec": {
   "display_name": "Python 3 (ipykernel)",
   "language": "python",
   "name": "python3"
  },
  "language_info": {
   "codemirror_mode": {
    "name": "ipython",
    "version": 3
   },
   "file_extension": ".py",
   "mimetype": "text/x-python",
   "name": "python",
   "nbconvert_exporter": "python",
   "pygments_lexer": "ipython3",
   "version": "3.11.5"
  }
 },
 "nbformat": 4,
 "nbformat_minor": 5
}
