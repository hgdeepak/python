{
 "cells": [
  {
   "cell_type": "markdown",
   "id": "9e2cac7a-a0ae-4351-8120-4e1c9f844f81",
   "metadata": {},
   "source": [
    "# Sequence"
   ]
  },
  {
   "cell_type": "markdown",
   "id": "8cb0e877-1e87-414d-8b7b-97e588b9defe",
   "metadata": {},
   "source": [
    "A data structure is a group of data elements that are put together under one name.\n",
    "\n",
    "Sequence is the basic data structure in Python.\n",
    "\n",
    "In the sequence data structure, each element has a specific index.\n",
    "\n",
    "The index value starts from zero and is auto incremented for the next element in the sequence.\n",
    "\n",
    "In Python, sequence is the generic term for an ordered set."
   ]
  },
  {
   "cell_type": "markdown",
   "id": "efc39e3f-5f44-42b2-9fb3-43c1d477d659",
   "metadata": {},
   "source": [
    "# Lists"
   ]
  },
  {
   "cell_type": "markdown",
   "id": "9af61508-8f4b-4c7c-bb8b-404a52dfc210",
   "metadata": {},
   "source": [
    "List is a sequence in which elements are written as a list of comma-separated values between square brackets.\n",
    "\n",
    "List can have elements that belong to different data types.\n",
    "\n",
    "List is mutable i.e., the value of its elements can be changed."
   ]
  },
  {
   "cell_type": "markdown",
   "id": "6d4e11a1-34fd-48bf-b19c-428734832923",
   "metadata": {},
   "source": [
    "### Example"
   ]
  },
  {
   "cell_type": "code",
   "execution_count": 1,
   "id": "c4a9b247-1a01-4706-bba0-cd8c38858543",
   "metadata": {},
   "outputs": [],
   "source": [
    "colours = ['Violet', 'Indigo', 'Blue', 'Green', 'Yellow', 'Orange', 'Red']"
   ]
  },
  {
   "cell_type": "code",
   "execution_count": 2,
   "id": "4fe2d9bd-6577-4020-9c58-e7cdddc00dd9",
   "metadata": {},
   "outputs": [
    {
     "name": "stdout",
     "output_type": "stream",
     "text": [
      "['Violet', 'Indigo', 'Blue', 'Green', 'Yellow', 'Orange', 'Red']\n"
     ]
    }
   ],
   "source": [
    "print(colours)"
   ]
  },
  {
   "cell_type": "markdown",
   "id": "1e18284d-0c49-4e88-9a78-eda5d9e5d379",
   "metadata": {},
   "source": [
    "### Example"
   ]
  },
  {
   "cell_type": "code",
   "execution_count": 3,
   "id": "907a5b1d-0e46-44cf-9589-45e4c81cb8ae",
   "metadata": {},
   "outputs": [],
   "source": [
    "numbers = [0, 1, 2, 3, 4, 5, 6, 7, 8, 9]"
   ]
  },
  {
   "cell_type": "code",
   "execution_count": 4,
   "id": "77633c0c-ca95-4bcb-b146-d93aad15f732",
   "metadata": {},
   "outputs": [
    {
     "name": "stdout",
     "output_type": "stream",
     "text": [
      "[0, 1, 2, 3, 4, 5, 6, 7, 8, 9]\n"
     ]
    }
   ],
   "source": [
    "print(numbers)"
   ]
  },
  {
   "cell_type": "markdown",
   "id": "f8920f38-0240-44fe-98a3-ed302126633d",
   "metadata": {},
   "source": [
    "### Example"
   ]
  },
  {
   "cell_type": "code",
   "execution_count": 5,
   "id": "310f5ed9-f909-4b5f-9c49-185bb6b48398",
   "metadata": {},
   "outputs": [],
   "source": [
    "numbers = [10, 11.5, 2 + 3j]"
   ]
  },
  {
   "cell_type": "code",
   "execution_count": 6,
   "id": "670b0e1a-5b27-4e4f-9908-c7e6c4803989",
   "metadata": {},
   "outputs": [
    {
     "name": "stdout",
     "output_type": "stream",
     "text": [
      "[10, 11.5, (2+3j)]\n"
     ]
    }
   ],
   "source": [
    "print(numbers)"
   ]
  },
  {
   "cell_type": "markdown",
   "id": "45d5adb5-8bf9-4921-85f0-b57273e8c857",
   "metadata": {},
   "source": [
    "## Access values in Lists"
   ]
  },
  {
   "cell_type": "markdown",
   "id": "48c8a675-7def-4686-bd48-15e8d39516a6",
   "metadata": {},
   "source": [
    "To access values in lists, square brackets are used to slice along with the index or indices to get value stored at that index."
   ]
  },
  {
   "cell_type": "markdown",
   "id": "8dcdfbad-7c1a-4da0-83d0-c3f3b0f53537",
   "metadata": {},
   "source": [
    "### Example"
   ]
  },
  {
   "cell_type": "code",
   "execution_count": 7,
   "id": "2b17c524-e2c3-4d6e-a5ca-c9b32debf106",
   "metadata": {},
   "outputs": [],
   "source": [
    "colours = ['Violet', 'Indigo', 'Blue', 'Green', 'Yellow', 'Orange', 'Red']"
   ]
  },
  {
   "cell_type": "code",
   "execution_count": 8,
   "id": "7d98afc6-e36e-47b3-8165-d8ef58416a28",
   "metadata": {},
   "outputs": [
    {
     "data": {
      "text/plain": [
       "'Violet'"
      ]
     },
     "execution_count": 8,
     "metadata": {},
     "output_type": "execute_result"
    }
   ],
   "source": [
    "colours[0]"
   ]
  },
  {
   "cell_type": "code",
   "execution_count": 9,
   "id": "e31af791-fa3e-4345-9228-eaff730b294f",
   "metadata": {},
   "outputs": [
    {
     "data": {
      "text/plain": [
       "'Indigo'"
      ]
     },
     "execution_count": 9,
     "metadata": {},
     "output_type": "execute_result"
    }
   ],
   "source": [
    "colours[1]"
   ]
  },
  {
   "cell_type": "code",
   "execution_count": 10,
   "id": "ffd5fcdd-65d6-4725-8bad-912e4f19d994",
   "metadata": {},
   "outputs": [
    {
     "data": {
      "text/plain": [
       "'Blue'"
      ]
     },
     "execution_count": 10,
     "metadata": {},
     "output_type": "execute_result"
    }
   ],
   "source": [
    "colours[2]"
   ]
  },
  {
   "cell_type": "code",
   "execution_count": 11,
   "id": "504d1711-793e-45ee-986c-7adaea3855a7",
   "metadata": {},
   "outputs": [
    {
     "data": {
      "text/plain": [
       "'Red'"
      ]
     },
     "execution_count": 11,
     "metadata": {},
     "output_type": "execute_result"
    }
   ],
   "source": [
    "colours[-1]"
   ]
  },
  {
   "cell_type": "code",
   "execution_count": 12,
   "id": "85af2a5a-4014-4574-958f-c113dabd99e4",
   "metadata": {},
   "outputs": [
    {
     "data": {
      "text/plain": [
       "['Indigo', 'Blue', 'Green']"
      ]
     },
     "execution_count": 12,
     "metadata": {},
     "output_type": "execute_result"
    }
   ],
   "source": [
    "colours[1:4]"
   ]
  },
  {
   "cell_type": "code",
   "execution_count": 13,
   "id": "d2f7c37d-2dd2-407e-8640-912e6773e9b6",
   "metadata": {},
   "outputs": [
    {
     "data": {
      "text/plain": [
       "['Violet', 'Blue', 'Yellow', 'Red']"
      ]
     },
     "execution_count": 13,
     "metadata": {},
     "output_type": "execute_result"
    }
   ],
   "source": [
    "colours[::2]"
   ]
  },
  {
   "cell_type": "markdown",
   "id": "20bbb0ab-832b-403f-b566-1be4502f8bec",
   "metadata": {},
   "source": [
    "## Updating Values in Lists"
   ]
  },
  {
   "cell_type": "markdown",
   "id": "68d63656-4131-4b3c-bcb2-945508bbac16",
   "metadata": {},
   "source": [
    "Lists are mutable i.e., we can modify the contents of a list.\n",
    "\n",
    "A list can be appended and updated with the new values and existing values can be removed from the list."
   ]
  },
  {
   "cell_type": "markdown",
   "id": "a88869a2-3967-47e1-bc98-5e171aeacacc",
   "metadata": {},
   "source": [
    "### Example - Update List "
   ]
  },
  {
   "cell_type": "code",
   "execution_count": 14,
   "id": "36e2093a-f0d9-42d3-87d5-be78b1865201",
   "metadata": {},
   "outputs": [],
   "source": [
    "colours = ['Violet', 'Indigo', 'Blue', 'Green', 'Yellow', 'Orange', 'Red']"
   ]
  },
  {
   "cell_type": "code",
   "execution_count": 15,
   "id": "c31b8cfd-8789-4da8-b17b-3268467a5a53",
   "metadata": {},
   "outputs": [
    {
     "data": {
      "text/plain": [
       "['Violet', 'Indigo', 'Blue', 'Green', 'Yellow', 'Orange', 'Red']"
      ]
     },
     "execution_count": 15,
     "metadata": {},
     "output_type": "execute_result"
    }
   ],
   "source": [
    "colours"
   ]
  },
  {
   "cell_type": "code",
   "execution_count": 18,
   "id": "e953949f-21fa-4c50-8ac2-68566793468f",
   "metadata": {},
   "outputs": [],
   "source": [
    "# Update an element\n",
    "\n",
    "colours[3] = 'White'"
   ]
  },
  {
   "cell_type": "code",
   "execution_count": 17,
   "id": "b9d8f846-8ede-48fe-8de3-77b0f57b5e2a",
   "metadata": {},
   "outputs": [
    {
     "data": {
      "text/plain": [
       "['Violet', 'Indigo', 'Blue', 'White', 'Yellow', 'Orange', 'Red']"
      ]
     },
     "execution_count": 17,
     "metadata": {},
     "output_type": "execute_result"
    }
   ],
   "source": [
    "colours"
   ]
  },
  {
   "cell_type": "markdown",
   "id": "ed9c931f-5821-4314-9469-c2610209ddd2",
   "metadata": {},
   "source": [
    "### Example - Update List"
   ]
  },
  {
   "cell_type": "code",
   "execution_count": 23,
   "id": "bdd47c3e-5dcd-4e56-a55c-b34a1485236c",
   "metadata": {},
   "outputs": [],
   "source": [
    "even_numbers = [2, 4, 6, 8]"
   ]
  },
  {
   "cell_type": "code",
   "execution_count": 24,
   "id": "d5b80e76-d073-4ca9-98ca-4d1e13d86e97",
   "metadata": {},
   "outputs": [
    {
     "data": {
      "text/plain": [
       "[2, 4, 6, 8]"
      ]
     },
     "execution_count": 24,
     "metadata": {},
     "output_type": "execute_result"
    }
   ],
   "source": [
    "even_numbers"
   ]
  },
  {
   "cell_type": "code",
   "execution_count": 25,
   "id": "410df004-c427-403b-8908-38bb5eaf5aad",
   "metadata": {},
   "outputs": [],
   "source": [
    "even_numbers[1:3] = [10, 12]"
   ]
  },
  {
   "cell_type": "code",
   "execution_count": 26,
   "id": "e53afb87-0208-40c1-901e-dda768a66b02",
   "metadata": {},
   "outputs": [
    {
     "data": {
      "text/plain": [
       "[2, 10, 12, 8]"
      ]
     },
     "execution_count": 26,
     "metadata": {},
     "output_type": "execute_result"
    }
   ],
   "source": [
    "even_numbers"
   ]
  },
  {
   "cell_type": "markdown",
   "id": "d79a917c-967f-4b38-9c01-a0a52198c4b2",
   "metadata": {},
   "source": [
    "### Example - Append new element"
   ]
  },
  {
   "cell_type": "code",
   "execution_count": 27,
   "id": "bca83a74-42b8-4c7d-825c-1bd889972738",
   "metadata": {},
   "outputs": [],
   "source": [
    "colours = ['Violet', 'Indigo', 'Blue', 'Green', 'Yellow', 'Orange', 'Red']"
   ]
  },
  {
   "cell_type": "code",
   "execution_count": 28,
   "id": "e039fd2f-b79a-4a3d-9506-b525329419d0",
   "metadata": {},
   "outputs": [],
   "source": [
    "# Append a new colour\n",
    "\n",
    "colours.append('Black')"
   ]
  },
  {
   "cell_type": "code",
   "execution_count": 29,
   "id": "ca33a807-4dbb-4a2a-9a8e-cb5009ef1880",
   "metadata": {},
   "outputs": [
    {
     "data": {
      "text/plain": [
       "['Violet', 'Indigo', 'Blue', 'Green', 'Yellow', 'Orange', 'Red', 'Black']"
      ]
     },
     "execution_count": 29,
     "metadata": {},
     "output_type": "execute_result"
    }
   ],
   "source": [
    "colours"
   ]
  },
  {
   "cell_type": "markdown",
   "id": "f66897fb-26e6-4589-bdf4-5efb1515005d",
   "metadata": {},
   "source": [
    "### Example - Delete Element"
   ]
  },
  {
   "cell_type": "code",
   "execution_count": 30,
   "id": "fc1113e7-4dd7-4720-9b8f-21bcd3c05ec7",
   "metadata": {},
   "outputs": [
    {
     "data": {
      "text/plain": [
       "['Violet', 'Indigo', 'Blue', 'Green', 'Yellow', 'Orange', 'Red', 'Black']"
      ]
     },
     "execution_count": 30,
     "metadata": {},
     "output_type": "execute_result"
    }
   ],
   "source": [
    "colours"
   ]
  },
  {
   "cell_type": "code",
   "execution_count": 32,
   "id": "64fefe20-45d9-4173-87e4-da440e019f55",
   "metadata": {},
   "outputs": [],
   "source": [
    "del colours[7]"
   ]
  },
  {
   "cell_type": "code",
   "execution_count": 33,
   "id": "176e5c6c-1c73-4400-ac65-5b9b010a72d3",
   "metadata": {},
   "outputs": [
    {
     "data": {
      "text/plain": [
       "['Violet', 'Indigo', 'Blue', 'Green', 'Yellow', 'Orange', 'Red']"
      ]
     },
     "execution_count": 33,
     "metadata": {},
     "output_type": "execute_result"
    }
   ],
   "source": [
    "colours"
   ]
  },
  {
   "cell_type": "markdown",
   "id": "498de2d0-794d-4450-accf-e2e48ccf8868",
   "metadata": {},
   "source": [
    "### Example - Delete List"
   ]
  },
  {
   "cell_type": "code",
   "execution_count": 34,
   "id": "b0c684f4-d1b9-4cc4-b63e-cb89eed49e7e",
   "metadata": {},
   "outputs": [
    {
     "data": {
      "text/plain": [
       "['Violet', 'Indigo', 'Blue', 'Green', 'Yellow', 'Orange', 'Red']"
      ]
     },
     "execution_count": 34,
     "metadata": {},
     "output_type": "execute_result"
    }
   ],
   "source": [
    "colours"
   ]
  },
  {
   "cell_type": "code",
   "execution_count": 35,
   "id": "bf50c858-1259-480f-b68e-832908256f7a",
   "metadata": {},
   "outputs": [],
   "source": [
    "del colours"
   ]
  },
  {
   "cell_type": "code",
   "execution_count": 36,
   "id": "38c7d6df-e7e3-44ef-9424-7afe1e5f0855",
   "metadata": {},
   "outputs": [
    {
     "ename": "NameError",
     "evalue": "name 'colours' is not defined",
     "output_type": "error",
     "traceback": [
      "\u001b[1;31m---------------------------------------------------------------------------\u001b[0m",
      "\u001b[1;31mNameError\u001b[0m                                 Traceback (most recent call last)",
      "Cell \u001b[1;32mIn[36], line 1\u001b[0m\n\u001b[1;32m----> 1\u001b[0m \u001b[43mcolours\u001b[49m\n",
      "\u001b[1;31mNameError\u001b[0m: name 'colours' is not defined"
     ]
    }
   ],
   "source": [
    "colours"
   ]
  },
  {
   "cell_type": "markdown",
   "id": "bec06d7a-1047-4839-94d2-d91703aae663",
   "metadata": {},
   "source": [
    "## Nested Lists"
   ]
  },
  {
   "cell_type": "markdown",
   "id": "31d3d82c-b380-40a6-a0f5-f472a15b3be4",
   "metadata": {},
   "source": [
    "A list within another list is called a nested list."
   ]
  },
  {
   "cell_type": "markdown",
   "id": "275fbfa1-7cf2-475f-93f3-479abdc1cb47",
   "metadata": {},
   "source": [
    "### Example"
   ]
  },
  {
   "cell_type": "code",
   "execution_count": 37,
   "id": "a6e930df-62ec-4d4b-bddb-f958ed59ab0e",
   "metadata": {},
   "outputs": [],
   "source": [
    "month_days = [31, [28, 29], 31, 30]"
   ]
  },
  {
   "cell_type": "code",
   "execution_count": 38,
   "id": "5a77d1f8-7d56-4ab1-b344-5dd53833d605",
   "metadata": {},
   "outputs": [
    {
     "data": {
      "text/plain": [
       "[31, [28, 29], 31, 30]"
      ]
     },
     "execution_count": 38,
     "metadata": {},
     "output_type": "execute_result"
    }
   ],
   "source": [
    "month_days"
   ]
  },
  {
   "cell_type": "code",
   "execution_count": 39,
   "id": "3658c522-48c2-4da2-b2b4-7500fd9cf853",
   "metadata": {},
   "outputs": [
    {
     "data": {
      "text/plain": [
       "[28, 29]"
      ]
     },
     "execution_count": 39,
     "metadata": {},
     "output_type": "execute_result"
    }
   ],
   "source": [
    "month_days[1]"
   ]
  },
  {
   "cell_type": "code",
   "execution_count": 42,
   "id": "ee14d9e7-2795-4e46-90f2-f00b08eb1e89",
   "metadata": {},
   "outputs": [
    {
     "data": {
      "text/plain": [
       "29"
      ]
     },
     "execution_count": 42,
     "metadata": {},
     "output_type": "execute_result"
    }
   ],
   "source": [
    "month_days[1][1]"
   ]
  },
  {
   "cell_type": "markdown",
   "id": "745a8aef-eb6d-4b6f-ae6b-f7a13b6bd56f",
   "metadata": {},
   "source": [
    "### Example - Matrix"
   ]
  },
  {
   "cell_type": "code",
   "execution_count": 40,
   "id": "7e6ff0b4-03f6-4aea-8d8a-e94907b4c34d",
   "metadata": {},
   "outputs": [],
   "source": [
    "matrix = [[1, 2], [3, 4]]"
   ]
  },
  {
   "cell_type": "code",
   "execution_count": 41,
   "id": "8e0a7f8e-9925-4c91-83e1-ba9d15c9adb2",
   "metadata": {},
   "outputs": [
    {
     "data": {
      "text/plain": [
       "[[1, 2], [3, 4]]"
      ]
     },
     "execution_count": 41,
     "metadata": {},
     "output_type": "execute_result"
    }
   ],
   "source": [
    "matrix"
   ]
  },
  {
   "cell_type": "markdown",
   "id": "cfc8ed9a-660f-4f84-b579-a7e83d7d0fe0",
   "metadata": {},
   "source": [
    "## List Aliasing"
   ]
  },
  {
   "cell_type": "markdown",
   "id": "d31ca64a-acfb-42d6-a7c0-5b83e6fe6f6f",
   "metadata": {},
   "source": [
    "When a variable or an object is assigned to another variable or object, both of them points to the same memory.\n",
    "\n",
    "Giving a new name to an existing list is called **aliasing**."
   ]
  },
  {
   "cell_type": "markdown",
   "id": "6d25b3dc-f3c7-4b1a-94eb-d7a9b27f37af",
   "metadata": {},
   "source": [
    "### Example"
   ]
  },
  {
   "cell_type": "code",
   "execution_count": 1,
   "id": "287be8b1-bb95-4159-b4c6-4c0103efe4ee",
   "metadata": {},
   "outputs": [],
   "source": [
    "a = 10"
   ]
  },
  {
   "cell_type": "code",
   "execution_count": 2,
   "id": "90cb5354-d281-4363-8b72-aef2bbc1e30a",
   "metadata": {},
   "outputs": [],
   "source": [
    "b = a"
   ]
  },
  {
   "cell_type": "code",
   "execution_count": 4,
   "id": "8bb7e14e-6ee8-42c4-b800-92cf348ecb45",
   "metadata": {},
   "outputs": [
    {
     "name": "stdout",
     "output_type": "stream",
     "text": [
      "10 10\n"
     ]
    }
   ],
   "source": [
    "print(a, b)"
   ]
  },
  {
   "cell_type": "code",
   "execution_count": 5,
   "id": "0b6522b8-d62e-4cc6-8125-573ef2616c95",
   "metadata": {},
   "outputs": [
    {
     "data": {
      "text/plain": [
       "(140723344884808, 140723344884808)"
      ]
     },
     "execution_count": 5,
     "metadata": {},
     "output_type": "execute_result"
    }
   ],
   "source": [
    "id(a), id(b)"
   ]
  },
  {
   "cell_type": "markdown",
   "id": "f7388949-42a6-44e4-83a8-0e0e2e0fd47e",
   "metadata": {},
   "source": [
    "### Example"
   ]
  },
  {
   "cell_type": "code",
   "execution_count": 6,
   "id": "968321ce-6c3e-41ff-976a-fdc790e7dab5",
   "metadata": {},
   "outputs": [],
   "source": [
    "x = [10, 20, 30, 40, 50]"
   ]
  },
  {
   "cell_type": "code",
   "execution_count": 7,
   "id": "082f2376-7b63-474d-99af-fabc7dfd135a",
   "metadata": {},
   "outputs": [],
   "source": [
    "y = x"
   ]
  },
  {
   "cell_type": "code",
   "execution_count": 8,
   "id": "d46c89e1-4ee5-4da5-ab9a-be1e49b7bc3a",
   "metadata": {},
   "outputs": [
    {
     "name": "stdout",
     "output_type": "stream",
     "text": [
      "[10, 20, 30, 40, 50]\n"
     ]
    }
   ],
   "source": [
    "print(x)"
   ]
  },
  {
   "cell_type": "code",
   "execution_count": 9,
   "id": "f048b6d5-f9b7-48e4-b775-67567b35aa00",
   "metadata": {},
   "outputs": [
    {
     "name": "stdout",
     "output_type": "stream",
     "text": [
      "[10, 20, 30, 40, 50]\n"
     ]
    }
   ],
   "source": [
    "print(y)"
   ]
  },
  {
   "cell_type": "markdown",
   "id": "6ac6670c-b0c7-4049-93c3-58d598217100",
   "metadata": {},
   "source": [
    "#### Updating the list"
   ]
  },
  {
   "cell_type": "code",
   "execution_count": 10,
   "id": "3206359b-d7b9-41b5-af9f-82931b02fccd",
   "metadata": {},
   "outputs": [],
   "source": [
    "x[1] = 99"
   ]
  },
  {
   "cell_type": "code",
   "execution_count": 11,
   "id": "b20622aa-624b-4434-8159-dfd5c138da07",
   "metadata": {},
   "outputs": [
    {
     "name": "stdout",
     "output_type": "stream",
     "text": [
      "[10, 99, 30, 40, 50]\n"
     ]
    }
   ],
   "source": [
    "print(x)"
   ]
  },
  {
   "cell_type": "code",
   "execution_count": 12,
   "id": "28810b89-d6cd-40e3-a94d-cf54158a716f",
   "metadata": {},
   "outputs": [
    {
     "name": "stdout",
     "output_type": "stream",
     "text": [
      "[10, 99, 30, 40, 50]\n"
     ]
    }
   ],
   "source": [
    "print(y)"
   ]
  },
  {
   "cell_type": "markdown",
   "id": "ca8bf468-6e49-44f6-ae2c-47e944f489b2",
   "metadata": {},
   "source": [
    "## Cloning Lists"
   ]
  },
  {
   "cell_type": "markdown",
   "id": "8ed10c72-3a7a-4587-bd3e-fedd97d023b9",
   "metadata": {},
   "source": [
    "The process of modifying a list and keeping a copy of the original list is called as cloning.\n",
    "\n",
    "If two independent lists are required, then we should not go for aliasing. We should use cloning or copying.\n",
    "\n",
    "To clone a list, use slicing operation."
   ]
  },
  {
   "cell_type": "markdown",
   "id": "ae7d6339-7b02-4998-b14e-f104fd72c763",
   "metadata": {},
   "source": [
    "### Example"
   ]
  },
  {
   "cell_type": "code",
   "execution_count": 13,
   "id": "eb5fea54-3a29-490b-abec-cfefdeb6fc91",
   "metadata": {},
   "outputs": [],
   "source": [
    "even_numbers = [2, 4, 6, 8, 10]"
   ]
  },
  {
   "cell_type": "code",
   "execution_count": 14,
   "id": "919b65d0-809f-463d-8e4d-f4ebb87187e6",
   "metadata": {},
   "outputs": [],
   "source": [
    "numbers = even_numbers[:]"
   ]
  },
  {
   "cell_type": "code",
   "execution_count": 15,
   "id": "e514afff-4ac6-4da5-bec1-ec1b9ef179dd",
   "metadata": {},
   "outputs": [
    {
     "data": {
      "text/plain": [
       "[2, 4, 6, 8, 10]"
      ]
     },
     "execution_count": 15,
     "metadata": {},
     "output_type": "execute_result"
    }
   ],
   "source": [
    "numbers"
   ]
  },
  {
   "cell_type": "code",
   "execution_count": 16,
   "id": "6fa90e05-6147-4085-9399-16c34a611a58",
   "metadata": {},
   "outputs": [],
   "source": [
    "even_numbers[0] = 20"
   ]
  },
  {
   "cell_type": "code",
   "execution_count": 17,
   "id": "3e0e2f4d-e348-4dbd-824b-396667930258",
   "metadata": {},
   "outputs": [
    {
     "name": "stdout",
     "output_type": "stream",
     "text": [
      "[20, 4, 6, 8, 10]\n"
     ]
    }
   ],
   "source": [
    "print(even_numbers)"
   ]
  },
  {
   "cell_type": "code",
   "execution_count": 18,
   "id": "5ef6286a-5bd3-4e89-be99-ab1cc9a2b46c",
   "metadata": {},
   "outputs": [
    {
     "name": "stdout",
     "output_type": "stream",
     "text": [
      "[2, 4, 6, 8, 10]\n"
     ]
    }
   ],
   "source": [
    "print(numbers)"
   ]
  },
  {
   "cell_type": "markdown",
   "id": "71463e8d-3841-473f-89dc-7a7b1337a965",
   "metadata": {},
   "source": [
    "## Basic List Operations"
   ]
  },
  {
   "cell_type": "markdown",
   "id": "38565f07-1e4c-4085-a003-9aad812e83bd",
   "metadata": {},
   "source": [
    "### Length of a list"
   ]
  },
  {
   "cell_type": "markdown",
   "id": "7edd5de9-111f-4bb4-a831-0daf59e57d7a",
   "metadata": {},
   "source": [
    "Length of a list refers to the number of elements in a list.\n",
    "\n",
    "The function *len()* is used to find the length of a list."
   ]
  },
  {
   "cell_type": "markdown",
   "id": "535e263b-293f-4bbd-9f40-27fa223b8f90",
   "metadata": {},
   "source": [
    "#### Example"
   ]
  },
  {
   "cell_type": "code",
   "execution_count": 19,
   "id": "be239594-1440-43d7-b539-289fb2f01141",
   "metadata": {},
   "outputs": [],
   "source": [
    "numbers = [10, 20, 30, 40, 50]"
   ]
  },
  {
   "cell_type": "code",
   "execution_count": 20,
   "id": "bd50172f-5f43-41a6-9f97-f5cf4886a38b",
   "metadata": {},
   "outputs": [
    {
     "data": {
      "text/plain": [
       "5"
      ]
     },
     "execution_count": 20,
     "metadata": {},
     "output_type": "execute_result"
    }
   ],
   "source": [
    "len(numbers)"
   ]
  },
  {
   "cell_type": "markdown",
   "id": "629745c1-5041-4930-8e6f-f2d884687ea8",
   "metadata": {},
   "source": [
    "### Concatenation of Two Lists"
   ]
  },
  {
   "cell_type": "markdown",
   "id": "45bb375e-97cc-45c8-a2fb-19b0506bcad0",
   "metadata": {},
   "source": [
    "Use + operator on two lists to join them."
   ]
  },
  {
   "cell_type": "markdown",
   "id": "1bfdf09c-8ce6-462d-947a-72b83b53d3b7",
   "metadata": {},
   "source": [
    "#### Example"
   ]
  },
  {
   "cell_type": "code",
   "execution_count": 21,
   "id": "3b338b80-2d63-4195-863b-7fe07e837d9b",
   "metadata": {},
   "outputs": [],
   "source": [
    "x = [10, 20, 30, 40]\n",
    "\n",
    "y = [50, 60, 70, 80]"
   ]
  },
  {
   "cell_type": "code",
   "execution_count": 22,
   "id": "3614876e-9071-4ed5-8622-9c10a262050e",
   "metadata": {},
   "outputs": [
    {
     "name": "stdout",
     "output_type": "stream",
     "text": [
      "[10, 20, 30, 40, 50, 60, 70, 80]\n"
     ]
    }
   ],
   "source": [
    "print(x + y)"
   ]
  },
  {
   "cell_type": "markdown",
   "id": "295a2faa-1885-47b7-b375-e81b1a3c57f3",
   "metadata": {},
   "source": [
    "### Repetition of Lists"
   ]
  },
  {
   "cell_type": "markdown",
   "id": "5091915e-6b75-4c49-8f32-3400174d2051",
   "metadata": {},
   "source": [
    "The elements of a list can be repeated n times uisng the * operator."
   ]
  },
  {
   "cell_type": "markdown",
   "id": "7516cf41-5ab5-4ea1-8c3b-769cd4978ed5",
   "metadata": {},
   "source": [
    "#### Example"
   ]
  },
  {
   "cell_type": "code",
   "execution_count": 23,
   "id": "693483ba-4511-451b-ae74-844c2f7ae4c0",
   "metadata": {},
   "outputs": [],
   "source": [
    "days = ['Sun', 'Mon', 'Tue', 'Wed', 'Thu', 'Fri', 'Sat']"
   ]
  },
  {
   "cell_type": "code",
   "execution_count": 24,
   "id": "17d52f3b-4a1e-4d03-b805-a148a1ec294f",
   "metadata": {},
   "outputs": [
    {
     "name": "stdout",
     "output_type": "stream",
     "text": [
      "['Sun', 'Mon', 'Tue', 'Wed', 'Thu', 'Fri', 'Sat', 'Sun', 'Mon', 'Tue', 'Wed', 'Thu', 'Fri', 'Sat']\n"
     ]
    }
   ],
   "source": [
    "print(days * 2)"
   ]
  },
  {
   "cell_type": "markdown",
   "id": "bd5cf0fb-f6d2-4b07-9437-241f778ca2e0",
   "metadata": {},
   "source": [
    "### Membership in Lists"
   ]
  },
  {
   "cell_type": "markdown",
   "id": "c3098a42-ed42-401c-8fd3-72b8e7d56390",
   "metadata": {},
   "source": [
    "Use *in* or *not in* operator to check if an element is a member of a list or not.\n",
    "\n",
    "*in* returns **True** if the element is a member of the list else returns **False**.\n",
    "\n",
    "*not in* returns **True** if the element is not a member of the list else returns **False**."
   ]
  },
  {
   "cell_type": "markdown",
   "id": "5d937b03-8aed-4cd6-8baf-8059870a72bc",
   "metadata": {},
   "source": [
    "#### Example"
   ]
  },
  {
   "cell_type": "code",
   "execution_count": 25,
   "id": "46b518b3-7097-4efd-9710-72724ff36265",
   "metadata": {},
   "outputs": [],
   "source": [
    "days = ['Sun', 'Mon', 'Tue', 'Wed', 'Thu', 'Fri', 'Sat']"
   ]
  },
  {
   "cell_type": "code",
   "execution_count": 26,
   "id": "f8e96bdc-645c-47cf-868f-e48580852a70",
   "metadata": {},
   "outputs": [
    {
     "name": "stdout",
     "output_type": "stream",
     "text": [
      "True\n"
     ]
    }
   ],
   "source": [
    "print('Mon' in days)"
   ]
  },
  {
   "cell_type": "code",
   "execution_count": 27,
   "id": "1b05d290-9312-492b-9978-56a651748032",
   "metadata": {},
   "outputs": [
    {
     "name": "stdout",
     "output_type": "stream",
     "text": [
      "False\n"
     ]
    }
   ],
   "source": [
    "print('Thu' not in days)"
   ]
  },
  {
   "cell_type": "markdown",
   "id": "ec3de2e1-a7a2-443b-83d2-f310b324f8d2",
   "metadata": {},
   "source": [
    "### Largest and Smallest element in a list"
   ]
  },
  {
   "cell_type": "markdown",
   "id": "3410fefd-4475-48e5-9d30-fd31915a5d44",
   "metadata": {},
   "source": [
    "Use *min()* function to find the smallest element in the list.\n",
    "\n",
    "Use *max()* function to find the largest element in the list."
   ]
  },
  {
   "cell_type": "markdown",
   "id": "479b53d7-f948-410b-8408-612f646c7364",
   "metadata": {},
   "source": [
    "#### Example"
   ]
  },
  {
   "cell_type": "code",
   "execution_count": 28,
   "id": "d1681f3e-70b0-47a4-8563-f59d9cd0db76",
   "metadata": {},
   "outputs": [],
   "source": [
    "numbers = [20, 10, 5, 20, 15]"
   ]
  },
  {
   "cell_type": "code",
   "execution_count": 29,
   "id": "e693239c-8eaa-4cdf-9bfd-dc7e20260f32",
   "metadata": {},
   "outputs": [
    {
     "data": {
      "text/plain": [
       "5"
      ]
     },
     "execution_count": 29,
     "metadata": {},
     "output_type": "execute_result"
    }
   ],
   "source": [
    "min(numbers)"
   ]
  },
  {
   "cell_type": "code",
   "execution_count": 30,
   "id": "7de8c5fb-90d7-4337-954d-a0eee0417f5c",
   "metadata": {},
   "outputs": [
    {
     "data": {
      "text/plain": [
       "20"
      ]
     },
     "execution_count": 30,
     "metadata": {},
     "output_type": "execute_result"
    }
   ],
   "source": [
    "max(numbers)"
   ]
  },
  {
   "cell_type": "markdown",
   "id": "340bc93c-9cb6-4607-becc-8937afc46dc9",
   "metadata": {},
   "source": [
    "### Sum of elements of a list"
   ]
  },
  {
   "cell_type": "markdown",
   "id": "4e132e0e-9fbd-4352-9357-eb7f09d159bb",
   "metadata": {},
   "source": [
    "Use *sum()* function to find the sum of all the elements of a list, if the elements are numbers."
   ]
  },
  {
   "cell_type": "markdown",
   "id": "3a7f48ac-a992-4ea6-bfef-d09d9ab5363d",
   "metadata": {},
   "source": [
    "#### Example"
   ]
  },
  {
   "cell_type": "code",
   "execution_count": 31,
   "id": "0bb4df36-54f0-45f2-899e-8a2b5ff7a7e6",
   "metadata": {},
   "outputs": [],
   "source": [
    "numbers = [10, 20, 30, 40]"
   ]
  },
  {
   "cell_type": "code",
   "execution_count": 32,
   "id": "a4fa21d2-4357-4885-9a03-d8971d09c4cd",
   "metadata": {},
   "outputs": [
    {
     "name": "stdout",
     "output_type": "stream",
     "text": [
      "100\n"
     ]
    }
   ],
   "source": [
    "print(sum(numbers))"
   ]
  },
  {
   "cell_type": "markdown",
   "id": "6b10585e-618e-43ef-841f-6581d5fa2f99",
   "metadata": {},
   "source": [
    "### *all()* function"
   ]
  },
  {
   "cell_type": "markdown",
   "id": "e3b24110-b439-4d03-aba2-c1c1d22693c2",
   "metadata": {},
   "source": [
    "Returns *True* if all the elements of the list are **True** or the list is empty."
   ]
  },
  {
   "cell_type": "markdown",
   "id": "3d3083d6-84e2-45b3-af85-2c4c24c220bc",
   "metadata": {},
   "source": [
    "#### Example"
   ]
  },
  {
   "cell_type": "code",
   "execution_count": 33,
   "id": "8d5cb9a6-1b19-43c9-89b0-a25b5220d742",
   "metadata": {},
   "outputs": [],
   "source": [
    "numbers = [1, 2, 3]"
   ]
  },
  {
   "cell_type": "code",
   "execution_count": 34,
   "id": "740dbcb0-4bae-41fd-ad03-b157ca76f93b",
   "metadata": {},
   "outputs": [
    {
     "data": {
      "text/plain": [
       "True"
      ]
     },
     "execution_count": 34,
     "metadata": {},
     "output_type": "execute_result"
    }
   ],
   "source": [
    "all(numbers)"
   ]
  },
  {
   "cell_type": "markdown",
   "id": "ef920c59-ff21-4cdd-90d9-f0337f539cc7",
   "metadata": {},
   "source": [
    "#### Example"
   ]
  },
  {
   "cell_type": "code",
   "execution_count": 35,
   "id": "0e3e05ea-7f60-40ce-b7d9-cb823f7cd4df",
   "metadata": {},
   "outputs": [
    {
     "data": {
      "text/plain": [
       "False"
      ]
     },
     "execution_count": 35,
     "metadata": {},
     "output_type": "execute_result"
    }
   ],
   "source": [
    "all([0, 1, 2, 3])"
   ]
  },
  {
   "cell_type": "markdown",
   "id": "b4d5762f-f369-46d1-9377-197961fa3286",
   "metadata": {},
   "source": [
    "#### Example"
   ]
  },
  {
   "cell_type": "code",
   "execution_count": 36,
   "id": "695bec4a-e552-4d69-8403-1ec80f264921",
   "metadata": {},
   "outputs": [
    {
     "data": {
      "text/plain": [
       "True"
      ]
     },
     "execution_count": 36,
     "metadata": {},
     "output_type": "execute_result"
    }
   ],
   "source": [
    "all([])"
   ]
  },
  {
   "cell_type": "markdown",
   "id": "1894460d-bcdd-4d2d-ab69-8f8b34dc1fd3",
   "metadata": {},
   "source": [
    "### *any()* function"
   ]
  },
  {
   "cell_type": "markdown",
   "id": "2c360ab6-84f9-4e41-903d-196ae472d1e9",
   "metadata": {},
   "source": [
    "Returns *True* if any element of the list is **True**.\n",
    "\n",
    "Returns *False* if the list is empty."
   ]
  },
  {
   "cell_type": "markdown",
   "id": "a7df77b1-7cbf-43dd-90a7-66979a0c0e94",
   "metadata": {},
   "source": [
    "#### Example"
   ]
  },
  {
   "cell_type": "code",
   "execution_count": 37,
   "id": "35d7e01b-5b84-4a5c-8d6e-f36697057526",
   "metadata": {},
   "outputs": [
    {
     "data": {
      "text/plain": [
       "True"
      ]
     },
     "execution_count": 37,
     "metadata": {},
     "output_type": "execute_result"
    }
   ],
   "source": [
    "any([1, 2, 0, 4])"
   ]
  },
  {
   "cell_type": "markdown",
   "id": "9573f9ab-95e1-4773-9003-985493c5e8b2",
   "metadata": {},
   "source": [
    "#### Example"
   ]
  },
  {
   "cell_type": "code",
   "execution_count": 38,
   "id": "ffb59cac-fca4-4623-9570-9486a5ecb69b",
   "metadata": {},
   "outputs": [
    {
     "data": {
      "text/plain": [
       "False"
      ]
     },
     "execution_count": 38,
     "metadata": {},
     "output_type": "execute_result"
    }
   ],
   "source": [
    "any([])"
   ]
  },
  {
   "cell_type": "markdown",
   "id": "751dcacf-5724-445f-9587-a09fd192bfe2",
   "metadata": {},
   "source": [
    "### list() function"
   ]
  },
  {
   "cell_type": "markdown",
   "id": "21608e2d-31b5-4ad6-bd08-47581e8f1404",
   "metadata": {},
   "source": [
    "Converts an iterable to a list."
   ]
  },
  {
   "cell_type": "markdown",
   "id": "984722bb-fe17-413a-846d-f3b341f82f36",
   "metadata": {},
   "source": [
    "#### Example"
   ]
  },
  {
   "cell_type": "code",
   "execution_count": 39,
   "id": "2ef7192d-9a20-4cd1-b3dc-8bf27ca659ef",
   "metadata": {},
   "outputs": [
    {
     "data": {
      "text/plain": [
       "['P', 'y', 't', 'h', 'o', 'n']"
      ]
     },
     "execution_count": 39,
     "metadata": {},
     "output_type": "execute_result"
    }
   ],
   "source": [
    "list(\"Python\")"
   ]
  },
  {
   "cell_type": "markdown",
   "id": "822ab51d-25bd-48bb-83c0-e6a2bc71d8c0",
   "metadata": {},
   "source": [
    "### *sorted()* function"
   ]
  },
  {
   "cell_type": "markdown",
   "id": "1ce0a423-c05b-4d04-958d-5d538e86c5dc",
   "metadata": {},
   "source": [
    "Returns a new sorted list.\n",
    "\n",
    "The original list is not sorted."
   ]
  },
  {
   "cell_type": "markdown",
   "id": "c88fb89b-0d9c-4061-938c-5795ea60d6e2",
   "metadata": {},
   "source": [
    "#### Example"
   ]
  },
  {
   "cell_type": "code",
   "execution_count": 40,
   "id": "3b2db468-a308-4b0e-bd67-5e266fb75175",
   "metadata": {},
   "outputs": [],
   "source": [
    "numbers = [3, 4, 1, 2, 7, 8]"
   ]
  },
  {
   "cell_type": "code",
   "execution_count": 41,
   "id": "cb2cb99e-7858-4670-9034-5ec87491f52f",
   "metadata": {},
   "outputs": [
    {
     "data": {
      "text/plain": [
       "[1, 2, 3, 4, 7, 8]"
      ]
     },
     "execution_count": 41,
     "metadata": {},
     "output_type": "execute_result"
    }
   ],
   "source": [
    "sorted(numbers)"
   ]
  },
  {
   "cell_type": "code",
   "execution_count": 42,
   "id": "1b3c9105-cc3d-43b3-938c-a91acdbae504",
   "metadata": {},
   "outputs": [
    {
     "name": "stdout",
     "output_type": "stream",
     "text": [
      "[3, 4, 1, 2, 7, 8]\n"
     ]
    }
   ],
   "source": [
    "print(numbers)"
   ]
  },
  {
   "cell_type": "markdown",
   "id": "9960ecd1-a0d9-4894-8c1d-3c1a641f2b0b",
   "metadata": {},
   "source": [
    "## List Methods"
   ]
  },
  {
   "cell_type": "code",
   "execution_count": null,
   "id": "b8ae6b72-9354-4347-a8f9-e40cde214f8a",
   "metadata": {},
   "outputs": [],
   "source": []
  }
 ],
 "metadata": {
  "kernelspec": {
   "display_name": "Python 3 (ipykernel)",
   "language": "python",
   "name": "python3"
  },
  "language_info": {
   "codemirror_mode": {
    "name": "ipython",
    "version": 3
   },
   "file_extension": ".py",
   "mimetype": "text/x-python",
   "name": "python",
   "nbconvert_exporter": "python",
   "pygments_lexer": "ipython3",
   "version": "3.11.7"
  }
 },
 "nbformat": 4,
 "nbformat_minor": 5
}
