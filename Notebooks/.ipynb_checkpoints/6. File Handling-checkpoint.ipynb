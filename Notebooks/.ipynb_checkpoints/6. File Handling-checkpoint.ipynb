{
 "cells": [
  {
   "cell_type": "markdown",
   "id": "ddcbbd81",
   "metadata": {
    "id": "ddcbbd81"
   },
   "source": [
    "# Introduction"
   ]
  },
  {
   "cell_type": "markdown",
   "id": "3eed94cf",
   "metadata": {
    "id": "3eed94cf"
   },
   "source": [
    "A file is a collection of data stored on a secondary storage device like hard disk.\n",
    "\n",
    "When there is a huge amount of data to be processed, it is better to combine the data into a file and read the data from a Python program.\n",
    "\n",
    "When a program is being executed, the data is stored in *Random Access Memory* (RAM).\n",
    "\n",
    "CPU can access the data, stored on RAM, faster.\n",
    "\n",
    "RAM is volatile i.e., the data stored on the RAM is lost when a program ends or the computer shuts down.\n",
    "\n",
    "To store the data permanently, non-volatile storage media like hard disk, USB drive, DVD etc. to be used.\n",
    "\n",
    "Data on non-volatile storage media is stored in named locations on the media called files.\n",
    "\n",
    "Think of working with files as working with a notebook:\n",
    "\n",
    "* To use a notebook, first we open the notebook.\n",
    "\n",
    "* Then we can read the existing content or write new content.\n",
    "\n",
    "* After using the notebook, we close it.\n",
    "\n",
    "The above steps can be applied to files as well."
   ]
  },
  {
   "cell_type": "markdown",
   "id": "0846d79e-8e74-4867-9dc2-2f1a007991cf",
   "metadata": {
    "id": "0846d79e-8e74-4867-9dc2-2f1a007991cf"
   },
   "source": [
    "# File path"
   ]
  },
  {
   "cell_type": "markdown",
   "id": "84ffeb84-646a-4fa1-93db-237b32ea683d",
   "metadata": {
    "id": "84ffeb84-646a-4fa1-93db-237b32ea683d"
   },
   "source": [
    "Files are stored on a storage medium like the hard disk.\n",
    "\n",
    "The file system stores the files in a hierarchical (tree) structure.\n",
    "\n",
    "At the top of the tree is one root node.\n",
    "\n",
    "Under the root node, there can be other files and folders (directories).\n",
    "\n",
    "Each folder can contain other files and folders. This can go on to a limitless depth.\n",
    "\n",
    "The type of file is indicated by its extension.\n",
    "\n",
    "Every file is identified by its path that begins from the root node or the root folder.\n",
    "\n",
    "In Windows, the root folder by default is C:\\. However, the root folder can be D:\\\\, E:\\ etc."
   ]
  },
  {
   "cell_type": "markdown",
   "id": "36ee37cd-948c-47a8-992c-87d4288407f9",
   "metadata": {
    "id": "36ee37cd-948c-47a8-992c-87d4288407f9"
   },
   "source": [
    "## Relative Path and Absolute Path"
   ]
  },
  {
   "cell_type": "markdown",
   "id": "024c2ae4-7fce-437b-a1bd-6ac3e211c63e",
   "metadata": {
    "id": "024c2ae4-7fce-437b-a1bd-6ac3e211c63e"
   },
   "source": [
    "A file path can be either *relative* or *absolute*.\n",
    "\n",
    "An absolute path always contains the root node and the complete directory list to specify the exact location of the file.\n",
    "\n",
    "A relative path is specified relative to the program's current working directory."
   ]
  },
  {
   "cell_type": "markdown",
   "id": "c3893243-cb4a-4aea-ae9a-13082f84bc01",
   "metadata": {
    "id": "c3893243-cb4a-4aea-ae9a-13082f84bc01"
   },
   "source": [
    "# Types of Files"
   ]
  },
  {
   "cell_type": "markdown",
   "id": "c19829ef-17b5-4c7a-96fa-cd7808e8f761",
   "metadata": {
    "id": "c19829ef-17b5-4c7a-96fa-cd7808e8f761"
   },
   "source": [
    "Python supports 2 types of files:\n",
    "\n",
    "* text files\n",
    "* binary files"
   ]
  },
  {
   "cell_type": "markdown",
   "id": "2cc3f5e5-fc4f-4b80-abdf-dded537dd1ee",
   "metadata": {
    "id": "2cc3f5e5-fc4f-4b80-abdf-dded537dd1ee"
   },
   "source": [
    "## ASCII Text Files"
   ]
  },
  {
   "cell_type": "markdown",
   "id": "ac25daef-f4bc-4b47-9608-0a3127253f9f",
   "metadata": {
    "id": "ac25daef-f4bc-4b47-9608-0a3127253f9f"
   },
   "source": [
    "A text file is a stream of characters that can be sequentially processed by a computer in forward direction.\n",
    "\n",
    "A text file is usually opened for only one kind operation i.e., reading or writing or appending, at any given time.\n",
    "\n",
    "In a text file, each line contains zero or more characters.\n",
    "\n",
    "In a text file, each line ends with one or more characters that specify the end of line.\n",
    "\n",
    "Each line in a text file can have a maximum of 255 characters.\n",
    "\n",
    "When data is written to a text file, each newline character is converted to a carriage return or line feed character.\n",
    "\n",
    "When data is read from a text file, each carriage return or line feed character is converted to newline character.\n",
    "\n",
    "In a text file, each line of data ends with a newline character. Each file ends with a special character called the end-of-file (EOF) marker."
   ]
  },
  {
   "cell_type": "markdown",
   "id": "6103d3de-a742-479c-b7d6-3c8f55610aa0",
   "metadata": {
    "id": "6103d3de-a742-479c-b7d6-3c8f55610aa0"
   },
   "source": [
    "## Binary Files"
   ]
  },
  {
   "cell_type": "markdown",
   "id": "1bf68025-5cb8-464d-a562-45241133ecf2",
   "metadata": {
    "id": "1bf68025-5cb8-464d-a562-45241133ecf2"
   },
   "source": [
    "A binary file contains any type of data, encoded in binary form.\n",
    "\n",
    "Binary file includes files such as word processing documents, PDFs, images, spreadsheets, videos, zip files, and other executable programs.\n",
    "\n",
    "A binary file is a collection of bytes.\n",
    "\n",
    "While text files can be processed sequentially, binary files can be either processed sequentially or randomly depending on the needs of the application.\n",
    "\n",
    "Binary files takes less space to store the same piece of data as compared to  text files.\n",
    "\n",
    "Text files contain only basic characters and do not store any information about the color, font, and size of the text.\n",
    "\n",
    "Text files can be read by text editors while the binary files can't be."
   ]
  },
  {
   "cell_type": "markdown",
   "id": "186f240c-bebe-4241-8cc3-416647fbfd42",
   "metadata": {
    "id": "186f240c-bebe-4241-8cc3-416647fbfd42"
   },
   "source": [
    "# Opening and Closing Files"
   ]
  },
  {
   "cell_type": "markdown",
   "id": "ad98039c-c604-4c55-9bff-96404ca1400d",
   "metadata": {
    "id": "ad98039c-c604-4c55-9bff-96404ca1400d"
   },
   "source": [
    "## Python functions and methods"
   ]
  },
  {
   "cell_type": "markdown",
   "id": "ba68c436-113f-42e8-ab42-3523c9795385",
   "metadata": {
    "id": "ba68c436-113f-42e8-ab42-3523c9795385"
   },
   "source": [
    "Python has many built-in functions and methods to manipulate files.\n",
    "\n",
    "The built-in functions and methods basically work on a file object."
   ]
  },
  {
   "cell_type": "markdown",
   "id": "7e23fe19-4743-4528-8be5-5881e2e5fce3",
   "metadata": {
    "id": "7e23fe19-4743-4528-8be5-5881e2e5fce3"
   },
   "source": [
    "### The *open()* function"
   ]
  },
  {
   "cell_type": "markdown",
   "id": "fff742ed-8419-4788-8e39-7b80683d49b6",
   "metadata": {
    "id": "fff742ed-8419-4788-8e39-7b80683d49b6"
   },
   "source": [
    "Before reading from or writing to a file, the file must be opened using the *open* function.\n",
    "\n",
    "The function has two parameters:\n",
    "\n",
    "* file_name - a string value that specifies the name of the file to be accessed.\n",
    "\n",
    "* access_mode - the mode in which the file has to be opened i.e., read, write, append etc. The default mode is read.\n",
    "\n",
    "The function returns a file object, which will be used to perform the changes on the file."
   ]
  },
  {
   "cell_type": "markdown",
   "id": "b61cb77b-04f5-449a-98f7-397c4d50ee97",
   "metadata": {
    "id": "b61cb77b-04f5-449a-98f7-397c4d50ee97"
   },
   "source": [
    "#### Example"
   ]
  },
  {
   "cell_type": "code",
   "execution_count": 1,
   "id": "ad02525a-d5ba-47d5-a4b9-0a9085d12414",
   "metadata": {
    "id": "ad02525a-d5ba-47d5-a4b9-0a9085d12414"
   },
   "outputs": [],
   "source": [
    "file = open(\"AboutPython.txt\", 'r')"
   ]
  },
  {
   "cell_type": "code",
   "execution_count": 2,
   "id": "e1e44cff",
   "metadata": {
    "id": "45efd379-e1ad-4241-887b-194fec0be95b"
   },
   "outputs": [
    {
     "name": "stdout",
     "output_type": "stream",
     "text": [
      "<_io.TextIOWrapper name='AboutPython.txt' mode='r' encoding='cp1252'>\n"
     ]
    }
   ],
   "source": [
    "print(file)"
   ]
  },
  {
   "cell_type": "code",
   "execution_count": 3,
   "id": "2e45ceb9-2823-44a4-9c44-e6b09dfcda17",
   "metadata": {
    "id": "2e45ceb9-2823-44a4-9c44-e6b09dfcda17"
   },
   "outputs": [],
   "source": [
    "file.close()"
   ]
  },
  {
   "cell_type": "code",
   "execution_count": 4,
   "id": "9bbccfd2-38d3-477d-ab4a-abd0cbec889d",
   "metadata": {
    "id": "9bbccfd2-38d3-477d-ab4a-abd0cbec889d",
    "outputId": "80143bcd-da82-4585-bc40-7455d50b1c9c"
   },
   "outputs": [
    {
     "name": "stdout",
     "output_type": "stream",
     "text": [
      "<_io.TextIOWrapper name='AboutPython.txt' mode='r' encoding='cp1252'>\n"
     ]
    }
   ],
   "source": [
    "print(file)"
   ]
  },
  {
   "cell_type": "markdown",
   "id": "edafbedd-d777-4ed9-9158-2a06a754920b",
   "metadata": {
    "id": "edafbedd-d777-4ed9-9158-2a06a754920b"
   },
   "source": [
    "#### Access Modes"
   ]
  },
  {
   "cell_type": "markdown",
   "id": "e3454b6c-82d1-4002-8a86-3b7a29b12fc9",
   "metadata": {
    "id": "e3454b6c-82d1-4002-8a86-3b7a29b12fc9"
   },
   "source": [
    "| Mode | Purpose |\n",
    "| ---- | ------- |\n",
    "| r    | Default mode of opening the file. Opens the file for reading only. The file pointer is placed at the beginning of the file. |\n",
    "| rb   | Opens the file for reading only in binary format. The file pointer is placed at the beginning of the file. |\n",
    "| r+   | Opens the file for reading and writing. The file pointer is placed at the beginning of the file. |\n",
    "| rb+  | Opens the file for reading and writing in binary format. The file pointer is placed at the beginning of the file. |\n",
    "| w    | Opens the file for writing only. If the file doesn't exists, a new file is created for writing. If the file already exists and has some data, it is overwritten. |\n",
    "| wb   | Opens the file for writing only in binary format. If the file doesn't exists, a new file is created for writing. If the file already exists and has some data, it is overwritten. |\n",
    "| w+   | Opens the file for reading and writing. If the file doesn't exists, a new file is created for reading and writing. If the file already exists and has some data, it is overwritten. |\n",
    "| wb+  | Opens the file for reading and writing in binary format. If the file doesn't exists, a new file is created for reading and writing. If the file already exists and has some data, it is overwritten. |\n",
    "| a    | Opens the file for appending. The file pointer is placed at the end of the file, if file exists. If the file does not exists, it creates a new file for writing. |\n",
    "| ab   | Opens the file for appending in binary format. The file pointer is placed at the end of the file, if file exists. If the file does not exists, it creates a new file for writing. |\n",
    "| a+   | Opens the file for reading and appending. The file pointer is placed at the end of the file, if file exists. If the file does not exists, it creates a new file for reading and writing. |\n",
    "| ab+  | Opens the file for reading and appending in binary format. The file pointer is placed at the end of the file, if file exists. If the file does not exists, it creates a new file for reading and writing. |"
   ]
  },
  {
   "cell_type": "markdown",
   "id": "9d6dbbe7-82a3-4b88-835c-a965a58b11b0",
   "metadata": {
    "id": "9d6dbbe7-82a3-4b88-835c-a965a58b11b0"
   },
   "source": [
    "### The file object attributes"
   ]
  },
  {
   "cell_type": "markdown",
   "id": "9ba26d2b-068f-4c06-a17c-3c94d253aad1",
   "metadata": {
    "id": "9ba26d2b-068f-4c06-a17c-3c94d253aad1"
   },
   "source": [
    "Once a file is successfully opened, a *file* object is returned.\n",
    "\n",
    "Using the *file* object, the different types of information realted to the file can be accessed."
   ]
  },
  {
   "cell_type": "markdown",
   "id": "2757434f-d874-4daa-b32e-ddf32a4bd472",
   "metadata": {
    "id": "2757434f-d874-4daa-b32e-ddf32a4bd472"
   },
   "source": [
    "#### Example"
   ]
  },
  {
   "cell_type": "code",
   "execution_count": 5,
   "id": "2740e85b-6ce4-4e5e-bec8-58e914d75a65",
   "metadata": {
    "executionInfo": {
     "elapsed": 359,
     "status": "ok",
     "timestamp": 1714713358144,
     "user": {
      "displayName": "Deepak H G",
      "userId": "14706801787550420002"
     },
     "user_tz": -330
    },
    "id": "2740e85b-6ce4-4e5e-bec8-58e914d75a65"
   },
   "outputs": [],
   "source": [
    "file = open(\"AboutPython.txt\", 'r')"
   ]
  },
  {
   "cell_type": "code",
   "execution_count": 6,
   "id": "7d678295-00da-4a24-b108-f71956c61b02",
   "metadata": {
    "id": "7d678295-00da-4a24-b108-f71956c61b02",
    "outputId": "48d154be-5796-40e8-c244-43a93030a30f"
   },
   "outputs": [
    {
     "name": "stdout",
     "output_type": "stream",
     "text": [
      "The name of the file is:  AboutPython.txt\n"
     ]
    }
   ],
   "source": [
    "print(\"The name of the file is: \", file.name)"
   ]
  },
  {
   "cell_type": "code",
   "execution_count": 7,
   "id": "49ce5bab-c752-4095-ba2e-084357b1bb3c",
   "metadata": {
    "id": "49ce5bab-c752-4095-ba2e-084357b1bb3c",
    "outputId": "ac11278f-ae7a-483b-c8f0-4c4336d55fe3"
   },
   "outputs": [
    {
     "name": "stdout",
     "output_type": "stream",
     "text": [
      "The file is closed:  False\n"
     ]
    }
   ],
   "source": [
    "print(\"The file is closed: \", file.closed)"
   ]
  },
  {
   "cell_type": "code",
   "execution_count": 8,
   "id": "5459c376-4314-4954-8894-495cd579c29a",
   "metadata": {
    "id": "5459c376-4314-4954-8894-495cd579c29a",
    "outputId": "8833ba0b-41e9-4013-8e7e-fd621b55698b"
   },
   "outputs": [
    {
     "name": "stdout",
     "output_type": "stream",
     "text": [
      "The file has been opened in  r mode.\n"
     ]
    }
   ],
   "source": [
    "print(\"The file has been opened in \", file.mode, \"mode.\")"
   ]
  },
  {
   "cell_type": "markdown",
   "id": "0d82511d-e756-4c5d-8f95-0d42cb5fdfb2",
   "metadata": {
    "id": "0d82511d-e756-4c5d-8f95-0d42cb5fdfb2"
   },
   "source": [
    "### The *close()* method"
   ]
  },
  {
   "cell_type": "markdown",
   "id": "7226618e-3cc9-4c01-8640-38bb6237b9da",
   "metadata": {
    "id": "7226618e-3cc9-4c01-8640-38bb6237b9da"
   },
   "source": [
    "The *close()* method is used to close the file object.\n",
    "\n",
    "Once a file object is closed, it is not possible to read from or write into the file associated with the file object and results in an error.\n",
    "\n",
    "Open files always stand a chance of corruption and data loss.\n",
    "\n",
    "As a good programming habbit, always explicitly use the *close()* method to close a file."
   ]
  },
  {
   "cell_type": "markdown",
   "id": "7d75941d-ebd3-4664-8ae3-07b0c0226ab0",
   "metadata": {
    "id": "7d75941d-ebd3-4664-8ae3-07b0c0226ab0"
   },
   "source": [
    "#### Example"
   ]
  },
  {
   "cell_type": "code",
   "execution_count": 9,
   "id": "ae623f82-d249-49e9-8d10-ac4d43d9c0be",
   "metadata": {
    "id": "ae623f82-d249-49e9-8d10-ac4d43d9c0be",
    "outputId": "746b0182-f311-4c46-d791-ebb972739912"
   },
   "outputs": [
    {
     "data": {
      "text/plain": [
       "False"
      ]
     },
     "execution_count": 9,
     "metadata": {},
     "output_type": "execute_result"
    }
   ],
   "source": [
    "file.closed"
   ]
  },
  {
   "cell_type": "code",
   "execution_count": 10,
   "id": "db09b91a-19bf-4430-8494-8abfd72326dc",
   "metadata": {
    "id": "db09b91a-19bf-4430-8494-8abfd72326dc"
   },
   "outputs": [],
   "source": [
    "file.close()"
   ]
  },
  {
   "cell_type": "code",
   "execution_count": 11,
   "id": "0275ffd3-b60f-4d59-9d75-0973b79dd09d",
   "metadata": {
    "id": "0275ffd3-b60f-4d59-9d75-0973b79dd09d",
    "outputId": "3f5be8f9-e538-4ea5-acb9-0487bde5eb2e"
   },
   "outputs": [
    {
     "data": {
      "text/plain": [
       "True"
      ]
     },
     "execution_count": 11,
     "metadata": {},
     "output_type": "execute_result"
    }
   ],
   "source": [
    "file.closed"
   ]
  },
  {
   "cell_type": "markdown",
   "id": "uzkNOjLC8L_i",
   "metadata": {
    "id": "uzkNOjLC8L_i"
   },
   "source": [
    "### *write()* method"
   ]
  },
  {
   "cell_type": "markdown",
   "id": "fIyVxkS-89hF",
   "metadata": {
    "id": "fIyVxkS-89hF"
   },
   "source": [
    "The *write()* method is used to write a string to an already opened file.\n",
    "\n",
    "The string can include numbers, special characters, or symbols.\n",
    "\n",
    "While writing data to a file, the *write()* method does not add a new line character to the end of the string."
   ]
  },
  {
   "cell_type": "markdown",
   "id": "WT3eYkx09lQv",
   "metadata": {
    "id": "WT3eYkx09lQv"
   },
   "source": [
    "#### Example"
   ]
  },
  {
   "cell_type": "code",
   "execution_count": 12,
   "id": "w-pvggdh9km7",
   "metadata": {
    "executionInfo": {
     "elapsed": 2,
     "status": "ok",
     "timestamp": 1714714787906,
     "user": {
      "displayName": "Deepak H G",
      "userId": "14706801787550420002"
     },
     "user_tz": -330
    },
    "id": "w-pvggdh9km7"
   },
   "outputs": [],
   "source": [
    "file = open(\"AboutPython.txt\", \"w\")"
   ]
  },
  {
   "cell_type": "code",
   "execution_count": 13,
   "id": "Rfo2zh9b9ztf",
   "metadata": {
    "colab": {
     "base_uri": "https://localhost:8080/"
    },
    "executionInfo": {
     "elapsed": 3,
     "status": "ok",
     "timestamp": 1714714853522,
     "user": {
      "displayName": "Deepak H G",
      "userId": "14706801787550420002"
     },
     "user_tz": -330
    },
    "id": "Rfo2zh9b9ztf",
    "outputId": "c7b79b69-1cf1-43b5-a40f-5494ab26ef3c"
   },
   "outputs": [
    {
     "data": {
      "text/plain": [
       "33"
      ]
     },
     "execution_count": 13,
     "metadata": {},
     "output_type": "execute_result"
    }
   ],
   "source": [
    "file.write(\"Python is a programming language.\")"
   ]
  },
  {
   "cell_type": "code",
   "execution_count": 14,
   "id": "wK1i-k4M-DtI",
   "metadata": {
    "executionInfo": {
     "elapsed": 2,
     "status": "ok",
     "timestamp": 1714714864805,
     "user": {
      "displayName": "Deepak H G",
      "userId": "14706801787550420002"
     },
     "user_tz": -330
    },
    "id": "wK1i-k4M-DtI"
   },
   "outputs": [],
   "source": [
    "file.close()"
   ]
  },
  {
   "cell_type": "markdown",
   "id": "Qg7I-qBi-ble",
   "metadata": {
    "id": "Qg7I-qBi-ble"
   },
   "source": [
    "#### Example"
   ]
  },
  {
   "cell_type": "code",
   "execution_count": 15,
   "id": "EPxoUPCM-Gnh",
   "metadata": {
    "executionInfo": {
     "elapsed": 413,
     "status": "ok",
     "timestamp": 1714714967940,
     "user": {
      "displayName": "Deepak H G",
      "userId": "14706801787550420002"
     },
     "user_tz": -330
    },
    "id": "EPxoUPCM-Gnh"
   },
   "outputs": [],
   "source": [
    "file = open(\"AboutPython.txt\", \"w\")"
   ]
  },
  {
   "cell_type": "code",
   "execution_count": 16,
   "id": "53h5gl1e-ghw",
   "metadata": {
    "colab": {
     "base_uri": "https://localhost:8080/"
    },
    "executionInfo": {
     "elapsed": 358,
     "status": "ok",
     "timestamp": 1714715016055,
     "user": {
      "displayName": "Deepak H G",
      "userId": "14706801787550420002"
     },
     "user_tz": -330
    },
    "id": "53h5gl1e-ghw",
    "outputId": "b30d46e2-9f8b-4926-e214-6dfa790bf468"
   },
   "outputs": [
    {
     "data": {
      "text/plain": [
       "28"
      ]
     },
     "execution_count": 16,
     "metadata": {},
     "output_type": "execute_result"
    }
   ],
   "source": [
    "file.write(\"Python is powerful and fast.\")"
   ]
  },
  {
   "cell_type": "code",
   "execution_count": 17,
   "id": "qRHv3Etm-wkI",
   "metadata": {
    "executionInfo": {
     "elapsed": 2,
     "status": "ok",
     "timestamp": 1714715047546,
     "user": {
      "displayName": "Deepak H G",
      "userId": "14706801787550420002"
     },
     "user_tz": -330
    },
    "id": "qRHv3Etm-wkI"
   },
   "outputs": [],
   "source": [
    "file.close()"
   ]
  },
  {
   "cell_type": "markdown",
   "id": "cKkYBDIL_i5R",
   "metadata": {
    "id": "cKkYBDIL_i5R"
   },
   "source": [
    "### *writelines()* method"
   ]
  },
  {
   "cell_type": "markdown",
   "id": "lq2foCBQ_xPc",
   "metadata": {
    "id": "lq2foCBQ_xPc"
   },
   "source": [
    "The *writelines()* method is used to write a list of strings to a file."
   ]
  },
  {
   "cell_type": "markdown",
   "id": "Ttnezjh5AlxF",
   "metadata": {
    "id": "Ttnezjh5AlxF"
   },
   "source": [
    "#### Example"
   ]
  },
  {
   "cell_type": "code",
   "execution_count": 18,
   "id": "L_30y2UJ-zFM",
   "metadata": {
    "executionInfo": {
     "elapsed": 2,
     "status": "ok",
     "timestamp": 1714715804563,
     "user": {
      "displayName": "Deepak H G",
      "userId": "14706801787550420002"
     },
     "user_tz": -330
    },
    "id": "L_30y2UJ-zFM"
   },
   "outputs": [],
   "source": [
    "lines = ['Python runs everywhere', 'Python is friendly', 'Python is easy to learn', 'Python is open']"
   ]
  },
  {
   "cell_type": "code",
   "execution_count": 19,
   "id": "uPcfXLauBr6g",
   "metadata": {
    "executionInfo": {
     "elapsed": 2,
     "status": "ok",
     "timestamp": 1714715832886,
     "user": {
      "displayName": "Deepak H G",
      "userId": "14706801787550420002"
     },
     "user_tz": -330
    },
    "id": "uPcfXLauBr6g"
   },
   "outputs": [],
   "source": [
    "file = open(\"AboutPython.txt\", \"w\")"
   ]
  },
  {
   "cell_type": "code",
   "execution_count": 20,
   "id": "U_FuaIKKBy0t",
   "metadata": {
    "executionInfo": {
     "elapsed": 2,
     "status": "ok",
     "timestamp": 1714715851562,
     "user": {
      "displayName": "Deepak H G",
      "userId": "14706801787550420002"
     },
     "user_tz": -330
    },
    "id": "U_FuaIKKBy0t"
   },
   "outputs": [],
   "source": [
    "file.writelines(lines)"
   ]
  },
  {
   "cell_type": "code",
   "execution_count": 21,
   "id": "uLYbdh5XB3SF",
   "metadata": {
    "executionInfo": {
     "elapsed": 2,
     "status": "ok",
     "timestamp": 1714715857895,
     "user": {
      "displayName": "Deepak H G",
      "userId": "14706801787550420002"
     },
     "user_tz": -330
    },
    "id": "uLYbdh5XB3SF"
   },
   "outputs": [],
   "source": [
    "file.close()"
   ]
  },
  {
   "cell_type": "markdown",
   "id": "CWBP0QQvCGJM",
   "metadata": {
    "id": "CWBP0QQvCGJM"
   },
   "source": [
    "#### Example"
   ]
  },
  {
   "cell_type": "code",
   "execution_count": 22,
   "id": "TBMtigVMB4_x",
   "metadata": {
    "executionInfo": {
     "elapsed": 384,
     "status": "ok",
     "timestamp": 1714715981477,
     "user": {
      "displayName": "Deepak H G",
      "userId": "14706801787550420002"
     },
     "user_tz": -330
    },
    "id": "TBMtigVMB4_x"
   },
   "outputs": [],
   "source": [
    "lines = ['Python runs everywhere. ', 'Python is friendly. ', 'Python is easy to learn. ',\n",
    "         'Python is open.']\n",
    "\n",
    "file = open(\"AboutPython.txt\", \"w\")\n",
    "\n",
    "file.writelines(lines)\n",
    "\n",
    "file.close()"
   ]
  },
  {
   "cell_type": "markdown",
   "id": "Xji7LjbiCqKh",
   "metadata": {
    "id": "Xji7LjbiCqKh"
   },
   "source": [
    "### *append()* method"
   ]
  },
  {
   "cell_type": "markdown",
   "id": "oaA7vuuzCtQJ",
   "metadata": {
    "id": "oaA7vuuzCtQJ"
   },
   "source": [
    "The *append()* method is used to write more data or append data to a file.\n",
    "\n",
    "To append a file, use 'a' or 'ab' mode depending on whether the file is a text file or binary file.\n",
    "\n",
    "Opening a file in 'w' or 'wb' mode and writing data into it, results in overwriting of the data."
   ]
  },
  {
   "cell_type": "markdown",
   "id": "2fiHkGK8D5hF",
   "metadata": {
    "id": "2fiHkGK8D5hF"
   },
   "source": [
    "#### Example"
   ]
  },
  {
   "cell_type": "code",
   "execution_count": 23,
   "id": "dMB0ERcNCsqt",
   "metadata": {
    "executionInfo": {
     "elapsed": 3,
     "status": "ok",
     "timestamp": 1714716437183,
     "user": {
      "displayName": "Deepak H G",
      "userId": "14706801787550420002"
     },
     "user_tz": -330
    },
    "id": "dMB0ERcNCsqt"
   },
   "outputs": [],
   "source": [
    "file = open(\"AboutPython.txt\", 'a')"
   ]
  },
  {
   "cell_type": "code",
   "execution_count": 24,
   "id": "kFbwT3kLEGOX",
   "metadata": {
    "colab": {
     "base_uri": "https://localhost:8080/"
    },
    "executionInfo": {
     "elapsed": 4,
     "status": "ok",
     "timestamp": 1714716503405,
     "user": {
      "displayName": "Deepak H G",
      "userId": "14706801787550420002"
     },
     "user_tz": -330
    },
    "id": "kFbwT3kLEGOX",
    "outputId": "940d1d6a-da3c-439d-9c79-aa9914e0c1ed"
   },
   "outputs": [
    {
     "data": {
      "text/plain": [
       "38"
      ]
     },
     "execution_count": 24,
     "metadata": {},
     "output_type": "execute_result"
    }
   ],
   "source": [
    "file.write(\"Python is simple yet poweful language.\")"
   ]
  },
  {
   "cell_type": "code",
   "execution_count": 25,
   "id": "epL2JLocEWhw",
   "metadata": {
    "executionInfo": {
     "elapsed": 2,
     "status": "ok",
     "timestamp": 1714716508863,
     "user": {
      "displayName": "Deepak H G",
      "userId": "14706801787550420002"
     },
     "user_tz": -330
    },
    "id": "epL2JLocEWhw"
   },
   "outputs": [],
   "source": [
    "file.close()"
   ]
  },
  {
   "cell_type": "markdown",
   "id": "7C8KBTBlFrpy",
   "metadata": {
    "id": "7C8KBTBlFrpy"
   },
   "source": [
    "### *read()* method"
   ]
  },
  {
   "cell_type": "markdown",
   "id": "nROTzbATFwi0",
   "metadata": {
    "id": "nROTzbATFwi0"
   },
   "source": [
    "The *read()* method is used to read a string from an already opened file.\n",
    "\n",
    "The *read()* method starts reading from the beginning of the file till the end of the file.\n",
    "\n",
    "The *read()* method accepts a parameter, *count*, which is optional and specifies the number of bytes to read from the opened file."
   ]
  },
  {
   "cell_type": "markdown",
   "id": "XkGLSxrpHxwN",
   "metadata": {
    "id": "XkGLSxrpHxwN"
   },
   "source": [
    "#### Example"
   ]
  },
  {
   "cell_type": "code",
   "execution_count": 26,
   "id": "vuN8Sz4qEX7t",
   "metadata": {
    "executionInfo": {
     "elapsed": 362,
     "status": "ok",
     "timestamp": 1714717989757,
     "user": {
      "displayName": "Deepak H G",
      "userId": "14706801787550420002"
     },
     "user_tz": -330
    },
    "id": "vuN8Sz4qEX7t"
   },
   "outputs": [],
   "source": [
    "file = open(\"AboutPython.txt\", 'r')"
   ]
  },
  {
   "cell_type": "code",
   "execution_count": 27,
   "id": "x1dEmsbRH3gq",
   "metadata": {
    "executionInfo": {
     "elapsed": 349,
     "status": "ok",
     "timestamp": 1714717991854,
     "user": {
      "displayName": "Deepak H G",
      "userId": "14706801787550420002"
     },
     "user_tz": -330
    },
    "id": "x1dEmsbRH3gq"
   },
   "outputs": [],
   "source": [
    "text = file.read()"
   ]
  },
  {
   "cell_type": "code",
   "execution_count": 28,
   "id": "ewTfCdmxH8KE",
   "metadata": {
    "colab": {
     "base_uri": "https://localhost:8080/"
    },
    "executionInfo": {
     "elapsed": 2,
     "status": "ok",
     "timestamp": 1714717993301,
     "user": {
      "displayName": "Deepak H G",
      "userId": "14706801787550420002"
     },
     "user_tz": -330
    },
    "id": "ewTfCdmxH8KE",
    "outputId": "38ba5464-6cbd-4976-ae5f-bf15b6c8cb02"
   },
   "outputs": [
    {
     "name": "stdout",
     "output_type": "stream",
     "text": [
      "Python runs everywhere. Python is friendly. Python is easy to learn. Python is open.Python is simple yet poweful language.\n"
     ]
    }
   ],
   "source": [
    "print(text)"
   ]
  },
  {
   "cell_type": "code",
   "execution_count": 29,
   "id": "9wSJSgVcJac_",
   "metadata": {
    "executionInfo": {
     "elapsed": 351,
     "status": "ok",
     "timestamp": 1714718002673,
     "user": {
      "displayName": "Deepak H G",
      "userId": "14706801787550420002"
     },
     "user_tz": -330
    },
    "id": "9wSJSgVcJac_"
   },
   "outputs": [],
   "source": [
    "file.close()"
   ]
  },
  {
   "cell_type": "markdown",
   "id": "iIj4EvvrIEPn",
   "metadata": {
    "id": "iIj4EvvrIEPn"
   },
   "source": [
    "**Note:** Opening a file for reading, that doesn't exists, results in an error."
   ]
  },
  {
   "cell_type": "markdown",
   "id": "d23fe911",
   "metadata": {},
   "source": [
    "#### Example"
   ]
  },
  {
   "cell_type": "code",
   "execution_count": 30,
   "id": "651e4d84",
   "metadata": {},
   "outputs": [
    {
     "ename": "FileNotFoundError",
     "evalue": "[Errno 2] No such file or directory: 'AboutSQL.txt'",
     "output_type": "error",
     "traceback": [
      "\u001b[1;31m---------------------------------------------------------------------------\u001b[0m",
      "\u001b[1;31mFileNotFoundError\u001b[0m                         Traceback (most recent call last)",
      "Cell \u001b[1;32mIn[30], line 1\u001b[0m\n\u001b[1;32m----> 1\u001b[0m file \u001b[38;5;241m=\u001b[39m \u001b[38;5;28;43mopen\u001b[39;49m\u001b[43m(\u001b[49m\u001b[38;5;124;43m\"\u001b[39;49m\u001b[38;5;124;43mAboutSQL.txt\u001b[39;49m\u001b[38;5;124;43m\"\u001b[39;49m\u001b[43m,\u001b[49m\u001b[43m \u001b[49m\u001b[38;5;124;43m'\u001b[39;49m\u001b[38;5;124;43mr\u001b[39;49m\u001b[38;5;124;43m'\u001b[39;49m\u001b[43m)\u001b[49m\n",
      "File \u001b[1;32m~\\AppData\\Roaming\\Python\\Python311\\site-packages\\IPython\\core\\interactiveshell.py:284\u001b[0m, in \u001b[0;36m_modified_open\u001b[1;34m(file, *args, **kwargs)\u001b[0m\n\u001b[0;32m    277\u001b[0m \u001b[38;5;28;01mif\u001b[39;00m file \u001b[38;5;129;01min\u001b[39;00m {\u001b[38;5;241m0\u001b[39m, \u001b[38;5;241m1\u001b[39m, \u001b[38;5;241m2\u001b[39m}:\n\u001b[0;32m    278\u001b[0m     \u001b[38;5;28;01mraise\u001b[39;00m \u001b[38;5;167;01mValueError\u001b[39;00m(\n\u001b[0;32m    279\u001b[0m         \u001b[38;5;124mf\u001b[39m\u001b[38;5;124m\"\u001b[39m\u001b[38;5;124mIPython won\u001b[39m\u001b[38;5;124m'\u001b[39m\u001b[38;5;124mt let you open fd=\u001b[39m\u001b[38;5;132;01m{\u001b[39;00mfile\u001b[38;5;132;01m}\u001b[39;00m\u001b[38;5;124m by default \u001b[39m\u001b[38;5;124m\"\u001b[39m\n\u001b[0;32m    280\u001b[0m         \u001b[38;5;124m\"\u001b[39m\u001b[38;5;124mas it is likely to crash IPython. If you know what you are doing, \u001b[39m\u001b[38;5;124m\"\u001b[39m\n\u001b[0;32m    281\u001b[0m         \u001b[38;5;124m\"\u001b[39m\u001b[38;5;124myou can use builtins\u001b[39m\u001b[38;5;124m'\u001b[39m\u001b[38;5;124m open.\u001b[39m\u001b[38;5;124m\"\u001b[39m\n\u001b[0;32m    282\u001b[0m     )\n\u001b[1;32m--> 284\u001b[0m \u001b[38;5;28;01mreturn\u001b[39;00m \u001b[43mio_open\u001b[49m\u001b[43m(\u001b[49m\u001b[43mfile\u001b[49m\u001b[43m,\u001b[49m\u001b[43m \u001b[49m\u001b[38;5;241;43m*\u001b[39;49m\u001b[43margs\u001b[49m\u001b[43m,\u001b[49m\u001b[43m \u001b[49m\u001b[38;5;241;43m*\u001b[39;49m\u001b[38;5;241;43m*\u001b[39;49m\u001b[43mkwargs\u001b[49m\u001b[43m)\u001b[49m\n",
      "\u001b[1;31mFileNotFoundError\u001b[0m: [Errno 2] No such file or directory: 'AboutSQL.txt'"
     ]
    }
   ],
   "source": [
    "file = open(\"AboutSQL.txt\", 'r')"
   ]
  },
  {
   "cell_type": "markdown",
   "id": "892a64a8",
   "metadata": {},
   "source": [
    "#### Example"
   ]
  },
  {
   "cell_type": "code",
   "execution_count": 46,
   "id": "552ca223",
   "metadata": {},
   "outputs": [],
   "source": [
    "file = open(\"AboutPython.txt\", 'r')"
   ]
  },
  {
   "cell_type": "code",
   "execution_count": 47,
   "id": "8faa8682",
   "metadata": {},
   "outputs": [
    {
     "data": {
      "text/plain": [
       "'Python'"
      ]
     },
     "execution_count": 47,
     "metadata": {},
     "output_type": "execute_result"
    }
   ],
   "source": [
    "file.read(6) # Passing the value for the count parameter"
   ]
  },
  {
   "cell_type": "code",
   "execution_count": 48,
   "id": "7fe06eed",
   "metadata": {},
   "outputs": [],
   "source": [
    "file.close()"
   ]
  },
  {
   "cell_type": "markdown",
   "id": "3e602f2f",
   "metadata": {},
   "source": [
    "### *readline()* method"
   ]
  },
  {
   "cell_type": "markdown",
   "id": "cf2e395b",
   "metadata": {},
   "source": [
    "The *readline()* method is used to read a single line from the file.\n",
    "\n",
    "The *readline()* method returns an empty string when the end of the file has been reached.\n",
    "\n",
    "The *readline()* method returns a string containing only a single newline character when a blank line is encountered in the file."
   ]
  },
  {
   "cell_type": "markdown",
   "id": "9e82c327",
   "metadata": {},
   "source": [
    "#### Example"
   ]
  },
  {
   "cell_type": "code",
   "execution_count": 49,
   "id": "419e0ca6",
   "metadata": {},
   "outputs": [],
   "source": [
    "file = open('AboutPython.txt', 'r')"
   ]
  },
  {
   "cell_type": "code",
   "execution_count": 50,
   "id": "cc38e788",
   "metadata": {},
   "outputs": [
    {
     "data": {
      "text/plain": [
       "'Python runs everywhere. Python is friendly. Python is easy to learn. Python is open.Python is simple yet poweful language.'"
      ]
     },
     "execution_count": 50,
     "metadata": {},
     "output_type": "execute_result"
    }
   ],
   "source": [
    "file.readline()"
   ]
  },
  {
   "cell_type": "code",
   "execution_count": 51,
   "id": "0f65545f",
   "metadata": {},
   "outputs": [
    {
     "data": {
      "text/plain": [
       "''"
      ]
     },
     "execution_count": 51,
     "metadata": {},
     "output_type": "execute_result"
    }
   ],
   "source": [
    "file.readline()"
   ]
  },
  {
   "cell_type": "code",
   "execution_count": 52,
   "id": "2fc8a10b",
   "metadata": {},
   "outputs": [
    {
     "data": {
      "text/plain": [
       "''"
      ]
     },
     "execution_count": 52,
     "metadata": {},
     "output_type": "execute_result"
    }
   ],
   "source": [
    "file.readline()"
   ]
  },
  {
   "cell_type": "code",
   "execution_count": 53,
   "id": "27fb9e5b",
   "metadata": {},
   "outputs": [
    {
     "data": {
      "text/plain": [
       "''"
      ]
     },
     "execution_count": 53,
     "metadata": {},
     "output_type": "execute_result"
    }
   ],
   "source": [
    "file.readline()"
   ]
  },
  {
   "cell_type": "code",
   "execution_count": 54,
   "id": "9604c51f",
   "metadata": {},
   "outputs": [],
   "source": [
    "file.close()"
   ]
  },
  {
   "cell_type": "markdown",
   "id": "a5814e3a",
   "metadata": {},
   "source": [
    "**Note:** After reading a line from the file, the control automatically passes to the next line."
   ]
  },
  {
   "cell_type": "markdown",
   "id": "70e6b6f2",
   "metadata": {},
   "source": [
    "### *readlines()* method"
   ]
  },
  {
   "cell_type": "markdown",
   "id": "a689c066",
   "metadata": {},
   "source": [
    "The *readlines()* method is used to read all the lines in the file."
   ]
  },
  {
   "cell_type": "markdown",
   "id": "de9218c5",
   "metadata": {},
   "source": [
    "#### Example"
   ]
  },
  {
   "cell_type": "code",
   "execution_count": 55,
   "id": "d1434a1a",
   "metadata": {},
   "outputs": [],
   "source": [
    "file = open('AboutPython.txt', 'r')"
   ]
  },
  {
   "cell_type": "code",
   "execution_count": 56,
   "id": "afba867d",
   "metadata": {},
   "outputs": [
    {
     "data": {
      "text/plain": [
       "['Python runs everywhere. Python is friendly. Python is easy to learn. Python is open.Python is simple yet poweful language.']"
      ]
     },
     "execution_count": 56,
     "metadata": {},
     "output_type": "execute_result"
    }
   ],
   "source": [
    "file.readlines()"
   ]
  },
  {
   "cell_type": "code",
   "execution_count": 57,
   "id": "2ca6d7d6",
   "metadata": {},
   "outputs": [],
   "source": [
    "file.close()"
   ]
  },
  {
   "cell_type": "markdown",
   "id": "09880663",
   "metadata": {},
   "source": [
    "### Loop over file object"
   ]
  },
  {
   "cell_type": "markdown",
   "id": "bf1694bf",
   "metadata": {},
   "source": [
    "The efficient way to display a file is to loop over the file object to print every line in it."
   ]
  },
  {
   "cell_type": "markdown",
   "id": "13a1c67b",
   "metadata": {},
   "source": [
    "#### Example"
   ]
  },
  {
   "cell_type": "code",
   "execution_count": 58,
   "id": "97c4478e",
   "metadata": {},
   "outputs": [],
   "source": [
    "file = open('AboutPython.txt', 'r')"
   ]
  },
  {
   "cell_type": "code",
   "execution_count": 59,
   "id": "95de8726",
   "metadata": {},
   "outputs": [
    {
     "name": "stdout",
     "output_type": "stream",
     "text": [
      "Python runs everywhere. Python is friendly. Python is easy to learn. Python is open.Python is simple yet poweful language.\n"
     ]
    }
   ],
   "source": [
    "for line in file:\n",
    "    print(line)"
   ]
  },
  {
   "cell_type": "code",
   "execution_count": 60,
   "id": "beb97946",
   "metadata": {},
   "outputs": [],
   "source": [
    "file.close()"
   ]
  },
  {
   "cell_type": "markdown",
   "id": "07eaa88e",
   "metadata": {},
   "source": [
    "**Note:** All reading methods return an empty string when end-of-file (EOF) is reached."
   ]
  },
  {
   "cell_type": "markdown",
   "id": "74792e7b",
   "metadata": {},
   "source": [
    "### Opening Files using *with* keyword"
   ]
  },
  {
   "cell_type": "markdown",
   "id": "4ff6c215",
   "metadata": {},
   "source": [
    "*with* keyword has the following advantages:\n",
    "\n",
    "* File is properly closed after it is used even if an error occurs during read or write operation.\n",
    "\n",
    "* File is properly closed after it is used even when forgot to close explicitly."
   ]
  },
  {
   "cell_type": "markdown",
   "id": "3724b35d",
   "metadata": {},
   "source": [
    "#### Example"
   ]
  },
  {
   "cell_type": "code",
   "execution_count": 63,
   "id": "ef17ad83",
   "metadata": {},
   "outputs": [
    {
     "name": "stdout",
     "output_type": "stream",
     "text": [
      "Python runs everywhere. Python is friendly. Python is easy to learn. Python is open.Python is simple yet poweful language.\n",
      "\n",
      "Is the file closed?  True\n"
     ]
    }
   ],
   "source": [
    "with open('AboutPython.txt', 'r') as file:\n",
    "    for line in file:\n",
    "        print(line)\n",
    "\n",
    "print()\n",
    "print(\"Is the file closed? \", file.closed)"
   ]
  },
  {
   "cell_type": "markdown",
   "id": "957f0d04",
   "metadata": {},
   "source": [
    "### Splitting words"
   ]
  },
  {
   "cell_type": "markdown",
   "id": "5e4355e4",
   "metadata": {},
   "source": [
    "Splitting a line based on a character."
   ]
  },
  {
   "cell_type": "markdown",
   "id": "874cf28d",
   "metadata": {},
   "source": [
    "#### Example"
   ]
  },
  {
   "cell_type": "code",
   "execution_count": 67,
   "id": "c606ec57",
   "metadata": {},
   "outputs": [
    {
     "name": "stdout",
     "output_type": "stream",
     "text": [
      "Python runs everywhere. Python is friendly. Python is easy to learn. Python is open.Python is simple yet poweful language.\n",
      "\n",
      "['Python', 'runs', 'everywhere.', 'Python', 'is', 'friendly.', 'Python', 'is', 'easy', 'to', 'learn.', 'Python', 'is', 'open.Python', 'is', 'simple', 'yet', 'poweful', 'language.']\n"
     ]
    }
   ],
   "source": [
    "with open(\"AboutPython.txt\", \"r\") as file:\n",
    "    line = file.readline()\n",
    "    \n",
    "    print(line)\n",
    "    \n",
    "    print()\n",
    "    \n",
    "    print(line.split()) # Split by space"
   ]
  },
  {
   "cell_type": "markdown",
   "id": "2f0a2ca3",
   "metadata": {},
   "source": [
    "# File Positions"
   ]
  },
  {
   "cell_type": "markdown",
   "id": "5aafe0cd",
   "metadata": {},
   "source": [
    "The file management system associates a pointer with every file, known as *file pointer*.\n",
    "\n",
    "The *file pointer* facilitates the movement across the file for reading or writing the data.\n",
    "\n",
    "The *file pointer* specifies a location from where the current read or write operation is initiated.\n",
    "\n",
    "Once the read/write operation is completed, the poiter is automatically updated."
   ]
  },
  {
   "cell_type": "markdown",
   "id": "565c3fa3",
   "metadata": {},
   "source": [
    "## Python methods to tell or set the position of the file pointer"
   ]
  },
  {
   "cell_type": "markdown",
   "id": "4b59159e",
   "metadata": {},
   "source": [
    "### *tell()* method"
   ]
  },
  {
   "cell_type": "markdown",
   "id": "932c29e9",
   "metadata": {},
   "source": [
    "The *tell* method tells the current position within the file at which the next read or write operation will occur.\n",
    "\n",
    "It is specified as the number of bytes from the beginning of the file.\n",
    "\n",
    "When a file is opened for reading, the file pointer is positioned at the location 0, which is the beginning of the file."
   ]
  },
  {
   "cell_type": "markdown",
   "id": "1fcd95c9",
   "metadata": {},
   "source": [
    "#### Example"
   ]
  },
  {
   "cell_type": "code",
   "execution_count": 4,
   "id": "8ff13844",
   "metadata": {},
   "outputs": [
    {
     "name": "stdout",
     "output_type": "stream",
     "text": [
      "Position of the file pointer before read:  0\n",
      "Python run\n",
      "Position of the file pointer after reading:  10\n"
     ]
    }
   ],
   "source": [
    "with open(\"AboutPython.txt\", \"r\") as file:\n",
    "    print(\"Position of the file pointer before read: \", file.tell())\n",
    "       \n",
    "    print(file.read(10))\n",
    "    \n",
    "    print(\"Position of the file pointer after reading: \", file.tell())"
   ]
  },
  {
   "cell_type": "markdown",
   "id": "51b504bb",
   "metadata": {},
   "source": [
    "### *seek()* method"
   ]
  },
  {
   "cell_type": "markdown",
   "id": "0ea691fb",
   "metadata": {},
   "source": [
    "The *seek* method is used to set/move the position of the file pointer to a new location.\n",
    "\n",
    "The syntax is *seek(offset, from)*.\n",
    "\n",
    "The *offset* argument indicates the number of bytes to be moved.\n",
    "\n",
    "The *from* argument specifies the reference position from where the bytes are to be moved.\n",
    "\n",
    "| from | Reference Position |\n",
    "| ---- | ------------------ |\n",
    "| 0    | From the beginning of the file |\n",
    "| 1    | From the current position of the file |\n",
    "| 2    | From the end of the file |"
   ]
  },
  {
   "cell_type": "markdown",
   "id": "f772f905",
   "metadata": {},
   "source": [
    "#### Example"
   ]
  },
  {
   "cell_type": "code",
   "execution_count": 15,
   "id": "d85a64d2",
   "metadata": {},
   "outputs": [
    {
     "name": "stdout",
     "output_type": "stream",
     "text": [
      "Position of the file pointer before read:  0\n",
      "Python runs everywhere.\n",
      "Position of the file pointer after seeking:  5\n",
      "n runs everywhere.\n",
      "Position of the file pointer after seeking:  23\n",
      "\n"
     ]
    }
   ],
   "source": [
    "with open(\"AboutPython.txt\", \"r\") as file:\n",
    "    print(\"Position of the file pointer before read: \", file.tell())\n",
    "    \n",
    "    print(file.readline())\n",
    "    \n",
    "    file.seek(5, 0)\n",
    "    \n",
    "    print(\"Position of the file pointer after seeking: \", file.tell())\n",
    "    \n",
    "    print(file.readline())\n",
    "    \n",
    "    file.seek(0, 2)\n",
    "    \n",
    "    print(\"Position of the file pointer after seeking: \", file.tell())\n",
    "    \n",
    "    print(file.readline())"
   ]
  },
  {
   "cell_type": "markdown",
   "id": "6e5897a8",
   "metadata": {},
   "source": [
    "# Renaming and Deleting Files"
   ]
  },
  {
   "cell_type": "code",
   "execution_count": 1,
   "id": "24849372",
   "metadata": {},
   "outputs": [],
   "source": [
    "import os"
   ]
  },
  {
   "cell_type": "markdown",
   "id": "22a190c3",
   "metadata": {},
   "source": [
    "## The *rename()* method"
   ]
  },
  {
   "cell_type": "markdown",
   "id": "99baa13f",
   "metadata": {},
   "source": [
    "The *rename()* method takes 2 arguments: the current file name and the new file name."
   ]
  },
  {
   "cell_type": "markdown",
   "id": "d625fcce",
   "metadata": {},
   "source": [
    "### Example"
   ]
  },
  {
   "cell_type": "code",
   "execution_count": 2,
   "id": "14dd55c2",
   "metadata": {},
   "outputs": [],
   "source": [
    "os.rename(\"AboutPython.txt\", \"About.txt\")"
   ]
  },
  {
   "cell_type": "markdown",
   "id": "8ada241f",
   "metadata": {},
   "source": [
    "## The *remove()* method"
   ]
  },
  {
   "cell_type": "markdown",
   "id": "87c69034",
   "metadata": {},
   "source": [
    "The *remove()* method is used to delete the file(s).\n",
    "\n",
    "The method takes the file name as the argument and deletes that file."
   ]
  },
  {
   "cell_type": "markdown",
   "id": "e3a95d79",
   "metadata": {},
   "source": [
    "### Example"
   ]
  },
  {
   "cell_type": "code",
   "execution_count": 3,
   "id": "7ac02620",
   "metadata": {},
   "outputs": [],
   "source": [
    "os.remove(\"About.txt\")"
   ]
  },
  {
   "cell_type": "code",
   "execution_count": null,
   "id": "5876d330",
   "metadata": {},
   "outputs": [],
   "source": []
  }
 ],
 "metadata": {
  "colab": {
   "provenance": []
  },
  "kernelspec": {
   "display_name": "Python 3 (ipykernel)",
   "language": "python",
   "name": "python3"
  },
  "language_info": {
   "codemirror_mode": {
    "name": "ipython",
    "version": 3
   },
   "file_extension": ".py",
   "mimetype": "text/x-python",
   "name": "python",
   "nbconvert_exporter": "python",
   "pygments_lexer": "ipython3",
   "version": "3.11.7"
  }
 },
 "nbformat": 4,
 "nbformat_minor": 5
}
