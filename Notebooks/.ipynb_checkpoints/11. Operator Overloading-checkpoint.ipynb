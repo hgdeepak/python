{
 "cells": [
  {
   "cell_type": "markdown",
   "id": "990b0745",
   "metadata": {},
   "source": [
    "# Introduction"
   ]
  },
  {
   "cell_type": "markdown",
   "id": "4bc59143",
   "metadata": {},
   "source": [
    "The meaning of operators like +, =, *, /, >, < etc. are pre-defined in any programming language.\n",
    "\n",
    "Programmers use these operators directly on built-in data types to write the programs.\n",
    "\n",
    "These operators do not work for user defined types like objects.\n",
    "\n",
    "Python allows programmers to redefine the meaning of operators when they operate on class objects. This feature is known as operator overloading.\n",
    "\n",
    "Operator overloading allows programmers to extend the meaning of exisitng operators so that in addition to the operation on basic data types, they can also be applied to user-defined data types."
   ]
  },
  {
   "cell_type": "markdown",
   "id": "63aedebb",
   "metadata": {},
   "source": [
    "### Example"
   ]
  },
  {
   "cell_type": "markdown",
   "id": "08ae3918",
   "metadata": {},
   "source": [
    "\\+ operator on integers perform addition operation.\n",
    "\n",
    "\\+ operator on strings perform concatenation.\n",
    "\n",
    "\\+ operator on lists perform merging."
   ]
  },
  {
   "cell_type": "code",
   "execution_count": 3,
   "id": "6b6077d4",
   "metadata": {},
   "outputs": [
    {
     "data": {
      "text/plain": [
       "5"
      ]
     },
     "execution_count": 3,
     "metadata": {},
     "output_type": "execute_result"
    }
   ],
   "source": [
    "2 + 3"
   ]
  },
  {
   "cell_type": "code",
   "execution_count": 4,
   "id": "b1d325eb",
   "metadata": {},
   "outputs": [
    {
     "data": {
      "text/plain": [
       "'Deepak'"
      ]
     },
     "execution_count": 4,
     "metadata": {},
     "output_type": "execute_result"
    }
   ],
   "source": [
    "\"Dee\" + \"pak\""
   ]
  },
  {
   "cell_type": "code",
   "execution_count": 5,
   "id": "8ce3096c",
   "metadata": {},
   "outputs": [
    {
     "data": {
      "text/plain": [
       "[0, 1, 2, 3, 4, 5, 6, 7]"
      ]
     },
     "execution_count": 5,
     "metadata": {},
     "output_type": "execute_result"
    }
   ],
   "source": [
    "[0, 1, 2, 3] + [4, 5, 6, 7]"
   ]
  },
  {
   "cell_type": "markdown",
   "id": "d50d3c56",
   "metadata": {},
   "source": [
    "### Example"
   ]
  },
  {
   "cell_type": "code",
   "execution_count": 10,
   "id": "8334a529",
   "metadata": {},
   "outputs": [],
   "source": [
    "class Person:\n",
    "    def __init__(self):\n",
    "        self.first_name = 'Deepak'\n",
    "        self.las_name = 'Herur'"
   ]
  },
  {
   "cell_type": "code",
   "execution_count": 11,
   "id": "3c560048",
   "metadata": {},
   "outputs": [],
   "source": [
    "deepak = Person()\n",
    "\n",
    "samhithaa = Person()"
   ]
  },
  {
   "cell_type": "code",
   "execution_count": 12,
   "id": "68d714f9",
   "metadata": {},
   "outputs": [
    {
     "data": {
      "text/plain": [
       "(__main__.Person, __main__.Person)"
      ]
     },
     "execution_count": 12,
     "metadata": {},
     "output_type": "execute_result"
    }
   ],
   "source": [
    "type(deepak), type(samhithaa)"
   ]
  },
  {
   "cell_type": "code",
   "execution_count": 13,
   "id": "6092493d",
   "metadata": {},
   "outputs": [
    {
     "ename": "TypeError",
     "evalue": "unsupported operand type(s) for +: 'Person' and 'Person'",
     "output_type": "error",
     "traceback": [
      "\u001b[1;31m---------------------------------------------------------------------------\u001b[0m",
      "\u001b[1;31mTypeError\u001b[0m                                 Traceback (most recent call last)",
      "Cell \u001b[1;32mIn[13], line 1\u001b[0m\n\u001b[1;32m----> 1\u001b[0m \u001b[43mdeepak\u001b[49m\u001b[43m \u001b[49m\u001b[38;5;241;43m+\u001b[39;49m\u001b[43m \u001b[49m\u001b[43msamhithaa\u001b[49m\n",
      "\u001b[1;31mTypeError\u001b[0m: unsupported operand type(s) for +: 'Person' and 'Person'"
     ]
    }
   ],
   "source": [
    "deepak + samhithaa"
   ]
  },
  {
   "cell_type": "markdown",
   "id": "025be98a",
   "metadata": {},
   "source": [
    "## Concept of Operator Overloading"
   ]
  },
  {
   "cell_type": "markdown",
   "id": "621bee60",
   "metadata": {},
   "source": [
    "While evaluating an expression with operators, Python looks at the operands around the operator.\n",
    "\n",
    "If the operands are of built-in types, Python calls a buit-in routine.\n",
    "\n",
    "If the operands are user-defined types, Python checks if the programmer has defined an overloaded operator function.\n",
    "\n",
    "If an overloaded operator function exists, the function is called, otherwise an error is generated."
   ]
  },
  {
   "cell_type": "markdown",
   "id": "6174595d",
   "metadata": {},
   "source": [
    "### Another form of Polymorphism"
   ]
  },
  {
   "cell_type": "markdown",
   "id": "ed0afb3a",
   "metadata": {},
   "source": [
    "Like function overloading, operator overloading is a form of compile-time polymorphism.\n",
    "\n",
    "Operator overloading is commonly known as operator ad hoc polymorphism.\n",
    "\n",
    "Ad hoc polymorphism is a specific case of polymorphism where different operators have different implementations depending on their argument."
   ]
  },
  {
   "cell_type": "markdown",
   "id": "35bf48ff",
   "metadata": {},
   "source": [
    "## Advantage of Operator Overloading"
   ]
  },
  {
   "cell_type": "markdown",
   "id": "55f76646",
   "metadata": {},
   "source": [
    "* With operator overloading, programmers can use the same notations for user-defined types as that of built-in types.\n",
    "\n",
    "* With operator overlaoding, similar syntactic support is provided to user-defined types as that of built-in types.\n",
    "\n",
    "* Operator overloading makes the program clearer."
   ]
  },
  {
   "cell_type": "markdown",
   "id": "dddd272c",
   "metadata": {},
   "source": [
    "# Function name for the Operators"
   ]
  },
  {
   "cell_type": "markdown",
   "id": "ad0085ff",
   "metadata": {},
   "source": [
    "| Operator | Function Name |\n",
    "| -------- | ------------- |\n",
    "| +        | \\_\\_add\\_\\_   |\n",
    "| -        | \\_\\_sub\\_\\_   |\n",
    "| *        | \\_\\_mul\\_\\_   |\n",
    "| /        | \\_\\_truediv\\_\\_ |\n",
    "| **       | \\_\\_pow\\_\\_   |\n",
    "| %        | \\_\\_mod\\_\\_   |\n",
    "| &        | \\_\\_and\\_\\_   |\n",
    "| \\|       | \\_\\_or\\_\\_    |\n",
    "| ~        | \\_\\_invert\\_\\_ |\n",
    "| ^        | \\_\\_xor\\_\\_   |\n",
    "| >        | \\_\\_gt\\_\\_    |\n",
    "| <        | \\_\\_lt\\_\\_    |\n",
    "| >>       | \\_\\_rshift\\_\\_ |\n",
    "| <<       | \\_\\_lshift\\_\\_ |"
   ]
  },
  {
   "cell_type": "markdown",
   "id": "55e8908c",
   "metadata": {},
   "source": [
    "# Implementing Operator Overloading"
   ]
  },
  {
   "cell_type": "markdown",
   "id": "dce29e6b",
   "metadata": {},
   "source": [
    "### Example"
   ]
  },
  {
   "cell_type": "code",
   "execution_count": 14,
   "id": "7342d17d",
   "metadata": {},
   "outputs": [],
   "source": [
    "class Book:\n",
    "    def __init__(self, title = '', price = 0.0):\n",
    "        self.title = title\n",
    "        self.price = price\n",
    "        \n",
    "    def print_details(self):\n",
    "        print(f'Title: {self.title}\\nPrice: {self.price}')\n",
    "        \n",
    "    def __add__(self, another_book):\n",
    "        return self.price + another_book.price"
   ]
  },
  {
   "cell_type": "code",
   "execution_count": 15,
   "id": "94fe03d4",
   "metadata": {},
   "outputs": [],
   "source": [
    "letspython = Book('Let Us Python', 353)\n",
    "\n",
    "python_programming = Book('Python Programming', 535)"
   ]
  },
  {
   "cell_type": "code",
   "execution_count": 19,
   "id": "4b292b55",
   "metadata": {},
   "outputs": [
    {
     "data": {
      "text/plain": [
       "(True, True)"
      ]
     },
     "execution_count": 19,
     "metadata": {},
     "output_type": "execute_result"
    }
   ],
   "source": [
    "isinstance(letspython, Book), isinstance(python_programming, Book)"
   ]
  },
  {
   "cell_type": "code",
   "execution_count": 16,
   "id": "e9323db9",
   "metadata": {},
   "outputs": [
    {
     "data": {
      "text/plain": [
       "888"
      ]
     },
     "execution_count": 16,
     "metadata": {},
     "output_type": "execute_result"
    }
   ],
   "source": [
    "letspython + python_programming"
   ]
  },
  {
   "cell_type": "markdown",
   "id": "b1cf8fa0",
   "metadata": {},
   "source": [
    "# Reverse Adding"
   ]
  },
  {
   "cell_type": "code",
   "execution_count": null,
   "id": "cfd38c74",
   "metadata": {},
   "outputs": [],
   "source": []
  }
 ],
 "metadata": {
  "kernelspec": {
   "display_name": "Python 3 (ipykernel)",
   "language": "python",
   "name": "python3"
  },
  "language_info": {
   "codemirror_mode": {
    "name": "ipython",
    "version": 3
   },
   "file_extension": ".py",
   "mimetype": "text/x-python",
   "name": "python",
   "nbconvert_exporter": "python",
   "pygments_lexer": "ipython3",
   "version": "3.11.7"
  }
 },
 "nbformat": 4,
 "nbformat_minor": 5
}
