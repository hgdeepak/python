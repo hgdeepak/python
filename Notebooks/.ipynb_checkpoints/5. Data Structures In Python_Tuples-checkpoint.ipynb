{
 "cells": [
  {
   "cell_type": "markdown",
   "id": "66bc8b1c",
   "metadata": {},
   "source": [
    "# Tuples"
   ]
  },
  {
   "cell_type": "markdown",
   "id": "f7753ed5",
   "metadata": {},
   "source": [
    "Tuple is another data structure supported by Python.\n",
    "\n",
    "Tuple differs from list in the following ways:\n",
    "\n",
    "* Tuple is a sequence of immutable objects i.e., the values in a tuple cannot be changed.\n",
    "\n",
    "* Tuple uses () to define its elements."
   ]
  },
  {
   "cell_type": "markdown",
   "id": "813d604a",
   "metadata": {},
   "source": [
    "## Creating Tuples"
   ]
  },
  {
   "cell_type": "markdown",
   "id": "d6826d17",
   "metadata": {},
   "source": [
    "To create a tuple, mention the elements within a parentheses, separated by comma."
   ]
  },
  {
   "cell_type": "markdown",
   "id": "86fb3dab",
   "metadata": {},
   "source": [
    "### Example"
   ]
  },
  {
   "cell_type": "code",
   "execution_count": 1,
   "id": "ca2c183b",
   "metadata": {},
   "outputs": [],
   "source": [
    "empty_tuple = ()"
   ]
  },
  {
   "cell_type": "code",
   "execution_count": 2,
   "id": "b2e75ccb",
   "metadata": {},
   "outputs": [
    {
     "data": {
      "text/plain": [
       "tuple"
      ]
     },
     "execution_count": 2,
     "metadata": {},
     "output_type": "execute_result"
    }
   ],
   "source": [
    "type(empty_tuple)"
   ]
  },
  {
   "cell_type": "code",
   "execution_count": 3,
   "id": "eb1314c1",
   "metadata": {},
   "outputs": [
    {
     "name": "stdout",
     "output_type": "stream",
     "text": [
      "()\n"
     ]
    }
   ],
   "source": [
    "print(empty_tuple)"
   ]
  },
  {
   "cell_type": "markdown",
   "id": "f0c989ed",
   "metadata": {},
   "source": [
    "### Example"
   ]
  },
  {
   "cell_type": "code",
   "execution_count": 4,
   "id": "e31d9484",
   "metadata": {},
   "outputs": [],
   "source": [
    "rivers = ('Kaveri', 'Tunga Bhadra', 'Hemavathi', 'Sharavathi', 'Kali')"
   ]
  },
  {
   "cell_type": "code",
   "execution_count": 5,
   "id": "a96c23d9",
   "metadata": {},
   "outputs": [
    {
     "data": {
      "text/plain": [
       "tuple"
      ]
     },
     "execution_count": 5,
     "metadata": {},
     "output_type": "execute_result"
    }
   ],
   "source": [
    "type(rivers)"
   ]
  },
  {
   "cell_type": "code",
   "execution_count": 6,
   "id": "82ce7f83",
   "metadata": {},
   "outputs": [
    {
     "name": "stdout",
     "output_type": "stream",
     "text": [
      "('Kaveri', 'Tunga Bhadra', 'Hemavathi', 'Sharavathi', 'Kali')\n"
     ]
    }
   ],
   "source": [
    "print(rivers)"
   ]
  },
  {
   "cell_type": "markdown",
   "id": "cd97b27a",
   "metadata": {},
   "source": [
    "### Example"
   ]
  },
  {
   "cell_type": "code",
   "execution_count": 7,
   "id": "97db6579",
   "metadata": {},
   "outputs": [],
   "source": [
    "odd_numbers = (1, 3, 5, 7)"
   ]
  },
  {
   "cell_type": "code",
   "execution_count": 8,
   "id": "6c401226",
   "metadata": {},
   "outputs": [
    {
     "data": {
      "text/plain": [
       "tuple"
      ]
     },
     "execution_count": 8,
     "metadata": {},
     "output_type": "execute_result"
    }
   ],
   "source": [
    "type(odd_numbers)"
   ]
  },
  {
   "cell_type": "code",
   "execution_count": 9,
   "id": "3d45bb42",
   "metadata": {},
   "outputs": [
    {
     "name": "stdout",
     "output_type": "stream",
     "text": [
      "(1, 3, 5, 7)\n"
     ]
    }
   ],
   "source": [
    "print(odd_numbers)"
   ]
  },
  {
   "cell_type": "markdown",
   "id": "10eee986",
   "metadata": {},
   "source": [
    "### Example"
   ]
  },
  {
   "cell_type": "code",
   "execution_count": 7,
   "id": "f9b36438",
   "metadata": {},
   "outputs": [],
   "source": [
    "person = ('Samhithaa', 7, 5.2)"
   ]
  },
  {
   "cell_type": "code",
   "execution_count": 8,
   "id": "29f2a0a9",
   "metadata": {},
   "outputs": [
    {
     "data": {
      "text/plain": [
       "tuple"
      ]
     },
     "execution_count": 8,
     "metadata": {},
     "output_type": "execute_result"
    }
   ],
   "source": [
    "type(person)"
   ]
  },
  {
   "cell_type": "code",
   "execution_count": 12,
   "id": "7f16483d",
   "metadata": {},
   "outputs": [
    {
     "name": "stdout",
     "output_type": "stream",
     "text": [
      "('Samhithaa', 7, 5.2)\n"
     ]
    }
   ],
   "source": [
    "print(person)"
   ]
  },
  {
   "cell_type": "markdown",
   "id": "b2798325",
   "metadata": {},
   "source": [
    "### Example - Tuple with a single element"
   ]
  },
  {
   "cell_type": "code",
   "execution_count": 13,
   "id": "0752a9f3",
   "metadata": {},
   "outputs": [],
   "source": [
    "states = ('Karnataka')"
   ]
  },
  {
   "cell_type": "code",
   "execution_count": 14,
   "id": "8384f265",
   "metadata": {},
   "outputs": [
    {
     "data": {
      "text/plain": [
       "int"
      ]
     },
     "execution_count": 14,
     "metadata": {},
     "output_type": "execute_result"
    }
   ],
   "source": [
    "type(states)"
   ]
  },
  {
   "cell_type": "code",
   "execution_count": 11,
   "id": "2d4cfa7f",
   "metadata": {},
   "outputs": [],
   "source": [
    "states = ('Karnataka', )"
   ]
  },
  {
   "cell_type": "code",
   "execution_count": 12,
   "id": "961c0fb5",
   "metadata": {},
   "outputs": [
    {
     "data": {
      "text/plain": [
       "tuple"
      ]
     },
     "execution_count": 12,
     "metadata": {},
     "output_type": "execute_result"
    }
   ],
   "source": [
    "type(states)"
   ]
  },
  {
   "cell_type": "markdown",
   "id": "9dcefb64",
   "metadata": {},
   "source": [
    "**Note:** To create a tuple with a single element, add a comma after the element. Otherwise Python treats the element as an ordinary data type."
   ]
  },
  {
   "cell_type": "markdown",
   "id": "5d1f077f",
   "metadata": {},
   "source": [
    "## Utility of Tuples"
   ]
  },
  {
   "cell_type": "markdown",
   "id": "19c5609c",
   "metadata": {},
   "source": [
    "Tuples are extremely useful for representing records or structures."
   ]
  },
  {
   "cell_type": "markdown",
   "id": "fc08db56",
   "metadata": {},
   "source": [
    "### Example"
   ]
  },
  {
   "cell_type": "code",
   "execution_count": 18,
   "id": "ee064f1f",
   "metadata": {},
   "outputs": [],
   "source": [
    "state = ('Karnataka', 'Bengaluru', 7.71, 1,91,791)"
   ]
  },
  {
   "cell_type": "markdown",
   "id": "76f34441",
   "metadata": {},
   "source": [
    "## Accessing Values in a Tuple"
   ]
  },
  {
   "cell_type": "markdown",
   "id": "146a7700",
   "metadata": {},
   "source": [
    "The elements of a tuple are accessed using the index.\n",
    "\n",
    "The index starts at 0.\n",
    "\n",
    "Operations like slice, concatenate etc. can be performed on a tuple."
   ]
  },
  {
   "cell_type": "markdown",
   "id": "667a47cd",
   "metadata": {},
   "source": [
    "### Example"
   ]
  },
  {
   "cell_type": "code",
   "execution_count": 19,
   "id": "54e7c8e4",
   "metadata": {},
   "outputs": [],
   "source": [
    "months = ('Jan', 'Feb', 'Mar', 'Apr', 'May', 'Jun', 'Jul', 'Aug', 'Sep', 'Oct', 'Nov', 'Dec')"
   ]
  },
  {
   "cell_type": "code",
   "execution_count": 23,
   "id": "8872de14",
   "metadata": {},
   "outputs": [
    {
     "name": "stdout",
     "output_type": "stream",
     "text": [
      "Jan\n"
     ]
    }
   ],
   "source": [
    "print(months[0])"
   ]
  },
  {
   "cell_type": "code",
   "execution_count": 24,
   "id": "c5390d25",
   "metadata": {},
   "outputs": [
    {
     "name": "stdout",
     "output_type": "stream",
     "text": [
      "('Jan', 'Feb', 'Mar')\n"
     ]
    }
   ],
   "source": [
    "print(months[0:3])"
   ]
  },
  {
   "cell_type": "code",
   "execution_count": 25,
   "id": "dfba26f7",
   "metadata": {},
   "outputs": [
    {
     "name": "stdout",
     "output_type": "stream",
     "text": [
      "('Dec', 'Nov', 'Oct', 'Sep', 'Aug', 'Jul', 'Jun', 'May', 'Apr', 'Mar', 'Feb', 'Jan')\n"
     ]
    }
   ],
   "source": [
    "print(months[::-1])"
   ]
  },
  {
   "cell_type": "code",
   "execution_count": 26,
   "id": "f555472c",
   "metadata": {},
   "outputs": [
    {
     "name": "stdout",
     "output_type": "stream",
     "text": [
      "('Jan', 'Mar', 'May', 'Jul', 'Sep', 'Nov')\n"
     ]
    }
   ],
   "source": [
    "print(months[::2])"
   ]
  },
  {
   "cell_type": "code",
   "execution_count": 27,
   "id": "290fb4e9",
   "metadata": {},
   "outputs": [
    {
     "name": "stdout",
     "output_type": "stream",
     "text": [
      "('Mar', 'Apr', 'May', 'Jun', 'Jul', 'Aug', 'Sep')\n"
     ]
    }
   ],
   "source": [
    "summer_season = ('Mar', 'Apr', 'May')\n",
    "\n",
    "rainy_season = ('Jun', 'Jul', 'Aug', 'Sep')\n",
    "\n",
    "print(summer_season + rainy_season)"
   ]
  },
  {
   "cell_type": "markdown",
   "id": "a67ce4dd",
   "metadata": {},
   "source": [
    "## Updating Tuple"
   ]
  },
  {
   "cell_type": "markdown",
   "id": "281a33f5",
   "metadata": {},
   "source": [
    "Tuple is immutable. The values in the tuple cannot be changed."
   ]
  },
  {
   "cell_type": "markdown",
   "id": "97244d7a",
   "metadata": {},
   "source": [
    "## Deleting Elements in Tuple"
   ]
  },
  {
   "cell_type": "markdown",
   "id": "acdf1f42",
   "metadata": {},
   "source": [
    "Tuple is immutable. The values in the tuple cannot be deleted.\n",
    "\n",
    "Create a new tuple from the existing tuple by selecting only the required elements.\n",
    "\n",
    "However, the entire tuple can be deleted using the *del* statement."
   ]
  },
  {
   "cell_type": "markdown",
   "id": "3617bab4",
   "metadata": {},
   "source": [
    "### Example"
   ]
  },
  {
   "cell_type": "code",
   "execution_count": 28,
   "id": "c99f9967",
   "metadata": {},
   "outputs": [],
   "source": [
    "programming_languages = ('C', 'C++', 'Python', 'JavaScript', 'SQL', 'JAVA')"
   ]
  },
  {
   "cell_type": "code",
   "execution_count": 29,
   "id": "b1865470",
   "metadata": {},
   "outputs": [
    {
     "name": "stdout",
     "output_type": "stream",
     "text": [
      "('Python', 'JavaScript', 'SQL')\n"
     ]
    }
   ],
   "source": [
    "my_favourite_languages = programming_languages[2:5]\n",
    "\n",
    "print(my_favourite_languages)"
   ]
  },
  {
   "cell_type": "markdown",
   "id": "4d2071ac",
   "metadata": {},
   "source": [
    "### Example"
   ]
  },
  {
   "cell_type": "code",
   "execution_count": 15,
   "id": "a7ae70f8",
   "metadata": {},
   "outputs": [],
   "source": [
    "my_favourite_languages = ('Python', 'JavaScript', 'SQL')"
   ]
  },
  {
   "cell_type": "code",
   "execution_count": 16,
   "id": "e7f72026",
   "metadata": {},
   "outputs": [],
   "source": [
    "del my_favourite_languages"
   ]
  },
  {
   "cell_type": "code",
   "execution_count": 17,
   "id": "9f2df812",
   "metadata": {},
   "outputs": [
    {
     "ename": "NameError",
     "evalue": "name 'my_favourite_languages' is not defined",
     "output_type": "error",
     "traceback": [
      "\u001b[1;31m---------------------------------------------------------------------------\u001b[0m",
      "\u001b[1;31mNameError\u001b[0m                                 Traceback (most recent call last)",
      "Cell \u001b[1;32mIn[17], line 1\u001b[0m\n\u001b[1;32m----> 1\u001b[0m \u001b[38;5;28mprint\u001b[39m(\u001b[43mmy_favourite_languages\u001b[49m)\n",
      "\u001b[1;31mNameError\u001b[0m: name 'my_favourite_languages' is not defined"
     ]
    }
   ],
   "source": [
    "print(my_favourite_languages)"
   ]
  },
  {
   "cell_type": "markdown",
   "id": "ed0ae69d",
   "metadata": {},
   "source": [
    "## Basic Tuple Operations"
   ]
  },
  {
   "cell_type": "markdown",
   "id": "6d79c0cc",
   "metadata": {},
   "source": [
    "### Length of a tuple"
   ]
  },
  {
   "cell_type": "code",
   "execution_count": 33,
   "id": "97aa184b",
   "metadata": {},
   "outputs": [
    {
     "name": "stdout",
     "output_type": "stream",
     "text": [
      "6\n"
     ]
    }
   ],
   "source": [
    "programming_languages = ('C', 'C++', 'Python', 'JavaScript', 'SQL', 'JAVA')\n",
    "\n",
    "print(len(programming_languages))"
   ]
  },
  {
   "cell_type": "markdown",
   "id": "50762b44",
   "metadata": {},
   "source": [
    "### Concatenation"
   ]
  },
  {
   "cell_type": "code",
   "execution_count": 34,
   "id": "6554d6c5",
   "metadata": {},
   "outputs": [
    {
     "name": "stdout",
     "output_type": "stream",
     "text": [
      "('Mar', 'Apr', 'May', 'Jun', 'Jul', 'Aug', 'Sep')\n"
     ]
    }
   ],
   "source": [
    "summer_season = ('Mar', 'Apr', 'May')\n",
    "\n",
    "rainy_season = ('Jun', 'Jul', 'Aug', 'Sep')\n",
    "\n",
    "print(summer_season + rainy_season)"
   ]
  },
  {
   "cell_type": "markdown",
   "id": "feb9b13f",
   "metadata": {},
   "source": [
    "### Repetition"
   ]
  },
  {
   "cell_type": "code",
   "execution_count": 35,
   "id": "f3ac1e09",
   "metadata": {},
   "outputs": [
    {
     "name": "stdout",
     "output_type": "stream",
     "text": [
      "('Python', 'JavaScript', 'SQL', 'Python', 'JavaScript', 'SQL', 'Python', 'JavaScript', 'SQL')\n"
     ]
    }
   ],
   "source": [
    "my_favourite_languages = ('Python', 'JavaScript', 'SQL')\n",
    "\n",
    "print(my_favourite_languages * 3)"
   ]
  },
  {
   "cell_type": "markdown",
   "id": "dcd14fb4",
   "metadata": {},
   "source": [
    "### Membership"
   ]
  },
  {
   "cell_type": "code",
   "execution_count": 36,
   "id": "d80c828e",
   "metadata": {},
   "outputs": [],
   "source": [
    "months = ('Jan', 'Feb', 'Mar', 'Apr', 'May', 'Jun', 'Jul', 'Aug', 'Sep', 'Oct', 'Nov', 'Dec')"
   ]
  },
  {
   "cell_type": "code",
   "execution_count": 37,
   "id": "252f15a5",
   "metadata": {},
   "outputs": [
    {
     "name": "stdout",
     "output_type": "stream",
     "text": [
      "True\n"
     ]
    }
   ],
   "source": [
    "print('Jan' in months)"
   ]
  },
  {
   "cell_type": "code",
   "execution_count": 38,
   "id": "1e705db5",
   "metadata": {},
   "outputs": [
    {
     "name": "stdout",
     "output_type": "stream",
     "text": [
      "False\n"
     ]
    }
   ],
   "source": [
    "print('March' in months)"
   ]
  },
  {
   "cell_type": "markdown",
   "id": "7f243156",
   "metadata": {},
   "source": [
    "### Iteration"
   ]
  },
  {
   "cell_type": "code",
   "execution_count": 39,
   "id": "22c7d76f",
   "metadata": {},
   "outputs": [],
   "source": [
    "my_favourite_languages = ('Python', 'JavaScript', 'SQL')"
   ]
  },
  {
   "cell_type": "code",
   "execution_count": 40,
   "id": "fd741698",
   "metadata": {},
   "outputs": [
    {
     "name": "stdout",
     "output_type": "stream",
     "text": [
      "Python\n",
      "JavaScript\n",
      "SQL\n"
     ]
    }
   ],
   "source": [
    "for lang in my_favourite_languages:\n",
    "    print(lang)"
   ]
  },
  {
   "cell_type": "markdown",
   "id": "cdd2e013",
   "metadata": {},
   "source": [
    "### Comparison"
   ]
  },
  {
   "cell_type": "markdown",
   "id": "259d6030",
   "metadata": {},
   "source": [
    "Tuples are compared lexicographically i.e., compared elementwise.\n",
    "\n",
    "The first element from the first tuple is compared with the first element from the second tuple and so on.\n",
    "\n",
    "Sometimes the first comparison is enough to conclude the result but if it is not then the tuples are compared further until all the elements are compared"
   ]
  },
  {
   "cell_type": "markdown",
   "id": "282acc72",
   "metadata": {},
   "source": [
    "#### Example"
   ]
  },
  {
   "cell_type": "code",
   "execution_count": 50,
   "id": "88860161",
   "metadata": {},
   "outputs": [
    {
     "data": {
      "text/plain": [
       "True"
      ]
     },
     "execution_count": 50,
     "metadata": {},
     "output_type": "execute_result"
    }
   ],
   "source": [
    "(2, 4, 6) > (1, 3, 5)"
   ]
  },
  {
   "cell_type": "code",
   "execution_count": 51,
   "id": "1d78f301",
   "metadata": {},
   "outputs": [
    {
     "data": {
      "text/plain": [
       "True"
      ]
     },
     "execution_count": 51,
     "metadata": {},
     "output_type": "execute_result"
    }
   ],
   "source": [
    "(2, 4, 6) > (1, 300, 5)"
   ]
  },
  {
   "cell_type": "code",
   "execution_count": 53,
   "id": "4327c139",
   "metadata": {},
   "outputs": [
    {
     "data": {
      "text/plain": [
       "False"
      ]
     },
     "execution_count": 53,
     "metadata": {},
     "output_type": "execute_result"
    }
   ],
   "source": [
    "(2, 4, 6) > (100, 3, 5)"
   ]
  },
  {
   "cell_type": "markdown",
   "id": "82b602ea",
   "metadata": {},
   "source": [
    "### Maximum value in a tuple"
   ]
  },
  {
   "cell_type": "code",
   "execution_count": 44,
   "id": "0eded6e8",
   "metadata": {},
   "outputs": [],
   "source": [
    "years = (2000, 2012, 2014, 2024)"
   ]
  },
  {
   "cell_type": "code",
   "execution_count": 45,
   "id": "0261bd30",
   "metadata": {},
   "outputs": [
    {
     "name": "stdout",
     "output_type": "stream",
     "text": [
      "2024\n"
     ]
    }
   ],
   "source": [
    "print(max(years))"
   ]
  },
  {
   "cell_type": "markdown",
   "id": "be9fe960",
   "metadata": {},
   "source": [
    "### Minimum value in a tuple"
   ]
  },
  {
   "cell_type": "code",
   "execution_count": 46,
   "id": "299f4417",
   "metadata": {},
   "outputs": [
    {
     "name": "stdout",
     "output_type": "stream",
     "text": [
      "2000\n"
     ]
    }
   ],
   "source": [
    "print(min(years))"
   ]
  },
  {
   "cell_type": "markdown",
   "id": "304d540d",
   "metadata": {},
   "source": [
    "### Convert to Tuple"
   ]
  },
  {
   "cell_type": "code",
   "execution_count": 47,
   "id": "918b7a55",
   "metadata": {},
   "outputs": [],
   "source": [
    "favourite_colour = 'Lavender'"
   ]
  },
  {
   "cell_type": "code",
   "execution_count": 48,
   "id": "9c363f44",
   "metadata": {},
   "outputs": [
    {
     "name": "stdout",
     "output_type": "stream",
     "text": [
      "('L', 'a', 'v', 'e', 'n', 'd', 'e', 'r')\n"
     ]
    }
   ],
   "source": [
    "print(tuple(favourite_colour))"
   ]
  },
  {
   "cell_type": "markdown",
   "id": "48d4ce9d",
   "metadata": {},
   "source": [
    "## Tuple Assignment"
   ]
  },
  {
   "cell_type": "markdown",
   "id": "8c168ad3",
   "metadata": {},
   "source": [
    "A tuple of variables on the left side of the assignment operator is assigned values from a tuple on the right side of the assignment operator.\n",
    "\n",
    "Each value is assigned to its respective variable."
   ]
  },
  {
   "cell_type": "markdown",
   "id": "ca59077f",
   "metadata": {},
   "source": [
    "### Example"
   ]
  },
  {
   "cell_type": "code",
   "execution_count": 54,
   "id": "43c89a55",
   "metadata": {},
   "outputs": [],
   "source": [
    "(name, course, semester) = ('Saathvik', 'AIML', 3)"
   ]
  },
  {
   "cell_type": "code",
   "execution_count": 55,
   "id": "01c7d690",
   "metadata": {},
   "outputs": [
    {
     "name": "stdout",
     "output_type": "stream",
     "text": [
      "Name: Saathvik \t Course: AIML \t Semester: 3\n"
     ]
    }
   ],
   "source": [
    "print(f'Name: {name} \\t Course: {course} \\t Semester: {semester}')"
   ]
  },
  {
   "cell_type": "markdown",
   "id": "20771485",
   "metadata": {},
   "source": [
    "### Example"
   ]
  },
  {
   "cell_type": "code",
   "execution_count": 18,
   "id": "c178ebf9",
   "metadata": {},
   "outputs": [
    {
     "ename": "ValueError",
     "evalue": "not enough values to unpack (expected 3, got 2)",
     "output_type": "error",
     "traceback": [
      "\u001b[1;31m---------------------------------------------------------------------------\u001b[0m",
      "\u001b[1;31mValueError\u001b[0m                                Traceback (most recent call last)",
      "Cell \u001b[1;32mIn[18], line 1\u001b[0m\n\u001b[1;32m----> 1\u001b[0m (name, course, semester) \u001b[38;5;241m=\u001b[39m (\u001b[38;5;124m'\u001b[39m\u001b[38;5;124mSaathvik\u001b[39m\u001b[38;5;124m'\u001b[39m, \u001b[38;5;124m'\u001b[39m\u001b[38;5;124mAIML\u001b[39m\u001b[38;5;124m'\u001b[39m)\n",
      "\u001b[1;31mValueError\u001b[0m: not enough values to unpack (expected 3, got 2)"
     ]
    }
   ],
   "source": [
    "(name, course, semester) = ('Saathvik', 'AIML')"
   ]
  },
  {
   "cell_type": "markdown",
   "id": "7a677d2b",
   "metadata": {},
   "source": [
    "**Note:** While assigning values to a tuple ensure that number of values on both the sides of the assignment operator are same. Otherwise an error will be generated."
   ]
  },
  {
   "cell_type": "markdown",
   "id": "9136d189",
   "metadata": {},
   "source": [
    "## Tuples for Returning Multiple Values"
   ]
  },
  {
   "cell_type": "markdown",
   "id": "5c8046e4",
   "metadata": {},
   "source": [
    "A function can return only a single value.\n",
    "\n",
    "To return more than one value from a function, group multiple values together and return."
   ]
  },
  {
   "cell_type": "markdown",
   "id": "c864c4bd",
   "metadata": {},
   "source": [
    "### Example"
   ]
  },
  {
   "cell_type": "code",
   "execution_count": 56,
   "id": "1cbb3438",
   "metadata": {},
   "outputs": [],
   "source": [
    "def get_min_max_average(*marks):\n",
    "    min_marks = min(marks)\n",
    "\n",
    "    max_marks = max(marks)\n",
    "\n",
    "    total = sum(marks)\n",
    "\n",
    "    average = sum(marks)/len(marks)\n",
    "\n",
    "    return (min_marks, max_marks, total, average)"
   ]
  },
  {
   "cell_type": "code",
   "execution_count": 57,
   "id": "a0b681be",
   "metadata": {},
   "outputs": [],
   "source": [
    "minimum, maximum, total, average = get_min_max_average(70, 84, 75, 57, 55, 61)"
   ]
  },
  {
   "cell_type": "code",
   "execution_count": 58,
   "id": "3917ca73",
   "metadata": {},
   "outputs": [
    {
     "name": "stdout",
     "output_type": "stream",
     "text": [
      "Minimum = 55 \t Maximum = 84 \t Total = 402 \t Average = 67.0\n"
     ]
    }
   ],
   "source": [
    "print(f\"Minimum = {minimum} \\t Maximum = {maximum} \\t Total = {total} \\t Average = {average}\")"
   ]
  },
  {
   "cell_type": "markdown",
   "id": "3a15d146",
   "metadata": {},
   "source": [
    "## Nested Tuples"
   ]
  },
  {
   "cell_type": "markdown",
   "id": "462dbf4c",
   "metadata": {},
   "source": [
    "A tuple defined inside another tuple is called a nested tuple."
   ]
  },
  {
   "cell_type": "markdown",
   "id": "26f96504",
   "metadata": {},
   "source": [
    "### Example"
   ]
  },
  {
   "cell_type": "code",
   "execution_count": 1,
   "id": "af8a262f",
   "metadata": {},
   "outputs": [],
   "source": [
    "student = ('Samhithaa', 'CSE', (95, 85, 90, 95, 90)) # Student and her marks"
   ]
  },
  {
   "cell_type": "code",
   "execution_count": 2,
   "id": "a396f244",
   "metadata": {},
   "outputs": [
    {
     "name": "stdout",
     "output_type": "stream",
     "text": [
      "('Samhithaa', 'CSE', (95, 85, 90, 95, 90))\n"
     ]
    }
   ],
   "source": [
    "print(student)"
   ]
  },
  {
   "cell_type": "markdown",
   "id": "8150e68b",
   "metadata": {},
   "source": [
    "### Example - List in a tuple"
   ]
  },
  {
   "cell_type": "code",
   "execution_count": 3,
   "id": "90abbf23",
   "metadata": {},
   "outputs": [],
   "source": [
    "student = ('Saathvik', 'AIML', [95, 95, 90, 95, 90]) # Student and his marks"
   ]
  },
  {
   "cell_type": "code",
   "execution_count": 4,
   "id": "baacfb4b",
   "metadata": {},
   "outputs": [
    {
     "name": "stdout",
     "output_type": "stream",
     "text": [
      "('Saathvik', 'AIML', [95, 95, 90, 95, 90])\n"
     ]
    }
   ],
   "source": [
    "print(student)"
   ]
  },
  {
   "cell_type": "markdown",
   "id": "239c8d2d",
   "metadata": {},
   "source": [
    "## Tuple Methods"
   ]
  },
  {
   "cell_type": "markdown",
   "id": "e6192d5d",
   "metadata": {},
   "source": [
    "### *index()* method"
   ]
  },
  {
   "cell_type": "markdown",
   "id": "f01098d5",
   "metadata": {},
   "source": [
    "The index of an element in the tuple can be obtained using the *index()* method.\n",
    "\n",
    "An error is generated, if the element is not found in the tuple."
   ]
  },
  {
   "cell_type": "markdown",
   "id": "3db0feb0",
   "metadata": {},
   "source": [
    "#### Example"
   ]
  },
  {
   "cell_type": "code",
   "execution_count": 5,
   "id": "3eeec923",
   "metadata": {},
   "outputs": [],
   "source": [
    "colours = ('Violet', 'Indigo', 'Blue', 'Green', 'Yellow', 'Orange', 'Red')"
   ]
  },
  {
   "cell_type": "code",
   "execution_count": 7,
   "id": "9821dbf0",
   "metadata": {},
   "outputs": [
    {
     "name": "stdout",
     "output_type": "stream",
     "text": [
      "4\n"
     ]
    }
   ],
   "source": [
    "print(colours.index('Yellow'))"
   ]
  },
  {
   "cell_type": "code",
   "execution_count": 8,
   "id": "17948449",
   "metadata": {},
   "outputs": [
    {
     "ename": "ValueError",
     "evalue": "tuple.index(x): x not in tuple",
     "output_type": "error",
     "traceback": [
      "\u001b[1;31m---------------------------------------------------------------------------\u001b[0m",
      "\u001b[1;31mValueError\u001b[0m                                Traceback (most recent call last)",
      "Cell \u001b[1;32mIn[8], line 1\u001b[0m\n\u001b[1;32m----> 1\u001b[0m \u001b[38;5;28mprint\u001b[39m(\u001b[43mcolours\u001b[49m\u001b[38;5;241;43m.\u001b[39;49m\u001b[43mindex\u001b[49m\u001b[43m(\u001b[49m\u001b[38;5;124;43m'\u001b[39;49m\u001b[38;5;124;43mWhite\u001b[39;49m\u001b[38;5;124;43m'\u001b[39;49m\u001b[43m)\u001b[49m)\n",
      "\u001b[1;31mValueError\u001b[0m: tuple.index(x): x not in tuple"
     ]
    }
   ],
   "source": [
    "print(colours.index('White'))"
   ]
  },
  {
   "cell_type": "markdown",
   "id": "a009016b",
   "metadata": {},
   "source": [
    "### *count()* method"
   ]
  },
  {
   "cell_type": "markdown",
   "id": "50bff49e",
   "metadata": {},
   "source": [
    "The *count()* method is used to get the number of times an element is present in a tuple."
   ]
  },
  {
   "cell_type": "markdown",
   "id": "5200d6cf",
   "metadata": {},
   "source": [
    "#### Example"
   ]
  },
  {
   "cell_type": "code",
   "execution_count": 19,
   "id": "c90371c9",
   "metadata": {},
   "outputs": [],
   "source": [
    "message = 'an apple a day keeps the doctor away'"
   ]
  },
  {
   "cell_type": "code",
   "execution_count": 20,
   "id": "0d5d1d38",
   "metadata": {},
   "outputs": [],
   "source": [
    "message = tuple(message)"
   ]
  },
  {
   "cell_type": "code",
   "execution_count": 22,
   "id": "0cf55ec7",
   "metadata": {},
   "outputs": [
    {
     "name": "stdout",
     "output_type": "stream",
     "text": [
      "('a', 'n', ' ', 'a', 'p', 'p', 'l', 'e', ' ', 'a', ' ', 'd', 'a', 'y', ' ', 'k', 'e', 'e', 'p', 's', ' ', 't', 'h', 'e', ' ', 'd', 'o', 'c', 't', 'o', 'r', ' ', 'a', 'w', 'a', 'y')\n"
     ]
    }
   ],
   "source": [
    "print(message)"
   ]
  },
  {
   "cell_type": "code",
   "execution_count": 11,
   "id": "c9ba5c6b",
   "metadata": {},
   "outputs": [
    {
     "name": "stdout",
     "output_type": "stream",
     "text": [
      "6\n"
     ]
    }
   ],
   "source": [
    "print(message.count('a'))"
   ]
  },
  {
   "cell_type": "markdown",
   "id": "65e35ef7",
   "metadata": {},
   "source": [
    "## List Comprehension and Tuples"
   ]
  },
  {
   "cell_type": "markdown",
   "id": "19629cd8",
   "metadata": {},
   "source": [
    "### Example"
   ]
  },
  {
   "cell_type": "code",
   "execution_count": 17,
   "id": "425de1f9",
   "metadata": {},
   "outputs": [],
   "source": [
    "numbers = (1, 2, 3, 4, 5)\n",
    "\n",
    "double = ([x * 2 for x in numbers])"
   ]
  },
  {
   "cell_type": "code",
   "execution_count": 18,
   "id": "6e21c68d",
   "metadata": {},
   "outputs": [
    {
     "name": "stdout",
     "output_type": "stream",
     "text": [
      "[2, 4, 6, 8, 10]\n"
     ]
    }
   ],
   "source": [
    "print(double)"
   ]
  },
  {
   "cell_type": "markdown",
   "id": "f29c3240",
   "metadata": {},
   "source": [
    "## The *zip()* function"
   ]
  },
  {
   "cell_type": "markdown",
   "id": "f5e84f93",
   "metadata": {},
   "source": [
    "*zip()* is a built-in function that takes two or more sequences and \"zips\" them into a list of tuples.\n",
    "\n",
    "The tuple formed, has one element from each sequence."
   ]
  },
  {
   "cell_type": "markdown",
   "id": "036e5f65",
   "metadata": {},
   "source": [
    "### Example"
   ]
  },
  {
   "cell_type": "code",
   "execution_count": 24,
   "id": "ee973866",
   "metadata": {},
   "outputs": [
    {
     "name": "stdout",
     "output_type": "stream",
     "text": [
      "[(0, 'a'), (1, 'e'), (2, 'i'), (3, 'o'), (4, 'u')]\n"
     ]
    }
   ],
   "source": [
    "numbers = (0, 1, 2, 3, 4)\n",
    "\n",
    "vowels = ('a', 'e', 'i', 'o', 'u')\n",
    "\n",
    "zipped = zip(numbers, vowels)\n",
    "\n",
    "print(list(zipped))"
   ]
  },
  {
   "cell_type": "markdown",
   "id": "86f21de4",
   "metadata": {},
   "source": [
    "### Example - Sequences of unequal length"
   ]
  },
  {
   "cell_type": "code",
   "execution_count": 21,
   "id": "7f359a5b",
   "metadata": {},
   "outputs": [
    {
     "name": "stdout",
     "output_type": "stream",
     "text": [
      "[(0, 'a'), (1, 'e'), (2, 'i'), (3, 'o'), (4, 'u')]\n"
     ]
    }
   ],
   "source": [
    "numbers = (0, 1, 2, 3, 4, 5)\n",
    "\n",
    "vowels = ('a', 'e', 'i', 'o', 'u')\n",
    "\n",
    "print(list(zip(numbers, vowels))) "
   ]
  },
  {
   "cell_type": "markdown",
   "id": "c751681c",
   "metadata": {},
   "source": [
    "**Note:** Result has the length of the shorter sequence."
   ]
  },
  {
   "cell_type": "markdown",
   "id": "1d9b3f9e",
   "metadata": {},
   "source": [
    "## Looping in Tuples"
   ]
  },
  {
   "cell_type": "markdown",
   "id": "632a2486",
   "metadata": {},
   "source": [
    "### Example"
   ]
  },
  {
   "cell_type": "code",
   "execution_count": 25,
   "id": "7fd37dd1",
   "metadata": {},
   "outputs": [
    {
     "name": "stdout",
     "output_type": "stream",
     "text": [
      "a\n",
      "e\n",
      "i\n",
      "o\n",
      "u\n"
     ]
    }
   ],
   "source": [
    "vowels = ('a', 'e', 'i', 'o', 'u')\n",
    "\n",
    "for vowel in vowels:\n",
    "    print(vowel)"
   ]
  },
  {
   "cell_type": "markdown",
   "id": "5a35c89e",
   "metadata": {},
   "source": [
    "### Example"
   ]
  },
  {
   "cell_type": "code",
   "execution_count": 22,
   "id": "27046b76",
   "metadata": {},
   "outputs": [],
   "source": [
    "tup = ((0, 'a'), (1, 'e'), (2, 'i'), (3, 'o'), (4, 'u'))"
   ]
  },
  {
   "cell_type": "code",
   "execution_count": 23,
   "id": "9f35aa45",
   "metadata": {},
   "outputs": [
    {
     "name": "stdout",
     "output_type": "stream",
     "text": [
      "0 a\n",
      "1 e\n",
      "2 i\n",
      "3 o\n",
      "4 u\n"
     ]
    }
   ],
   "source": [
    "for num, alpha in tup:\n",
    "    print(num, alpha)"
   ]
  },
  {
   "cell_type": "markdown",
   "id": "88209cf0",
   "metadata": {},
   "source": [
    "## Advantages of Tuple over List"
   ]
  },
  {
   "cell_type": "markdown",
   "id": "becac4df",
   "metadata": {},
   "source": [
    "* Since tuples are immutable, iterating through tuples is faster than iterating over a list.\n",
    "\n",
    "* Tuples are best suited for storing data that is write-protected.\n",
    "\n",
    "* Multiple values from a function can be returned using a tuple."
   ]
  },
  {
   "cell_type": "markdown",
   "id": "d416360f",
   "metadata": {},
   "source": []
  }
 ],
 "metadata": {
  "kernelspec": {
   "display_name": "Python 3 (ipykernel)",
   "language": "python",
   "name": "python3"
  },
  "language_info": {
   "codemirror_mode": {
    "name": "ipython",
    "version": 3
   },
   "file_extension": ".py",
   "mimetype": "text/x-python",
   "name": "python",
   "nbconvert_exporter": "python",
   "pygments_lexer": "ipython3",
   "version": "3.11.7"
  }
 },
 "nbformat": 4,
 "nbformat_minor": 5
}
