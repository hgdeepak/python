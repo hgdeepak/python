{
 "cells": [
  {
   "cell_type": "markdown",
   "id": "b9f42014",
   "metadata": {},
   "source": [
    "# Dictionaries"
   ]
  },
  {
   "cell_type": "markdown",
   "id": "97497cf0",
   "metadata": {},
   "source": [
    "Dictionary is a data structure in which values are stored as a pair of key and value.\n",
    "\n",
    "Each key is separated from its value by a colon (:), and consecutive items are separated by commas.\n",
    "\n",
    "The entire items in a dictionary are enclosed in curly brackets ({}).\n",
    "\n",
    "A key in the dictionary must be unique and any immutable data type.\n",
    "\n",
    "Value of a key can be of any type.\n",
    "\n",
    "Dictionaries are not sequences, rather they are mappings.\n",
    "\n",
    "Mappings are collections of objects that store values by key instead of by relative positions.\n",
    "\n",
    "A dictionary is an ordered, mutable collection."
   ]
  },
  {
   "cell_type": "markdown",
   "id": "e08045a1",
   "metadata": {},
   "source": [
    "## Creating a Dictionary"
   ]
  },
  {
   "cell_type": "markdown",
   "id": "51ccc5ff",
   "metadata": {},
   "source": [
    "### Example - Empty Dictionary"
   ]
  },
  {
   "cell_type": "code",
   "execution_count": 1,
   "id": "3a24748b",
   "metadata": {},
   "outputs": [],
   "source": [
    "states = {}"
   ]
  },
  {
   "cell_type": "code",
   "execution_count": 2,
   "id": "05c56a16",
   "metadata": {},
   "outputs": [
    {
     "data": {
      "text/plain": [
       "dict"
      ]
     },
     "execution_count": 2,
     "metadata": {},
     "output_type": "execute_result"
    }
   ],
   "source": [
    "type(states)"
   ]
  },
  {
   "cell_type": "markdown",
   "id": "746b6390",
   "metadata": {},
   "source": [
    "### Example"
   ]
  },
  {
   "cell_type": "code",
   "execution_count": 3,
   "id": "4e3b2305",
   "metadata": {},
   "outputs": [],
   "source": [
    "states = {'KA': 'Karnataka',\n",
    "          'GA': 'Goa',\n",
    "          'LD': 'Lakshadweep',\n",
    "          'KL': 'Kerala'\n",
    "          }"
   ]
  },
  {
   "cell_type": "code",
   "execution_count": 4,
   "id": "a721716f",
   "metadata": {},
   "outputs": [
    {
     "data": {
      "text/plain": [
       "dict"
      ]
     },
     "execution_count": 4,
     "metadata": {},
     "output_type": "execute_result"
    }
   ],
   "source": [
    "type(states)"
   ]
  },
  {
   "cell_type": "code",
   "execution_count": 5,
   "id": "5646a895",
   "metadata": {},
   "outputs": [
    {
     "name": "stdout",
     "output_type": "stream",
     "text": [
      "{'KA': 'Karnataka', 'GA': 'Goa', 'LD': 'Lakshadweep', 'KL': 'Kerala'}\n"
     ]
    }
   ],
   "source": [
    "print(states)"
   ]
  },
  {
   "cell_type": "markdown",
   "id": "ef236874",
   "metadata": {},
   "source": [
    "### Example - Using *dict()* Constructor"
   ]
  },
  {
   "cell_type": "code",
   "execution_count": 6,
   "id": "7ede7b27",
   "metadata": {},
   "outputs": [],
   "source": [
    "currencies = dict(INR = 'Indian Rupee', USD = 'US Dollar', GBP = 'Pound Sterling')"
   ]
  },
  {
   "cell_type": "code",
   "execution_count": 7,
   "id": "b70d75fa",
   "metadata": {},
   "outputs": [
    {
     "data": {
      "text/plain": [
       "dict"
      ]
     },
     "execution_count": 7,
     "metadata": {},
     "output_type": "execute_result"
    }
   ],
   "source": [
    "type(currencies)"
   ]
  },
  {
   "cell_type": "code",
   "execution_count": 8,
   "id": "de8077ca",
   "metadata": {},
   "outputs": [
    {
     "name": "stdout",
     "output_type": "stream",
     "text": [
      "{'INR': 'Indian Rupee', 'USD': 'US Dollar', 'GBP': 'Pound Sterling'}\n"
     ]
    }
   ],
   "source": [
    "print(currencies)"
   ]
  },
  {
   "cell_type": "markdown",
   "id": "e2192f65",
   "metadata": {},
   "source": [
    "### Example - Using Dictionary Comprehension"
   ]
  },
  {
   "cell_type": "code",
   "execution_count": null,
   "id": "b46ae9f7",
   "metadata": {},
   "outputs": [],
   "source": [
    "even_numbers = {x: x * 2 for x in range(1, 11)}"
   ]
  },
  {
   "cell_type": "code",
   "execution_count": null,
   "id": "5b2eca13",
   "metadata": {},
   "outputs": [],
   "source": [
    "type(even_numbers)"
   ]
  },
  {
   "cell_type": "code",
   "execution_count": null,
   "id": "af3a94fa",
   "metadata": {},
   "outputs": [],
   "source": [
    "print(even_numbers)"
   ]
  },
  {
   "cell_type": "markdown",
   "id": "c53f3b70",
   "metadata": {},
   "source": [
    "## Accessing Values"
   ]
  },
  {
   "cell_type": "markdown",
   "id": "19fc93e2",
   "metadata": {},
   "source": [
    "To access values in a dictionary, square brackets are used along with the key to obtain its value."
   ]
  },
  {
   "cell_type": "markdown",
   "id": "7a25a5e1",
   "metadata": {},
   "source": [
    "### Example"
   ]
  },
  {
   "cell_type": "code",
   "execution_count": 9,
   "id": "fe3826fd",
   "metadata": {},
   "outputs": [],
   "source": [
    "colours = {'V': 'Violet', 'I': 'Indigo', 'B': 'Blue', 'G': 'Green', 'Y': 'Yellow', 'O': 'Orange', 'R': 'Red'}"
   ]
  },
  {
   "cell_type": "code",
   "execution_count": 10,
   "id": "846b33f5",
   "metadata": {},
   "outputs": [
    {
     "name": "stdout",
     "output_type": "stream",
     "text": [
      "{'V': 'Violet', 'I': 'Indigo', 'B': 'Blue', 'G': 'Green', 'Y': 'Yellow', 'O': 'Orange', 'R': 'Red'}\n"
     ]
    }
   ],
   "source": [
    "print(colours)"
   ]
  },
  {
   "cell_type": "code",
   "execution_count": 11,
   "id": "42f7afa3",
   "metadata": {},
   "outputs": [
    {
     "name": "stdout",
     "output_type": "stream",
     "text": [
      "Violet\n"
     ]
    }
   ],
   "source": [
    "print(colours['V'])"
   ]
  },
  {
   "cell_type": "code",
   "execution_count": 12,
   "id": "eb179c75",
   "metadata": {},
   "outputs": [
    {
     "name": "stdout",
     "output_type": "stream",
     "text": [
      "Orange\n"
     ]
    }
   ],
   "source": [
    "print(colours['O'])"
   ]
  },
  {
   "cell_type": "code",
   "execution_count": 13,
   "id": "ba2773f8",
   "metadata": {},
   "outputs": [
    {
     "ename": "KeyError",
     "evalue": "'W'",
     "output_type": "error",
     "traceback": [
      "\u001b[1;31m---------------------------------------------------------------------------\u001b[0m",
      "\u001b[1;31mKeyError\u001b[0m                                  Traceback (most recent call last)",
      "Cell \u001b[1;32mIn[13], line 1\u001b[0m\n\u001b[1;32m----> 1\u001b[0m \u001b[38;5;28mprint\u001b[39m(\u001b[43mcolours\u001b[49m\u001b[43m[\u001b[49m\u001b[38;5;124;43m'\u001b[39;49m\u001b[38;5;124;43mW\u001b[39;49m\u001b[38;5;124;43m'\u001b[39;49m\u001b[43m]\u001b[49m)\n",
      "\u001b[1;31mKeyError\u001b[0m: 'W'"
     ]
    }
   ],
   "source": [
    "print(colours['W'])"
   ]
  },
  {
   "cell_type": "markdown",
   "id": "736d07a5",
   "metadata": {},
   "source": [
    "**Note:** A KeyError is returned if we try to access a value using a key, which is not existing in the dictionary."
   ]
  },
  {
   "cell_type": "markdown",
   "id": "6e83224f",
   "metadata": {},
   "source": [
    "## Adding an item in a Dictionary"
   ]
  },
  {
   "cell_type": "markdown",
   "id": "3c4b384c",
   "metadata": {},
   "source": [
    "To add a new key and value in a dictionary, mention the key-value pair for the dictionary."
   ]
  },
  {
   "cell_type": "markdown",
   "id": "ea4dd0f4",
   "metadata": {},
   "source": [
    "### Example"
   ]
  },
  {
   "cell_type": "code",
   "execution_count": 14,
   "id": "e5931071",
   "metadata": {},
   "outputs": [],
   "source": [
    "states = {'KA': 'Karnataka',\n",
    "          'GA': 'Goa',\n",
    "          'LD': 'Lakshadweep',\n",
    "          'KL': 'Kerala'\n",
    "          }"
   ]
  },
  {
   "cell_type": "code",
   "execution_count": 15,
   "id": "e1e11e0c",
   "metadata": {},
   "outputs": [],
   "source": [
    "states['AS'] = 'Assam'"
   ]
  },
  {
   "cell_type": "code",
   "execution_count": 16,
   "id": "38c8c940",
   "metadata": {},
   "outputs": [
    {
     "name": "stdout",
     "output_type": "stream",
     "text": [
      "{'KA': 'Karnataka', 'GA': 'Goa', 'LD': 'Lakshadweep', 'KL': 'Kerala', 'AS': 'Assam'}\n"
     ]
    }
   ],
   "source": [
    "print(states)"
   ]
  },
  {
   "cell_type": "markdown",
   "id": "94268c53",
   "metadata": {},
   "source": [
    "### Modifying an item"
   ]
  },
  {
   "cell_type": "markdown",
   "id": "d2cbebf9",
   "metadata": {},
   "source": [
    "To modify the value of a key, overwrite the value."
   ]
  },
  {
   "cell_type": "markdown",
   "id": "6fbf75da",
   "metadata": {},
   "source": [
    "### Example"
   ]
  },
  {
   "cell_type": "code",
   "execution_count": 17,
   "id": "223f9398",
   "metadata": {},
   "outputs": [],
   "source": [
    "student = {'RollNo': 1, 'Name': 'Samhithaa', 'Department': 'CSE'}"
   ]
  },
  {
   "cell_type": "code",
   "execution_count": 18,
   "id": "4dab2e80",
   "metadata": {},
   "outputs": [
    {
     "name": "stdout",
     "output_type": "stream",
     "text": [
      "{'RollNo': 1, 'Name': 'Samhithaa', 'Department': 'CSE'}\n"
     ]
    }
   ],
   "source": [
    "print(student)"
   ]
  },
  {
   "cell_type": "code",
   "execution_count": 19,
   "id": "c5bf443a",
   "metadata": {},
   "outputs": [],
   "source": [
    "student['Department'] = 'AIML'"
   ]
  },
  {
   "cell_type": "code",
   "execution_count": 20,
   "id": "7f6fa93f",
   "metadata": {},
   "outputs": [
    {
     "name": "stdout",
     "output_type": "stream",
     "text": [
      "{'RollNo': 1, 'Name': 'Samhithaa', 'Department': 'AIML'}\n"
     ]
    }
   ],
   "source": [
    "print(student)"
   ]
  },
  {
   "cell_type": "markdown",
   "id": "2c3822dc",
   "metadata": {},
   "source": [
    "## Deleting Items"
   ]
  },
  {
   "cell_type": "code",
   "execution_count": 23,
   "id": "92345fdb",
   "metadata": {},
   "outputs": [],
   "source": [
    "colours = {'V': 'Violet', 'I': 'Indigo', 'B': 'Blue', 'G': 'Green', 'Y': 'Yellow', 'O': 'Orange', 'R': 'Red'}"
   ]
  },
  {
   "cell_type": "markdown",
   "id": "e0a3942c",
   "metadata": {},
   "source": [
    "### Example - To delete an item"
   ]
  },
  {
   "cell_type": "code",
   "execution_count": 24,
   "id": "12a5dfc7",
   "metadata": {},
   "outputs": [],
   "source": [
    "del colours['R']"
   ]
  },
  {
   "cell_type": "code",
   "execution_count": 25,
   "id": "6a5f3a1d",
   "metadata": {},
   "outputs": [
    {
     "name": "stdout",
     "output_type": "stream",
     "text": [
      "{'V': 'Violet', 'I': 'Indigo', 'B': 'Blue', 'G': 'Green', 'Y': 'Yellow', 'O': 'Orange'}\n"
     ]
    }
   ],
   "source": [
    "print(colours)"
   ]
  },
  {
   "cell_type": "markdown",
   "id": "e4d7e7c6",
   "metadata": {},
   "source": [
    "### Example - To remove all the items"
   ]
  },
  {
   "cell_type": "code",
   "execution_count": 26,
   "id": "59bb35bc",
   "metadata": {},
   "outputs": [],
   "source": [
    "colours.clear()"
   ]
  },
  {
   "cell_type": "code",
   "execution_count": 27,
   "id": "c550fa30",
   "metadata": {},
   "outputs": [
    {
     "name": "stdout",
     "output_type": "stream",
     "text": [
      "{}\n"
     ]
    }
   ],
   "source": [
    "print(colours)"
   ]
  },
  {
   "cell_type": "markdown",
   "id": "b3c0e504",
   "metadata": {},
   "source": [
    "### Example - To delete the dictionary"
   ]
  },
  {
   "cell_type": "code",
   "execution_count": 28,
   "id": "d9c3f857",
   "metadata": {},
   "outputs": [],
   "source": [
    "del colours"
   ]
  },
  {
   "cell_type": "code",
   "execution_count": 29,
   "id": "3a8c14fa",
   "metadata": {},
   "outputs": [
    {
     "ename": "NameError",
     "evalue": "name 'colours' is not defined",
     "output_type": "error",
     "traceback": [
      "\u001b[1;31m---------------------------------------------------------------------------\u001b[0m",
      "\u001b[1;31mNameError\u001b[0m                                 Traceback (most recent call last)",
      "Cell \u001b[1;32mIn[29], line 1\u001b[0m\n\u001b[1;32m----> 1\u001b[0m \u001b[38;5;28mprint\u001b[39m(\u001b[43mcolours\u001b[49m)\n",
      "\u001b[1;31mNameError\u001b[0m: name 'colours' is not defined"
     ]
    }
   ],
   "source": [
    "print(colours)"
   ]
  },
  {
   "cell_type": "markdown",
   "id": "87ad0f27",
   "metadata": {},
   "source": [
    "### Example - Using the *pop()* method"
   ]
  },
  {
   "cell_type": "markdown",
   "id": "2d756bd9",
   "metadata": {},
   "source": [
    "The *pop()* method is used to delete a particular key from the dictionary.\n",
    "\n",
    "The *pop()* method returns the value of the key, that is removed."
   ]
  },
  {
   "cell_type": "code",
   "execution_count": 30,
   "id": "c6b53f00",
   "metadata": {},
   "outputs": [],
   "source": [
    "colours = {'V': 'Violet', 'I': 'Indigo', 'B': 'Blue', 'G': 'Green', 'Y': 'Yellow', 'O': 'Orange', 'R': 'Red'}"
   ]
  },
  {
   "cell_type": "code",
   "execution_count": 31,
   "id": "65fd9270",
   "metadata": {},
   "outputs": [
    {
     "name": "stdout",
     "output_type": "stream",
     "text": [
      "{'V': 'Violet', 'I': 'Indigo', 'B': 'Blue', 'G': 'Green', 'Y': 'Yellow', 'O': 'Orange', 'R': 'Red'}\n"
     ]
    }
   ],
   "source": [
    "print(colours)"
   ]
  },
  {
   "cell_type": "code",
   "execution_count": 33,
   "id": "4e2d4cb8",
   "metadata": {},
   "outputs": [
    {
     "data": {
      "text/plain": [
       "'Blue'"
      ]
     },
     "execution_count": 33,
     "metadata": {},
     "output_type": "execute_result"
    }
   ],
   "source": [
    "colours.pop('B')"
   ]
  },
  {
   "cell_type": "code",
   "execution_count": 34,
   "id": "5da73a98",
   "metadata": {},
   "outputs": [
    {
     "name": "stdout",
     "output_type": "stream",
     "text": [
      "{'V': 'Violet', 'I': 'Indigo', 'G': 'Green', 'Y': 'Yellow', 'O': 'Orange', 'R': 'Red'}\n"
     ]
    }
   ],
   "source": [
    "print(colours)"
   ]
  },
  {
   "cell_type": "markdown",
   "id": "82528b62",
   "metadata": {},
   "source": [
    "A KeyError is returned if a key is tried to remove, which is not present in the dictionary."
   ]
  },
  {
   "cell_type": "code",
   "execution_count": 35,
   "id": "d497457f",
   "metadata": {},
   "outputs": [
    {
     "ename": "KeyError",
     "evalue": "'W'",
     "output_type": "error",
     "traceback": [
      "\u001b[1;31m---------------------------------------------------------------------------\u001b[0m",
      "\u001b[1;31mKeyError\u001b[0m                                  Traceback (most recent call last)",
      "Cell \u001b[1;32mIn[35], line 1\u001b[0m\n\u001b[1;32m----> 1\u001b[0m \u001b[43mcolours\u001b[49m\u001b[38;5;241;43m.\u001b[39;49m\u001b[43mpop\u001b[49m\u001b[43m(\u001b[49m\u001b[38;5;124;43m'\u001b[39;49m\u001b[38;5;124;43mW\u001b[39;49m\u001b[38;5;124;43m'\u001b[39;49m\u001b[43m)\u001b[49m\n",
      "\u001b[1;31mKeyError\u001b[0m: 'W'"
     ]
    }
   ],
   "source": [
    "colours.pop('W')"
   ]
  },
  {
   "cell_type": "markdown",
   "id": "d0ff331e",
   "metadata": {},
   "source": [
    "Use the *default* parameter to return the value if the key is not present."
   ]
  },
  {
   "cell_type": "code",
   "execution_count": 36,
   "id": "78ae70b8",
   "metadata": {},
   "outputs": [
    {
     "data": {
      "text/plain": [
       "'Key not existing'"
      ]
     },
     "execution_count": 36,
     "metadata": {},
     "output_type": "execute_result"
    }
   ],
   "source": [
    "colours.pop('W', 'Key not existing')"
   ]
  },
  {
   "cell_type": "markdown",
   "id": "6f6aee87",
   "metadata": {},
   "source": [
    "## Built-in Functions and Methods"
   ]
  },
  {
   "cell_type": "markdown",
   "id": "39f961e0",
   "metadata": {},
   "source": [
    "### *len()* function"
   ]
  },
  {
   "cell_type": "markdown",
   "id": "860c29c8",
   "metadata": {},
   "source": [
    "Returns the length i.e., number of key-value pairs, of the dictionary."
   ]
  },
  {
   "cell_type": "markdown",
   "id": "09177117",
   "metadata": {},
   "source": [
    "#### Example"
   ]
  },
  {
   "cell_type": "code",
   "execution_count": 37,
   "id": "5d834b96",
   "metadata": {},
   "outputs": [],
   "source": [
    "colours = {'V': 'Violet', 'I': 'Indigo', 'B': 'Blue', 'G': 'Green', 'Y': 'Yellow', 'O': 'Orange', 'R': 'Red'}"
   ]
  },
  {
   "cell_type": "code",
   "execution_count": 38,
   "id": "cb5d4461",
   "metadata": {},
   "outputs": [
    {
     "name": "stdout",
     "output_type": "stream",
     "text": [
      "7\n"
     ]
    }
   ],
   "source": [
    "print(len(colours))"
   ]
  },
  {
   "cell_type": "markdown",
   "id": "c60ebcfe",
   "metadata": {},
   "source": [
    "### *str()* function"
   ]
  },
  {
   "cell_type": "markdown",
   "id": "31d5e5f1",
   "metadata": {},
   "source": [
    "Returns a string representation of the dictionary."
   ]
  },
  {
   "cell_type": "markdown",
   "id": "fb14d9db",
   "metadata": {},
   "source": [
    "#### Example"
   ]
  },
  {
   "cell_type": "code",
   "execution_count": 39,
   "id": "55531ec8",
   "metadata": {},
   "outputs": [],
   "source": [
    "colours = {'V': 'Violet', 'I': 'Indigo', 'B': 'Blue', 'G': 'Green', 'Y': 'Yellow', 'O': 'Orange', 'R': 'Red'}"
   ]
  },
  {
   "cell_type": "code",
   "execution_count": 40,
   "id": "e295f3ee",
   "metadata": {},
   "outputs": [
    {
     "name": "stdout",
     "output_type": "stream",
     "text": [
      "{'V': 'Violet', 'I': 'Indigo', 'B': 'Blue', 'G': 'Green', 'Y': 'Yellow', 'O': 'Orange', 'R': 'Red'}\n"
     ]
    }
   ],
   "source": [
    "print(str(colours))"
   ]
  },
  {
   "cell_type": "code",
   "execution_count": 41,
   "id": "4801850d",
   "metadata": {},
   "outputs": [
    {
     "data": {
      "text/plain": [
       "str"
      ]
     },
     "execution_count": 41,
     "metadata": {},
     "output_type": "execute_result"
    }
   ],
   "source": [
    "type(str(colours))"
   ]
  },
  {
   "cell_type": "markdown",
   "id": "f69f90df",
   "metadata": {},
   "source": [
    "### *clear()* method"
   ]
  },
  {
   "cell_type": "markdown",
   "id": "d1bbfaa3",
   "metadata": {},
   "source": [
    "Deletes all the entries in the dictionary"
   ]
  },
  {
   "cell_type": "markdown",
   "id": "dca4690f",
   "metadata": {},
   "source": [
    "#### Example"
   ]
  },
  {
   "cell_type": "code",
   "execution_count": 42,
   "id": "8c10fec7",
   "metadata": {},
   "outputs": [],
   "source": [
    "colours = {'V': 'Violet', 'I': 'Indigo', 'B': 'Blue', 'G': 'Green', 'Y': 'Yellow', 'O': 'Orange', 'R': 'Red'}"
   ]
  },
  {
   "cell_type": "code",
   "execution_count": 43,
   "id": "07cc14f4",
   "metadata": {},
   "outputs": [],
   "source": [
    "colours.clear()"
   ]
  },
  {
   "cell_type": "code",
   "execution_count": 44,
   "id": "7a1c3fb4",
   "metadata": {},
   "outputs": [
    {
     "name": "stdout",
     "output_type": "stream",
     "text": [
      "{}\n"
     ]
    }
   ],
   "source": [
    "print(colours)"
   ]
  },
  {
   "cell_type": "markdown",
   "id": "a89f4f2f",
   "metadata": {},
   "source": [
    "### *copy()* method"
   ]
  },
  {
   "cell_type": "markdown",
   "id": "01d9b2f2",
   "metadata": {},
   "source": [
    "Returns a shallow copy of the dictionary."
   ]
  },
  {
   "cell_type": "markdown",
   "id": "011229be",
   "metadata": {},
   "source": [
    "#### Example"
   ]
  },
  {
   "cell_type": "code",
   "execution_count": 58,
   "id": "5f520270",
   "metadata": {},
   "outputs": [],
   "source": [
    "colours = {'V': 'Violet', 'I': 'Indigo', 'B': 'Blue', 'G': 'Green', 'Y': 'Yellow', 'O': 'Orange', 'R': 'Red'}"
   ]
  },
  {
   "cell_type": "code",
   "execution_count": 59,
   "id": "a8cff444",
   "metadata": {},
   "outputs": [],
   "source": [
    "colours_copy = colours.copy()"
   ]
  },
  {
   "cell_type": "code",
   "execution_count": 60,
   "id": "2fb81e83",
   "metadata": {},
   "outputs": [
    {
     "name": "stdout",
     "output_type": "stream",
     "text": [
      "{'V': 'Violet', 'I': 'Indigo', 'B': 'Blue', 'G': 'Green', 'Y': 'Yellow', 'O': 'Orange', 'R': 'Red'}\n"
     ]
    }
   ],
   "source": [
    "print(colours_copy)"
   ]
  },
  {
   "cell_type": "code",
   "execution_count": 61,
   "id": "77b62483",
   "metadata": {},
   "outputs": [],
   "source": [
    "colours['W'] = 'White'"
   ]
  },
  {
   "cell_type": "code",
   "execution_count": 62,
   "id": "72144ccd",
   "metadata": {},
   "outputs": [
    {
     "name": "stdout",
     "output_type": "stream",
     "text": [
      "{'V': 'Violet', 'I': 'Indigo', 'B': 'Blue', 'G': 'Green', 'Y': 'Yellow', 'O': 'Orange', 'R': 'Red', 'W': 'White'}\n"
     ]
    }
   ],
   "source": [
    "print(colours)"
   ]
  },
  {
   "cell_type": "code",
   "execution_count": 63,
   "id": "56ddbddd",
   "metadata": {},
   "outputs": [
    {
     "name": "stdout",
     "output_type": "stream",
     "text": [
      "{'V': 'Violet', 'I': 'Indigo', 'B': 'Blue', 'G': 'Green', 'Y': 'Yellow', 'O': 'Orange', 'R': 'Red'}\n"
     ]
    }
   ],
   "source": [
    "print(colours_copy)"
   ]
  },
  {
   "cell_type": "markdown",
   "id": "f5968cdb",
   "metadata": {},
   "source": [
    "### *fromkeys()* method"
   ]
  },
  {
   "cell_type": "markdown",
   "id": "553de766",
   "metadata": {},
   "source": [
    "Creates a new dictionary with keys from a sequence and a value. If no value is mentioned, *None* is assigned as the default value."
   ]
  },
  {
   "cell_type": "markdown",
   "id": "6c258a36",
   "metadata": {},
   "source": [
    "#### Example"
   ]
  },
  {
   "cell_type": "code",
   "execution_count": 64,
   "id": "6d9e0ff6",
   "metadata": {},
   "outputs": [],
   "source": [
    "keys = ['RollNo', 'Name', 'Branch']"
   ]
  },
  {
   "cell_type": "code",
   "execution_count": 65,
   "id": "9e384750",
   "metadata": {},
   "outputs": [],
   "source": [
    "student = dict.fromkeys(keys)"
   ]
  },
  {
   "cell_type": "code",
   "execution_count": 66,
   "id": "dc053739",
   "metadata": {},
   "outputs": [
    {
     "name": "stdout",
     "output_type": "stream",
     "text": [
      "{'RollNo': None, 'Name': None, 'Branch': None}\n"
     ]
    }
   ],
   "source": [
    "print(student)"
   ]
  },
  {
   "cell_type": "markdown",
   "id": "b7595a4b",
   "metadata": {},
   "source": [
    "#### Example"
   ]
  },
  {
   "cell_type": "code",
   "execution_count": 73,
   "id": "aab177ae",
   "metadata": {},
   "outputs": [],
   "source": [
    "subjects = ['Physics', 'Chemistry', 'Mathematics', 'Biology']\n",
    "\n",
    "marks = 0"
   ]
  },
  {
   "cell_type": "code",
   "execution_count": 74,
   "id": "9c02d675",
   "metadata": {},
   "outputs": [],
   "source": [
    "student = dict.fromkeys(subjects, marks)"
   ]
  },
  {
   "cell_type": "code",
   "execution_count": 75,
   "id": "2ae513e2",
   "metadata": {},
   "outputs": [
    {
     "name": "stdout",
     "output_type": "stream",
     "text": [
      "{'Physics': 0, 'Chemistry': 0, 'Mathematics': 0, 'Biology': 0}\n"
     ]
    }
   ],
   "source": [
    "print(student)"
   ]
  },
  {
   "cell_type": "markdown",
   "id": "150a8578",
   "metadata": {},
   "source": [
    "### *get()* method"
   ]
  },
  {
   "cell_type": "markdown",
   "id": "b986e2db",
   "metadata": {},
   "source": [
    "Returns the value for the key passed as argument.\n",
    "\n",
    "If the key is not present in the dictionary, it will return the default value.\n",
    "\n",
    "If no default value is specified, then None is returned."
   ]
  },
  {
   "cell_type": "markdown",
   "id": "1eab701d",
   "metadata": {},
   "source": [
    "#### Example"
   ]
  },
  {
   "cell_type": "code",
   "execution_count": 76,
   "id": "76c0a49e",
   "metadata": {},
   "outputs": [],
   "source": [
    "student = {'RollNo': 25, 'Name': 'Saathvik', 'Department': 'Robotics and Artificial Intelligence'}"
   ]
  },
  {
   "cell_type": "code",
   "execution_count": 77,
   "id": "8e169e7d",
   "metadata": {},
   "outputs": [
    {
     "data": {
      "text/plain": [
       "'Robotics and Artificial Intelligence'"
      ]
     },
     "execution_count": 77,
     "metadata": {},
     "output_type": "execute_result"
    }
   ],
   "source": [
    "student['Department']"
   ]
  },
  {
   "cell_type": "code",
   "execution_count": 78,
   "id": "66d8ac6d",
   "metadata": {},
   "outputs": [
    {
     "name": "stdout",
     "output_type": "stream",
     "text": [
      "Robotics and Artificial Intelligence\n"
     ]
    }
   ],
   "source": [
    "print(student.get('Department'))"
   ]
  },
  {
   "cell_type": "code",
   "execution_count": 79,
   "id": "e70c6baa",
   "metadata": {},
   "outputs": [
    {
     "name": "stdout",
     "output_type": "stream",
     "text": [
      "None\n"
     ]
    }
   ],
   "source": [
    "print(student.get('Semester'))"
   ]
  },
  {
   "cell_type": "code",
   "execution_count": 81,
   "id": "e8852414",
   "metadata": {},
   "outputs": [
    {
     "ename": "KeyError",
     "evalue": "'Semester'",
     "output_type": "error",
     "traceback": [
      "\u001b[1;31m---------------------------------------------------------------------------\u001b[0m",
      "\u001b[1;31mKeyError\u001b[0m                                  Traceback (most recent call last)",
      "Cell \u001b[1;32mIn[81], line 1\u001b[0m\n\u001b[1;32m----> 1\u001b[0m \u001b[43mstudent\u001b[49m\u001b[43m[\u001b[49m\u001b[38;5;124;43m'\u001b[39;49m\u001b[38;5;124;43mSemester\u001b[39;49m\u001b[38;5;124;43m'\u001b[39;49m\u001b[43m]\u001b[49m\n",
      "\u001b[1;31mKeyError\u001b[0m: 'Semester'"
     ]
    }
   ],
   "source": [
    "student['Semester']"
   ]
  },
  {
   "cell_type": "code",
   "execution_count": 80,
   "id": "9f6bf493",
   "metadata": {},
   "outputs": [
    {
     "name": "stdout",
     "output_type": "stream",
     "text": [
      "1\n"
     ]
    }
   ],
   "source": [
    "print(student.get('Semester', 1))"
   ]
  },
  {
   "cell_type": "markdown",
   "id": "aaf1d8c4",
   "metadata": {},
   "source": [
    "### *items()* method"
   ]
  },
  {
   "cell_type": "markdown",
   "id": "d37dd9f4",
   "metadata": {},
   "source": [
    "Returns a list of tuples containing key and values."
   ]
  },
  {
   "cell_type": "markdown",
   "id": "7076cf67",
   "metadata": {},
   "source": [
    "#### Example"
   ]
  },
  {
   "cell_type": "code",
   "execution_count": 82,
   "id": "7133b3ba",
   "metadata": {},
   "outputs": [],
   "source": [
    "student = {'RollNo': 18, 'Name': 'Samhithaa', 'Department': 'Physics'}"
   ]
  },
  {
   "cell_type": "code",
   "execution_count": 83,
   "id": "0be11a44",
   "metadata": {},
   "outputs": [
    {
     "name": "stdout",
     "output_type": "stream",
     "text": [
      "{'RollNo': 18, 'Name': 'Samhithaa', 'Department': 'Physics'}\n"
     ]
    }
   ],
   "source": [
    "print(student)"
   ]
  },
  {
   "cell_type": "code",
   "execution_count": 84,
   "id": "d7bb5fc6",
   "metadata": {},
   "outputs": [
    {
     "data": {
      "text/plain": [
       "dict_items([('RollNo', 18), ('Name', 'Samhithaa'), ('Department', 'Physics')])"
      ]
     },
     "execution_count": 84,
     "metadata": {},
     "output_type": "execute_result"
    }
   ],
   "source": [
    "student.items()"
   ]
  },
  {
   "cell_type": "markdown",
   "id": "eebb378f",
   "metadata": {},
   "source": [
    "### *keys()* method"
   ]
  },
  {
   "cell_type": "markdown",
   "id": "8b8a8696",
   "metadata": {},
   "source": [
    "Returns a list of keys in the dictionary."
   ]
  },
  {
   "cell_type": "markdown",
   "id": "3dcde035",
   "metadata": {},
   "source": [
    "#### Example"
   ]
  },
  {
   "cell_type": "code",
   "execution_count": 85,
   "id": "dedb386e",
   "metadata": {},
   "outputs": [],
   "source": [
    "student = {'RollNo': 18, 'Name': 'Samhithaa', 'Department': 'Physics'}"
   ]
  },
  {
   "cell_type": "code",
   "execution_count": 86,
   "id": "d46798ed",
   "metadata": {},
   "outputs": [
    {
     "data": {
      "text/plain": [
       "dict_keys(['RollNo', 'Name', 'Department'])"
      ]
     },
     "execution_count": 86,
     "metadata": {},
     "output_type": "execute_result"
    }
   ],
   "source": [
    "student.keys()"
   ]
  },
  {
   "cell_type": "markdown",
   "id": "f7cbb803",
   "metadata": {},
   "source": [
    "### *values()* method"
   ]
  },
  {
   "cell_type": "markdown",
   "id": "69433797",
   "metadata": {},
   "source": [
    "Returns a list of values in the dictionary."
   ]
  },
  {
   "cell_type": "markdown",
   "id": "e3807bd4",
   "metadata": {},
   "source": [
    "#### Example"
   ]
  },
  {
   "cell_type": "code",
   "execution_count": 87,
   "id": "8ec26d5d",
   "metadata": {},
   "outputs": [],
   "source": [
    "student = {'RollNo': 18, 'Name': 'Samhithaa', 'Department': 'Physics'}"
   ]
  },
  {
   "cell_type": "code",
   "execution_count": 88,
   "id": "387d0826",
   "metadata": {},
   "outputs": [
    {
     "data": {
      "text/plain": [
       "dict_values([18, 'Samhithaa', 'Physics'])"
      ]
     },
     "execution_count": 88,
     "metadata": {},
     "output_type": "execute_result"
    }
   ],
   "source": [
    "student.values()"
   ]
  },
  {
   "cell_type": "markdown",
   "id": "40fd6250",
   "metadata": {},
   "source": [
    "### *setdefault()* method"
   ]
  },
  {
   "cell_type": "markdown",
   "id": "28436e44",
   "metadata": {},
   "source": [
    "Sets a default value for a key, that is not present in the dictionary."
   ]
  },
  {
   "cell_type": "markdown",
   "id": "2b47ae36",
   "metadata": {},
   "source": [
    "#### Example"
   ]
  },
  {
   "cell_type": "code",
   "execution_count": 89,
   "id": "965fe9df",
   "metadata": {},
   "outputs": [],
   "source": [
    "student = {'RollNo': 18, 'Name': 'Samhithaa', 'Department': 'Physics'}"
   ]
  },
  {
   "cell_type": "code",
   "execution_count": 90,
   "id": "fd1430fd",
   "metadata": {},
   "outputs": [
    {
     "data": {
      "text/plain": [
       "0"
      ]
     },
     "execution_count": 90,
     "metadata": {},
     "output_type": "execute_result"
    }
   ],
   "source": [
    "student.setdefault('Marks', 0)"
   ]
  },
  {
   "cell_type": "code",
   "execution_count": 91,
   "id": "9f0aea26",
   "metadata": {},
   "outputs": [
    {
     "name": "stdout",
     "output_type": "stream",
     "text": [
      "{'RollNo': 18, 'Name': 'Samhithaa', 'Department': 'Physics', 'Marks': 0}\n"
     ]
    }
   ],
   "source": [
    "print(student)"
   ]
  },
  {
   "cell_type": "markdown",
   "id": "5a0ee412",
   "metadata": {},
   "source": [
    "### *update()* method"
   ]
  },
  {
   "cell_type": "markdown",
   "id": "f5e4ba4d",
   "metadata": {},
   "source": [
    "Adds the key-value pairs of one dictionary to the key-value pairs of another dictionary."
   ]
  },
  {
   "cell_type": "markdown",
   "id": "3a6dca30",
   "metadata": {},
   "source": [
    "#### Example"
   ]
  },
  {
   "cell_type": "code",
   "execution_count": null,
   "id": "e34298e0",
   "metadata": {},
   "outputs": [],
   "source": [
    "student = {'RollNo': 25, 'Name': 'Saathvik'}\n",
    "\n",
    "marks = {'Physics': 98, 'Chemistry': 95, 'Mathematics': 100, 'Biology': 100}"
   ]
  },
  {
   "cell_type": "code",
   "execution_count": null,
   "id": "77bfce19",
   "metadata": {},
   "outputs": [],
   "source": [
    "student.update(marks)"
   ]
  },
  {
   "cell_type": "code",
   "execution_count": null,
   "id": "e341bef1",
   "metadata": {},
   "outputs": [],
   "source": [
    "print(student)"
   ]
  },
  {
   "cell_type": "markdown",
   "id": "68948a9e",
   "metadata": {},
   "source": [
    "### *items()* method"
   ]
  },
  {
   "cell_type": "markdown",
   "id": "ad6af3fe",
   "metadata": {},
   "source": [
    "Used to iterate through items in the dictionary."
   ]
  },
  {
   "cell_type": "markdown",
   "id": "35f2515e",
   "metadata": {},
   "source": [
    "#### Example"
   ]
  },
  {
   "cell_type": "code",
   "execution_count": null,
   "id": "b9449eba",
   "metadata": {},
   "outputs": [],
   "source": [
    "student = {'RollNo': 25, 'Name': 'Saathvik', 'Physics': 98, 'Chemistry': 95, 'Mathematics': 100, 'Biology': 100}"
   ]
  },
  {
   "cell_type": "code",
   "execution_count": null,
   "id": "685203ac",
   "metadata": {},
   "outputs": [],
   "source": [
    "for key, value in student.items():\n",
    "    print(key, value)"
   ]
  },
  {
   "cell_type": "markdown",
   "id": "01f561cf",
   "metadata": {},
   "source": [
    "### *in*, *not in* Operator"
   ]
  },
  {
   "cell_type": "markdown",
   "id": "e02a38d0",
   "metadata": {},
   "source": [
    "The *in* and *not in* operator is used to check whether a key is present in the dictionary."
   ]
  },
  {
   "cell_type": "markdown",
   "id": "09ef510e",
   "metadata": {},
   "source": [
    "### Example"
   ]
  },
  {
   "cell_type": "code",
   "execution_count": null,
   "id": "7402a706",
   "metadata": {},
   "outputs": [],
   "source": [
    "student = {'RollNo': 1, 'Name': 'Samhithaa', 'Department': 'CSE'}"
   ]
  },
  {
   "cell_type": "code",
   "execution_count": null,
   "id": "7b14b5d0",
   "metadata": {},
   "outputs": [],
   "source": [
    "'Department' in student"
   ]
  },
  {
   "cell_type": "code",
   "execution_count": null,
   "id": "b0883a00",
   "metadata": {},
   "outputs": [],
   "source": [
    "'Department' not in student"
   ]
  },
  {
   "cell_type": "code",
   "execution_count": null,
   "id": "5c7cb51d",
   "metadata": {},
   "outputs": [],
   "source": [
    "'Result' in student"
   ]
  },
  {
   "cell_type": "code",
   "execution_count": null,
   "id": "5a2febff",
   "metadata": {},
   "outputs": [],
   "source": [
    "'Result' not in student"
   ]
  },
  {
   "cell_type": "markdown",
   "id": "cb76c456",
   "metadata": {},
   "source": [
    "# Difference Between a List and a Dictionary"
   ]
  },
  {
   "cell_type": "markdown",
   "id": "e464dc15",
   "metadata": {},
   "source": [
    "|   List   |   Dictionary |\n",
    "| -------- | ------------ |\n",
    "| A list is an ordered set of items. | A dictionary is a data structure that is used for matching one item (key) with another (value). |\n",
    "| Elements are accessed using the index. | Elements are accessed using key. |\n",
    "| Used to look up a value. | Used to take one value and look up another value. |"
   ]
  },
  {
   "cell_type": "markdown",
   "id": "5acedcce",
   "metadata": {},
   "source": [
    "# When to use which Data Structure?"
   ]
  },
  {
   "cell_type": "markdown",
   "id": "dc0f4374",
   "metadata": {},
   "source": [
    "* Use lists to store a collection of data that does not need random access.\n",
    "\n",
    "* Use lists if the data has to be modified frequently.\n",
    "\n",
    "* Use a set if you want to ensure that every element in the data strucutre must be unique.\n",
    "\n",
    "* Use tuples for data that should not be altered."
   ]
  },
  {
   "cell_type": "markdown",
   "id": "8deb3b9f",
   "metadata": {},
   "source": []
  }
 ],
 "metadata": {
  "kernelspec": {
   "display_name": "Python 3 (ipykernel)",
   "language": "python",
   "name": "python3"
  },
  "language_info": {
   "codemirror_mode": {
    "name": "ipython",
    "version": 3
   },
   "file_extension": ".py",
   "mimetype": "text/x-python",
   "name": "python",
   "nbconvert_exporter": "python",
   "pygments_lexer": "ipython3",
   "version": "3.11.7"
  }
 },
 "nbformat": 4,
 "nbformat_minor": 5
}
