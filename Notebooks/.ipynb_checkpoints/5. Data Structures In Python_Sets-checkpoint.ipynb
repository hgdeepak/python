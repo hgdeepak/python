{
 "cells": [
  {
   "cell_type": "markdown",
   "id": "b9f42014",
   "metadata": {},
   "source": [
    "# Sets"
   ]
  },
  {
   "cell_type": "markdown",
   "id": "ba14e165",
   "metadata": {},
   "source": [
    "Sets are another data structures supported by Python.\n",
    "\n",
    "Sets are sequences with no duplicate elements.\n",
    "\n",
    "A set is a mutable and unordered collection of items.\n",
    "\n",
    "Since sets are unordered, indexing has no meaning."
   ]
  },
  {
   "cell_type": "markdown",
   "id": "9ad4ebd3",
   "metadata": {},
   "source": [
    "## Creating a Set"
   ]
  },
  {
   "cell_type": "markdown",
   "id": "ca6b67a9",
   "metadata": {},
   "source": [
    "A set is created by placing all the elements within the curly brackets, {}, separated by comma.\n",
    "\n",
    "A set can also be created using the built-in function set().\n",
    "\n",
    "set() creates an empty set."
   ]
  },
  {
   "cell_type": "markdown",
   "id": "9bce2159",
   "metadata": {},
   "source": [
    "### Example"
   ]
  },
  {
   "cell_type": "code",
   "execution_count": null,
   "id": "58d86ba6",
   "metadata": {},
   "outputs": [],
   "source": [
    "states = {'Karnataka', 'Andhra Pradesh', 'Tamil Nadu',  'Kerala'}"
   ]
  },
  {
   "cell_type": "code",
   "execution_count": null,
   "id": "4d4de86f",
   "metadata": {},
   "outputs": [],
   "source": [
    "type(states)"
   ]
  },
  {
   "cell_type": "code",
   "execution_count": null,
   "id": "2d023f1d",
   "metadata": {},
   "outputs": [],
   "source": [
    "print(states)"
   ]
  },
  {
   "cell_type": "markdown",
   "id": "fa63d0e9",
   "metadata": {},
   "source": [
    "### Example"
   ]
  },
  {
   "cell_type": "code",
   "execution_count": null,
   "id": "f73bc284",
   "metadata": {},
   "outputs": [],
   "source": [
    "marks = {38, 35, 28, 10, 38}"
   ]
  },
  {
   "cell_type": "code",
   "execution_count": null,
   "id": "7755b6f4",
   "metadata": {},
   "outputs": [],
   "source": [
    "type(marks)"
   ]
  },
  {
   "cell_type": "code",
   "execution_count": null,
   "id": "cde51846",
   "metadata": {},
   "outputs": [],
   "source": [
    "print(marks)"
   ]
  },
  {
   "cell_type": "markdown",
   "id": "2b326445",
   "metadata": {},
   "source": [
    "### Example"
   ]
  },
  {
   "cell_type": "code",
   "execution_count": null,
   "id": "cda46bcc",
   "metadata": {},
   "outputs": [],
   "source": [
    "alpha_num = {'a', 'e', 'i', 100, 225, 625}"
   ]
  },
  {
   "cell_type": "code",
   "execution_count": null,
   "id": "78a7cdb1",
   "metadata": {},
   "outputs": [],
   "source": [
    "type(alpha_num)"
   ]
  },
  {
   "cell_type": "code",
   "execution_count": null,
   "id": "1b3fd751",
   "metadata": {},
   "outputs": [],
   "source": [
    "print(alpha_num)"
   ]
  },
  {
   "cell_type": "markdown",
   "id": "5278bd8e",
   "metadata": {},
   "source": [
    "### Example"
   ]
  },
  {
   "cell_type": "code",
   "execution_count": null,
   "id": "6b3b60a4",
   "metadata": {},
   "outputs": [],
   "source": [
    "colours = ['Violet', 'Indigo', 'Blue', 'Green', 'Yellow', 'Orange', 'Red']"
   ]
  },
  {
   "cell_type": "code",
   "execution_count": null,
   "id": "c1044a4c",
   "metadata": {},
   "outputs": [],
   "source": [
    "type(colours)"
   ]
  },
  {
   "cell_type": "code",
   "execution_count": null,
   "id": "5fed2b35",
   "metadata": {},
   "outputs": [],
   "source": [
    "colours = set(colours)"
   ]
  },
  {
   "cell_type": "code",
   "execution_count": null,
   "id": "68553fd2",
   "metadata": {},
   "outputs": [],
   "source": [
    "type(colours)"
   ]
  },
  {
   "cell_type": "code",
   "execution_count": null,
   "id": "4944582d",
   "metadata": {},
   "outputs": [],
   "source": [
    "print(colours)"
   ]
  },
  {
   "cell_type": "markdown",
   "id": "64b9c91f",
   "metadata": {},
   "source": [
    "## Set Operations"
   ]
  },
  {
   "cell_type": "markdown",
   "id": "acac8256",
   "metadata": {},
   "source": [
    "### *len()* function"
   ]
  },
  {
   "cell_type": "markdown",
   "id": "c7363ec8",
   "metadata": {},
   "source": [
    "Returns the length of a set."
   ]
  },
  {
   "cell_type": "markdown",
   "id": "f02a78da",
   "metadata": {},
   "source": [
    "#### Example"
   ]
  },
  {
   "cell_type": "code",
   "execution_count": null,
   "id": "8366c34a",
   "metadata": {},
   "outputs": [],
   "source": [
    "dosas = {'Plain Dosa', 'Masala Dosa', 'Set Dosa', 'Rava Dosa', 'Onion Dosa'}"
   ]
  },
  {
   "cell_type": "code",
   "execution_count": null,
   "id": "3b20b7bc",
   "metadata": {},
   "outputs": [],
   "source": [
    "print(dosas)"
   ]
  },
  {
   "cell_type": "code",
   "execution_count": null,
   "id": "ce28bfde",
   "metadata": {},
   "outputs": [],
   "source": [
    "print(len(dosas))"
   ]
  },
  {
   "cell_type": "markdown",
   "id": "bb9303ce",
   "metadata": {},
   "source": [
    "### *in* operator"
   ]
  },
  {
   "cell_type": "markdown",
   "id": "483c7cbf",
   "metadata": {},
   "source": [
    "Returns True if the element is present in the set else returns False."
   ]
  },
  {
   "cell_type": "markdown",
   "id": "8a627d88",
   "metadata": {},
   "source": [
    "#### Example"
   ]
  },
  {
   "cell_type": "code",
   "execution_count": null,
   "id": "fe9e3292",
   "metadata": {},
   "outputs": [],
   "source": [
    "rotis = {'Tandoori Roti', 'Naan', 'Kulcha', 'Rumali Roti'}"
   ]
  },
  {
   "cell_type": "code",
   "execution_count": null,
   "id": "f8b16e20",
   "metadata": {},
   "outputs": [],
   "source": [
    "print('Naan' in rotis)"
   ]
  },
  {
   "cell_type": "code",
   "execution_count": null,
   "id": "267789f0",
   "metadata": {},
   "outputs": [],
   "source": [
    "print('Butter Kulcha' in rotis)"
   ]
  },
  {
   "cell_type": "markdown",
   "id": "8c263d62",
   "metadata": {},
   "source": [
    "### *not in* operator"
   ]
  },
  {
   "cell_type": "markdown",
   "id": "4ef9a114",
   "metadata": {},
   "source": [
    "Returns False if the element is present in the set else returns True."
   ]
  },
  {
   "cell_type": "markdown",
   "id": "818b0134",
   "metadata": {},
   "source": [
    "#### Example"
   ]
  },
  {
   "cell_type": "code",
   "execution_count": null,
   "id": "c102ea0f",
   "metadata": {},
   "outputs": [],
   "source": [
    "ice_creams = {'Amul Ice cream', 'Kwality', 'Vadilal Ice Creams', 'Baskin Robbins', 'Polar Bear'}"
   ]
  },
  {
   "cell_type": "code",
   "execution_count": null,
   "id": "a8f87b99",
   "metadata": {},
   "outputs": [],
   "source": [
    "print('Airtel' not in ice_creams)"
   ]
  },
  {
   "cell_type": "markdown",
   "id": "65207931",
   "metadata": {},
   "source": [
    "#### Example"
   ]
  },
  {
   "cell_type": "code",
   "execution_count": null,
   "id": "4b1cb7f9",
   "metadata": {},
   "outputs": [],
   "source": [
    "print('Polar Bear' not in ice_creams)"
   ]
  },
  {
   "cell_type": "markdown",
   "id": "45b869dd",
   "metadata": {},
   "source": [
    "### *add()* method"
   ]
  },
  {
   "cell_type": "markdown",
   "id": "0a9bf4b6",
   "metadata": {},
   "source": [
    "Adds an element to the set."
   ]
  },
  {
   "cell_type": "markdown",
   "id": "a9941f6a",
   "metadata": {},
   "source": [
    "#### Example"
   ]
  },
  {
   "cell_type": "code",
   "execution_count": null,
   "id": "01cb1f6d",
   "metadata": {},
   "outputs": [],
   "source": [
    "even_numbers = {2, 4, 6}"
   ]
  },
  {
   "cell_type": "code",
   "execution_count": null,
   "id": "590d8655",
   "metadata": {},
   "outputs": [],
   "source": [
    "even_numbers.add(8)"
   ]
  },
  {
   "cell_type": "code",
   "execution_count": null,
   "id": "d53f9ddc",
   "metadata": {},
   "outputs": [],
   "source": [
    "print(even_numbers)"
   ]
  },
  {
   "cell_type": "markdown",
   "id": "c58f86fb",
   "metadata": {},
   "source": [
    "### *update()* method"
   ]
  },
  {
   "cell_type": "markdown",
   "id": "42fb8e77",
   "metadata": {},
   "source": [
    "Adds elements to the set."
   ]
  },
  {
   "cell_type": "markdown",
   "id": "2b8e8b02",
   "metadata": {},
   "source": [
    "#### Example"
   ]
  },
  {
   "cell_type": "code",
   "execution_count": null,
   "id": "b6bfd2b7",
   "metadata": {},
   "outputs": [],
   "source": [
    "fruits = {'Apple', 'Banana', 'Cherry'}\n",
    "\n",
    "vegetables = {'Brinjal', 'Carrot', 'Radish'}"
   ]
  },
  {
   "cell_type": "code",
   "execution_count": null,
   "id": "129f35f3",
   "metadata": {},
   "outputs": [],
   "source": [
    "fruits.update(vegetables)"
   ]
  },
  {
   "cell_type": "code",
   "execution_count": null,
   "id": "bba423f5",
   "metadata": {},
   "outputs": [],
   "source": [
    "print(fruits)"
   ]
  },
  {
   "cell_type": "markdown",
   "id": "1e38fb36",
   "metadata": {},
   "source": [
    "### *remove()* method"
   ]
  },
  {
   "cell_type": "markdown",
   "id": "8c0aabe9",
   "metadata": {},
   "source": [
    "Removes an item from the set.\n",
    "\n",
    "Returns a KeyError if the item is not present."
   ]
  },
  {
   "cell_type": "markdown",
   "id": "1f3f5bb3",
   "metadata": {},
   "source": [
    "#### Example"
   ]
  },
  {
   "cell_type": "code",
   "execution_count": null,
   "id": "846d99ef",
   "metadata": {},
   "outputs": [],
   "source": [
    "fruits = {'Apple', 'Banana', 'Cherry', 'Grapes'}"
   ]
  },
  {
   "cell_type": "code",
   "execution_count": null,
   "id": "fd6c18f5",
   "metadata": {},
   "outputs": [],
   "source": [
    "fruits.remove('Cherry')"
   ]
  },
  {
   "cell_type": "code",
   "execution_count": null,
   "id": "5e032ac8",
   "metadata": {},
   "outputs": [],
   "source": [
    "print(fruits)"
   ]
  },
  {
   "cell_type": "code",
   "execution_count": null,
   "id": "40c553f0",
   "metadata": {},
   "outputs": [],
   "source": [
    "fruits.remove('Orange')"
   ]
  },
  {
   "cell_type": "markdown",
   "id": "46f289f9",
   "metadata": {},
   "source": [
    "### *discard()* method"
   ]
  },
  {
   "cell_type": "markdown",
   "id": "74aee07a",
   "metadata": {},
   "source": [
    "Removes an item from the set.\n",
    "\n",
    "Does not give an error if the item is not present in the set."
   ]
  },
  {
   "cell_type": "markdown",
   "id": "e0570cb8",
   "metadata": {},
   "source": [
    "#### Example"
   ]
  },
  {
   "cell_type": "code",
   "execution_count": null,
   "id": "5ae8b63d",
   "metadata": {},
   "outputs": [],
   "source": [
    "fruits = {'Apple', 'Banana', 'Cherry', 'Grapes'}"
   ]
  },
  {
   "cell_type": "code",
   "execution_count": null,
   "id": "1007ecb6",
   "metadata": {},
   "outputs": [],
   "source": [
    "fruits.discard('Orange')"
   ]
  },
  {
   "cell_type": "code",
   "execution_count": null,
   "id": "a8cb1354",
   "metadata": {},
   "outputs": [],
   "source": [
    "print(fruits)"
   ]
  },
  {
   "cell_type": "markdown",
   "id": "c3ce7abc",
   "metadata": {},
   "source": [
    "### *pop()* method"
   ]
  },
  {
   "cell_type": "markdown",
   "id": "7a825f2e",
   "metadata": {},
   "source": [
    "Remove an item, but this method will remove a random item.\n",
    "\n",
    "Cannot be sure what item that gets removed.\n",
    "\n",
    "The return value of the pop() method is the removed item.\n",
    "\n",
    "KeyError is raised if set is empty."
   ]
  },
  {
   "cell_type": "markdown",
   "id": "c357890b",
   "metadata": {},
   "source": [
    "#### Example"
   ]
  },
  {
   "cell_type": "code",
   "execution_count": null,
   "id": "e17b3141",
   "metadata": {},
   "outputs": [],
   "source": [
    "vegetables = {'French Beans', 'Carrot', 'Brinjal', 'Okra', 'Radish'}"
   ]
  },
  {
   "cell_type": "code",
   "execution_count": null,
   "id": "f72c9dda",
   "metadata": {},
   "outputs": [],
   "source": [
    "vegetables.pop()"
   ]
  },
  {
   "cell_type": "code",
   "execution_count": null,
   "id": "f552f031",
   "metadata": {},
   "outputs": [],
   "source": [
    "print(vegetables)"
   ]
  },
  {
   "cell_type": "markdown",
   "id": "202823b9",
   "metadata": {},
   "source": [
    "#### Example"
   ]
  },
  {
   "cell_type": "code",
   "execution_count": null,
   "id": "f135b78e",
   "metadata": {},
   "outputs": [],
   "source": [
    "empty_set = set()"
   ]
  },
  {
   "cell_type": "code",
   "execution_count": null,
   "id": "b49480c8",
   "metadata": {},
   "outputs": [],
   "source": [
    "empty_set.pop()"
   ]
  },
  {
   "cell_type": "markdown",
   "id": "c247c3b5",
   "metadata": {},
   "source": [
    "### *clear()* method"
   ]
  },
  {
   "cell_type": "markdown",
   "id": "9eba680a",
   "metadata": {},
   "source": [
    "Removes all the elements from the set."
   ]
  },
  {
   "cell_type": "markdown",
   "id": "68337cc8",
   "metadata": {},
   "source": [
    "#### Example"
   ]
  },
  {
   "cell_type": "code",
   "execution_count": null,
   "id": "14d06b71",
   "metadata": {},
   "outputs": [],
   "source": [
    "snacks = {'Samosa', 'Masala Puri', 'Kachori', 'Vada Pav'}"
   ]
  },
  {
   "cell_type": "code",
   "execution_count": null,
   "id": "f99b513b",
   "metadata": {},
   "outputs": [],
   "source": [
    "print(snacks)"
   ]
  },
  {
   "cell_type": "code",
   "execution_count": null,
   "id": "5357f830",
   "metadata": {},
   "outputs": [],
   "source": [
    "snacks.clear()"
   ]
  },
  {
   "cell_type": "code",
   "execution_count": null,
   "id": "d7d7702d",
   "metadata": {},
   "outputs": [],
   "source": [
    "print(snacks)"
   ]
  },
  {
   "cell_type": "markdown",
   "id": "257f3069",
   "metadata": {},
   "source": [
    "## Mathematical Operations"
   ]
  },
  {
   "cell_type": "code",
   "execution_count": null,
   "id": "869a9db5",
   "metadata": {},
   "outputs": [],
   "source": [
    "alphabets = {'a', 'b', 'c', 'd', 'e', 'f', 'g', 'h', 'i', 'j', 'k', 'l', 'm', 'n', 'o', 'p', 'q', 'r', 's', 't', 'u', 'v', 'w', 'x', 'y' , 'z'}\n",
    "\n",
    "vowels = {'a', 'e', 'i', 'o', 'u'}\n",
    "\n",
    "Consonants = {'b', 'c', 'd', 'f', 'g', 'h', 'j', 'k', 'l', 'm', 'n', 'p', 'q', 'r', 's', 't', 'v', 'w', 'x', 'y' , 'z'}"
   ]
  },
  {
   "cell_type": "markdown",
   "id": "5b28254b",
   "metadata": {},
   "source": [
    "### Union"
   ]
  },
  {
   "cell_type": "markdown",
   "id": "0fd7553a",
   "metadata": {},
   "source": [
    "Union of two sets include all the elements from both the sets."
   ]
  },
  {
   "cell_type": "code",
   "execution_count": null,
   "id": "e7a9f7a0",
   "metadata": {},
   "outputs": [],
   "source": [
    "print(vowels.union(Consonants))"
   ]
  },
  {
   "cell_type": "markdown",
   "id": "dc709aaa",
   "metadata": {},
   "source": [
    "### Intersection"
   ]
  },
  {
   "cell_type": "markdown",
   "id": "b4a0a926",
   "metadata": {},
   "source": [
    "Intersection of two sets include elements that are common to both the sets."
   ]
  },
  {
   "cell_type": "code",
   "execution_count": null,
   "id": "2e4d486a",
   "metadata": {},
   "outputs": [],
   "source": [
    "print(alphabets.intersection(vowels))"
   ]
  },
  {
   "cell_type": "code",
   "execution_count": null,
   "id": "4ba464b5",
   "metadata": {},
   "outputs": [],
   "source": [
    "print(Consonants.intersection(vowels))"
   ]
  },
  {
   "cell_type": "markdown",
   "id": "abb2751b",
   "metadata": {},
   "source": [
    "### Difference"
   ]
  },
  {
   "cell_type": "markdown",
   "id": "41487f5f",
   "metadata": {},
   "source": [
    "Difference of A and B includes all the elements that are in A but not in B."
   ]
  },
  {
   "cell_type": "code",
   "execution_count": null,
   "id": "c11d9d07",
   "metadata": {},
   "outputs": [],
   "source": [
    "print(vowels.difference(Consonants))"
   ]
  },
  {
   "cell_type": "code",
   "execution_count": null,
   "id": "048b44f5",
   "metadata": {},
   "outputs": [],
   "source": [
    "print(alphabets.difference(Consonants))"
   ]
  },
  {
   "cell_type": "markdown",
   "id": "3dfbdab7",
   "metadata": {},
   "source": [
    "### Symmetric Difference"
   ]
  },
  {
   "cell_type": "markdown",
   "id": "3c6f4bbb",
   "metadata": {},
   "source": [
    "Symmetric difference of A and B inludes all the elements that are in A and B but not the one that are common to A and B."
   ]
  },
  {
   "cell_type": "code",
   "execution_count": null,
   "id": "d993abcc",
   "metadata": {},
   "outputs": [],
   "source": [
    "print(alphabets.symmetric_difference(Consonants))"
   ]
  },
  {
   "cell_type": "markdown",
   "id": "2aca4023",
   "metadata": {},
   "source": [
    "### *issubset()* method"
   ]
  },
  {
   "cell_type": "markdown",
   "id": "fc1cdd07",
   "metadata": {},
   "source": [
    "Returns True if the set is a subset otherwise False."
   ]
  },
  {
   "cell_type": "markdown",
   "id": "aa3ccc13",
   "metadata": {},
   "source": [
    "#### Example"
   ]
  },
  {
   "cell_type": "code",
   "execution_count": null,
   "id": "3e7b318b",
   "metadata": {},
   "outputs": [],
   "source": [
    "vowels.issubset(alphabets)"
   ]
  },
  {
   "cell_type": "markdown",
   "id": "9ca6888c",
   "metadata": {},
   "source": [
    "#### Example"
   ]
  },
  {
   "cell_type": "code",
   "execution_count": null,
   "id": "9ab14b2c",
   "metadata": {},
   "outputs": [],
   "source": [
    "alphabets.issubset(Consonants)"
   ]
  },
  {
   "cell_type": "markdown",
   "id": "29f323ea",
   "metadata": {},
   "source": [
    "### *issuperset()* method"
   ]
  },
  {
   "cell_type": "markdown",
   "id": "97a34b12",
   "metadata": {},
   "source": [
    "Returns True if the set is the Superset otherwise False."
   ]
  },
  {
   "cell_type": "markdown",
   "id": "c0d14fdb",
   "metadata": {},
   "source": [
    "#### Example"
   ]
  },
  {
   "cell_type": "code",
   "execution_count": null,
   "id": "793a8445",
   "metadata": {},
   "outputs": [],
   "source": [
    "alphabets.issuperset(Consonants)"
   ]
  },
  {
   "cell_type": "markdown",
   "id": "a061aa16",
   "metadata": {},
   "source": [
    "#### Example"
   ]
  },
  {
   "cell_type": "code",
   "execution_count": null,
   "id": "5940743a",
   "metadata": {},
   "outputs": [],
   "source": [
    "vowels.issuperset(Consonants)"
   ]
  },
  {
   "cell_type": "markdown",
   "id": "c6c5ca22",
   "metadata": {},
   "source": [
    "### *isdisjoint()* method"
   ]
  },
  {
   "cell_type": "markdown",
   "id": "133e06bc",
   "metadata": {},
   "source": [
    "Returns True if two sets have a null intersection."
   ]
  },
  {
   "cell_type": "markdown",
   "id": "35460f19",
   "metadata": {},
   "source": [
    "#### Example"
   ]
  },
  {
   "cell_type": "code",
   "execution_count": 55,
   "id": "26e04551",
   "metadata": {},
   "outputs": [
    {
     "data": {
      "text/plain": [
       "True"
      ]
     },
     "execution_count": 55,
     "metadata": {},
     "output_type": "execute_result"
    }
   ],
   "source": [
    "vowels.isdisjoint(Consonants)"
   ]
  },
  {
   "cell_type": "markdown",
   "id": "42f9406a",
   "metadata": {},
   "source": [
    "#### Example"
   ]
  },
  {
   "cell_type": "code",
   "execution_count": 56,
   "id": "6813abdd",
   "metadata": {},
   "outputs": [
    {
     "data": {
      "text/plain": [
       "False"
      ]
     },
     "execution_count": 56,
     "metadata": {},
     "output_type": "execute_result"
    }
   ],
   "source": [
    "vowels.isdisjoint(alphabets)"
   ]
  },
  {
   "cell_type": "markdown",
   "id": "2c77c22e",
   "metadata": {},
   "source": [
    "### *copy()* method"
   ]
  },
  {
   "cell_type": "markdown",
   "id": "4ac7b3ee",
   "metadata": {},
   "source": [
    "Makes a shallow copy of the set i.e., all the items in the new set are references to the same items as the original set."
   ]
  },
  {
   "cell_type": "markdown",
   "id": "1a82cf19",
   "metadata": {},
   "source": [
    "#### Example"
   ]
  },
  {
   "cell_type": "code",
   "execution_count": 87,
   "id": "ec0be898",
   "metadata": {},
   "outputs": [],
   "source": [
    "stationeries = {'Book', 'Pen', 'Pencil'}"
   ]
  },
  {
   "cell_type": "code",
   "execution_count": 88,
   "id": "9b1616d7",
   "metadata": {},
   "outputs": [],
   "source": [
    "stationeries_copy = stationeries.copy()"
   ]
  },
  {
   "cell_type": "code",
   "execution_count": 89,
   "id": "fefa7405",
   "metadata": {},
   "outputs": [
    {
     "name": "stdout",
     "output_type": "stream",
     "text": [
      "{'Book', 'Pen', 'Pencil'}\n"
     ]
    }
   ],
   "source": [
    "print(stationeries_copy)"
   ]
  },
  {
   "cell_type": "code",
   "execution_count": 90,
   "id": "204ee9b1",
   "metadata": {},
   "outputs": [],
   "source": [
    "stationeries.add('Eraser')"
   ]
  },
  {
   "cell_type": "code",
   "execution_count": 91,
   "id": "523dd1ce",
   "metadata": {},
   "outputs": [
    {
     "name": "stdout",
     "output_type": "stream",
     "text": [
      "{'Book', 'Pen', 'Eraser', 'Pencil'}\n"
     ]
    }
   ],
   "source": [
    "print(stationeries)"
   ]
  },
  {
   "cell_type": "code",
   "execution_count": 92,
   "id": "e10044bc",
   "metadata": {},
   "outputs": [
    {
     "name": "stdout",
     "output_type": "stream",
     "text": [
      "{'Book', 'Pen', 'Pencil'}\n"
     ]
    }
   ],
   "source": [
    "print(stationeries_copy)"
   ]
  },
  {
   "cell_type": "markdown",
   "id": "7b5d1b8a",
   "metadata": {},
   "source": [
    "## Set Comprehensions"
   ]
  },
  {
   "cell_type": "markdown",
   "id": "9f59972e",
   "metadata": {},
   "source": [
    "List comprehension use [] brackets while set comprehension uses {} brackets."
   ]
  },
  {
   "cell_type": "markdown",
   "id": "bcde1d74",
   "metadata": {},
   "source": [
    "### Example"
   ]
  },
  {
   "cell_type": "code",
   "execution_count": 94,
   "id": "0831c207",
   "metadata": {},
   "outputs": [
    {
     "data": {
      "text/plain": [
       "{0, 1, 2, 3, 4, 5, 6, 7, 8, 9, 10, 11, 12, 13, 14, 15, 16, 17, 18, 19}"
      ]
     },
     "execution_count": 94,
     "metadata": {},
     "output_type": "execute_result"
    }
   ],
   "source": [
    "# To create a set of even numbers\n",
    "\n",
    "{num for num in range(20)}"
   ]
  },
  {
   "cell_type": "code",
   "execution_count": null,
   "id": "241bf8d8",
   "metadata": {},
   "outputs": [],
   "source": []
  }
 ],
 "metadata": {
  "kernelspec": {
   "display_name": "Python 3 (ipykernel)",
   "language": "python",
   "name": "python3"
  },
  "language_info": {
   "codemirror_mode": {
    "name": "ipython",
    "version": 3
   },
   "file_extension": ".py",
   "mimetype": "text/x-python",
   "name": "python",
   "nbconvert_exporter": "python",
   "pygments_lexer": "ipython3",
   "version": "3.11.7"
  }
 },
 "nbformat": 4,
 "nbformat_minor": 5
}
