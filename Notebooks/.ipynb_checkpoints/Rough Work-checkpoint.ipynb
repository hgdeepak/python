{
 "cells": [
  {
   "cell_type": "code",
   "execution_count": 1,
   "id": "1936a828",
   "metadata": {},
   "outputs": [],
   "source": [
    "def increment_number():\n",
    "    number = int(input(\"Enter a number: \"))\n",
    "    \n",
    "    number += 1\n",
    "    \n",
    "    print(number)"
   ]
  },
  {
   "cell_type": "code",
   "execution_count": 2,
   "id": "c0042da6",
   "metadata": {},
   "outputs": [
    {
     "name": "stdout",
     "output_type": "stream",
     "text": [
      "Enter a number: 10\n",
      "11\n"
     ]
    }
   ],
   "source": [
    "increment_number()"
   ]
  },
  {
   "cell_type": "code",
   "execution_count": 3,
   "id": "6a60bd6f",
   "metadata": {},
   "outputs": [],
   "source": [
    "def increment_number(number):\n",
    "   \n",
    "    number += 1\n",
    "    \n",
    "    print(number)"
   ]
  },
  {
   "cell_type": "code",
   "execution_count": 4,
   "id": "e8cc5177",
   "metadata": {},
   "outputs": [
    {
     "name": "stdout",
     "output_type": "stream",
     "text": [
      "13\n"
     ]
    }
   ],
   "source": [
    "increment_number(12)"
   ]
  },
  {
   "cell_type": "code",
   "execution_count": 7,
   "id": "2b85a5cf",
   "metadata": {},
   "outputs": [],
   "source": [
    "increment = lambda number : number + 1"
   ]
  },
  {
   "cell_type": "code",
   "execution_count": 8,
   "id": "fbf6de4c",
   "metadata": {},
   "outputs": [
    {
     "data": {
      "text/plain": [
       "4"
      ]
     },
     "execution_count": 8,
     "metadata": {},
     "output_type": "execute_result"
    }
   ],
   "source": [
    "increment(3)"
   ]
  },
  {
   "cell_type": "code",
   "execution_count": null,
   "id": "43ad1c0e",
   "metadata": {},
   "outputs": [],
   "source": []
  }
 ],
 "metadata": {
  "kernelspec": {
   "display_name": "Python 3 (ipykernel)",
   "language": "python",
   "name": "python3"
  },
  "language_info": {
   "codemirror_mode": {
    "name": "ipython",
    "version": 3
   },
   "file_extension": ".py",
   "mimetype": "text/x-python",
   "name": "python",
   "nbconvert_exporter": "python",
   "pygments_lexer": "ipython3",
   "version": "3.11.5"
  }
 },
 "nbformat": 4,
 "nbformat_minor": 5
}
