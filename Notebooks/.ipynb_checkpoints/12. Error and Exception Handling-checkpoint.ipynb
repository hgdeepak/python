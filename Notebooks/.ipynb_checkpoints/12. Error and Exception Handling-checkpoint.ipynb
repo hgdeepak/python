{
 "cells": [
  {
   "cell_type": "markdown",
   "id": "1c903466",
   "metadata": {},
   "source": [
    "# Introduction to Errors and Exceptions"
   ]
  },
  {
   "cell_type": "markdown",
   "id": "7f769b08",
   "metadata": {},
   "source": [
    "## Errors"
   ]
  },
  {
   "cell_type": "markdown",
   "id": "b46737bf",
   "metadata": {},
   "source": [
    "There are 2 kinds of errors:\n",
    "\n",
    "* Syntax Errors\n",
    "* Exceptions\n",
    "\n",
    "A software program may behave abnormally or unexpectedly because of errors and/or exceptions.\n",
    "\n",
    "The 2 common type of errors that may be encountered in programming are:\n",
    "\n",
    "* Syntax Error\n",
    "\n",
    "* Logic Error\n",
    "\n",
    "Syntax errors arise due to poor understanding of the programming language.\n",
    "\n",
    "Syntax errors can be detected by exhaustive debugging and testing procedures.\n",
    "\n",
    "Logic errors occur due to poor understanding of the problem and its solution.\n",
    "\n",
    "A program with logic error executes well but with incorrect result."
   ]
  },
  {
   "cell_type": "markdown",
   "id": "6f9c480d",
   "metadata": {},
   "source": [
    "### Example: Syntax Error"
   ]
  },
  {
   "cell_type": "code",
   "execution_count": 2,
   "id": "809e101d",
   "metadata": {},
   "outputs": [
    {
     "ename": "SyntaxError",
     "evalue": "expected ':' (720244258.py, line 1)",
     "output_type": "error",
     "traceback": [
      "\u001b[1;36m  Cell \u001b[1;32mIn[2], line 1\u001b[1;36m\u001b[0m\n\u001b[1;33m    def add_numbers(a, b)\u001b[0m\n\u001b[1;37m                         ^\u001b[0m\n\u001b[1;31mSyntaxError\u001b[0m\u001b[1;31m:\u001b[0m expected ':'\n"
     ]
    }
   ],
   "source": [
    "def add_numbers(a, b)\n",
    "    return a + b"
   ]
  },
  {
   "cell_type": "markdown",
   "id": "15132319",
   "metadata": {},
   "source": [
    "### Example: Logic Error"
   ]
  },
  {
   "cell_type": "code",
   "execution_count": 2,
   "id": "dbcf2e67",
   "metadata": {},
   "outputs": [
    {
     "name": "stdout",
     "output_type": "stream",
     "text": [
      "Enter a number12\n",
      "12 is an odd number.\n"
     ]
    }
   ],
   "source": [
    "number = int(input('Enter a number'))\n",
    "\n",
    "if number % 2 == 0:\n",
    "    print(f'{number} is an odd number.')\n",
    "else:\n",
    "    print(f'{number} is an even number.')"
   ]
  },
  {
   "cell_type": "markdown",
   "id": "31cc9cf2",
   "metadata": {},
   "source": [
    "## Exceptions"
   ]
  },
  {
   "cell_type": "markdown",
   "id": "89f347a0",
   "metadata": {},
   "source": [
    "Exceptions are run-time anomalies or unusual conditions that a program may encounter during the execution.\n",
    "\n",
    "An exception is an event, which occurs during the execution of a program and disrupts the normal flow of exection of the program\\'s instructions.\n",
    "\n",
    "Example: Divide by zero, accessing the array out of its bounds, running out of memory or disk space.\n",
    "\n",
    "Exceptions are categorized as:\n",
    "\n",
    "* Synchronous exceptions\n",
    "\n",
    "    Example: Divide by zero, array index out of bound\n",
    "    \n",
    "\n",
    "* Asnynchronous exceptions\n",
    "\n",
    "    Example: Hardware malfunction, disk failure\n",
    "\n",
    "Synchronous exceptions can be controlled by the program.\n",
    "\n",
    "Asynchronous exceptions are caused by events that are beyond the control of the program.\n",
    "\n",
    "When a program raises an exception, it must be handled by the program otherwise the program will be immediately terminated.\n",
    "\n",
    "If exceptions are not handled by the program, error messages are generated."
   ]
  },
  {
   "cell_type": "markdown",
   "id": "9057e6ae",
   "metadata": {},
   "source": [
    "### Example"
   ]
  },
  {
   "cell_type": "code",
   "execution_count": 11,
   "id": "ade2117d",
   "metadata": {},
   "outputs": [
    {
     "name": "stdout",
     "output_type": "stream",
     "text": [
      "Enter the numerator: 4\n",
      "Enter the denominator: 0\n"
     ]
    },
    {
     "ename": "ZeroDivisionError",
     "evalue": "division by zero",
     "output_type": "error",
     "traceback": [
      "\u001b[1;31m---------------------------------------------------------------------------\u001b[0m",
      "\u001b[1;31mZeroDivisionError\u001b[0m                         Traceback (most recent call last)",
      "Cell \u001b[1;32mIn[11], line 5\u001b[0m\n\u001b[0;32m      1\u001b[0m numerator \u001b[38;5;241m=\u001b[39m \u001b[38;5;28mint\u001b[39m(\u001b[38;5;28minput\u001b[39m(\u001b[38;5;124m'\u001b[39m\u001b[38;5;124mEnter the numerator: \u001b[39m\u001b[38;5;124m'\u001b[39m))\n\u001b[0;32m      3\u001b[0m denominator \u001b[38;5;241m=\u001b[39m \u001b[38;5;28mint\u001b[39m(\u001b[38;5;28minput\u001b[39m(\u001b[38;5;124m'\u001b[39m\u001b[38;5;124mEnter the denominator: \u001b[39m\u001b[38;5;124m'\u001b[39m))\n\u001b[1;32m----> 5\u001b[0m quotient \u001b[38;5;241m=\u001b[39m \u001b[43mnumerator\u001b[49m\u001b[43m \u001b[49m\u001b[38;5;241;43m/\u001b[39;49m\u001b[43m \u001b[49m\u001b[43mdenominator\u001b[49m\n\u001b[0;32m      7\u001b[0m \u001b[38;5;28mprint\u001b[39m(\u001b[38;5;124mf\u001b[39m\u001b[38;5;124m'\u001b[39m\u001b[38;5;124mQuotient: \u001b[39m\u001b[38;5;132;01m{\u001b[39;00mquotient\u001b[38;5;132;01m}\u001b[39;00m\u001b[38;5;124m'\u001b[39m)\n",
      "\u001b[1;31mZeroDivisionError\u001b[0m: division by zero"
     ]
    }
   ],
   "source": [
    "numerator = int(input('Enter the numerator: '))\n",
    "\n",
    "denominator = int(input('Enter the denominator: '))\n",
    "\n",
    "quotient = numerator / denominator\n",
    "\n",
    "print(f'Quotient: {quotient}')"
   ]
  },
  {
   "cell_type": "markdown",
   "id": "372daf27",
   "metadata": {},
   "source": [
    "# Handling Exceptions"
   ]
  },
  {
   "cell_type": "markdown",
   "id": "6ce4f17b",
   "metadata": {},
   "source": [
    "In a program, exceptions are handled using *try* and *except* block.\n",
    "\n",
    "A critical operation which can raise exception is placed inside the *try* block.\n",
    "\n",
    "The code that handles exception is written in *except* block."
   ]
  },
  {
   "cell_type": "markdown",
   "id": "77005054",
   "metadata": {},
   "source": [
    "## Example"
   ]
  },
  {
   "cell_type": "code",
   "execution_count": 9,
   "id": "e0aa1015",
   "metadata": {},
   "outputs": [
    {
     "name": "stdout",
     "output_type": "stream",
     "text": [
      "Enter the numerator: 4\n",
      "Enter the denominator: 0\n",
      "Error Occured\n"
     ]
    }
   ],
   "source": [
    "try:\n",
    "    numerator = int(input('Enter the numerator: '))\n",
    "\n",
    "    denominator = int(input('Enter the denominator: '))\n",
    "\n",
    "    quotient = numerator / denominator\n",
    "\n",
    "    print(f'Quotient: {quotient}')\n",
    "except:\n",
    "    print('Error Occured')"
   ]
  },
  {
   "cell_type": "markdown",
   "id": "2996ffd3",
   "metadata": {},
   "source": [
    "1. First *try* block is executed.\n",
    "\n",
    "2. If no exception occurs, the *except* block is skipped.\n",
    "\n",
    "3. If an exception occurs:\n",
    "\n",
    "    a. Rest of the statments in the *try* block are skipped.\n",
    "    \n",
    "    b. If the exception type matches the exception named after the *except* keyword, the except block is executed.\n",
    "    \n",
    "    c. If the exception type does not match the exception named after the *except* keyword, then exception is passed on to the *try* block.\n",
    "    \n",
    "    d. If no exception handler is found, then it is an unhandled exception and the program terminates with an error message."
   ]
  },
  {
   "cell_type": "markdown",
   "id": "c510ea32",
   "metadata": {},
   "source": [
    "## Example"
   ]
  },
  {
   "cell_type": "code",
   "execution_count": 13,
   "id": "37c8959e",
   "metadata": {},
   "outputs": [
    {
     "name": "stdout",
     "output_type": "stream",
     "text": [
      "Enter the numerator: 2\n",
      "Enter the denominator: 0\n",
      "Zero Division Error: division by zero\n"
     ]
    }
   ],
   "source": [
    "try:\n",
    "    numerator = int(input('Enter the numerator: '))\n",
    "\n",
    "    denominator = int(input('Enter the denominator: '))\n",
    "\n",
    "    quotient = numerator / denominator\n",
    "\n",
    "    print(f'Quotient: {quotient}')\n",
    "except ValueError as ex:\n",
    "    print(f'Value Error: {str(ex)}')\n",
    "except ZeroDivisionError as ex:\n",
    "    print(f'Zero Division Error: {str(ex)}')"
   ]
  },
  {
   "cell_type": "markdown",
   "id": "ef5363f5",
   "metadata": {},
   "source": [
    "# Multiple Except Blocks"
   ]
  },
  {
   "cell_type": "markdown",
   "id": "75754a47",
   "metadata": {},
   "source": [
    "There can be multiple *except* blocks for a single *try* block.\n",
    "\n",
    "The block which matches with the exception generated, will get executed."
   ]
  },
  {
   "cell_type": "markdown",
   "id": "a1ec3751",
   "metadata": {},
   "source": [
    "## Example"
   ]
  },
  {
   "cell_type": "code",
   "execution_count": 11,
   "id": "dfedb801",
   "metadata": {},
   "outputs": [
    {
     "name": "stdout",
     "output_type": "stream",
     "text": [
      "Enter the numerator: 2\n",
      "Enter the denominator: 0\n"
     ]
    },
    {
     "ename": "ZeroDivisionError",
     "evalue": "division by zero",
     "output_type": "error",
     "traceback": [
      "\u001b[1;31m---------------------------------------------------------------------------\u001b[0m",
      "\u001b[1;31mZeroDivisionError\u001b[0m                         Traceback (most recent call last)",
      "Cell \u001b[1;32mIn[11], line 5\u001b[0m\n\u001b[0;32m      1\u001b[0m numerator \u001b[38;5;241m=\u001b[39m \u001b[38;5;28mint\u001b[39m(\u001b[38;5;28minput\u001b[39m(\u001b[38;5;124m'\u001b[39m\u001b[38;5;124mEnter the numerator: \u001b[39m\u001b[38;5;124m'\u001b[39m))\n\u001b[0;32m      3\u001b[0m denominator \u001b[38;5;241m=\u001b[39m \u001b[38;5;28mint\u001b[39m(\u001b[38;5;28minput\u001b[39m(\u001b[38;5;124m'\u001b[39m\u001b[38;5;124mEnter the denominator: \u001b[39m\u001b[38;5;124m'\u001b[39m))\n\u001b[1;32m----> 5\u001b[0m quotient \u001b[38;5;241m=\u001b[39m \u001b[43mnumerator\u001b[49m\u001b[43m \u001b[49m\u001b[38;5;241;43m/\u001b[39;49m\u001b[43m \u001b[49m\u001b[43mdenominator\u001b[49m\n\u001b[0;32m      7\u001b[0m \u001b[38;5;28mprint\u001b[39m(\u001b[38;5;124mf\u001b[39m\u001b[38;5;124m'\u001b[39m\u001b[38;5;124mQuotient: \u001b[39m\u001b[38;5;132;01m{\u001b[39;00mquotient\u001b[38;5;132;01m}\u001b[39;00m\u001b[38;5;124m'\u001b[39m)\n",
      "\u001b[1;31mZeroDivisionError\u001b[0m: division by zero"
     ]
    }
   ],
   "source": [
    "numerator = int(input('Enter the numerator: '))\n",
    "\n",
    "denominator = int(input('Enter the denominator: '))\n",
    "\n",
    "quotient = numerator / denominator\n",
    "\n",
    "print(f'Quotient: {quotient}')"
   ]
  },
  {
   "cell_type": "code",
   "execution_count": 14,
   "id": "04d1b869",
   "metadata": {},
   "outputs": [
    {
     "name": "stdout",
     "output_type": "stream",
     "text": [
      "Enter the numerator: 2\n",
      "Enter the denominator: 2\n",
      "Quotient: 1.0\n"
     ]
    }
   ],
   "source": [
    "try:\n",
    "    numerator = int(input('Enter the numerator: '))\n",
    "\n",
    "    denominator = int(input('Enter the denominator: '))\n",
    "\n",
    "    quotient = numerator / denominator\n",
    "\n",
    "    print(f'Quotient: {quotient}')\n",
    "except ValueError as ex:\n",
    "    print('Error: Enter valid numerical value')\n",
    "except ZeroDivisionError as ex:\n",
    "    print(f'Error: {str(ex)}')\n",
    "except:\n",
    "    print('Unknown error')"
   ]
  },
  {
   "cell_type": "markdown",
   "id": "7803fde8",
   "metadata": {},
   "source": [
    "# Multiple Exceptions in a Single Block"
   ]
  },
  {
   "cell_type": "markdown",
   "id": "61b07886",
   "metadata": {},
   "source": [
    "An *except* clause may name multiple exceptions as a parenthesized tuple.\n",
    "\n",
    "Whatever the exception is raised, out of the exceptions specified, the same *except* block will be executed."
   ]
  },
  {
   "cell_type": "markdown",
   "id": "ff630ab1",
   "metadata": {},
   "source": [
    "## Example"
   ]
  },
  {
   "cell_type": "code",
   "execution_count": 15,
   "id": "795a3faf",
   "metadata": {},
   "outputs": [
    {
     "name": "stdout",
     "output_type": "stream",
     "text": [
      "Enter the numerator: a\n",
      "Error: An error has occured.\n"
     ]
    }
   ],
   "source": [
    "try:\n",
    "    numerator = int(input('Enter the numerator: '))\n",
    "\n",
    "    denominator = int(input('Enter the denominator: '))\n",
    "\n",
    "    quotient = numerator / denominator\n",
    "\n",
    "    print(f'Quotient: {quotient}')\n",
    "except (ValueError, ZeroDivisionError):\n",
    "    print('Error: An error has occured.')"
   ]
  },
  {
   "cell_type": "markdown",
   "id": "0e04dd24",
   "metadata": {},
   "source": [
    "**Note:** To give a specific exception handler for any exception raised, it is better to have multiple *except* blocks."
   ]
  },
  {
   "cell_type": "markdown",
   "id": "2c501149",
   "metadata": {},
   "source": [
    "# Except Block without Exception"
   ]
  },
  {
   "cell_type": "markdown",
   "id": "d8fda572",
   "metadata": {},
   "source": [
    "A program can have an *except* block without mentioning any exception type.\n",
    "\n",
    "This type of block, if present, should be the last one.\n",
    "\n",
    "In large software programs, it is difficult to anticipate all types of possible exceptional conditions. The programmer may not be able write a different handler for every individual exception type. In such situations, it is better to write a handler that would catch all types of exceptions."
   ]
  },
  {
   "cell_type": "markdown",
   "id": "54f92b1c",
   "metadata": {},
   "source": [
    "## Example"
   ]
  },
  {
   "cell_type": "code",
   "execution_count": 16,
   "id": "af01c01a",
   "metadata": {},
   "outputs": [
    {
     "name": "stdout",
     "output_type": "stream",
     "text": [
      "Enter the numerator: 2\n",
      "Enter the denominator: 3\n",
      "Quotient: 0.6666666666666666\n"
     ]
    }
   ],
   "source": [
    "try:\n",
    "    numerator = int(input('Enter the numerator: '))\n",
    "\n",
    "    denominator = int(input('Enter the denominator: '))\n",
    "\n",
    "    quotient = numerator / denominator\n",
    "\n",
    "    print(f'Quotient: {quotient}')\n",
    "except ValueError as ex:\n",
    "    print('Error: Enter valid numerical value')\n",
    "except ZeroDivisionError as ex:\n",
    "    print(f'Error: {str(ex)}')\n",
    "except:\n",
    "    print('Unexpected error. Program is terminating.')"
   ]
  },
  {
   "cell_type": "markdown",
   "id": "fbd4540d",
   "metadata": {},
   "source": [
    "**Note:** Using *except* without mentioning any specific exception is not a good programming practice. Since it catches all the exceptions and the programmer will not be able to identify the root cause of the problem."
   ]
  },
  {
   "cell_type": "markdown",
   "id": "8ad354ee",
   "metadata": {},
   "source": [
    "# The *else* Clause"
   ]
  },
  {
   "cell_type": "markdown",
   "id": "379721ac",
   "metadata": {},
   "source": [
    "The *try* ... *except* block can optionally have an *else* clause.\n",
    "\n",
    "If present, the *else* clause must follow all the *except* blocks.\n",
    "\n",
    "The statements in the *else* block is executed only if the *try* clause does not raise an exception."
   ]
  },
  {
   "cell_type": "markdown",
   "id": "7faa67e0",
   "metadata": {},
   "source": [
    "## Example"
   ]
  },
  {
   "cell_type": "code",
   "execution_count": 15,
   "id": "db102e97",
   "metadata": {},
   "outputs": [
    {
     "name": "stdout",
     "output_type": "stream",
     "text": [
      "Enter the numerator: 4\n",
      "Enter the denominator: 0\n",
      "Error: division by zero\n"
     ]
    }
   ],
   "source": [
    "try:\n",
    "    numerator = int(input('Enter the numerator: '))\n",
    "\n",
    "    denominator = int(input('Enter the denominator: '))\n",
    "\n",
    "    quotient = numerator / denominator\n",
    "\n",
    "    print(f'Quotient: {quotient}')\n",
    "except ValueError as ex:\n",
    "    print('Error: Enter valid numerical value')\n",
    "except ZeroDivisionError as ex:\n",
    "    print(f'Error: {str(ex)}')\n",
    "except:\n",
    "    print('Unexpected error. Program is terminating.')\n",
    "else:\n",
    "    print('The program terminated successfully.')"
   ]
  },
  {
   "cell_type": "markdown",
   "id": "922a28e5",
   "metadata": {},
   "source": [
    "# Raising Exceptions"
   ]
  },
  {
   "cell_type": "markdown",
   "id": "889acbe4",
   "metadata": {},
   "source": [
    "An exception can be raised using the *raise* keyword."
   ]
  },
  {
   "cell_type": "markdown",
   "id": "bc7b0d63",
   "metadata": {},
   "source": [
    "## Example"
   ]
  },
  {
   "cell_type": "code",
   "execution_count": 16,
   "id": "ba9e5633",
   "metadata": {},
   "outputs": [
    {
     "name": "stdout",
     "output_type": "stream",
     "text": [
      "Enter a number: 2\n",
      "An exception is raised\n"
     ]
    }
   ],
   "source": [
    "try:\n",
    "    input('Enter a number: ')\n",
    "    \n",
    "    raise\n",
    "except:\n",
    "    print('An exception is raised')"
   ]
  },
  {
   "cell_type": "markdown",
   "id": "01ac8cfa",
   "metadata": {},
   "source": [
    "## Example"
   ]
  },
  {
   "cell_type": "code",
   "execution_count": 18,
   "id": "e4107f84",
   "metadata": {},
   "outputs": [
    {
     "name": "stdout",
     "output_type": "stream",
     "text": [
      "Enter a number: 12\n",
      "An exception is raised\n"
     ]
    }
   ],
   "source": [
    "try:\n",
    "    input('Enter a number: ')\n",
    "    \n",
    "    raise NameError\n",
    "except NameError:\n",
    "    print('An exception is raised')"
   ]
  },
  {
   "cell_type": "markdown",
   "id": "b5d2cd0b",
   "metadata": {},
   "source": [
    "# Instantiating Exceptions"
   ]
  },
  {
   "cell_type": "markdown",
   "id": "8936a02f",
   "metadata": {},
   "source": [
    "An exception can be instantiated before raising it. \n",
    "\n",
    "Any attributes or arguments can be added as desired. These attributes can be used to give additional information about the error.\n",
    "\n",
    "To instantiate the exception, the *except* block may specify a variable after the exception name."
   ]
  },
  {
   "cell_type": "code",
   "execution_count": 18,
   "id": "8462f60b",
   "metadata": {},
   "outputs": [
    {
     "name": "stdout",
     "output_type": "stream",
     "text": [
      "Enter the numerator: 4\n",
      "Enter the denominator: 0\n",
      "Error: division by zero\n"
     ]
    }
   ],
   "source": [
    "try:\n",
    "    numerator = int(input('Enter the numerator: '))\n",
    "\n",
    "    denominator = int(input('Enter the denominator: '))\n",
    "\n",
    "    quotient = numerator / denominator\n",
    "\n",
    "    print(f'Quotient: {quotient}')\n",
    "except ValueError as ex:\n",
    "    print(f'Error: {str(ex)}')\n",
    "except ZeroDivisionError as ex:\n",
    "    print(f'Error: {str(ex)}')\n",
    "except:\n",
    "    print('Unexpected error. Program is terminating.')"
   ]
  },
  {
   "cell_type": "markdown",
   "id": "de94946b",
   "metadata": {},
   "source": [
    "# Handling Exceptions in Invoked Functions"
   ]
  },
  {
   "cell_type": "markdown",
   "id": "fbae6f6c",
   "metadata": {},
   "source": [
    "## Example"
   ]
  },
  {
   "cell_type": "code",
   "execution_count": 21,
   "id": "302b059f",
   "metadata": {},
   "outputs": [],
   "source": [
    "def get_quotient(num, den):\n",
    "    try:\n",
    "        return num/den\n",
    "    except:\n",
    "        print('An error occured.')"
   ]
  },
  {
   "cell_type": "code",
   "execution_count": 22,
   "id": "00feccdb",
   "metadata": {},
   "outputs": [
    {
     "name": "stdout",
     "output_type": "stream",
     "text": [
      "An error occured.\n"
     ]
    }
   ],
   "source": [
    "get_quotient(2, 0)"
   ]
  },
  {
   "cell_type": "markdown",
   "id": "8f16f9d5",
   "metadata": {},
   "source": [
    "## Example"
   ]
  },
  {
   "cell_type": "code",
   "execution_count": 23,
   "id": "b304d670",
   "metadata": {},
   "outputs": [],
   "source": [
    "def get_quotient(num, den):\n",
    "    return num/den"
   ]
  },
  {
   "cell_type": "code",
   "execution_count": 24,
   "id": "5e65bc21",
   "metadata": {},
   "outputs": [
    {
     "name": "stdout",
     "output_type": "stream",
     "text": [
      "An error occured\n"
     ]
    }
   ],
   "source": [
    "try:\n",
    "    get_quotient(2, 0)\n",
    "except:\n",
    "    print('An error occured')"
   ]
  },
  {
   "cell_type": "markdown",
   "id": "cece43fc",
   "metadata": {},
   "source": [
    "**Note:** The program execution create a stack as one function calls another. When a function at the bottom of the stack raises an exception, it is propogated up through the call stack so that the function may handle it. If no function handles it while moving towards top of the stack, the program terminates and a traceback is printed on the screen. The traceback helps the programmer to identify the root cause."
   ]
  },
  {
   "cell_type": "markdown",
   "id": "ef6dcfe8",
   "metadata": {},
   "source": [
    "# Built-in And User-Defined Exceptions"
   ]
  },
  {
   "cell_type": "markdown",
   "id": "dc9b0d11",
   "metadata": {},
   "source": [
    "## Built-in Exception"
   ]
  },
  {
   "cell_type": "markdown",
   "id": "5029a0d8",
   "metadata": {},
   "source": [
    "| Exception | Description |\n",
    "| --------- | ----------- |\n",
    "| Exception | Base class for all exceptions |\n",
    "| ZeroDivisionError | Raised when a number is divide by zero |\n",
    "| NameError | Raised when an identifier is not found in local or global namespace |\n",
    "| IndexError | Raised when an index is not found in a sequence |\n",
    "| SyntaxError | Raised when there is a syntax error in the program |"
   ]
  },
  {
   "cell_type": "markdown",
   "id": "96e3c76a",
   "metadata": {},
   "source": [
    "## User-Defined Exception"
   ]
  },
  {
   "cell_type": "markdown",
   "id": "8f7d5a3c",
   "metadata": {},
   "source": [
    "Python allows programmers to create their own exceptions by creating a new exception class.\n",
    "\n",
    "The new exception class is derived from the base class Exception.\n",
    "\n",
    "Creating our own exception class or defining a user defined exception is known as custom exception."
   ]
  },
  {
   "cell_type": "markdown",
   "id": "ee73e159",
   "metadata": {},
   "source": [
    "### Example"
   ]
  },
  {
   "cell_type": "code",
   "execution_count": 27,
   "id": "d283856c",
   "metadata": {},
   "outputs": [],
   "source": [
    "class MyError(Exception):\n",
    "    def __init__(self):\n",
    "        pass\n",
    "    \n",
    "    def __str__(self):\n",
    "        return ('An Error has occured')"
   ]
  },
  {
   "cell_type": "code",
   "execution_count": 28,
   "id": "a2f39b67",
   "metadata": {},
   "outputs": [
    {
     "name": "stdout",
     "output_type": "stream",
     "text": [
      "An Error has occured\n"
     ]
    }
   ],
   "source": [
    "try:\n",
    "    raise MyError\n",
    "except MyError as ex:\n",
    "    print(str(ex))"
   ]
  },
  {
   "cell_type": "markdown",
   "id": "e2c2aade",
   "metadata": {},
   "source": [
    "**Note:** Define exception class names ending with Error to make it consistent with the naming of the standard exceptions."
   ]
  },
  {
   "cell_type": "markdown",
   "id": "2b2937da",
   "metadata": {},
   "source": [
    "# The *finally* Block"
   ]
  },
  {
   "cell_type": "markdown",
   "id": "9bd3d7fb",
   "metadata": {},
   "source": [
    "The *finally* block is used to define clean-up actions that must be executed under all circumstances.\n",
    "\n",
    "The statements written in *finally* block are executed irrespective of whether an exception has occured or not.\n",
    "\n",
    "In real world application, the *finally* clause is useful for releasing external resources like file handles, network connections, memory resources, etc.."
   ]
  },
  {
   "cell_type": "markdown",
   "id": "d274e28f",
   "metadata": {},
   "source": [
    "## Example"
   ]
  },
  {
   "cell_type": "code",
   "execution_count": 5,
   "id": "80df3323",
   "metadata": {},
   "outputs": [
    {
     "name": "stdout",
     "output_type": "stream",
     "text": [
      "Raise an error\n",
      "An exception is caught\n",
      "Performing the clean up\n"
     ]
    }
   ],
   "source": [
    "try:\n",
    "    print('Raise an error')\n",
    "    raise\n",
    "except:\n",
    "    print('An exception is caught')\n",
    "finally:\n",
    "    print('Performing the clean up')"
   ]
  },
  {
   "cell_type": "markdown",
   "id": "06637548",
   "metadata": {},
   "source": [
    "**Note:** An *else* block can\\'t be present with a finally block."
   ]
  },
  {
   "cell_type": "markdown",
   "id": "eee52757",
   "metadata": {},
   "source": [
    "# Pre-defined Clean-up action"
   ]
  },
  {
   "cell_type": "markdown",
   "id": "1b32402e",
   "metadata": {},
   "source": [
    "In Python, objects define standard clean-up actions that are automatically performed when the object is no longer needed.\n",
    "\n",
    "The default clean-up action is performed irrespective of whether the operation using the object succeeded or failed."
   ]
  },
  {
   "cell_type": "markdown",
   "id": "0b8ffe86",
   "metadata": {},
   "source": [
    "## Example"
   ]
  },
  {
   "cell_type": "code",
   "execution_count": 9,
   "id": "de5670f4",
   "metadata": {},
   "outputs": [],
   "source": [
    "log_file = open('log.txt', 'r')\n",
    "\n",
    "log_file.read()\n",
    "\n",
    "log_file.close()"
   ]
  },
  {
   "cell_type": "markdown",
   "id": "a6d44cd6",
   "metadata": {},
   "source": [
    "We prefer to open the file using the *with* keyword so that the file is automatically closed when not in use.\n",
    "\n",
    "If we forget to close the file or forget the code to close because of an exception, the file will still be closed.\n",
    "\n",
    "The *with* statement allows objects to be cleaned up when not in use."
   ]
  },
  {
   "cell_type": "code",
   "execution_count": 10,
   "id": "187158e0",
   "metadata": {},
   "outputs": [
    {
     "name": "stdout",
     "output_type": "stream",
     "text": [
      "Python programming.\n"
     ]
    }
   ],
   "source": [
    "with open('log.txt', 'r') as log_file:\n",
    "    print(log_file.readline())"
   ]
  },
  {
   "cell_type": "markdown",
   "id": "9d87dc71",
   "metadata": {},
   "source": [
    "# Re-raising Exception"
   ]
  },
  {
   "cell_type": "markdown",
   "id": "0ee196fc",
   "metadata": {},
   "source": [
    "An exception thrown from the *try* block can be handled as well as re-raised in the *except* block using the keyword *raise*."
   ]
  },
  {
   "cell_type": "markdown",
   "id": "afde6aa1",
   "metadata": {},
   "source": [
    "## Example"
   ]
  },
  {
   "cell_type": "code",
   "execution_count": 13,
   "id": "76e6f2ec",
   "metadata": {},
   "outputs": [
    {
     "name": "stdout",
     "output_type": "stream",
     "text": [
      "File not found\n"
     ]
    },
    {
     "ename": "FileNotFoundError",
     "evalue": "[Errno 2] No such file or directory: 'error_log.txt'",
     "output_type": "error",
     "traceback": [
      "\u001b[1;31m---------------------------------------------------------------------------\u001b[0m",
      "\u001b[1;31mFileNotFoundError\u001b[0m                         Traceback (most recent call last)",
      "Cell \u001b[1;32mIn[13], line 2\u001b[0m\n\u001b[0;32m      1\u001b[0m \u001b[38;5;28;01mtry\u001b[39;00m:\n\u001b[1;32m----> 2\u001b[0m     \u001b[38;5;28;43mopen\u001b[39;49m\u001b[43m(\u001b[49m\u001b[38;5;124;43m'\u001b[39;49m\u001b[38;5;124;43merror_log.txt\u001b[39;49m\u001b[38;5;124;43m'\u001b[39;49m\u001b[43m,\u001b[49m\u001b[43m \u001b[49m\u001b[38;5;124;43m'\u001b[39;49m\u001b[38;5;124;43mr\u001b[39;49m\u001b[38;5;124;43m'\u001b[39;49m\u001b[43m)\u001b[49m\n\u001b[0;32m      3\u001b[0m \u001b[38;5;28;01mexcept\u001b[39;00m:\n\u001b[0;32m      4\u001b[0m     \u001b[38;5;28mprint\u001b[39m(\u001b[38;5;124m'\u001b[39m\u001b[38;5;124mFile not found\u001b[39m\u001b[38;5;124m'\u001b[39m)\n",
      "File \u001b[1;32m~\\AppData\\Roaming\\Python\\Python311\\site-packages\\IPython\\core\\interactiveshell.py:284\u001b[0m, in \u001b[0;36m_modified_open\u001b[1;34m(file, *args, **kwargs)\u001b[0m\n\u001b[0;32m    277\u001b[0m \u001b[38;5;28;01mif\u001b[39;00m file \u001b[38;5;129;01min\u001b[39;00m {\u001b[38;5;241m0\u001b[39m, \u001b[38;5;241m1\u001b[39m, \u001b[38;5;241m2\u001b[39m}:\n\u001b[0;32m    278\u001b[0m     \u001b[38;5;28;01mraise\u001b[39;00m \u001b[38;5;167;01mValueError\u001b[39;00m(\n\u001b[0;32m    279\u001b[0m         \u001b[38;5;124mf\u001b[39m\u001b[38;5;124m\"\u001b[39m\u001b[38;5;124mIPython won\u001b[39m\u001b[38;5;124m'\u001b[39m\u001b[38;5;124mt let you open fd=\u001b[39m\u001b[38;5;132;01m{\u001b[39;00mfile\u001b[38;5;132;01m}\u001b[39;00m\u001b[38;5;124m by default \u001b[39m\u001b[38;5;124m\"\u001b[39m\n\u001b[0;32m    280\u001b[0m         \u001b[38;5;124m\"\u001b[39m\u001b[38;5;124mas it is likely to crash IPython. If you know what you are doing, \u001b[39m\u001b[38;5;124m\"\u001b[39m\n\u001b[0;32m    281\u001b[0m         \u001b[38;5;124m\"\u001b[39m\u001b[38;5;124myou can use builtins\u001b[39m\u001b[38;5;124m'\u001b[39m\u001b[38;5;124m open.\u001b[39m\u001b[38;5;124m\"\u001b[39m\n\u001b[0;32m    282\u001b[0m     )\n\u001b[1;32m--> 284\u001b[0m \u001b[38;5;28;01mreturn\u001b[39;00m \u001b[43mio_open\u001b[49m\u001b[43m(\u001b[49m\u001b[43mfile\u001b[49m\u001b[43m,\u001b[49m\u001b[43m \u001b[49m\u001b[38;5;241;43m*\u001b[39;49m\u001b[43margs\u001b[49m\u001b[43m,\u001b[49m\u001b[43m \u001b[49m\u001b[38;5;241;43m*\u001b[39;49m\u001b[38;5;241;43m*\u001b[39;49m\u001b[43mkwargs\u001b[49m\u001b[43m)\u001b[49m\n",
      "\u001b[1;31mFileNotFoundError\u001b[0m: [Errno 2] No such file or directory: 'error_log.txt'"
     ]
    }
   ],
   "source": [
    "try:\n",
    "    open('error_log.txt', 'r')\n",
    "except:\n",
    "    print('File not found')\n",
    "    raise"
   ]
  }
 ],
 "metadata": {
  "kernelspec": {
   "display_name": "Python 3 (ipykernel)",
   "language": "python",
   "name": "python3"
  },
  "language_info": {
   "codemirror_mode": {
    "name": "ipython",
    "version": 3
   },
   "file_extension": ".py",
   "mimetype": "text/x-python",
   "name": "python",
   "nbconvert_exporter": "python",
   "pygments_lexer": "ipython3",
   "version": "3.11.7"
  }
 },
 "nbformat": 4,
 "nbformat_minor": 5
}
