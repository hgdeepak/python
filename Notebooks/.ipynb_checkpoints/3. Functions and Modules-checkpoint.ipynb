{
 "cells": [
  {
   "cell_type": "markdown",
   "id": "c43051c6",
   "metadata": {},
   "source": [
    "# Functions"
   ]
  },
  {
   "cell_type": "markdown",
   "id": "5a9fb0b5",
   "metadata": {},
   "source": [
    "A function is a block of code that performs a single, specific, and well defined task.\n",
    "\n",
    "Data can be passed into a function.\n",
    "\n",
    "A function can return data as a result.\n",
    "\n",
    "There are 2 basic types functions: built-in functions and user defined functions."
   ]
  },
  {
   "cell_type": "markdown",
   "id": "63ac89e6",
   "metadata": {},
   "source": [
    "# Need for functions"
   ]
  },
  {
   "cell_type": "markdown",
   "id": "06d53883",
   "metadata": {},
   "source": [
    "Dividing the program into separate well defined functions facilitates each function to be written and tested separately.\n",
    "\n",
    "Understanding, coding, and testing multiple separate functions are far easier than doing the same in one huge function.\n",
    "\n",
    "When a large program is divided into smaller functions, the workload of the individual developers can be divided.\n",
    "\n",
    "Code resuse is one of the prominent reason to use functions.\n",
    "\n",
    "Functions provide better modularity and high degree of code reuse."
   ]
  },
  {
   "cell_type": "markdown",
   "id": "1e644260",
   "metadata": {},
   "source": [
    "### Example 1"
   ]
  },
  {
   "cell_type": "code",
   "execution_count": null,
   "id": "c412c827",
   "metadata": {},
   "outputs": [],
   "source": [
    "# Get 3 numbers from the user\n",
    "\n",
    "a = int(input(\"Enter a number: \"))\n",
    "\n",
    "b = int(input(\"Enter a number: \"))\n",
    "\n",
    "c = int(input(\"Enter a number: \"))"
   ]
  },
  {
   "cell_type": "code",
   "execution_count": null,
   "id": "44338e43",
   "metadata": {},
   "outputs": [],
   "source": [
    "def get_number():\n",
    "    return int(input(\"Enter a number: \"))"
   ]
  },
  {
   "cell_type": "code",
   "execution_count": null,
   "id": "2f13c35d",
   "metadata": {},
   "outputs": [],
   "source": [
    "a = get_number()\n",
    "\n",
    "b = get_number()\n",
    "\n",
    "c = get_number()"
   ]
  },
  {
   "cell_type": "markdown",
   "id": "d7c6878e",
   "metadata": {},
   "source": [
    "# Function definition"
   ]
  },
  {
   "cell_type": "markdown",
   "id": "8b47f830",
   "metadata": {},
   "source": [
    "Function blocks starts with the keyword *def*.\n",
    "\n",
    "The keyword is followed by the function name and parentheses.\n",
    "\n",
    "After the parentheses a colon is placed.\n",
    "\n",
    "Function parameters are enclosed within the parentheses. Through these parameters, data is passed to the function. \n",
    "\n",
    "Parameters are optional.\n",
    "\n",
    "The code block within the function must be indented.\n",
    "\n",
    "The function can return a value to the caller.\n",
    "\n",
    "The naming convention for the function is same as the variable."
   ]
  },
  {
   "cell_type": "markdown",
   "id": "6ef0296a",
   "metadata": {},
   "source": [
    "### Example 1"
   ]
  },
  {
   "cell_type": "code",
   "execution_count": null,
   "id": "bb8f0d9d",
   "metadata": {},
   "outputs": [],
   "source": [
    "# def function_name():\n",
    "\n",
    "def print_message():\n",
    "    print(\"Hello, Welcome to Python programming.\")"
   ]
  },
  {
   "cell_type": "markdown",
   "id": "d86b425f",
   "metadata": {},
   "source": [
    "# Function call"
   ]
  },
  {
   "cell_type": "markdown",
   "id": "d8e77041",
   "metadata": {},
   "source": [
    "### Example 1"
   ]
  },
  {
   "cell_type": "code",
   "execution_count": null,
   "id": "cb9a2df3",
   "metadata": {},
   "outputs": [],
   "source": [
    "print_message()"
   ]
  },
  {
   "cell_type": "markdown",
   "id": "1d0dc8a3",
   "metadata": {},
   "source": [
    "# Function Parameters"
   ]
  },
  {
   "cell_type": "markdown",
   "id": "8348dda5",
   "metadata": {},
   "source": [
    "A function can take parameters which are nothing but the values passed to the function.\n",
    "\n",
    "The function can manipulate the parameters to produce the desired result.\n",
    "\n",
    "The parameters are the variables, which are defined and initialised during the function call and passed to the function.\n",
    "\n",
    "Parameters are specified within the pair of parentheses in the function definition and are separated by comma.\n",
    "\n",
    "The number of arguments in the function call must match the number of parameters in the function definition."
   ]
  },
  {
   "cell_type": "markdown",
   "id": "d89953d1",
   "metadata": {},
   "source": [
    "### Example 1"
   ]
  },
  {
   "cell_type": "code",
   "execution_count": null,
   "id": "616cc91f",
   "metadata": {},
   "outputs": [],
   "source": [
    "def add_two_numbers(x, y):\n",
    "    result = x + y\n",
    "    \n",
    "    print(f\"{x} + {y} = {result}\")"
   ]
  },
  {
   "cell_type": "code",
   "execution_count": null,
   "id": "bf5b2153",
   "metadata": {},
   "outputs": [],
   "source": [
    "add_two_numbers(3,6)"
   ]
  },
  {
   "cell_type": "markdown",
   "id": "0f9f3ae4",
   "metadata": {},
   "source": [
    "# Variable Scope and Lifetime"
   ]
  },
  {
   "cell_type": "markdown",
   "id": "c3c46e78",
   "metadata": {},
   "source": [
    "Part of the program in which a variable is accessible is called its *scope*.\n",
    "\n",
    "Duration for which the variable exists is called its *lifetime*."
   ]
  },
  {
   "cell_type": "markdown",
   "id": "1c44d8be",
   "metadata": {},
   "source": [
    "## Local and Global Variables"
   ]
  },
  {
   "cell_type": "markdown",
   "id": "8ef04edd",
   "metadata": {},
   "source": [
    "| Local Variables | Global Variables |\n",
    "| --------------- | ---------------- |\n",
    "| Local variables are defined within a function and are local to that function | Global variables are defined in the main body of the program file. |\n",
    "| Local variables can be accessed from the point of its definition until the end of the block in which it is defined. |  Global variables can be accessed throughout the program file. |\n",
    "| Local variables are not related in any way to other variables with the same names used outside the function. | Global variables are accessible to all the functions in the program. |"
   ]
  },
  {
   "cell_type": "markdown",
   "id": "ff1302ec",
   "metadata": {},
   "source": [
    "### Example 1"
   ]
  },
  {
   "cell_type": "code",
   "execution_count": null,
   "id": "4ad01e73",
   "metadata": {},
   "outputs": [],
   "source": [
    "# Global Variables\n",
    "\n",
    "first_number = 10\n",
    "\n",
    "second_number = 20\n",
    "\n",
    "def add_numbers():\n",
    "    # Local Variable\n",
    "    total = first_number + second_number\n",
    "    \n",
    "    print(\"Total = {}\".format(total))\n",
    "    \n",
    "def subtract_numbers():\n",
    "    # Local Variable\n",
    "    difference = first_number - second_number\n",
    "    \n",
    "    print(\"Total = {}\".format(difference))\n",
    "\n",
    "add_numbers()\n",
    "\n",
    "subtract_numbers()"
   ]
  },
  {
   "cell_type": "code",
   "execution_count": null,
   "id": "f9d91127",
   "metadata": {},
   "outputs": [],
   "source": [
    "print(total)"
   ]
  },
  {
   "cell_type": "markdown",
   "id": "f251591e",
   "metadata": {},
   "source": [
    "### Using the Global Statement"
   ]
  },
  {
   "cell_type": "markdown",
   "id": "7af40996",
   "metadata": {},
   "source": [
    "Use the *global* statement to declare a local variable as global variable."
   ]
  },
  {
   "cell_type": "code",
   "execution_count": null,
   "id": "c7ad6a5d",
   "metadata": {},
   "outputs": [],
   "source": [
    "def add_numbers(num_one, num_two):\n",
    "    global result\n",
    "    \n",
    "    result = num_one + num_two"
   ]
  },
  {
   "cell_type": "code",
   "execution_count": null,
   "id": "3af5b095",
   "metadata": {},
   "outputs": [],
   "source": [
    "add_numbers(5, 7)"
   ]
  },
  {
   "cell_type": "code",
   "execution_count": null,
   "id": "a914e485",
   "metadata": {},
   "outputs": [],
   "source": [
    "print(result)"
   ]
  },
  {
   "cell_type": "markdown",
   "id": "38a2ee45",
   "metadata": {},
   "source": [
    "**Note:** Avoid the use of global variables and *global* statement."
   ]
  },
  {
   "cell_type": "markdown",
   "id": "c6d77b25",
   "metadata": {},
   "source": [
    "# The *return* statement"
   ]
  },
  {
   "cell_type": "markdown",
   "id": "9bab6275",
   "metadata": {},
   "source": [
    "The *return* statement is used to return some value(s) back to the calling function.\n",
    "\n",
    "The *return* statement is also used to exit a function and go back to the calling function.\n",
    "\n",
    "A function may or may not return a value.\n",
    "\n",
    "The *return* statement must be within the function definition."
   ]
  },
  {
   "cell_type": "markdown",
   "id": "1cb4d726",
   "metadata": {},
   "source": [
    "### Example 1"
   ]
  },
  {
   "cell_type": "code",
   "execution_count": null,
   "id": "ad75c160",
   "metadata": {},
   "outputs": [],
   "source": [
    "def cube(number):\n",
    "    return (number ** 3)"
   ]
  },
  {
   "cell_type": "code",
   "execution_count": null,
   "id": "1e467f82",
   "metadata": {},
   "outputs": [],
   "source": [
    "number = 3\n",
    "\n",
    "result = cube(number)"
   ]
  },
  {
   "cell_type": "code",
   "execution_count": null,
   "id": "742f8d05",
   "metadata": {},
   "outputs": [],
   "source": [
    "print(\"Cube of {} is {}\".format(number, result))"
   ]
  },
  {
   "cell_type": "markdown",
   "id": "bb17e420",
   "metadata": {},
   "source": [
    "### Example 2"
   ]
  },
  {
   "cell_type": "code",
   "execution_count": null,
   "id": "3c3dcc94",
   "metadata": {},
   "outputs": [],
   "source": [
    "def even_number(number):\n",
    "    if (number % 2 == 0):\n",
    "        return True\n",
    "    else:\n",
    "        return\n",
    "    \n",
    "    print(\"Check for even number\")"
   ]
  },
  {
   "cell_type": "code",
   "execution_count": null,
   "id": "bf7c9932",
   "metadata": {},
   "outputs": [],
   "source": [
    "result = even_number(2)\n",
    "\n",
    "print(result)"
   ]
  },
  {
   "cell_type": "code",
   "execution_count": null,
   "id": "5f2f93a9",
   "metadata": {},
   "outputs": [],
   "source": [
    "result = even_number(5)\n",
    "\n",
    "print(result)"
   ]
  },
  {
   "cell_type": "markdown",
   "id": "e2ed7c5e",
   "metadata": {},
   "source": [
    "# Fruitful Functions "
   ]
  },
  {
   "cell_type": "markdown",
   "id": "23c6ecd3",
   "metadata": {},
   "source": [
    "A fruitful function has a return statement with an expression.\n",
    "\n",
    "A fruitful function returns a value that can be utilized by the calling function for further processing."
   ]
  },
  {
   "cell_type": "markdown",
   "id": "94a778bc",
   "metadata": {},
   "source": [
    "## Function Parameters"
   ]
  },
  {
   "cell_type": "markdown",
   "id": "fff88cbd",
   "metadata": {},
   "source": [
    "### Required Arguments"
   ]
  },
  {
   "cell_type": "markdown",
   "id": "450e8d60",
   "metadata": {},
   "source": [
    "In *required arguments*, the arguments are passed to a function in the correct positional order.\n",
    "\n",
    "The number of arguments in the function call must match the number of parameters specified in the function definition."
   ]
  },
  {
   "cell_type": "markdown",
   "id": "ba932e5c",
   "metadata": {},
   "source": [
    "### Example 1"
   ]
  },
  {
   "cell_type": "code",
   "execution_count": null,
   "id": "3265eff4",
   "metadata": {},
   "outputs": [],
   "source": [
    "def country_state(country, state):\n",
    "    print(\"Country is {} and State is {}\".format(country, state))"
   ]
  },
  {
   "cell_type": "code",
   "execution_count": null,
   "id": "86325908",
   "metadata": {},
   "outputs": [],
   "source": [
    "country_state('India', 'Karnataka')"
   ]
  },
  {
   "cell_type": "code",
   "execution_count": null,
   "id": "94a7314e",
   "metadata": {},
   "outputs": [],
   "source": [
    "country_state('Karnataka', 'India')"
   ]
  },
  {
   "cell_type": "markdown",
   "id": "c7d683f4",
   "metadata": {},
   "source": [
    "### Example 2"
   ]
  },
  {
   "cell_type": "code",
   "execution_count": null,
   "id": "4db71f67",
   "metadata": {},
   "outputs": [],
   "source": [
    "def full_name(first_name, middle_name, last_name):\n",
    "    print(first_name, middle_name, last_name)"
   ]
  },
  {
   "cell_type": "code",
   "execution_count": null,
   "id": "4182e0d6",
   "metadata": {},
   "outputs": [],
   "source": [
    "full_name('Deepak', 'Herur')"
   ]
  },
  {
   "cell_type": "code",
   "execution_count": null,
   "id": "c085f8ba",
   "metadata": {},
   "outputs": [],
   "source": [
    "full_name('Deepak', 'Gundu Rao', 'Herur')"
   ]
  },
  {
   "cell_type": "markdown",
   "id": "d445fb90",
   "metadata": {},
   "source": [
    "### Keyword Arguments"
   ]
  },
  {
   "cell_type": "markdown",
   "id": "4ef3ee49",
   "metadata": {},
   "source": [
    "When calling a function, the values are passed to the function based on the position of the parameters.\n",
    "\n",
    "Function can be called by using the *keyword* arguments, in which the order of the argument values can be changed."
   ]
  },
  {
   "cell_type": "code",
   "execution_count": null,
   "id": "ba14ff75",
   "metadata": {},
   "outputs": [],
   "source": [
    "def country_state(country, state):\n",
    "    print(\"Country is {} and State is {}\".format(country, state))"
   ]
  },
  {
   "cell_type": "code",
   "execution_count": null,
   "id": "48a3c88f",
   "metadata": {},
   "outputs": [],
   "source": [
    "country_state('India', 'Karnataka')"
   ]
  },
  {
   "cell_type": "code",
   "execution_count": null,
   "id": "c3af6647",
   "metadata": {},
   "outputs": [],
   "source": [
    "country_state(state = 'Karnataka', country = 'India')"
   ]
  },
  {
   "cell_type": "markdown",
   "id": "0a20ed12",
   "metadata": {},
   "source": [
    "### Default Arguments"
   ]
  },
  {
   "cell_type": "markdown",
   "id": "455b0b24",
   "metadata": {},
   "source": [
    "Function parameter(s) can have default value.\n",
    "\n",
    "The default parameters must be defined only after the non-default parameters.\n",
    "\n",
    "The values can be passed to the default parameters. If no value is passed, then default value is considered.\n",
    "\n",
    "Default value to the parameter is provided using the assignmet operator '='."
   ]
  },
  {
   "cell_type": "markdown",
   "id": "c2ad3a68",
   "metadata": {},
   "source": [
    "### Example 1"
   ]
  },
  {
   "cell_type": "code",
   "execution_count": null,
   "id": "f5b93e97",
   "metadata": {},
   "outputs": [],
   "source": [
    "def country_state(country = 'India', state = 'Karnataka'):\n",
    "    print(\"Country is {} and State is {}\".format(country, state))"
   ]
  },
  {
   "cell_type": "code",
   "execution_count": null,
   "id": "646e30c6",
   "metadata": {},
   "outputs": [],
   "source": [
    "country_state()"
   ]
  },
  {
   "cell_type": "code",
   "execution_count": null,
   "id": "8757c402",
   "metadata": {},
   "outputs": [],
   "source": [
    "country_state('India', 'Tamilnadu')"
   ]
  },
  {
   "cell_type": "code",
   "execution_count": null,
   "id": "2d29ba79",
   "metadata": {},
   "outputs": [],
   "source": [
    "country_state(state='Maharashtra')"
   ]
  },
  {
   "cell_type": "code",
   "execution_count": null,
   "id": "e5e2955a",
   "metadata": {},
   "outputs": [],
   "source": [
    "country_state('United States of America', 'California')"
   ]
  },
  {
   "cell_type": "markdown",
   "id": "9df59003",
   "metadata": {},
   "source": [
    "### Variable-length Arguments"
   ]
  },
  {
   "cell_type": "markdown",
   "id": "5c9e78f4",
   "metadata": {},
   "source": [
    "A function can be called with any number of arguments.\n",
    "\n",
    "When using the arbitrary or variable-length arguments, the parameter of the function uses an * before the parameter name.\n",
    "\n",
    "The variable-length arguments if present in the function definition, should be the last in the parameter list.\n",
    "\n",
    "Any parameter written after the variable-length arguments must be the keyword only argument."
   ]
  },
  {
   "cell_type": "code",
   "execution_count": null,
   "id": "5a42a951",
   "metadata": {},
   "outputs": [],
   "source": [
    "def student_marks(name, *marks):\n",
    "    print(f\"Student name is {name}.\")\n",
    "    \n",
    "    total = 0\n",
    "    \n",
    "    for m in marks:\n",
    "        total += m\n",
    "    \n",
    "    print(f\"Total Marks = {total}\")"
   ]
  },
  {
   "cell_type": "code",
   "execution_count": null,
   "id": "9876c27b",
   "metadata": {},
   "outputs": [],
   "source": [
    "student_marks('Saathvik', 15, 15, 14, 15, 15, 14)"
   ]
  },
  {
   "cell_type": "markdown",
   "id": "349e01c8",
   "metadata": {},
   "source": [
    "# Lambda Functions OR Anonymous Functions"
   ]
  },
  {
   "cell_type": "markdown",
   "id": "ed60a58a",
   "metadata": {},
   "source": [
    "Lambda functions are declared using the keyword *lambda*.\n",
    "\n",
    "Lambda functions have no name.\n",
    "\n",
    "Lambda functions can be assigned to a variable to give it a name.\n",
    "\n",
    "Lambda functions can contain only a single line expression.\n",
    "\n",
    "The parameters of a lambda functions are separated by comma.\n",
    "\n",
    "Lambda functions doesn't have an explicit return statement. It always returns the value of the expression, it contains.\n",
    "\n",
    "Lambda functions can't access global variables.\n",
    "\n",
    "Lambda functions are used wherever function objects are required.\n",
    "\n",
    "Lambda function can be passed as argument to other functions."
   ]
  },
  {
   "cell_type": "markdown",
   "id": "db7cb313",
   "metadata": {},
   "source": [
    "### Example 1"
   ]
  },
  {
   "cell_type": "code",
   "execution_count": null,
   "id": "8b325850",
   "metadata": {},
   "outputs": [],
   "source": [
    "greet = lambda : print(\"Hello, Welcome to Pyrhon programming.\")"
   ]
  },
  {
   "cell_type": "code",
   "execution_count": null,
   "id": "38950c09",
   "metadata": {},
   "outputs": [],
   "source": [
    "greet()"
   ]
  },
  {
   "cell_type": "markdown",
   "id": "80983302",
   "metadata": {},
   "source": [
    "### Example 2"
   ]
  },
  {
   "cell_type": "code",
   "execution_count": null,
   "id": "1f7b3669",
   "metadata": {},
   "outputs": [],
   "source": [
    "add_numbers =  lambda x, y: x + y"
   ]
  },
  {
   "cell_type": "code",
   "execution_count": null,
   "id": "61ea4244",
   "metadata": {},
   "outputs": [],
   "source": [
    "add_numbers(2, 3)"
   ]
  },
  {
   "cell_type": "markdown",
   "id": "11aec591",
   "metadata": {},
   "source": [
    "### Example 3"
   ]
  },
  {
   "cell_type": "code",
   "execution_count": null,
   "id": "6acf6168",
   "metadata": {},
   "outputs": [],
   "source": [
    "# Using lambda function with an ordinary function\n",
    "def increment_number(number):\n",
    "    inc = lambda n: n + 1\n",
    "    \n",
    "    result = inc(number)\n",
    "    \n",
    "    return result"
   ]
  },
  {
   "cell_type": "code",
   "execution_count": null,
   "id": "632c0f16",
   "metadata": {},
   "outputs": [],
   "source": [
    "number = 3\n",
    "\n",
    "next_number = increment_number(number)\n",
    "\n",
    "print(f\"Increment of {number} results in {next_number}\")"
   ]
  },
  {
   "cell_type": "markdown",
   "id": "de26011a",
   "metadata": {},
   "source": [
    "### Example 4"
   ]
  },
  {
   "cell_type": "code",
   "execution_count": null,
   "id": "5193a92f",
   "metadata": {},
   "outputs": [],
   "source": [
    "get_number = lambda : int(input(\"Enter a number: \"))"
   ]
  },
  {
   "cell_type": "code",
   "execution_count": null,
   "id": "705026a6",
   "metadata": {},
   "outputs": [],
   "source": [
    "def add_numbers(number):\n",
    "    x = number()\n",
    "    \n",
    "    y = number()\n",
    "    \n",
    "    return x + y"
   ]
  },
  {
   "cell_type": "code",
   "execution_count": null,
   "id": "ae70d73c",
   "metadata": {},
   "outputs": [],
   "source": [
    "result = add_numbers(get_number) # Pass lambda function as an argument.\n",
    "\n",
    "print(result)"
   ]
  },
  {
   "cell_type": "markdown",
   "id": "e052c4e8",
   "metadata": {},
   "source": [
    "# Function Composition"
   ]
  },
  {
   "cell_type": "markdown",
   "id": "547cc1e8",
   "metadata": {},
   "source": [
    "Function composition combines two functions in such a way that the result of one function is passed as an argument to the other function."
   ]
  },
  {
   "cell_type": "markdown",
   "id": "620da0df",
   "metadata": {},
   "source": [
    "### Example 1"
   ]
  },
  {
   "cell_type": "code",
   "execution_count": null,
   "id": "2fffe52f",
   "metadata": {},
   "outputs": [],
   "source": [
    "import functools"
   ]
  },
  {
   "cell_type": "code",
   "execution_count": null,
   "id": "758f7e89",
   "metadata": {},
   "outputs": [],
   "source": [
    "def square_number(number):\n",
    "    return (number ** 2)"
   ]
  },
  {
   "cell_type": "code",
   "execution_count": null,
   "id": "c2cdacd1",
   "metadata": {},
   "outputs": [],
   "source": [
    "def increment_number(number):\n",
    "    return (number + 1)"
   ]
  },
  {
   "cell_type": "code",
   "execution_count": null,
   "id": "a89a8198",
   "metadata": {},
   "outputs": [],
   "source": [
    "square_and_inc = compose(square, increment, half) # square(increment(half(x)))"
   ]
  },
  {
   "cell_type": "markdown",
   "id": "1103ee1d",
   "metadata": {},
   "source": [
    "# Documentation Strings"
   ]
  },
  {
   "cell_type": "markdown",
   "id": "65ec0f4e",
   "metadata": {},
   "source": [
    "Documentation strings (doc strings) server the same purpose as that of comments.\n",
    "\n",
    "These are created by using multiline string to explain the function.\n",
    "\n",
    "Documentation strings are used to generate online or printed documentation.\n",
    "\n",
    "As a good practice, include documentation strings."
   ]
  },
  {
   "cell_type": "code",
   "execution_count": null,
   "id": "cacf9878",
   "metadata": {},
   "outputs": [],
   "source": [
    "def add_numbers(num_one, num_two):\n",
    "    '''\n",
    "    Function to add two numbers and return the sum\n",
    "    '''\n",
    "    \n",
    "    return (num_one + num_two)"
   ]
  },
  {
   "cell_type": "markdown",
   "id": "9e5703d8",
   "metadata": {},
   "source": [
    "# Recursive functions"
   ]
  },
  {
   "cell_type": "markdown",
   "id": "d4d820ef",
   "metadata": {},
   "source": [
    "A recursive function is defined as a function that calls itself."
   ]
  },
  {
   "cell_type": "markdown",
   "id": "9fb8b11f",
   "metadata": {},
   "source": [
    "### Example 1"
   ]
  },
  {
   "cell_type": "code",
   "execution_count": null,
   "id": "3510c206",
   "metadata": {},
   "outputs": [],
   "source": [
    "def greet():\n",
    "    print(\"Hello, Welcome to Python programming\")"
   ]
  },
  {
   "cell_type": "code",
   "execution_count": null,
   "id": "710c0045",
   "metadata": {},
   "outputs": [],
   "source": [
    "greet()"
   ]
  },
  {
   "cell_type": "code",
   "execution_count": null,
   "id": "dfadfc6a",
   "metadata": {},
   "outputs": [],
   "source": [
    "def greet():\n",
    "    print(\"Hello, Welcome to Python programming\")\n",
    "    greet() # Calling itself"
   ]
  },
  {
   "cell_type": "code",
   "execution_count": null,
   "id": "73c51c85",
   "metadata": {},
   "outputs": [],
   "source": [
    "greet()"
   ]
  },
  {
   "cell_type": "code",
   "execution_count": null,
   "id": "2537b955",
   "metadata": {},
   "outputs": [],
   "source": [
    "# Get the value of recursion limit\n",
    "\n",
    "import sys\n",
    "\n",
    "sys.getrecursionlimit()"
   ]
  },
  {
   "cell_type": "markdown",
   "id": "3e6ab6ab",
   "metadata": {},
   "source": [
    "Every recursive case has 2 major cases:\n",
    "\n",
    "1. Base case - To terminate the recursion.\n",
    "\n",
    "\n",
    "2. Recursive case - The function calls itself."
   ]
  },
  {
   "cell_type": "markdown",
   "id": "a63d8cdb",
   "metadata": {},
   "source": [
    "### Example 1: Factorial of a number"
   ]
  },
  {
   "cell_type": "code",
   "execution_count": null,
   "id": "3c664cbd",
   "metadata": {},
   "outputs": [],
   "source": [
    "def factorial(number):\n",
    "    if (number == 0 or number == 1) :\n",
    "        return 1\n",
    "    else:\n",
    "        return number * factorial(number-1)"
   ]
  },
  {
   "cell_type": "code",
   "execution_count": null,
   "id": "392650c2",
   "metadata": {},
   "outputs": [],
   "source": [
    "factorial(3)"
   ]
  },
  {
   "cell_type": "code",
   "execution_count": null,
   "id": "b76d6358",
   "metadata": {},
   "outputs": [],
   "source": [
    "'''\n",
    "\n",
    "3 * factorial(2)\n",
    "\n",
    "2 * factorial(1)\n",
    "\n",
    "1 * factorial(0)\n",
    "\n",
    "1\n",
    "\n",
    "'''"
   ]
  },
  {
   "cell_type": "markdown",
   "id": "4fe772e9",
   "metadata": {},
   "source": [
    "# Modules"
   ]
  },
  {
   "cell_type": "markdown",
   "id": "67d9a8a4",
   "metadata": {},
   "source": [
    "Module is a file with a .py extension that has definitions of functions and variables that could be used in other programs.\n",
    "\n",
    "Modules are pre-written pieces of code that are used to perform common tasks.\n",
    "\n",
    "Modules provide functionality and services that can be reused in other programs.\n",
    "\n",
    "The basic way to use a module is to import the module in the program and then access the functions and the variables ."
   ]
  },
  {
   "cell_type": "markdown",
   "id": "e3ea81bb",
   "metadata": {},
   "source": [
    "### Example 1"
   ]
  },
  {
   "cell_type": "code",
   "execution_count": null,
   "id": "8625fdb1",
   "metadata": {},
   "outputs": [],
   "source": [
    "import math"
   ]
  },
  {
   "cell_type": "code",
   "execution_count": null,
   "id": "365bdf91",
   "metadata": {},
   "outputs": [],
   "source": [
    "print(math.pi)"
   ]
  },
  {
   "cell_type": "markdown",
   "id": "35cea3b4",
   "metadata": {},
   "source": [
    "A module imported in a program must be located and loaded into memory before it can be used.\n",
    "\n",
    "Python first searches for the modules in the current working directory. If the module is not found, then look for module in the python installation directory."
   ]
  },
  {
   "cell_type": "markdown",
   "id": "3b8e60a4",
   "metadata": {},
   "source": [
    "### The from...import statement"
   ]
  },
  {
   "cell_type": "markdown",
   "id": "93313754",
   "metadata": {},
   "source": [
    "### Example 1"
   ]
  },
  {
   "cell_type": "code",
   "execution_count": null,
   "id": "5ea92052",
   "metadata": {},
   "outputs": [],
   "source": [
    "from math import pi"
   ]
  },
  {
   "cell_type": "code",
   "execution_count": null,
   "id": "a6502be6",
   "metadata": {},
   "outputs": [],
   "source": [
    "print(pi)"
   ]
  },
  {
   "cell_type": "markdown",
   "id": "ca3f36b1",
   "metadata": {},
   "source": [
    "### Example 2"
   ]
  },
  {
   "cell_type": "code",
   "execution_count": null,
   "id": "8211b9ed",
   "metadata": {},
   "outputs": [],
   "source": [
    "from math import sqrt, pow"
   ]
  },
  {
   "cell_type": "code",
   "execution_count": null,
   "id": "646657c3",
   "metadata": {},
   "outputs": [],
   "source": [
    "print(sqrt(16)) # Square root of a number"
   ]
  },
  {
   "cell_type": "code",
   "execution_count": null,
   "id": "6e7c5517",
   "metadata": {},
   "outputs": [],
   "source": [
    "pow(3, 2) # To find the power of a number"
   ]
  },
  {
   "cell_type": "markdown",
   "id": "b25cc7d0",
   "metadata": {},
   "source": [
    "To import all the identifiers in a module, use *from module import* *.\n",
    "\n",
    "Avoid using the *import* *.\n",
    "\n",
    "The *import* * statement imports all the names except those beginning with an underscore."
   ]
  },
  {
   "cell_type": "markdown",
   "id": "1e54628d",
   "metadata": {},
   "source": [
    "### Example 1"
   ]
  },
  {
   "cell_type": "code",
   "execution_count": null,
   "id": "01effc01",
   "metadata": {},
   "outputs": [],
   "source": [
    "from math import *"
   ]
  },
  {
   "cell_type": "code",
   "execution_count": null,
   "id": "84fe92fb",
   "metadata": {},
   "outputs": [],
   "source": [
    "print(sqrt(25))"
   ]
  },
  {
   "cell_type": "code",
   "execution_count": null,
   "id": "25fe944a",
   "metadata": {},
   "outputs": [],
   "source": [
    "print(pow(2, 8))"
   ]
  },
  {
   "cell_type": "markdown",
   "id": "f7be43a0",
   "metadata": {},
   "source": [
    "A module can also be imported with a different name using the **as** keyword.\n",
    "\n",
    "This is useful when a module has a long or confusing name."
   ]
  },
  {
   "cell_type": "markdown",
   "id": "ad101d54",
   "metadata": {},
   "source": [
    "### Example 1"
   ]
  },
  {
   "cell_type": "code",
   "execution_count": null,
   "id": "fa2fee21",
   "metadata": {},
   "outputs": [],
   "source": [
    "import os as operating_system"
   ]
  },
  {
   "cell_type": "code",
   "execution_count": null,
   "id": "baa48b12",
   "metadata": {},
   "outputs": [],
   "source": [
    "print(operating_system.getcwd()) # Get the current directory"
   ]
  },
  {
   "cell_type": "markdown",
   "id": "46a5bc53",
   "metadata": {},
   "source": [
    "## Name of Module"
   ]
  },
  {
   "cell_type": "markdown",
   "id": "c871a350",
   "metadata": {},
   "source": [
    "Every module has a name.\n",
    "\n",
    "The name of the module can be found using the attribute \\_\\_name\\_\\_.\n",
    "\n",
    "Every standalone program written by the user has the name of the module as _\\_main\\_\\_."
   ]
  },
  {
   "cell_type": "code",
   "execution_count": null,
   "id": "901b6b13",
   "metadata": {},
   "outputs": [],
   "source": [
    "print(__name__)"
   ]
  },
  {
   "cell_type": "markdown",
   "id": "4910c8a3",
   "metadata": {},
   "source": [
    "## Making your Own Modules"
   ]
  },
  {
   "cell_type": "markdown",
   "id": "b44e43f7",
   "metadata": {},
   "source": [
    "Every Python program is a module i.e., every .py file is a module.\n",
    "\n",
    "Modules should be placed in the same directory as that of the program in which it is imported.\n",
    "\n",
    "Modules can also be stored in one of the directories listed in sys.path.\n",
    "\n",
    "Use the dot operator to access the members of the module."
   ]
  },
  {
   "cell_type": "markdown",
   "id": "cfde2124",
   "metadata": {},
   "source": [
    "### Example 1"
   ]
  },
  {
   "cell_type": "code",
   "execution_count": null,
   "id": "ec6bbaf0",
   "metadata": {},
   "outputs": [],
   "source": [
    "import arithmetic"
   ]
  },
  {
   "cell_type": "code",
   "execution_count": null,
   "id": "aa4eb64e",
   "metadata": {},
   "outputs": [],
   "source": [
    "arithmetic.add(2, 3)"
   ]
  },
  {
   "cell_type": "markdown",
   "id": "57eb5059",
   "metadata": {},
   "source": [
    "## The dir() Function"
   ]
  },
  {
   "cell_type": "markdown",
   "id": "a35a797e",
   "metadata": {},
   "source": [
    "The *dir()* is  a built-in function that lists the identifiers defined in a module.\n",
    "\n",
    "The identifiers include functions, classes and variables."
   ]
  },
  {
   "cell_type": "code",
   "execution_count": null,
   "id": "869f4337",
   "metadata": {},
   "outputs": [],
   "source": [
    "print(dir(arithmetic))"
   ]
  },
  {
   "cell_type": "markdown",
   "id": "cebb09e0",
   "metadata": {},
   "source": [
    "If no name is specified, the *dir()* will return the list of names defined in the current module."
   ]
  },
  {
   "cell_type": "code",
   "execution_count": null,
   "id": "8026f18f",
   "metadata": {},
   "outputs": [],
   "source": [
    "print(dir())"
   ]
  },
  {
   "cell_type": "markdown",
   "id": "5f3dea80",
   "metadata": {},
   "source": [
    "## The Python Module"
   ]
  },
  {
   "cell_type": "markdown",
   "id": "d7e016c1",
   "metadata": {},
   "source": [
    "A python module is a file that contains some definitions and statements.\n",
    "\n",
    "When a Python file is executed directly, it is considered as the main module of a program.\n",
    "\n",
    "Main modules are given a special name \\_\\_main\\_\\_.\n",
    "\n",
    "The main module may import any number of other modules which may in turn import other modules.\n",
    "\n",
    "The main module of a Python program can\\'t be imported into other modules."
   ]
  },
  {
   "cell_type": "markdown",
   "id": "1ae1740c",
   "metadata": {},
   "source": [
    "## Modules and Namespaces"
   ]
  },
  {
   "cell_type": "markdown",
   "id": "0609ab93",
   "metadata": {},
   "source": [
    "A namespace is a container that provides a named context for identifiers.\n",
    "\n",
    "Two identifiers with the same name in the same scope will lead to a name clash.\n",
    "\n",
    "Python doesn't allow to have two different identifiers with the same name."
   ]
  },
  {
   "cell_type": "code",
   "execution_count": null,
   "id": "e19f6a45",
   "metadata": {},
   "outputs": [],
   "source": [
    "import arithmetic\n",
    "\n",
    "import mathematics"
   ]
  },
  {
   "cell_type": "code",
   "execution_count": null,
   "id": "e8a1b24b",
   "metadata": {},
   "outputs": [],
   "source": [
    "arithmetic.increment(1)"
   ]
  },
  {
   "cell_type": "code",
   "execution_count": null,
   "id": "1f8f447e",
   "metadata": {},
   "outputs": [],
   "source": [
    "mathematics.increment(10)"
   ]
  },
  {
   "cell_type": "markdown",
   "id": "f214bc89",
   "metadata": {},
   "source": [
    "### Local, Global, and Built-in Namespace"
   ]
  },
  {
   "cell_type": "markdown",
   "id": "ef1c6aeb",
   "metadata": {},
   "source": [
    "During the execution of a program, three main namespaces are referenced:\n",
    "\n",
    "* The built-in namespace\n",
    "\n",
    "* The global namespace\n",
    "\n",
    "* The local namespace\n",
    "\n",
    "The built-in namespace contains identifiers that are defined in Python.\n",
    "\n",
    "The global namespace contains identifiers of the currently executing module.\n",
    "\n",
    "The local namespace has identifiers defined in the currently executing function.\n",
    "\n",
    "When the Python interpreter sees an identifier, it first searches the local namespace, then the global namespace, and finally the built-in namespace."
   ]
  },
  {
   "cell_type": "markdown",
   "id": "c62758b3",
   "metadata": {},
   "source": [
    "### Module Private Variables"
   ]
  },
  {
   "cell_type": "markdown",
   "id": "56f2239b",
   "metadata": {},
   "source": [
    "In Python, all the identifiers defined in a module are public by default.\n",
    "\n",
    "Public means, all the identifiers are accessible by module that imports it.\n",
    "\n",
    "Private identifiers are accessible within the module, but not from outside the module.\n",
    "\n",
    "In Python, private identifiers name starts with two underscores (\\_\\_)."
   ]
  },
  {
   "cell_type": "markdown",
   "id": "287c8ac7",
   "metadata": {},
   "source": [
    "### Example 1"
   ]
  },
  {
   "cell_type": "code",
   "execution_count": 1,
   "id": "a49db759",
   "metadata": {},
   "outputs": [],
   "source": [
    "import arithmetic"
   ]
  },
  {
   "cell_type": "code",
   "execution_count": 2,
   "id": "77c2f5f5",
   "metadata": {},
   "outputs": [
    {
     "data": {
      "text/plain": [
       "['__builtins__',\n",
       " '__cached__',\n",
       " '__doc__',\n",
       " '__file__',\n",
       " '__loader__',\n",
       " '__name__',\n",
       " '__package__',\n",
       " '__power',\n",
       " '__spec__',\n",
       " 'add',\n",
       " 'increment',\n",
       " 'sub']"
      ]
     },
     "execution_count": 2,
     "metadata": {},
     "output_type": "execute_result"
    }
   ],
   "source": [
    "dir(arithmetic)"
   ]
  },
  {
   "cell_type": "code",
   "execution_count": 3,
   "id": "0a829193",
   "metadata": {},
   "outputs": [
    {
     "ename": "AttributeError",
     "evalue": "module 'arithmetic' has no attribute 'power'",
     "output_type": "error",
     "traceback": [
      "\u001b[1;31m---------------------------------------------------------------------------\u001b[0m",
      "\u001b[1;31mAttributeError\u001b[0m                            Traceback (most recent call last)",
      "Cell \u001b[1;32mIn[3], line 1\u001b[0m\n\u001b[1;32m----> 1\u001b[0m arithmetic\u001b[38;5;241m.\u001b[39mpower(\u001b[38;5;241m2\u001b[39m, \u001b[38;5;241m3\u001b[39m)\n",
      "\u001b[1;31mAttributeError\u001b[0m: module 'arithmetic' has no attribute 'power'"
     ]
    }
   ],
   "source": [
    "arithmetic.power(2, 3)"
   ]
  },
  {
   "cell_type": "markdown",
   "id": "7f2a48f7",
   "metadata": {},
   "source": [
    "# Packages in Python"
   ]
  },
  {
   "cell_type": "code",
   "execution_count": null,
   "id": "e89a6e0b",
   "metadata": {},
   "outputs": [],
   "source": []
  },
  {
   "cell_type": "code",
   "execution_count": null,
   "id": "4596791f",
   "metadata": {},
   "outputs": [],
   "source": []
  },
  {
   "cell_type": "markdown",
   "id": "ccfb74a5",
   "metadata": {},
   "source": [
    "# Standard Library Modules"
   ]
  },
  {
   "cell_type": "code",
   "execution_count": null,
   "id": "a082ab00",
   "metadata": {},
   "outputs": [],
   "source": []
  }
 ],
 "metadata": {
  "kernelspec": {
   "display_name": "Python 3 (ipykernel)",
   "language": "python",
   "name": "python3"
  },
  "language_info": {
   "codemirror_mode": {
    "name": "ipython",
    "version": 3
   },
   "file_extension": ".py",
   "mimetype": "text/x-python",
   "name": "python",
   "nbconvert_exporter": "python",
   "pygments_lexer": "ipython3",
   "version": "3.11.5"
  }
 },
 "nbformat": 4,
 "nbformat_minor": 5
}
