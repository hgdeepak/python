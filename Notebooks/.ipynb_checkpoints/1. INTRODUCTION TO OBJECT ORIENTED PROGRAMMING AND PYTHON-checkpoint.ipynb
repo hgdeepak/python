{
 "cells": [
  {
   "cell_type": "markdown",
   "id": "ff744c76",
   "metadata": {},
   "source": [
    "# Computer"
   ]
  },
  {
   "cell_type": "markdown",
   "id": "6cf63f64",
   "metadata": {},
   "source": [
    "A computer is an electronic device that can store, process, and retrieve data."
   ]
  },
  {
   "cell_type": "markdown",
   "id": "21e77b5f",
   "metadata": {},
   "source": [
    "# Programming"
   ]
  },
  {
   "cell_type": "markdown",
   "id": "1a55e0c5",
   "metadata": {},
   "source": [
    "A computer program consists of code that is executed on a computer to perform particular tasks.\n",
    "\n",
    "Programming is the process of giving machines a set of instructions that describe how a program should be carried out.\n",
    "\n",
    "Programmers write source code by using a code editor or and Integrated Development Environment (IDE).\n",
    "\n",
    "The code needs to be converted into machine language so that the machine can understand the instructions and execute the program. This process of converting source code into machine language is known as compiling."
   ]
  },
  {
   "cell_type": "markdown",
   "id": "0534eb44",
   "metadata": {},
   "source": [
    "# Programming Paradigms"
   ]
  },
  {
   "cell_type": "markdown",
   "id": "ec96880b",
   "metadata": {},
   "source": [
    "Programming paradigms are different ways or styles in which a given program or programming language can be organized.\n",
    "\n",
    "Programming paradigms are not languages or tools."
   ]
  },
  {
   "cell_type": "markdown",
   "id": "4800abf4",
   "metadata": {},
   "source": [
    "## 1. Monolithic or Imperative Programming"
   ]
  },
  {
   "cell_type": "markdown",
   "id": "7fe7c4e9",
   "metadata": {},
   "source": [
    "Monolithic or Imperative programming consists of a set of instructions that are executed by the computer in a given sequential order.\n",
    "\n",
    "In order to change the sequence of instructions, *jump* or *goto* statements are used.\n",
    "\n",
    "Monolothic programs have just one program module. All the instructions required to complete the task are embedded within the same module itself. This makes the program large and difficult to debug and maintain."
   ]
  },
  {
   "cell_type": "markdown",
   "id": "d4f5d3b5",
   "metadata": {},
   "source": [
    "### Example"
   ]
  },
  {
   "cell_type": "code",
   "execution_count": null,
   "id": "19129f95",
   "metadata": {},
   "outputs": [],
   "source": [
    "num_one = float(input(\"Enter first number: \"))\n",
    "\n",
    "num_two = float(input(\"Enter second number: \"))\n",
    "\n",
    "result = num_one + num_two\n",
    "\n",
    "print(\"{} + {} = {}\".format(num_one, num_two, result))"
   ]
  },
  {
   "cell_type": "markdown",
   "id": "7152cddb",
   "metadata": {},
   "source": [
    "## 2. Procedural Programming"
   ]
  },
  {
   "cell_type": "markdown",
   "id": "ee307027",
   "metadata": {},
   "source": [
    "In procedural programming, the program is divided into a number of subroutines or functions.\n",
    "\n",
    "It focuses on code reusability through the use of functions.\n",
    "\n",
    "C and Pascal are examples of languages that follow this paradigm."
   ]
  },
  {
   "cell_type": "markdown",
   "id": "6179be1c",
   "metadata": {},
   "source": [
    "### Example"
   ]
  },
  {
   "cell_type": "code",
   "execution_count": null,
   "id": "ba40581a",
   "metadata": {},
   "outputs": [],
   "source": [
    "def get_number():\n",
    "    \n",
    "    return float(input(\"Enter a number: \"))"
   ]
  },
  {
   "cell_type": "code",
   "execution_count": null,
   "id": "9be8c486",
   "metadata": {},
   "outputs": [],
   "source": [
    "def calculate_sum(num_one, num_two):\n",
    "    \n",
    "    return num_one + num_two"
   ]
  },
  {
   "cell_type": "code",
   "execution_count": null,
   "id": "16daa9a8",
   "metadata": {},
   "outputs": [],
   "source": [
    "def print_result(num_one, num_two, operator, result):\n",
    "    print(f\"{num_one} {operator}  {num_two} = {result}\")"
   ]
  },
  {
   "cell_type": "code",
   "execution_count": null,
   "id": "7f483022",
   "metadata": {},
   "outputs": [],
   "source": [
    "num_one = get_number()\n",
    "\n",
    "num_two = get_number()\n",
    "\n",
    "result = calculate_sum(num_one, num_two)\n",
    "\n",
    "print_result(num_one, num_two, \"+\", result)"
   ]
  },
  {
   "cell_type": "markdown",
   "id": "1fc5eb4c",
   "metadata": {},
   "source": [
    "## 3. Structured or Modular Programming"
   ]
  },
  {
   "cell_type": "markdown",
   "id": "9b7de527",
   "metadata": {},
   "source": [
    "In structured or modular programming, the overall program strucutre is divided into individual modules.\n",
    "\n",
    "Strucured programming allows the code to be loaded into memory more efficiently and also be reused in other programs."
   ]
  },
  {
   "cell_type": "markdown",
   "id": "007ed3ae",
   "metadata": {},
   "source": [
    "### Example"
   ]
  },
  {
   "cell_type": "code",
   "execution_count": null,
   "id": "3bf98b80",
   "metadata": {},
   "outputs": [],
   "source": [
    "import math"
   ]
  },
  {
   "cell_type": "code",
   "execution_count": null,
   "id": "04dd2c94",
   "metadata": {},
   "outputs": [],
   "source": [
    "print(math.pi)"
   ]
  },
  {
   "cell_type": "markdown",
   "id": "b9bd62b8",
   "metadata": {},
   "source": [
    "## 4. Functional Programming"
   ]
  },
  {
   "cell_type": "markdown",
   "id": "6a17f93d",
   "metadata": {},
   "source": [
    "In functional programming, functions are treated as first-class citizens, meaning that they can be assigned to variables, passed as arguments, and returned from other functions.\n",
    "\n",
    "Functional programming encourages programs written mostly with functions."
   ]
  },
  {
   "cell_type": "markdown",
   "id": "93ba067e",
   "metadata": {},
   "source": [
    "### Example"
   ]
  },
  {
   "cell_type": "code",
   "execution_count": null,
   "id": "dd7687ef",
   "metadata": {},
   "outputs": [],
   "source": [
    "get_num = lambda : float(input(\"Enter a number: \"))"
   ]
  },
  {
   "cell_type": "code",
   "execution_count": null,
   "id": "c3f6f8ac",
   "metadata": {},
   "outputs": [],
   "source": [
    "calculate_sum = lambda first_num, second_num: first_num() + second_num()"
   ]
  },
  {
   "cell_type": "code",
   "execution_count": null,
   "id": "dda3b4e5",
   "metadata": {},
   "outputs": [],
   "source": [
    "result = calculate_sum(get_num, get_num)"
   ]
  },
  {
   "cell_type": "code",
   "execution_count": null,
   "id": "46b7f534",
   "metadata": {},
   "outputs": [],
   "source": [
    "result"
   ]
  },
  {
   "cell_type": "markdown",
   "id": "7507078e",
   "metadata": {},
   "source": [
    "## 5. Object Oriented Programming"
   ]
  },
  {
   "cell_type": "markdown",
   "id": "b0cbbe3d",
   "metadata": {},
   "source": [
    "Object-Oriented Programming revolves around the concept of objects, which are instances of classes. \n",
    "\n",
    "It organizes code into objects that encapsulate data and behavior.\n",
    "\n",
    "OOP promotes modularity, reusability, and allows for concepts such as inheritance, polymorphism, and encapsulation.\n",
    "\n",
    "Java, C++, and Python are popular languages that support OOP."
   ]
  },
  {
   "cell_type": "markdown",
   "id": "2d26cb67",
   "metadata": {},
   "source": [
    "### Features of Object Oriented Programming"
   ]
  },
  {
   "cell_type": "markdown",
   "id": "cf111931",
   "metadata": {},
   "source": [
    "Following are the important features of object oriented programming:\n",
    "\n",
    "1. Classes and objects\n",
    "\n",
    "2. Encapsulation\n",
    "\n",
    "3. Abstraction\n",
    "\n",
    "4. Inheritance\n",
    "\n",
    "5. Polymorphism"
   ]
  },
  {
   "cell_type": "markdown",
   "id": "942be048",
   "metadata": {},
   "source": [
    "#### Classes and Objects"
   ]
  },
  {
   "cell_type": "markdown",
   "id": "57f1b0f4",
   "metadata": {},
   "source": [
    "An object is anything that really exists in the world and can be distinguished from others. For example, a table, a ball, a car, a dog, a person etc.\n",
    "\n",
    "Every object has some behavior and is represented by attributes and actions. For example, a car by name **WagonR** exists physically and has attributes like brand, color, varinat, price etc. In programming, the attributes are represented by variables. Smilarly, **WagonR** can perform actions like move forward, reverse, stop etc. In programming, actions are represented by functions.\n",
    "\n",
    "A class is a model or blueprint for creating objects. A class does not exist physically, while an object does."
   ]
  },
  {
   "cell_type": "markdown",
   "id": "709e7e95",
   "metadata": {},
   "source": [
    "#### Encapsulation"
   ]
  },
  {
   "cell_type": "markdown",
   "id": "93880a23",
   "metadata": {},
   "source": [
    "Encapsulation is a mechanism where the attribute and the methods that act on the attributes are bind together."
   ]
  },
  {
   "cell_type": "markdown",
   "id": "f1000285",
   "metadata": {},
   "source": [
    "#### Abstraction"
   ]
  },
  {
   "cell_type": "markdown",
   "id": "3577d97e",
   "metadata": {},
   "source": [
    "A class may contain a lot of data and the user may not need all the data. In this case we hide the unnecessary data from the user and expose only the required data. This is called abstraction."
   ]
  },
  {
   "cell_type": "markdown",
   "id": "bc2b113a",
   "metadata": {},
   "source": [
    "#### Inheritance"
   ]
  },
  {
   "cell_type": "markdown",
   "id": "1a505314",
   "metadata": {},
   "source": [
    "Creating new classes from the existing classes, so that the new classes acquire all the features of the existing classes is called inheritance. A good example for inheritance is children inherit the qualities of the parents."
   ]
  },
  {
   "cell_type": "markdown",
   "id": "58354e14",
   "metadata": {},
   "source": [
    "#### Polymorphism"
   ]
  },
  {
   "cell_type": "markdown",
   "id": "d2be22d3",
   "metadata": {},
   "source": [
    "The term Polymorphism comes from the Greek language, meaning many forms. Thus polymorphism represents the ability to assume different forms. In programming, if an object or method is exhibiting different behaviour in different contexts, it is called polymorphic nature."
   ]
  },
  {
   "attachments": {
    "python-logo.gif": {
     "image/gif": "[encoded data removed]"
    }
   },
   "cell_type": "markdown",
   "id": "34a3bada",
   "metadata": {},
   "source": [
    "![python-logo.gif](attachment:python-logo.gif)"
   ]
  },
  {
   "cell_type": "markdown",
   "id": "94de967e",
   "metadata": {},
   "source": [
    "Python is a programming language developed by Guido Van Rossum, a Dutch computer scientist and mathematician, in the year 1991.\n",
    "\n",
    "Guido Van Rossum picked the name *Python* from the TV show *Monty Python's Flying Circus*.\n",
    "\n",
    "The logo of Python shows two intertwined snakes.\n",
    "\n",
    "The current major version of the Python is 3.\n",
    "\n",
    "Python is a free and open source software."
   ]
  },
  {
   "cell_type": "markdown",
   "id": "0e342601",
   "metadata": {},
   "source": [
    "## Features of Python"
   ]
  },
  {
   "cell_type": "markdown",
   "id": "2a9a734c",
   "metadata": {},
   "source": [
    "Python is one of the **easier** and **simple** programming language to learn.\n",
    "\n",
    "Python is an **interpreted, high-level, general-purpose** programming language.\n",
    "\n",
    "Python is a **case sensitive** programming language.\n",
    "\n",
    "Python is **dynamically typed**.\n",
    "\n",
    "Python is **platform independent**: runs on Windows, Linux and Mac.\n",
    "\n",
    "Python is a **functional oriented** as well as **object oriented** programming language.\n",
    "\n",
    "According to a report, a Python program is typically one-fifth to one-third the size of equivalent Java or C++ code. This means the job gets done faster.\n",
    "\n",
    "Python has an incredibly **extensive standard library**.\n",
    "\n",
    "The **only drawback** that one could find in Python is its **execution speed**."
   ]
  },
  {
   "cell_type": "markdown",
   "id": "1cdbf1e5",
   "metadata": {},
   "source": [
    "## Applications of Python"
   ]
  },
  {
   "cell_type": "markdown",
   "id": "b1b48c76",
   "metadata": {},
   "source": [
    "Python is one of the **most sought-after skills** in the technology industry today, like Google, YouTube, Dropbox, Zope Corporation, Industrial Light & Magic, Walt Disney Feature Animation, Blender 3D, Pixar, NASA, the NSA, Red Hat, Nokia, IBM, Netflix, Yelp, Intel, Cisco, HP, Qualcomm, JPMorgan Chase, Spotify, etc.\n",
    "\n",
    "Python is used in: \n",
    "\n",
    "* fron-end development\n",
    "* back-end development\n",
    "* full-stack development\n",
    "* testing\n",
    "* data analytics\n",
    "* data science\n",
    "* mobile development\n",
    "* game development"
   ]
  },
  {
   "cell_type": "markdown",
   "id": "bb3015fd",
   "metadata": {},
   "source": [
    "# Environment setup"
   ]
  },
  {
   "cell_type": "markdown",
   "id": "b92ee648",
   "metadata": {},
   "source": [
    "Most OS X and Linux operating systems already come with Python installed. Python is not included in Windows system.\n",
    "\n",
    "We will be using a **software platform** called **Anaconda** and an **Integrated Development Environment (IDE)** called **Jupyter Notebook**.\n",
    "\n",
    "Anaconda download page (https://www.anaconda.com/download)\n",
    "\n",
    "Anaconda installation guide (https://docs.anaconda.com/free/anaconda/install/index.html)."
   ]
  },
  {
   "cell_type": "markdown",
   "id": "c21c7aa3",
   "metadata": {},
   "source": [
    "## Using Jupyter Notebook"
   ]
  },
  {
   "attachments": {
    "Screenshot%202024-02-17%20112023.png": {
     "image/png": "[encoded data removed]"
    }
   },
   "cell_type": "markdown",
   "id": "3659ae9f",
   "metadata": {},
   "source": [
    "1. **On Windows:** Navigate through Start -> All apps -> Anaconda3 (64-bit) -> Jupyter Notebook.\n",
    "\n",
    "   **On Linux:** Open the terminal and type Jupyter Notebook.\n",
    "   \n",
    "   A new browser window opens.\n",
    "   \n",
    "   ![Screenshot%202024-02-17%20112023.png](attachment:Screenshot%202024-02-17%20112023.png)\n",
    "   \n",
    "   \n",
    " "
   ]
  },
  {
   "attachments": {
    "Screenshot%202024-02-17%20112048.png": {
     "image/png": "[encoded data removed]"
    }
   },
   "cell_type": "markdown",
   "id": "14f8ab5c",
   "metadata": {},
   "source": [
    "2. Click **New** dropdown and select **Folder**.\n",
    "\n",
    "![Screenshot%202024-02-17%20112048.png](attachment:Screenshot%202024-02-17%20112048.png)"
   ]
  },
  {
   "attachments": {
    "Screenshot%202024-02-17%20112111.png": {
     "image/png": "[encoded data removed]"
    }
   },
   "cell_type": "markdown",
   "id": "5ce9e927",
   "metadata": {},
   "source": [
    "3. A new folder by name **Untitled Folder** will be created.\n",
    "\n",
    "![Screenshot%202024-02-17%20112111.png](attachment:Screenshot%202024-02-17%20112111.png)\n",
    "\n",
    "\n",
    "4. Select the folder and click **Rename**. Enter the name for the folder. Click **Rename**.\n",
    "\n",
    "5. Double click the folder to open."
   ]
  },
  {
   "attachments": {
    "Screenshot%202024-02-17%20112202.png": {
     "image/png": "[encoded data removed]"
    }
   },
   "cell_type": "markdown",
   "id": "d29bb49d",
   "metadata": {},
   "source": [
    "6. Click **New** dropdown and select **Python 3 (ipykernel)**. \n",
    "\n",
    "![Screenshot%202024-02-17%20112202.png](attachment:Screenshot%202024-02-17%20112202.png)"
   ]
  },
  {
   "attachments": {
    "Screenshot%202024-02-17%20113922.png": {
     "image/png": "[encoded data removed]"
    }
   },
   "cell_type": "markdown",
   "id": "590446b9",
   "metadata": {},
   "source": [
    "7. A new **Jupyter Notebook** opens.\n",
    "\n",
    "![Screenshot%202024-02-17%20113922.png](attachment:Screenshot%202024-02-17%20113922.png)"
   ]
  },
  {
   "attachments": {
    "Screenshot%202024-02-17%20114125.png": {
     "image/png": "[encoded data removed]"
    }
   },
   "cell_type": "markdown",
   "id": "5f048f25",
   "metadata": {},
   "source": [
    "8. Click on **Untitled** to rename the notebook.\n",
    "\n",
    "![Screenshot%202024-02-17%20114125.png](attachment:Screenshot%202024-02-17%20114125.png)\n",
    "\n",
    "\n",
    "9. Enter the new name for the notebook and click **Rename**."
   ]
  },
  {
   "cell_type": "markdown",
   "id": "3a7e3dd3",
   "metadata": {},
   "source": [
    "### Jupyter Notebook Cell"
   ]
  },
  {
   "attachments": {
    "Screenshot%202024-02-17%20114704.png": {
     "image/png": "[encoded data removed]"
    }
   },
   "cell_type": "markdown",
   "id": "71df7011",
   "metadata": {},
   "source": [
    "1. The empty white rectangle section below the toolbar is called the **cell**.\n",
    "\n",
    "![Screenshot%202024-02-17%20114704.png](attachment:Screenshot%202024-02-17%20114704.png)\n",
    "\n",
    "2. Each cell is where we write the code.\n",
    "\n",
    "3. Click in the first cell."
   ]
  },
  {
   "cell_type": "markdown",
   "id": "9801e22a",
   "metadata": {},
   "source": [
    "# The Print Statement"
   ]
  },
  {
   "cell_type": "markdown",
   "id": "28dd010f",
   "metadata": {},
   "source": [
    "Print statement is a function in Python. \n",
    "\n",
    "Print allows to output the information to the user.\n",
    "\n",
    "Write the keyword *print* followed by parenthesis.\n",
    "\n",
    "Whatever is inside of the parenthesis will be the output for the user to see."
   ]
  },
  {
   "cell_type": "markdown",
   "id": "1968b907",
   "metadata": {},
   "source": [
    "### Example 1\n",
    "\n",
    "Within the cell write the following:"
   ]
  },
  {
   "cell_type": "code",
   "execution_count": null,
   "id": "8b68d24c",
   "metadata": {
    "scrolled": true
   },
   "outputs": [],
   "source": [
    "print(\"Hello, Welcome to Python programming.\")"
   ]
  },
  {
   "cell_type": "markdown",
   "id": "6b6c170e",
   "metadata": {},
   "source": [
    "**Note:** To execute the code, hold shift and press enter (the cell must be selected)."
   ]
  },
  {
   "cell_type": "markdown",
   "id": "0f209c7d",
   "metadata": {},
   "source": [
    "### Example 2"
   ]
  },
  {
   "cell_type": "code",
   "execution_count": null,
   "id": "42f4d657",
   "metadata": {},
   "outputs": [],
   "source": [
    "print(\"Harohalli\")\n",
    "\n",
    "print(\"Kanakapura Road\")"
   ]
  },
  {
   "cell_type": "code",
   "execution_count": null,
   "id": "427eabd3",
   "metadata": {},
   "outputs": [],
   "source": [
    "print(\"Harohalli\", end=\",\")\n",
    "\n",
    "print(\"Kanakapura Road\")"
   ]
  },
  {
   "cell_type": "markdown",
   "id": "2a51155d",
   "metadata": {},
   "source": [
    "### Example 3"
   ]
  },
  {
   "cell_type": "code",
   "execution_count": null,
   "id": "cb09785d",
   "metadata": {},
   "outputs": [],
   "source": [
    "print(\"Bengaluru\", \"Mangaluru\", \"Mysuru\")"
   ]
  },
  {
   "cell_type": "code",
   "execution_count": null,
   "id": "11177451",
   "metadata": {},
   "outputs": [],
   "source": [
    "print(\"Bengaluru\", \"Mangaluru\", \"Mysuru\", sep=\",\")"
   ]
  },
  {
   "cell_type": "markdown",
   "id": "2101f3e9",
   "metadata": {},
   "source": [
    "# Comments"
   ]
  },
  {
   "cell_type": "markdown",
   "id": "605b99c4",
   "metadata": {},
   "source": [
    "Comments are **notes that we write, either for ourselves or for someone else to read**.\n",
    "\n",
    "Comments are not read by the interpreter, meaning the **computer ignores the comments**.\n",
    "\n",
    "A good comment should be **short, easy to read, and to the point**.\n",
    "\n",
    "Adding a comment to every line of code is not recommended. But add the **comment wherever necessary**.\n",
    "\n",
    "In Python we write comments using the **#** symbol."
   ]
  },
  {
   "cell_type": "markdown",
   "id": "697a8972",
   "metadata": {},
   "source": [
    "### Example 1"
   ]
  },
  {
   "cell_type": "code",
   "execution_count": 9,
   "id": "a5a7ef7b",
   "metadata": {},
   "outputs": [],
   "source": [
    "# this is a comment"
   ]
  },
  {
   "cell_type": "markdown",
   "id": "c924306f",
   "metadata": {},
   "source": [
    "### Example 2"
   ]
  },
  {
   "cell_type": "code",
   "execution_count": 10,
   "id": "0628c911",
   "metadata": {},
   "outputs": [
    {
     "name": "stdout",
     "output_type": "stream",
     "text": [
      "Hello, Welcome to Pythong programming.\n"
     ]
    }
   ],
   "source": [
    "print(\"Hello, Welcome to Pythong programming.\") # Print a greeting message"
   ]
  },
  {
   "cell_type": "markdown",
   "id": "6e6f5851",
   "metadata": {},
   "source": [
    "### Example 3"
   ]
  },
  {
   "cell_type": "code",
   "execution_count": null,
   "id": "ed2995ff",
   "metadata": {},
   "outputs": [],
   "source": [
    "\"\"\"\n",
    "Program Name: Addition of two numbers\n",
    "\n",
    "Author: Deepak H G\n",
    "\n",
    "Language: Python\n",
    "\n",
    "\"\"\"\n",
    "\n",
    "number_one = 12\n",
    "\n",
    "number_two = 15\n",
    "\n",
    "print(number_one + number_two)"
   ]
  },
  {
   "cell_type": "code",
   "execution_count": null,
   "id": "9dc27797",
   "metadata": {},
   "outputs": [],
   "source": [
    "'''\n",
    "Program Name: Addition of two numbers\n",
    "\n",
    "Author: Deepak H G\n",
    "\n",
    "Language: Python\n",
    "\n",
    "'''\n",
    "\n",
    "number_one = 12\n",
    "\n",
    "number_two = 15\n",
    "\n",
    "print(number_one + number_two)"
   ]
  },
  {
   "cell_type": "markdown",
   "id": "5217e80d",
   "metadata": {},
   "source": [
    "# Data Types"
   ]
  },
  {
   "cell_type": "markdown",
   "id": "fccf26a7",
   "metadata": {},
   "source": [
    "Data types are how we define values, like words or numbers.\n",
    "\n",
    "Data types define what we can do and how these values are stored in computer memory."
   ]
  },
  {
   "cell_type": "markdown",
   "id": "d09c5a22",
   "metadata": {},
   "source": [
    "\n",
    "## Basic Data types in Python"
   ]
  },
  {
   "cell_type": "markdown",
   "id": "78a10ca1",
   "metadata": {},
   "source": [
    "| Data Type | Python Keyword | Sample Value | Description              |\n",
    "| --------  | -------------- | -----------  | ------------------------ |\n",
    "| NoneType  |      None      | None         | Object with no value     |\n",
    "| Integer   |      int       |  5           | Whole numbers            |\n",
    "| Float     |      float     | 5.7          | Decimal number           |\n",
    "| Boolean   |      bool      | True         | True or False values     |\n",
    "| String    |      str       | \"Hello\"      | Characters within quotes |"
   ]
  },
  {
   "cell_type": "markdown",
   "id": "a032cb42",
   "metadata": {},
   "source": [
    "## None Type"
   ]
  },
  {
   "cell_type": "markdown",
   "id": "31e47c3b",
   "metadata": {},
   "source": [
    "The *None* type defines a null value or no value."
   ]
  },
  {
   "cell_type": "markdown",
   "id": "e8a9a092",
   "metadata": {},
   "source": [
    "### Example 1"
   ]
  },
  {
   "cell_type": "code",
   "execution_count": null,
   "id": "8ae6dbe6",
   "metadata": {},
   "outputs": [],
   "source": [
    "ninth_planet = None"
   ]
  },
  {
   "cell_type": "code",
   "execution_count": null,
   "id": "75181cf6",
   "metadata": {},
   "outputs": [],
   "source": [
    "print(ninth_planet)"
   ]
  },
  {
   "cell_type": "markdown",
   "id": "5d85d8b3",
   "metadata": {},
   "source": [
    "## Integer"
   ]
  },
  {
   "cell_type": "markdown",
   "id": "35f9397d",
   "metadata": {},
   "source": [
    "Integers or ints are **whole numbers** with no decimal point.\n",
    "\n",
    "Integers are mainly used in mathematical calculations."
   ]
  },
  {
   "cell_type": "markdown",
   "id": "56152538",
   "metadata": {},
   "source": [
    "### Example 1"
   ]
  },
  {
   "cell_type": "code",
   "execution_count": 13,
   "id": "c252e9bb",
   "metadata": {},
   "outputs": [
    {
     "data": {
      "text/plain": [
       "10"
      ]
     },
     "execution_count": 13,
     "metadata": {},
     "output_type": "execute_result"
    }
   ],
   "source": [
    "print(2)"
   ]
  },
  {
   "cell_type": "markdown",
   "id": "786712e7",
   "metadata": {},
   "source": [
    "### Example 2"
   ]
  },
  {
   "cell_type": "code",
   "execution_count": null,
   "id": "d9da6165",
   "metadata": {},
   "outputs": [],
   "source": [
    "print(10)"
   ]
  },
  {
   "cell_type": "markdown",
   "id": "e8f930cc",
   "metadata": {},
   "source": [
    "## Float"
   ]
  },
  {
   "cell_type": "markdown",
   "id": "34e55575",
   "metadata": {},
   "source": [
    "Number having a **decimal point** is known as floating point or float data type.\n",
    "\n",
    "Float data types are mainly used in mathematical calculations."
   ]
  },
  {
   "cell_type": "markdown",
   "id": "71e788b7",
   "metadata": {},
   "source": [
    "### Example 1"
   ]
  },
  {
   "cell_type": "code",
   "execution_count": 14,
   "id": "16b7c81a",
   "metadata": {},
   "outputs": [
    {
     "name": "stdout",
     "output_type": "stream",
     "text": [
      "10.953\n"
     ]
    }
   ],
   "source": [
    "print(10.953)"
   ]
  },
  {
   "cell_type": "markdown",
   "id": "682c42c9",
   "metadata": {},
   "source": [
    "### Example 2"
   ]
  },
  {
   "cell_type": "code",
   "execution_count": null,
   "id": "87108770",
   "metadata": {},
   "outputs": [],
   "source": [
    "print(8.0)"
   ]
  },
  {
   "cell_type": "markdown",
   "id": "4f6c3064",
   "metadata": {},
   "source": [
    "### Example 3"
   ]
  },
  {
   "cell_type": "code",
   "execution_count": null,
   "id": "a879a9c5",
   "metadata": {},
   "outputs": [],
   "source": [
    "# float value in scientific notation \n",
    "\n",
    "print(2E3)"
   ]
  },
  {
   "cell_type": "markdown",
   "id": "faa1ed45",
   "metadata": {},
   "source": [
    "## Complex Datatype"
   ]
  },
  {
   "cell_type": "markdown",
   "id": "37ee2798",
   "metadata": {},
   "source": [
    "A complex number is written in the form a + bj, where a is the real part and b is the imaginary part of the number.\n",
    "\n",
    "j indicates the square root value of -1."
   ]
  },
  {
   "cell_type": "markdown",
   "id": "5967f608",
   "metadata": {},
   "source": [
    "### Example 1"
   ]
  },
  {
   "cell_type": "code",
   "execution_count": 20,
   "id": "3d12f3a2",
   "metadata": {},
   "outputs": [
    {
     "data": {
      "text/plain": [
       "(2+3j)"
      ]
     },
     "execution_count": 20,
     "metadata": {},
     "output_type": "execute_result"
    }
   ],
   "source": [
    "2 + 3j"
   ]
  },
  {
   "cell_type": "markdown",
   "id": "6e520595",
   "metadata": {},
   "source": [
    "### Example 2"
   ]
  },
  {
   "cell_type": "code",
   "execution_count": null,
   "id": "df96b3da",
   "metadata": {},
   "outputs": [],
   "source": [
    "-1-5.5J"
   ]
  },
  {
   "cell_type": "markdown",
   "id": "195cae31",
   "metadata": {},
   "source": [
    "## Binary, Octal and Hexadecimal Numbers"
   ]
  },
  {
   "cell_type": "markdown",
   "id": "21e924f3",
   "metadata": {},
   "source": [
    "A **binary number** is written by prefixing 0b(zero and b) or 0B(zero and B) before the value."
   ]
  },
  {
   "cell_type": "markdown",
   "id": "fd56cfb3",
   "metadata": {},
   "source": [
    "### Example 1"
   ]
  },
  {
   "cell_type": "code",
   "execution_count": 21,
   "id": "97691a7f",
   "metadata": {},
   "outputs": [
    {
     "data": {
      "text/plain": [
       "3"
      ]
     },
     "execution_count": 21,
     "metadata": {},
     "output_type": "execute_result"
    }
   ],
   "source": [
    "0b11"
   ]
  },
  {
   "cell_type": "markdown",
   "id": "d84d82d4",
   "metadata": {},
   "source": [
    "### Example 2"
   ]
  },
  {
   "cell_type": "code",
   "execution_count": 22,
   "id": "f7690704",
   "metadata": {},
   "outputs": [
    {
     "data": {
      "text/plain": [
       "15"
      ]
     },
     "execution_count": 22,
     "metadata": {},
     "output_type": "execute_result"
    }
   ],
   "source": [
    "0B1111"
   ]
  },
  {
   "cell_type": "markdown",
   "id": "11b82066",
   "metadata": {},
   "source": [
    "**Octal numbers** are indicated by prefixing 0o (zero and o) or 0O (zero and O) before the value."
   ]
  },
  {
   "cell_type": "markdown",
   "id": "2551a3de",
   "metadata": {},
   "source": [
    "### Example 1"
   ]
  },
  {
   "cell_type": "code",
   "execution_count": 23,
   "id": "261e815d",
   "metadata": {},
   "outputs": [
    {
     "data": {
      "text/plain": [
       "10"
      ]
     },
     "execution_count": 23,
     "metadata": {},
     "output_type": "execute_result"
    }
   ],
   "source": [
    "0o12"
   ]
  },
  {
   "cell_type": "markdown",
   "id": "6cc8ec8a",
   "metadata": {},
   "source": [
    "### Example 2"
   ]
  },
  {
   "cell_type": "code",
   "execution_count": 24,
   "id": "ff4623cb",
   "metadata": {},
   "outputs": [
    {
     "data": {
      "text/plain": [
       "18"
      ]
     },
     "execution_count": 24,
     "metadata": {},
     "output_type": "execute_result"
    }
   ],
   "source": [
    "0O22"
   ]
  },
  {
   "cell_type": "markdown",
   "id": "e6d9c4eb",
   "metadata": {},
   "source": [
    "**Hexadecimal numbers** are representd by prefixing 0x (zero and x) or 0X (zero and X) before the value."
   ]
  },
  {
   "cell_type": "markdown",
   "id": "5831c69e",
   "metadata": {},
   "source": [
    "### Example 1"
   ]
  },
  {
   "cell_type": "code",
   "execution_count": 25,
   "id": "1131b2fe",
   "metadata": {},
   "outputs": [
    {
     "data": {
      "text/plain": [
       "255"
      ]
     },
     "execution_count": 25,
     "metadata": {},
     "output_type": "execute_result"
    }
   ],
   "source": [
    "0xFF"
   ]
  },
  {
   "cell_type": "markdown",
   "id": "5b0b6d6b",
   "metadata": {},
   "source": [
    "### Example 2"
   ]
  },
  {
   "cell_type": "code",
   "execution_count": 26,
   "id": "c025f6cd",
   "metadata": {},
   "outputs": [
    {
     "data": {
      "text/plain": [
       "161"
      ]
     },
     "execution_count": 26,
     "metadata": {},
     "output_type": "execute_result"
    }
   ],
   "source": [
    "0XA1"
   ]
  },
  {
   "cell_type": "markdown",
   "id": "cc9f8f11",
   "metadata": {},
   "source": [
    "## Boolean"
   ]
  },
  {
   "cell_type": "markdown",
   "id": "536f809b",
   "metadata": {},
   "source": [
    "The boolean data type has **either a True or False value**.\n",
    "\n",
    "Boolean can't be assigned any other value except True or False.\n",
    "\n",
    "Most common example is to track whether something occurred or not."
   ]
  },
  {
   "cell_type": "markdown",
   "id": "ffbf0a14",
   "metadata": {},
   "source": [
    "### Example 1"
   ]
  },
  {
   "cell_type": "code",
   "execution_count": null,
   "id": "00926698",
   "metadata": {},
   "outputs": [],
   "source": [
    "print(True)"
   ]
  },
  {
   "cell_type": "markdown",
   "id": "e49a20ce",
   "metadata": {},
   "source": [
    "### Example 2"
   ]
  },
  {
   "cell_type": "code",
   "execution_count": null,
   "id": "84d0460b",
   "metadata": {},
   "outputs": [],
   "source": [
    "print(False)"
   ]
  },
  {
   "cell_type": "markdown",
   "id": "b7f0befc",
   "metadata": {},
   "source": [
    "## String"
   ]
  },
  {
   "cell_type": "markdown",
   "id": "6780e505",
   "metadata": {},
   "source": [
    "Strings are a **set of characters, symbols, numbers, whitespace, and empty space between two sets of quotation marks**.\n",
    "\n",
    "In Python, either **single or double quotes** can be used to create a string."
   ]
  },
  {
   "cell_type": "markdown",
   "id": "1813919b",
   "metadata": {},
   "source": [
    "### Example 1"
   ]
  },
  {
   "cell_type": "code",
   "execution_count": 27,
   "id": "5ce8ca37",
   "metadata": {},
   "outputs": [
    {
     "name": "stdout",
     "output_type": "stream",
     "text": [
      "Welme to Python Programming.\n"
     ]
    }
   ],
   "source": [
    "print(\"Welme to Python Programming.\")"
   ]
  },
  {
   "cell_type": "markdown",
   "id": "17edcb41",
   "metadata": {},
   "source": [
    "### Example 2"
   ]
  },
  {
   "cell_type": "code",
   "execution_count": 28,
   "id": "6d01f5f2",
   "metadata": {},
   "outputs": [
    {
     "name": "stdout",
     "output_type": "stream",
     "text": [
      "2024\n"
     ]
    }
   ],
   "source": [
    "print(\"2024\") # number defined as string"
   ]
  },
  {
   "cell_type": "markdown",
   "id": "69336257",
   "metadata": {},
   "source": [
    "### Example 3"
   ]
  },
  {
   "cell_type": "code",
   "execution_count": 29,
   "id": "9e9dee86",
   "metadata": {},
   "outputs": [
    {
     "data": {
      "text/plain": [
       "str"
      ]
     },
     "execution_count": 29,
     "metadata": {},
     "output_type": "execute_result"
    }
   ],
   "source": [
    "print(\"\")"
   ]
  },
  {
   "cell_type": "markdown",
   "id": "de5e8250",
   "metadata": {},
   "source": [
    "### Example 4"
   ]
  },
  {
   "cell_type": "code",
   "execution_count": null,
   "id": "86e37c63",
   "metadata": {},
   "outputs": [],
   "source": [
    "print('True') # boolean value defined as string"
   ]
  },
  {
   "cell_type": "markdown",
   "id": "8560e423",
   "metadata": {},
   "source": [
    "### Example 5"
   ]
  },
  {
   "cell_type": "code",
   "execution_count": 32,
   "id": "a3151101",
   "metadata": {},
   "outputs": [
    {
     "data": {
      "text/plain": [
       "\"This is Deepak's laptop.\""
      ]
     },
     "execution_count": 32,
     "metadata": {},
     "output_type": "execute_result"
    }
   ],
   "source": [
    "\"This is Deepak's laptop.\""
   ]
  },
  {
   "cell_type": "markdown",
   "id": "d47e149a",
   "metadata": {},
   "source": [
    "## Type Checking"
   ]
  },
  {
   "cell_type": "markdown",
   "id": "dcacbc2f",
   "metadata": {},
   "source": [
    "Use the method *type()* to check the type of a value.\n",
    "\n",
    "It always prints the **kind of data type**.\n",
    "\n",
    "Useful to check data types when we're unsure."
   ]
  },
  {
   "cell_type": "markdown",
   "id": "126fb419",
   "metadata": {},
   "source": [
    "### Example 1"
   ]
  },
  {
   "cell_type": "code",
   "execution_count": 33,
   "id": "c87b2cb2",
   "metadata": {},
   "outputs": [
    {
     "data": {
      "text/plain": [
       "int"
      ]
     },
     "execution_count": 33,
     "metadata": {},
     "output_type": "execute_result"
    }
   ],
   "source": [
    "type(5)"
   ]
  },
  {
   "cell_type": "markdown",
   "id": "eb35f577",
   "metadata": {},
   "source": [
    "### Example 2"
   ]
  },
  {
   "cell_type": "code",
   "execution_count": 34,
   "id": "712b5059",
   "metadata": {},
   "outputs": [
    {
     "data": {
      "text/plain": [
       "float"
      ]
     },
     "execution_count": 34,
     "metadata": {},
     "output_type": "execute_result"
    }
   ],
   "source": [
    "type(5.853)"
   ]
  },
  {
   "cell_type": "markdown",
   "id": "d89eff3a",
   "metadata": {},
   "source": [
    "### Example 3"
   ]
  },
  {
   "cell_type": "code",
   "execution_count": 35,
   "id": "12a997d7",
   "metadata": {},
   "outputs": [
    {
     "data": {
      "text/plain": [
       "bool"
      ]
     },
     "execution_count": 35,
     "metadata": {},
     "output_type": "execute_result"
    }
   ],
   "source": [
    "type(True)"
   ]
  },
  {
   "cell_type": "markdown",
   "id": "7afc094a",
   "metadata": {},
   "source": [
    "### Example 4"
   ]
  },
  {
   "cell_type": "code",
   "execution_count": 36,
   "id": "61ed7b63",
   "metadata": {},
   "outputs": [
    {
     "data": {
      "text/plain": [
       "str"
      ]
     },
     "execution_count": 36,
     "metadata": {},
     "output_type": "execute_result"
    }
   ],
   "source": [
    "type(\"Welcome\")"
   ]
  },
  {
   "cell_type": "markdown",
   "id": "e123cc6b",
   "metadata": {},
   "source": [
    "### Example 5"
   ]
  },
  {
   "cell_type": "code",
   "execution_count": 39,
   "id": "21a0a2ad",
   "metadata": {},
   "outputs": [
    {
     "data": {
      "text/plain": [
       "bool"
      ]
     },
     "execution_count": 39,
     "metadata": {},
     "output_type": "execute_result"
    }
   ],
   "source": [
    "type(\"\")"
   ]
  },
  {
   "cell_type": "markdown",
   "id": "f6925735",
   "metadata": {},
   "source": [
    "## Exercise"
   ]
  },
  {
   "cell_type": "markdown",
   "id": "b8c21a23",
   "metadata": {},
   "source": [
    "1. Print your name.\n",
    "\n",
    "\n",
    "2. Print your residential address."
   ]
  },
  {
   "cell_type": "markdown",
   "id": "0be9b20e",
   "metadata": {},
   "source": [
    "# Variables"
   ]
  },
  {
   "cell_type": "markdown",
   "id": "56bc2469",
   "metadata": {},
   "source": [
    "Variables allow us to save values into computer memory using a name. This lets us to use those values later in the program.\n",
    "\n",
    "This is similar to how we store information in our brain.\n",
    "\n",
    "Variables are stored in computer memory and are accessed later by using their name."
   ]
  },
  {
   "cell_type": "markdown",
   "id": "b412bbd2",
   "metadata": {},
   "source": [
    "## Variable Declaration"
   ]
  },
  {
   "cell_type": "markdown",
   "id": "570ed61c",
   "metadata": {},
   "source": [
    "Declare a name on the left side of the equals operator (=), and on the right side, assign the value that we want to save."
   ]
  },
  {
   "cell_type": "markdown",
   "id": "7d7b87b3",
   "metadata": {},
   "source": [
    "### Example 1"
   ]
  },
  {
   "cell_type": "code",
   "execution_count": 40,
   "id": "f864ea0c",
   "metadata": {},
   "outputs": [],
   "source": [
    "name = \"Deepak\""
   ]
  },
  {
   "cell_type": "markdown",
   "id": "ed6bb5a5",
   "metadata": {},
   "source": [
    "## Variable Naming Convention"
   ]
  },
  {
   "cell_type": "markdown",
   "id": "3f4ff4e9",
   "metadata": {},
   "source": [
    "Variable name can contain letters, underscores, and numbers.\n",
    "\n",
    "Variable name should contain only lower case letters.\n",
    "\n",
    "Variable name can't start with a number.\n",
    "\n",
    "When multiple words are to be used for naming, separate each word by underscore (_)."
   ]
  },
  {
   "cell_type": "markdown",
   "id": "4e539b26",
   "metadata": {},
   "source": [
    "## Integer and Float Variables"
   ]
  },
  {
   "cell_type": "markdown",
   "id": "1b234830",
   "metadata": {},
   "source": [
    "### Example 1"
   ]
  },
  {
   "cell_type": "code",
   "execution_count": 41,
   "id": "be70c62a",
   "metadata": {},
   "outputs": [],
   "source": [
    "year = 2024"
   ]
  },
  {
   "cell_type": "code",
   "execution_count": 42,
   "id": "57fb5255",
   "metadata": {},
   "outputs": [
    {
     "name": "stdout",
     "output_type": "stream",
     "text": [
      "2024\n"
     ]
    }
   ],
   "source": [
    "print(year)"
   ]
  },
  {
   "cell_type": "markdown",
   "id": "3b0c7e41",
   "metadata": {},
   "source": [
    "### Example 2"
   ]
  },
  {
   "cell_type": "code",
   "execution_count": 43,
   "id": "e5379577",
   "metadata": {},
   "outputs": [],
   "source": [
    "height = 5.11"
   ]
  },
  {
   "cell_type": "code",
   "execution_count": 44,
   "id": "ce8f9057",
   "metadata": {},
   "outputs": [
    {
     "name": "stdout",
     "output_type": "stream",
     "text": [
      "5.11\n"
     ]
    }
   ],
   "source": [
    "print(height)"
   ]
  },
  {
   "cell_type": "markdown",
   "id": "7550819a",
   "metadata": {},
   "source": [
    "## Boolean Variables"
   ]
  },
  {
   "cell_type": "markdown",
   "id": "5ec9084a",
   "metadata": {},
   "source": [
    "### Example 1"
   ]
  },
  {
   "cell_type": "code",
   "execution_count": 45,
   "id": "e86d6b4c",
   "metadata": {},
   "outputs": [
    {
     "name": "stdout",
     "output_type": "stream",
     "text": [
      "False\n"
     ]
    }
   ],
   "source": [
    "is_raining = False\n",
    "\n",
    "print(is_raining)"
   ]
  },
  {
   "cell_type": "markdown",
   "id": "dae98670",
   "metadata": {},
   "source": [
    "### Example 2"
   ]
  },
  {
   "cell_type": "code",
   "execution_count": 46,
   "id": "47ce229d",
   "metadata": {},
   "outputs": [
    {
     "name": "stdout",
     "output_type": "stream",
     "text": [
      "True\n"
     ]
    }
   ],
   "source": [
    "is_hot = True\n",
    "\n",
    "print(is_hot)"
   ]
  },
  {
   "cell_type": "markdown",
   "id": "b1da3eab",
   "metadata": {},
   "source": [
    "## String Variables"
   ]
  },
  {
   "cell_type": "markdown",
   "id": "cdd8bd8b",
   "metadata": {},
   "source": [
    "### Example 1"
   ]
  },
  {
   "cell_type": "code",
   "execution_count": null,
   "id": "caf7d5f1",
   "metadata": {},
   "outputs": [],
   "source": [
    "name = \"Deepak\"\n",
    "\n",
    "print(name)"
   ]
  },
  {
   "cell_type": "markdown",
   "id": "a83dbf89",
   "metadata": {},
   "source": [
    "### Example 2"
   ]
  },
  {
   "cell_type": "code",
   "execution_count": 47,
   "id": "88f74bee",
   "metadata": {},
   "outputs": [
    {
     "name": "stdout",
     "output_type": "stream",
     "text": [
      "India Karnataka Bengaluru\n"
     ]
    }
   ],
   "source": [
    "country = 'India'\n",
    "\n",
    "state = 'Karnataka'\n",
    "\n",
    "city = 'Bengaluru'\n",
    "\n",
    "print(country, state, city)"
   ]
  },
  {
   "cell_type": "markdown",
   "id": "199a133d",
   "metadata": {},
   "source": [
    "## Overwriting Previously Created Variables"
   ]
  },
  {
   "cell_type": "markdown",
   "id": "e1662767",
   "metadata": {},
   "source": [
    "### Example 1"
   ]
  },
  {
   "cell_type": "code",
   "execution_count": 49,
   "id": "eb8b665d",
   "metadata": {},
   "outputs": [
    {
     "name": "stdout",
     "output_type": "stream",
     "text": [
      "India: Karnataka: Mangaluru\n"
     ]
    }
   ],
   "source": [
    "country = 'India'\n",
    "\n",
    "state = 'Karnataka'\n",
    "\n",
    "city = 'Mangaluru'\n",
    "\n",
    "print(country, state, city, sep=\", \")"
   ]
  },
  {
   "cell_type": "markdown",
   "id": "7e2f765c",
   "metadata": {},
   "source": [
    "## Whitespace"
   ]
  },
  {
   "cell_type": "markdown",
   "id": "8e6d9cff",
   "metadata": {},
   "source": [
    "Whitespace represent characters used for spacing. Example: spaces and tabs.\n",
    "\n",
    "There is a whitespace to the left and right of the equals operator in variable declaration. It is not required but makes code easy to read.\n",
    "\n",
    "Computer ignores whitespace."
   ]
  },
  {
   "cell_type": "markdown",
   "id": "5fcc8e8a",
   "metadata": {},
   "source": [
    "### Example 1"
   ]
  },
  {
   "cell_type": "code",
   "execution_count": null,
   "id": "b7b03d0a",
   "metadata": {},
   "outputs": [],
   "source": [
    "first_name = 'Deepak'\n",
    "\n",
    "middle_name = 'Herur'\n",
    "\n",
    "last_name = 'Gundu Rao'\n",
    "\n",
    "age = 44\n",
    "\n",
    "is_student = False"
   ]
  },
  {
   "cell_type": "markdown",
   "id": "9c4f3a35",
   "metadata": {},
   "source": [
    "# String Operations: What can we do with string data type?"
   ]
  },
  {
   "cell_type": "markdown",
   "id": "4b05bc3f",
   "metadata": {},
   "source": [
    "## String Concatenation"
   ]
  },
  {
   "cell_type": "markdown",
   "id": "ca9ad073",
   "metadata": {},
   "source": [
    "Concatenation refers to adding one string to the end of another string.\n",
    "\n",
    "Use **+** operator to concatenate strings."
   ]
  },
  {
   "cell_type": "markdown",
   "id": "3076abb2",
   "metadata": {},
   "source": [
    "### Example 1"
   ]
  },
  {
   "cell_type": "code",
   "execution_count": null,
   "id": "1f47eb31",
   "metadata": {},
   "outputs": [],
   "source": [
    "institution_name = \"Dayananda Sagar\" + \"University\" + \"School of Engineering\"\n",
    "\n",
    "print(institution_name)"
   ]
  },
  {
   "cell_type": "code",
   "execution_count": null,
   "id": "d55ba1bf",
   "metadata": {},
   "outputs": [],
   "source": [
    "institution_name = \"Dayananda Sagar \" + \"University \" + \"School of Engineering\"\n",
    "\n",
    "print(institution_name)"
   ]
  },
  {
   "cell_type": "markdown",
   "id": "ae54d1b6",
   "metadata": {},
   "source": [
    "### Example 2"
   ]
  },
  {
   "cell_type": "code",
   "execution_count": null,
   "id": "32b2940e",
   "metadata": {},
   "outputs": [],
   "source": [
    "first_name = \"Dayananda Sagar\"\n",
    "\n",
    "middle_name = \"University\"  \n",
    "\n",
    "last_name = \"School of Nursing\"\n",
    "\n",
    "institution_full_name = first_name + \" \" + middle_name + \" \" + last_name\n",
    "\n",
    "print(institution_full_name)"
   ]
  },
  {
   "cell_type": "markdown",
   "id": "b0eaebc5",
   "metadata": {},
   "source": [
    "## String Repetition"
   ]
  },
  {
   "cell_type": "markdown",
   "id": "ef2a3aab",
   "metadata": {},
   "source": [
    "The * operator is also known as string repetion operator.\n",
    "\n",
    "When a string is multiplied with an **integer n**, the string is repeated n times."
   ]
  },
  {
   "cell_type": "markdown",
   "id": "92702d44",
   "metadata": {},
   "source": [
    "### Example 1"
   ]
  },
  {
   "cell_type": "code",
   "execution_count": 1,
   "id": "9b85a1e9",
   "metadata": {},
   "outputs": [
    {
     "name": "stdout",
     "output_type": "stream",
     "text": [
      "Hello Hello Hello \n"
     ]
    }
   ],
   "source": [
    "print(\"Hello \" * 3)"
   ]
  },
  {
   "cell_type": "markdown",
   "id": "d67c11f3",
   "metadata": {},
   "source": [
    "## Formatting Strings"
   ]
  },
  {
   "cell_type": "markdown",
   "id": "264b63a1",
   "metadata": {},
   "source": [
    "String formatting allows us to write the entire string and inject the variables in the proper locations we want."
   ]
  },
  {
   "cell_type": "markdown",
   "id": "d35c2cbd",
   "metadata": {},
   "source": [
    "### Using *.format()* method"
   ]
  },
  {
   "cell_type": "markdown",
   "id": "16b41ff4",
   "metadata": {},
   "source": [
    "Put a period (.) operator at the end of the string quotation, followed by the keyword *format*.\n",
    "\n",
    "Add the variables within the parenthesis after the keyword, to be inserted into the string."
   ]
  },
  {
   "cell_type": "markdown",
   "id": "75ada673",
   "metadata": {},
   "source": [
    "### Example 1"
   ]
  },
  {
   "cell_type": "code",
   "execution_count": 1,
   "id": "64e4cdcb",
   "metadata": {},
   "outputs": [
    {
     "data": {
      "text/plain": [
       "'Hello Deepak'"
      ]
     },
     "execution_count": 1,
     "metadata": {},
     "output_type": "execute_result"
    }
   ],
   "source": [
    "name = 'Deepak'\n",
    "\n",
    "\"Hello {}\".format(name)"
   ]
  },
  {
   "cell_type": "markdown",
   "id": "56264bc0",
   "metadata": {},
   "source": [
    "#### Example 2\n",
    "\n",
    "Hello {name}, Welcome to {Programming language} programming."
   ]
  },
  {
   "cell_type": "code",
   "execution_count": 2,
   "id": "970324d0",
   "metadata": {},
   "outputs": [],
   "source": [
    "name = 'Deepak'\n",
    "\n",
    "programming_language = 'Python'"
   ]
  },
  {
   "cell_type": "code",
   "execution_count": 3,
   "id": "fe9a92e1",
   "metadata": {},
   "outputs": [
    {
     "data": {
      "text/plain": [
       "'Hello Deepak, Welcome to Python programming'"
      ]
     },
     "execution_count": 3,
     "metadata": {},
     "output_type": "execute_result"
    }
   ],
   "source": [
    "\"Hello {}, Welcome to {} programming\".format(name, programming_language)"
   ]
  },
  {
   "cell_type": "markdown",
   "id": "46ebded0",
   "metadata": {},
   "source": [
    "#### Example 3\n",
    "\n",
    "My name is {name}, I am studying in {semester} semester."
   ]
  },
  {
   "cell_type": "code",
   "execution_count": 4,
   "id": "755deafc",
   "metadata": {},
   "outputs": [],
   "source": [
    "name = \"Saathvik\"\n",
    "\n",
    "semester = 2"
   ]
  },
  {
   "cell_type": "code",
   "execution_count": 5,
   "id": "66192088",
   "metadata": {},
   "outputs": [
    {
     "data": {
      "text/plain": [
       "'My name is Saathvik, I am studying in 2 semester.'"
      ]
     },
     "execution_count": 5,
     "metadata": {},
     "output_type": "execute_result"
    }
   ],
   "source": [
    "\"My name is {}, I am studying in {} semester.\".format(name, semester)"
   ]
  },
  {
   "cell_type": "markdown",
   "id": "a5d6a44f",
   "metadata": {},
   "source": [
    "### Using f Strings"
   ]
  },
  {
   "cell_type": "markdown",
   "id": "12f43227",
   "metadata": {},
   "source": [
    "Put the letter f at the beginning of the string and include the variable name within {} brackets."
   ]
  },
  {
   "cell_type": "markdown",
   "id": "57249e12",
   "metadata": {},
   "source": [
    "#### Example 1"
   ]
  },
  {
   "cell_type": "markdown",
   "id": "2b6ebeba",
   "metadata": {},
   "source": [
    "Example text: Hello {student name}, welcome to {institution name}."
   ]
  },
  {
   "cell_type": "code",
   "execution_count": 6,
   "id": "f3a82788",
   "metadata": {},
   "outputs": [],
   "source": [
    "name = \"Samhithaa\"\n",
    "\n",
    "institution = 'DSU'"
   ]
  },
  {
   "cell_type": "code",
   "execution_count": 7,
   "id": "3abee038",
   "metadata": {},
   "outputs": [
    {
     "data": {
      "text/plain": [
       "'Hello Samhithaa, welcome to DSU'"
      ]
     },
     "execution_count": 7,
     "metadata": {},
     "output_type": "execute_result"
    }
   ],
   "source": [
    "f\"Hello {name}, welcome to {institution}\""
   ]
  },
  {
   "cell_type": "markdown",
   "id": "8e2316a7",
   "metadata": {},
   "source": [
    "### Using % Operator"
   ]
  },
  {
   "cell_type": "markdown",
   "id": "a1a28f72",
   "metadata": {},
   "source": [
    "#### Example 1"
   ]
  },
  {
   "cell_type": "markdown",
   "id": "290c1401",
   "metadata": {},
   "source": [
    "Example text: I am {name} and I am {age} year old."
   ]
  },
  {
   "cell_type": "code",
   "execution_count": 8,
   "id": "ff1969b9",
   "metadata": {},
   "outputs": [],
   "source": [
    "name = 'Suchethana'\n",
    "\n",
    "age = 5"
   ]
  },
  {
   "cell_type": "code",
   "execution_count": 9,
   "id": "7d0f8efc",
   "metadata": {},
   "outputs": [
    {
     "data": {
      "text/plain": [
       "'I am Suchethana and I am 5 year old.'"
      ]
     },
     "execution_count": 9,
     "metadata": {},
     "output_type": "execute_result"
    }
   ],
   "source": [
    "\"I am %s and I am %d year old.\" % (name, age)"
   ]
  },
  {
   "cell_type": "markdown",
   "id": "6d48f7b0",
   "metadata": {},
   "source": [
    "**Note:** Use **s** after % to insert string data type, **d** for integer and **f** for float."
   ]
  },
  {
   "cell_type": "markdown",
   "id": "9a16e8d5",
   "metadata": {},
   "source": [
    "# Escape Characters in Strings"
   ]
  },
  {
   "cell_type": "markdown",
   "id": "05c93626",
   "metadata": {},
   "source": [
    "Escape characters escape the normal meaning and are useful to perform a different task."
   ]
  },
  {
   "cell_type": "markdown",
   "id": "d06219ad",
   "metadata": {},
   "source": [
    "| Escape Character | Meaning               |\n",
    "|------------------|-----------------------|\n",
    "| \\                | New line continuation |\n",
    "| \\\\               | Display a single \\    |\n",
    "| \\'               | Dispaly a single quote|\n",
    "| \\\"               | Display a double quote|\n",
    "| \\b               | Backspace             |\n",
    "| \\r               | Carriage return       |\n",
    "| \\t               | Horizontal tab        |\n",
    "| \\v               | Vertical tab          |\n",
    "| \\n               | New line              |"
   ]
  },
  {
   "cell_type": "markdown",
   "id": "29f540d4",
   "metadata": {},
   "source": [
    "### Example 1"
   ]
  },
  {
   "cell_type": "code",
   "execution_count": 13,
   "id": "39ccf1b3",
   "metadata": {},
   "outputs": [
    {
     "data": {
      "text/plain": [
       "30"
      ]
     },
     "execution_count": 13,
     "metadata": {},
     "output_type": "execute_result"
    }
   ],
   "source": [
    "number_one = 10\n",
    "\n",
    "number_two = 20\n",
    "\n",
    "# New line continuation\n",
    "total = \\\n",
    "number_one + number_two\n",
    "\n",
    "total"
   ]
  },
  {
   "cell_type": "markdown",
   "id": "4777eaf3",
   "metadata": {},
   "source": [
    "### Example 2"
   ]
  },
  {
   "cell_type": "code",
   "execution_count": 10,
   "id": "73f62c86",
   "metadata": {},
   "outputs": [
    {
     "name": "stdout",
     "output_type": "stream",
     "text": [
      "c:\\Workspace\n"
     ]
    }
   ],
   "source": [
    "# Display a single quote\n",
    "\n",
    "file_path = \"c:\\\\Workspace\"\n",
    "\n",
    "print(file_path)"
   ]
  },
  {
   "cell_type": "markdown",
   "id": "0f72c87a",
   "metadata": {},
   "source": [
    "### Example 3"
   ]
  },
  {
   "cell_type": "code",
   "execution_count": 9,
   "id": "956cce64",
   "metadata": {},
   "outputs": [
    {
     "name": "stdout",
     "output_type": "stream",
     "text": [
      "This is Deepak's laptop.\n"
     ]
    }
   ],
   "source": [
    "# Display a single quote\n",
    "\n",
    "print('This is Deepak\\'s laptop.')"
   ]
  },
  {
   "cell_type": "markdown",
   "id": "69e0bffb",
   "metadata": {},
   "source": [
    "### Example 4"
   ]
  },
  {
   "cell_type": "code",
   "execution_count": 8,
   "id": "9eb4ee5e",
   "metadata": {},
   "outputs": [
    {
     "name": "stdout",
     "output_type": "stream",
     "text": [
      "\"I think and think, 99 times the conclusion is false, 100th time I am right\"\n"
     ]
    }
   ],
   "source": [
    "# Display a double quote\n",
    "\n",
    "print(\"\\\"I think and think, 99 times the conclusion is false, 100th time I am right\\\"\")"
   ]
  },
  {
   "cell_type": "markdown",
   "id": "7b3503fc",
   "metadata": {},
   "source": [
    "### Example 5"
   ]
  },
  {
   "cell_type": "code",
   "execution_count": 12,
   "id": "a54a69f9",
   "metadata": {},
   "outputs": [
    {
     "name": "stdout",
     "output_type": "stream",
     "text": [
      "Welcome\b to programming\n"
     ]
    }
   ],
   "source": [
    "# backspace\n",
    "\n",
    "print(\"Welcome\\b to programming\")"
   ]
  },
  {
   "cell_type": "markdown",
   "id": "c4421405",
   "metadata": {},
   "source": [
    "### Example 6"
   ]
  },
  {
   "cell_type": "code",
   "execution_count": 15,
   "id": "436712bd",
   "metadata": {},
   "outputs": [
    {
     "name": "stdout",
     "output_type": "stream",
     "text": [
      "Welcome\r",
      "Python programming\n"
     ]
    }
   ],
   "source": [
    "# New line\n",
    "\n",
    "print(\"Welcome\\nPython programming\")"
   ]
  },
  {
   "cell_type": "markdown",
   "id": "4c471fb5",
   "metadata": {},
   "source": [
    "### Example 7"
   ]
  },
  {
   "cell_type": "code",
   "execution_count": 14,
   "id": "b60065a4",
   "metadata": {},
   "outputs": [
    {
     "name": "stdout",
     "output_type": "stream",
     "text": [
      "Python\tProgramming\n"
     ]
    }
   ],
   "source": [
    "# Horizontal tab\n",
    "print(\"Python\\tProgramming\")"
   ]
  },
  {
   "cell_type": "markdown",
   "id": "91989345",
   "metadata": {},
   "source": [
    "# Reserved Words/Keywords"
   ]
  },
  {
   "cell_type": "markdown",
   "id": "e155327a",
   "metadata": {},
   "source": [
    "Reserved words are the words that are already reserved for a particular purpose in the Python language.\n",
    "\n",
    "The names of the reserved words must not be used as variable names."
   ]
  },
  {
   "cell_type": "markdown",
   "id": "e712cf40",
   "metadata": {},
   "source": [
    "## Python Keywords"
   ]
  },
  {
   "cell_type": "code",
   "execution_count": 14,
   "id": "2db8e410",
   "metadata": {},
   "outputs": [
    {
     "name": "stdout",
     "output_type": "stream",
     "text": [
      "['False', 'None', 'True', 'and', 'as', 'assert', 'async', 'await', 'break', 'class', 'continue', 'def', 'del', 'elif', 'else', 'except', 'finally', 'for', 'from', 'global', 'if', 'import', 'in', 'is', 'lambda', 'nonlocal', 'not', 'or', 'pass', 'raise', 'return', 'try', 'while', 'with', 'yield']\n"
     ]
    }
   ],
   "source": [
    "import keyword\n",
    "\n",
    "print(keyword.kwlist)"
   ]
  },
  {
   "cell_type": "markdown",
   "id": "75ae2194",
   "metadata": {},
   "source": [
    "# User Input"
   ]
  },
  {
   "cell_type": "markdown",
   "id": "89533930",
   "metadata": {},
   "source": [
    "Use the function *input* to accept input from the user.\n",
    "\n",
    "To print the message to the user, pass the text within parenthesis for the *input* function.\n",
    "\n",
    "The *input* function creates a box for the user to enter the information.\n",
    "\n",
    "The interpreter pause the code execution when it comes across the *input* function, until enter is pressed.\n",
    "\n",
    "The user input data type is taken as **string**."
   ]
  },
  {
   "cell_type": "markdown",
   "id": "606160f7",
   "metadata": {},
   "source": [
    "## Accepting User Input"
   ]
  },
  {
   "cell_type": "markdown",
   "id": "430df77e",
   "metadata": {},
   "source": [
    "### Example 1"
   ]
  },
  {
   "cell_type": "code",
   "execution_count": null,
   "id": "58ed8177",
   "metadata": {},
   "outputs": [],
   "source": [
    "input(\"What is your name?\")"
   ]
  },
  {
   "cell_type": "markdown",
   "id": "36c42273",
   "metadata": {},
   "source": [
    "## Storing User Input"
   ]
  },
  {
   "cell_type": "markdown",
   "id": "67f514b4",
   "metadata": {},
   "source": [
    "Store the user input into a variable in order to work further."
   ]
  },
  {
   "cell_type": "markdown",
   "id": "94b0ed2c",
   "metadata": {},
   "source": [
    "### Example 1"
   ]
  },
  {
   "cell_type": "code",
   "execution_count": null,
   "id": "409fddfc",
   "metadata": {},
   "outputs": [],
   "source": [
    "user_name = input(\"What is your name?\")\n",
    "\n",
    "print(f\"Hello {user_name}, Welcome!\")"
   ]
  },
  {
   "cell_type": "markdown",
   "id": "dace83d0",
   "metadata": {},
   "source": [
    "### Example 2 : Check the data type of the user input"
   ]
  },
  {
   "cell_type": "code",
   "execution_count": null,
   "id": "b79e5521",
   "metadata": {},
   "outputs": [],
   "source": [
    "user_name = input(\"What is your name?\")\n",
    "\n",
    "print(type(user_name))"
   ]
  },
  {
   "cell_type": "markdown",
   "id": "2920b03f",
   "metadata": {},
   "source": [
    "### Example 3 : Check the data type of the user input"
   ]
  },
  {
   "cell_type": "code",
   "execution_count": null,
   "id": "b24b52c6",
   "metadata": {},
   "outputs": [],
   "source": [
    "semester = input(\"Which semester are you strudying in?\")\n",
    "\n",
    "type(semester)"
   ]
  },
  {
   "cell_type": "markdown",
   "id": "2be8c15f",
   "metadata": {},
   "source": [
    "# Type Conversion"
   ]
  },
  {
   "cell_type": "markdown",
   "id": "11c3d8f5",
   "metadata": {},
   "source": [
    "Type conversion is converting value of one data type to another.\n",
    "\n",
    "In Python, wrap the data type around the variable for data type conversion."
   ]
  },
  {
   "cell_type": "markdown",
   "id": "8522efac",
   "metadata": {},
   "source": [
    "### Example 1: Converting String to Integer"
   ]
  },
  {
   "cell_type": "code",
   "execution_count": null,
   "id": "7e5fe0bf",
   "metadata": {},
   "outputs": [],
   "source": [
    "number = \"7\"\n",
    "\n",
    "type(number)"
   ]
  },
  {
   "cell_type": "code",
   "execution_count": null,
   "id": "2758a2e7",
   "metadata": {},
   "outputs": [],
   "source": [
    "number = int(number) # Convert to Integer\n",
    "\n",
    "type(number)"
   ]
  },
  {
   "cell_type": "markdown",
   "id": "634e49ed",
   "metadata": {},
   "source": [
    "### Example 2: Converting String to Integer"
   ]
  },
  {
   "cell_type": "code",
   "execution_count": null,
   "id": "f68c6109",
   "metadata": {},
   "outputs": [],
   "source": [
    "number = \"12.5\"\n",
    "\n",
    "type(number)"
   ]
  },
  {
   "cell_type": "code",
   "execution_count": null,
   "id": "c307bbe2",
   "metadata": {},
   "outputs": [],
   "source": [
    "number =  float(number)\n",
    "\n",
    "number = int(number)"
   ]
  },
  {
   "cell_type": "code",
   "execution_count": null,
   "id": "eef627c2",
   "metadata": {},
   "outputs": [],
   "source": [
    "type(number), number"
   ]
  },
  {
   "cell_type": "markdown",
   "id": "6bea8392",
   "metadata": {},
   "source": [
    "### Example 3: Converting String to Float"
   ]
  },
  {
   "cell_type": "code",
   "execution_count": null,
   "id": "35731ed1",
   "metadata": {},
   "outputs": [],
   "source": [
    "height = \"5.11\"\n",
    "\n",
    "type(height)"
   ]
  },
  {
   "cell_type": "code",
   "execution_count": null,
   "id": "818efd33",
   "metadata": {},
   "outputs": [],
   "source": [
    "height = float(height) # Convert to Float\n",
    "\n",
    "type(height)"
   ]
  },
  {
   "cell_type": "markdown",
   "id": "ff6eceed",
   "metadata": {},
   "source": [
    "### Example 4: Converting String to Boolean"
   ]
  },
  {
   "cell_type": "code",
   "execution_count": 15,
   "id": "7f13c184",
   "metadata": {},
   "outputs": [
    {
     "data": {
      "text/plain": [
       "str"
      ]
     },
     "execution_count": 15,
     "metadata": {},
     "output_type": "execute_result"
    }
   ],
   "source": [
    "switch_on = \"True\"\n",
    "\n",
    "type(switch_on)"
   ]
  },
  {
   "cell_type": "code",
   "execution_count": 16,
   "id": "32729acb",
   "metadata": {},
   "outputs": [
    {
     "data": {
      "text/plain": [
       "bool"
      ]
     },
     "execution_count": 16,
     "metadata": {},
     "output_type": "execute_result"
    }
   ],
   "source": [
    "switch_on = bool(switch_on)\n",
    "\n",
    "type(switch_on)"
   ]
  },
  {
   "cell_type": "code",
   "execution_count": 17,
   "id": "e8553886",
   "metadata": {},
   "outputs": [
    {
     "name": "stdout",
     "output_type": "stream",
     "text": [
      "True\n"
     ]
    }
   ],
   "source": [
    "print(switch_on)"
   ]
  },
  {
   "cell_type": "markdown",
   "id": "e46e34b2",
   "metadata": {},
   "source": [
    "### Example 5: Converting String to Boolean"
   ]
  },
  {
   "cell_type": "code",
   "execution_count": 18,
   "id": "12184f60",
   "metadata": {},
   "outputs": [
    {
     "data": {
      "text/plain": [
       "str"
      ]
     },
     "execution_count": 18,
     "metadata": {},
     "output_type": "execute_result"
    }
   ],
   "source": [
    "switch_on = \"False\"\n",
    "\n",
    "type(switch_on)"
   ]
  },
  {
   "cell_type": "code",
   "execution_count": 19,
   "id": "9f5f670d",
   "metadata": {},
   "outputs": [
    {
     "data": {
      "text/plain": [
       "bool"
      ]
     },
     "execution_count": 19,
     "metadata": {},
     "output_type": "execute_result"
    }
   ],
   "source": [
    "switch_on = bool(switch_on)\n",
    "\n",
    "type(switch_on)"
   ]
  },
  {
   "cell_type": "code",
   "execution_count": 20,
   "id": "cd86f2d7",
   "metadata": {},
   "outputs": [
    {
     "name": "stdout",
     "output_type": "stream",
     "text": [
      "True\n"
     ]
    }
   ],
   "source": [
    "print(switch_on)"
   ]
  },
  {
   "cell_type": "markdown",
   "id": "cd41c80b",
   "metadata": {},
   "source": [
    "### Example 6: Converting String to Boolean"
   ]
  },
  {
   "cell_type": "code",
   "execution_count": 21,
   "id": "4e20826b",
   "metadata": {},
   "outputs": [
    {
     "data": {
      "text/plain": [
       "str"
      ]
     },
     "execution_count": 21,
     "metadata": {},
     "output_type": "execute_result"
    }
   ],
   "source": [
    "ninth_planet_name = \"\"\n",
    "\n",
    "type(ninth_planet_name)"
   ]
  },
  {
   "cell_type": "code",
   "execution_count": 22,
   "id": "e87a9a2a",
   "metadata": {},
   "outputs": [
    {
     "data": {
      "text/plain": [
       "bool"
      ]
     },
     "execution_count": 22,
     "metadata": {},
     "output_type": "execute_result"
    }
   ],
   "source": [
    "ninth_planet_name = bool(ninth_planet_name)\n",
    "\n",
    "type(ninth_planet_name)"
   ]
  },
  {
   "cell_type": "code",
   "execution_count": 23,
   "id": "1d9eff5f",
   "metadata": {},
   "outputs": [
    {
     "name": "stdout",
     "output_type": "stream",
     "text": [
      "False\n"
     ]
    }
   ],
   "source": [
    "print(ninth_planet_name)"
   ]
  },
  {
   "cell_type": "markdown",
   "id": "a3c5fc46",
   "metadata": {},
   "source": [
    "### Example 7: Converting Integer to Float"
   ]
  },
  {
   "cell_type": "code",
   "execution_count": null,
   "id": "87bc3c57",
   "metadata": {},
   "outputs": [],
   "source": [
    "year = 2024\n",
    "\n",
    "type(year)"
   ]
  },
  {
   "cell_type": "code",
   "execution_count": null,
   "id": "a87a2e47",
   "metadata": {},
   "outputs": [],
   "source": [
    "year = float(year) # Convert to Float\n",
    "\n",
    "type(year)"
   ]
  },
  {
   "cell_type": "code",
   "execution_count": null,
   "id": "4584a71d",
   "metadata": {},
   "outputs": [],
   "source": [
    "print(year)"
   ]
  },
  {
   "cell_type": "markdown",
   "id": "100cd25b",
   "metadata": {},
   "source": [
    "### Example 8: Converting Float to Integer"
   ]
  },
  {
   "cell_type": "code",
   "execution_count": null,
   "id": "efe41ede",
   "metadata": {},
   "outputs": [],
   "source": [
    "temperature = 96.8\n",
    "\n",
    "type(temperature)"
   ]
  },
  {
   "cell_type": "code",
   "execution_count": null,
   "id": "66d42c02",
   "metadata": {},
   "outputs": [],
   "source": [
    "temperature = int(temperature) # Convert to Integer\n",
    "\n",
    "type(temperature)"
   ]
  },
  {
   "cell_type": "code",
   "execution_count": null,
   "id": "929835cd",
   "metadata": {},
   "outputs": [],
   "source": [
    "print(temperature)"
   ]
  },
  {
   "cell_type": "markdown",
   "id": "538a6045",
   "metadata": {},
   "source": [
    "### Example 9: Converting Boolean to Integer"
   ]
  },
  {
   "cell_type": "code",
   "execution_count": 24,
   "id": "63acc46b",
   "metadata": {},
   "outputs": [
    {
     "data": {
      "text/plain": [
       "bool"
      ]
     },
     "execution_count": 24,
     "metadata": {},
     "output_type": "execute_result"
    }
   ],
   "source": [
    "is_raining = False\n",
    "\n",
    "type(is_raining)"
   ]
  },
  {
   "cell_type": "code",
   "execution_count": 25,
   "id": "c3d745ea",
   "metadata": {},
   "outputs": [
    {
     "data": {
      "text/plain": [
       "int"
      ]
     },
     "execution_count": 25,
     "metadata": {},
     "output_type": "execute_result"
    }
   ],
   "source": [
    "is_raining = int(is_raining) # Convert to Integer\n",
    "\n",
    "type(is_raining)"
   ]
  },
  {
   "cell_type": "code",
   "execution_count": 26,
   "id": "d63ce7fd",
   "metadata": {},
   "outputs": [
    {
     "name": "stdout",
     "output_type": "stream",
     "text": [
      "0\n"
     ]
    }
   ],
   "source": [
    "print(is_raining)"
   ]
  },
  {
   "cell_type": "markdown",
   "id": "78e06183",
   "metadata": {},
   "source": [
    "### Example 10: Converting Boolean to Integer"
   ]
  },
  {
   "cell_type": "code",
   "execution_count": 27,
   "id": "1dbd0770",
   "metadata": {},
   "outputs": [
    {
     "data": {
      "text/plain": [
       "bool"
      ]
     },
     "execution_count": 27,
     "metadata": {},
     "output_type": "execute_result"
    }
   ],
   "source": [
    "is_hot = True\n",
    "\n",
    "type(is_hot)"
   ]
  },
  {
   "cell_type": "code",
   "execution_count": 28,
   "id": "deea4aef",
   "metadata": {},
   "outputs": [
    {
     "data": {
      "text/plain": [
       "int"
      ]
     },
     "execution_count": 28,
     "metadata": {},
     "output_type": "execute_result"
    }
   ],
   "source": [
    "is_hot = int(is_hot) # Convert to Integer\n",
    "\n",
    "type(is_hot)"
   ]
  },
  {
   "cell_type": "code",
   "execution_count": 29,
   "id": "b5e895cf",
   "metadata": {},
   "outputs": [
    {
     "name": "stdout",
     "output_type": "stream",
     "text": [
      "1\n"
     ]
    }
   ],
   "source": [
    "print(is_hot)"
   ]
  },
  {
   "cell_type": "markdown",
   "id": "ea350be4",
   "metadata": {},
   "source": [
    "**Note:** The boolean type of True converts to an integer of 1 because the True and False values represent 1 and 0, respectively."
   ]
  },
  {
   "cell_type": "markdown",
   "id": "6fbe3c17",
   "metadata": {},
   "source": [
    "### Example 11: Converting Integer to Boolean"
   ]
  },
  {
   "cell_type": "code",
   "execution_count": 30,
   "id": "bf39a480",
   "metadata": {},
   "outputs": [
    {
     "data": {
      "text/plain": [
       "int"
      ]
     },
     "execution_count": 30,
     "metadata": {},
     "output_type": "execute_result"
    }
   ],
   "source": [
    "day = 10\n",
    "\n",
    "type(day)"
   ]
  },
  {
   "cell_type": "code",
   "execution_count": 31,
   "id": "3734fa90",
   "metadata": {},
   "outputs": [
    {
     "data": {
      "text/plain": [
       "bool"
      ]
     },
     "execution_count": 31,
     "metadata": {},
     "output_type": "execute_result"
    }
   ],
   "source": [
    "day = bool(day) # Convert to Boolean\n",
    "\n",
    "type(day)"
   ]
  },
  {
   "cell_type": "code",
   "execution_count": 32,
   "id": "b48a6151",
   "metadata": {},
   "outputs": [
    {
     "name": "stdout",
     "output_type": "stream",
     "text": [
      "True\n"
     ]
    }
   ],
   "source": [
    "print(day)"
   ]
  },
  {
   "cell_type": "markdown",
   "id": "0596bfbf",
   "metadata": {},
   "source": [
    "### Example 12: Converting Integer to Boolean"
   ]
  },
  {
   "cell_type": "code",
   "execution_count": 33,
   "id": "2f916fbc",
   "metadata": {},
   "outputs": [
    {
     "data": {
      "text/plain": [
       "int"
      ]
     },
     "execution_count": 33,
     "metadata": {},
     "output_type": "execute_result"
    }
   ],
   "source": [
    "gravity = 0;\n",
    "\n",
    "type(gravity)"
   ]
  },
  {
   "cell_type": "code",
   "execution_count": 34,
   "id": "b10dea44",
   "metadata": {},
   "outputs": [
    {
     "data": {
      "text/plain": [
       "bool"
      ]
     },
     "execution_count": 34,
     "metadata": {},
     "output_type": "execute_result"
    }
   ],
   "source": [
    "gravity = bool(gravity) # Convert to Boolean\n",
    "\n",
    "type(gravity)"
   ]
  },
  {
   "cell_type": "code",
   "execution_count": 35,
   "id": "21bf64d6",
   "metadata": {},
   "outputs": [
    {
     "name": "stdout",
     "output_type": "stream",
     "text": [
      "False\n"
     ]
    }
   ],
   "source": [
    "print(gravity)"
   ]
  },
  {
   "cell_type": "markdown",
   "id": "08ec0c27",
   "metadata": {},
   "source": [
    "### Example 13: Converting Integer to Boolean"
   ]
  },
  {
   "cell_type": "code",
   "execution_count": null,
   "id": "758daa47",
   "metadata": {},
   "outputs": [],
   "source": [
    "temperature = -3\n",
    "\n",
    "type(temperature)"
   ]
  },
  {
   "cell_type": "code",
   "execution_count": null,
   "id": "4fa7ed82",
   "metadata": {},
   "outputs": [],
   "source": [
    "temperature = bool(temperature) # Convert to Boolean\n",
    "\n",
    "type(temperature)"
   ]
  },
  {
   "cell_type": "code",
   "execution_count": null,
   "id": "371ad183",
   "metadata": {},
   "outputs": [],
   "source": [
    "print(temperature)"
   ]
  },
  {
   "cell_type": "markdown",
   "id": "35df48c8",
   "metadata": {},
   "source": [
    "**Note:**  The True and False values are represent by 1 and 0, respectively."
   ]
  },
  {
   "cell_type": "markdown",
   "id": "d3dcb950",
   "metadata": {},
   "source": [
    "### Example 14: Converting Float to Boolean"
   ]
  },
  {
   "cell_type": "code",
   "execution_count": null,
   "id": "e6f0be47",
   "metadata": {},
   "outputs": [],
   "source": [
    "distance_travelled = 0.0\n",
    "\n",
    "type(distance_travelled)"
   ]
  },
  {
   "cell_type": "code",
   "execution_count": null,
   "id": "a3b5d719",
   "metadata": {},
   "outputs": [],
   "source": [
    "distance_travelled = bool(distance_travelled) # Convert to Boolean\n",
    "\n",
    "type(distance_travelled)"
   ]
  },
  {
   "cell_type": "code",
   "execution_count": null,
   "id": "cb14027d",
   "metadata": {},
   "outputs": [],
   "source": [
    "print(distance_travelled)"
   ]
  },
  {
   "cell_type": "markdown",
   "id": "62d95a6f",
   "metadata": {},
   "source": [
    "### Example 15: Converting Float to Boolean"
   ]
  },
  {
   "cell_type": "code",
   "execution_count": null,
   "id": "5851e8ba",
   "metadata": {},
   "outputs": [],
   "source": [
    "speed = 65.5\n",
    "\n",
    "type(speed)"
   ]
  },
  {
   "cell_type": "code",
   "execution_count": null,
   "id": "2d5f6439",
   "metadata": {},
   "outputs": [],
   "source": [
    "speed = bool(speed) # Convert to Boolean\n",
    "\n",
    "type(speed)"
   ]
  },
  {
   "cell_type": "code",
   "execution_count": null,
   "id": "652541eb",
   "metadata": {},
   "outputs": [],
   "source": [
    "print(speed)"
   ]
  },
  {
   "cell_type": "markdown",
   "id": "d43d099a",
   "metadata": {},
   "source": [
    "### Example 16: Converting number to complex number"
   ]
  },
  {
   "cell_type": "code",
   "execution_count": null,
   "id": "bfee94bf",
   "metadata": {},
   "outputs": [],
   "source": [
    "complex(10)"
   ]
  },
  {
   "cell_type": "code",
   "execution_count": null,
   "id": "c00adfe5",
   "metadata": {},
   "outputs": [],
   "source": [
    "complex(4, 7)"
   ]
  },
  {
   "cell_type": "code",
   "execution_count": 39,
   "id": "0dbea9ef",
   "metadata": {},
   "outputs": [
    {
     "data": {
      "text/plain": [
       "12"
      ]
     },
     "execution_count": 39,
     "metadata": {},
     "output_type": "execute_result"
    }
   ],
   "source": [
    "int(float(\"12.5\"))"
   ]
  },
  {
   "cell_type": "markdown",
   "id": "acf0f586",
   "metadata": {},
   "source": [
    "# Number Conversion"
   ]
  },
  {
   "cell_type": "markdown",
   "id": "da9dd518",
   "metadata": {},
   "source": [
    "### Example 1: Converting decimal number to binary"
   ]
  },
  {
   "cell_type": "code",
   "execution_count": 40,
   "id": "8641cd7d",
   "metadata": {},
   "outputs": [
    {
     "data": {
      "text/plain": [
       "'0b1010'"
      ]
     },
     "execution_count": 40,
     "metadata": {},
     "output_type": "execute_result"
    }
   ],
   "source": [
    "bin(10)"
   ]
  },
  {
   "cell_type": "markdown",
   "id": "ba0547ef",
   "metadata": {},
   "source": [
    "### Example 2: Converting decimal number to octal"
   ]
  },
  {
   "cell_type": "code",
   "execution_count": 41,
   "id": "4d101cf4",
   "metadata": {},
   "outputs": [
    {
     "data": {
      "text/plain": [
       "'0o12'"
      ]
     },
     "execution_count": 41,
     "metadata": {},
     "output_type": "execute_result"
    }
   ],
   "source": [
    "oct(10)"
   ]
  },
  {
   "cell_type": "markdown",
   "id": "d2eea551",
   "metadata": {},
   "source": [
    "### Example 3: Converting decimal number to hexadecimal"
   ]
  },
  {
   "cell_type": "code",
   "execution_count": 42,
   "id": "2d53d04f",
   "metadata": {},
   "outputs": [
    {
     "data": {
      "text/plain": [
       "'0xff'"
      ]
     },
     "execution_count": 42,
     "metadata": {},
     "output_type": "execute_result"
    }
   ],
   "source": [
    "hex(255)"
   ]
  },
  {
   "cell_type": "markdown",
   "id": "f424da88",
   "metadata": {},
   "source": [
    "### Example 4: Converting binary to decimal"
   ]
  },
  {
   "cell_type": "code",
   "execution_count": null,
   "id": "4cf3f4b2",
   "metadata": {},
   "outputs": [],
   "source": [
    "int(0b11)"
   ]
  },
  {
   "cell_type": "markdown",
   "id": "8b95f7e3",
   "metadata": {},
   "source": [
    "### Example 5: Converting octal to decimal"
   ]
  },
  {
   "cell_type": "code",
   "execution_count": null,
   "id": "3cae36be",
   "metadata": {},
   "outputs": [],
   "source": [
    "int(0o12)"
   ]
  },
  {
   "cell_type": "markdown",
   "id": "e0a39338",
   "metadata": {},
   "source": [
    "### Example 6: Converting hexadecimal to deimal"
   ]
  },
  {
   "cell_type": "code",
   "execution_count": null,
   "id": "108cb82d",
   "metadata": {},
   "outputs": [],
   "source": [
    "int(0xff)"
   ]
  },
  {
   "cell_type": "markdown",
   "id": "74a49a6e",
   "metadata": {},
   "source": [
    "### Example 7: Converting string to decimal"
   ]
  },
  {
   "cell_type": "code",
   "execution_count": null,
   "id": "3693ca70",
   "metadata": {},
   "outputs": [],
   "source": [
    "# int(string_value, base)\n",
    "\n",
    "int(\"ff\", 16)"
   ]
  },
  {
   "cell_type": "markdown",
   "id": "0a7c8f0c",
   "metadata": {},
   "source": [
    "## Exercise"
   ]
  },
  {
   "cell_type": "markdown",
   "id": "2909e808",
   "metadata": {},
   "source": [
    "1. Accept the age of the user as input. Convet the user input to float data type.\n",
    "\n",
    "2. Ask the user to input the year, make, model, and color of their car, and print a formatted statement like “2018 Blue Chevrolet Silverado.”"
   ]
  },
  {
   "cell_type": "markdown",
   "id": "24e070c5",
   "metadata": {},
   "source": [
    "# Indentation"
   ]
  },
  {
   "cell_type": "markdown",
   "id": "5decd416",
   "metadata": {},
   "source": [
    "Whitespace at the beginning of the line is called indentation.\n",
    "\n",
    "In Python, indentation is used to associate and group statements.\n",
    "\n",
    "Statements is a block must have the same indentation level.\n",
    "\n",
    "Python strictly checks the indentation level and gives an error if indentation is not correct."
   ]
  },
  {
   "cell_type": "markdown",
   "id": "21113e83",
   "metadata": {},
   "source": [
    "# Operators and Expressions"
   ]
  },
  {
   "cell_type": "markdown",
   "id": "029ad81f",
   "metadata": {},
   "source": [
    "The general purpose of a program is to accept the data and perform operations on the data.\n",
    "\n",
    "The data in a program are stored in variables.\n",
    "\n",
    "Operators are the programming constructs that are used to manipulate the value of operands. \n",
    "\n",
    "An operator is a symbol that performs an operation. \n",
    "\n",
    "Variables on which the operator operates, are called operands.\n",
    "\n",
    "If an operator acts on a single variable, it is called unary operator. If an operator acts on two variables, it is called binary operator.\n",
    "\n",
    "In an expression, an operator is used on operands."
   ]
  },
  {
   "cell_type": "markdown",
   "id": "a93f6a5e",
   "metadata": {},
   "source": [
    "## Arithmetic Operators"
   ]
  },
  {
   "cell_type": "markdown",
   "id": "caf97e5c",
   "metadata": {},
   "source": [
    "Arithmetic operators are used to perform basic arithmetic operations like addition, subtraction, multiplication, and division."
   ]
  },
  {
   "cell_type": "markdown",
   "id": "6e1fd325",
   "metadata": {},
   "source": [
    "| Operator | Operation        | \n",
    "| -------  | ---------------- |\n",
    "|    +     | Addition         |\n",
    "|    -     | Subtraction      |\n",
    "|    *     | Multiplication   |\n",
    "|    /     | Division         |\n",
    "|    %     | Modulus          |\n",
    "|   **     | Exponent         |\n",
    "|   //     | Floor Division |"
   ]
  },
  {
   "cell_type": "code",
   "execution_count": 1,
   "id": "06d89fb6",
   "metadata": {},
   "outputs": [],
   "source": [
    "first_num = 13\n",
    "\n",
    "second_num = 5"
   ]
  },
  {
   "cell_type": "markdown",
   "id": "68e96e6e",
   "metadata": {},
   "source": [
    "### Example 1"
   ]
  },
  {
   "cell_type": "code",
   "execution_count": 9,
   "id": "f6db2f0a",
   "metadata": {},
   "outputs": [
    {
     "name": "stdout",
     "output_type": "stream",
     "text": [
      "18\n"
     ]
    }
   ],
   "source": [
    "# Addition Operation\n",
    "\n",
    "total = first_num + second_num\n",
    "\n",
    "print(total)"
   ]
  },
  {
   "cell_type": "markdown",
   "id": "0ef3cb61",
   "metadata": {},
   "source": [
    "### Example 2"
   ]
  },
  {
   "cell_type": "code",
   "execution_count": 10,
   "id": "08409835",
   "metadata": {},
   "outputs": [
    {
     "name": "stdout",
     "output_type": "stream",
     "text": [
      "8\n"
     ]
    }
   ],
   "source": [
    "# Subtraction\n",
    "\n",
    "difference = first_num - second_num\n",
    "\n",
    "print(difference)"
   ]
  },
  {
   "cell_type": "markdown",
   "id": "3503a2cb",
   "metadata": {},
   "source": [
    "### Example 3"
   ]
  },
  {
   "cell_type": "code",
   "execution_count": 11,
   "id": "4ec1f8cd",
   "metadata": {},
   "outputs": [
    {
     "name": "stdout",
     "output_type": "stream",
     "text": [
      "65\n"
     ]
    }
   ],
   "source": [
    "# Multiplication\n",
    "\n",
    "product = first_num * second_num\n",
    "\n",
    "print(product)"
   ]
  },
  {
   "cell_type": "markdown",
   "id": "cd22759e",
   "metadata": {},
   "source": [
    "### Example 4"
   ]
  },
  {
   "cell_type": "code",
   "execution_count": 12,
   "id": "f52be363",
   "metadata": {},
   "outputs": [
    {
     "name": "stdout",
     "output_type": "stream",
     "text": [
      "2.6\n"
     ]
    }
   ],
   "source": [
    "# Division\n",
    "\n",
    "result = first_num / second_num\n",
    "\n",
    "print(result)"
   ]
  },
  {
   "cell_type": "markdown",
   "id": "39c6c7cf",
   "metadata": {},
   "source": [
    "### Example 5"
   ]
  },
  {
   "cell_type": "code",
   "execution_count": 13,
   "id": "bdaa644a",
   "metadata": {},
   "outputs": [
    {
     "name": "stdout",
     "output_type": "stream",
     "text": [
      "3\n"
     ]
    }
   ],
   "source": [
    "# Modulus\n",
    "\n",
    "remainder = first_num % second_num\n",
    "\n",
    "print(remainder)"
   ]
  },
  {
   "cell_type": "markdown",
   "id": "19fc73dc",
   "metadata": {},
   "source": [
    "### Example 6"
   ]
  },
  {
   "cell_type": "code",
   "execution_count": 14,
   "id": "1f1bdfa8",
   "metadata": {},
   "outputs": [
    {
     "name": "stdout",
     "output_type": "stream",
     "text": [
      "371293\n"
     ]
    }
   ],
   "source": [
    "# Exponent\n",
    "\n",
    "exponent = first_num ** second_num\n",
    "\n",
    "print(exponent)"
   ]
  },
  {
   "cell_type": "markdown",
   "id": "31976b31",
   "metadata": {},
   "source": [
    "### Example 7"
   ]
  },
  {
   "cell_type": "code",
   "execution_count": 15,
   "id": "2f362ea0",
   "metadata": {},
   "outputs": [
    {
     "name": "stdout",
     "output_type": "stream",
     "text": [
      "2\n"
     ]
    }
   ],
   "source": [
    "# Integer division\n",
    "\n",
    "result = first_num // second_num\n",
    "\n",
    "print(result)"
   ]
  },
  {
   "cell_type": "markdown",
   "id": "24cb52b5",
   "metadata": {},
   "source": [
    "When an expression contains several arithmetic operators, the expression is evaluated in the following order:\n",
    "\n",
    "1. Parentheses are evaluated first.\n",
    "\n",
    "2. Exponent is evaluated next.\n",
    "\n",
    "3. Multiplication, division, modulus and integer division are at the same priority\n",
    "\n",
    "4. Addition and subtraction are performed next.\n",
    "\n",
    "5. Assignment is performed at the last."
   ]
  },
  {
   "cell_type": "markdown",
   "id": "f6dcef0b",
   "metadata": {},
   "source": [
    "### Example 1"
   ]
  },
  {
   "cell_type": "code",
   "execution_count": 16,
   "id": "ad778b25",
   "metadata": {},
   "outputs": [],
   "source": [
    "x = 1\n",
    "\n",
    "y = 2\n",
    "\n",
    "z = 3\n",
    "\n",
    "a = 2\n",
    "\n",
    "b = 2\n",
    "\n",
    "c = 3"
   ]
  },
  {
   "cell_type": "code",
   "execution_count": 17,
   "id": "130ad962",
   "metadata": {},
   "outputs": [],
   "source": [
    "d = (x + y) * z ** a // b + c"
   ]
  },
  {
   "cell_type": "code",
   "execution_count": null,
   "id": "ddaf3ed0",
   "metadata": {},
   "outputs": [],
   "source": [
    "(1 + 2) * 3 ** 2 // 2 + 3\n",
    " \n",
    "3 * 3 ** 2 // 2 + 3\n",
    "\n",
    "3 * 9 // 2 + 3\n",
    "\n",
    "27 // 2 + 3\n",
    "\n",
    "13 + 3"
   ]
  },
  {
   "cell_type": "code",
   "execution_count": 18,
   "id": "f82f9515",
   "metadata": {},
   "outputs": [
    {
     "name": "stdout",
     "output_type": "stream",
     "text": [
      "16\n"
     ]
    }
   ],
   "source": [
    "print(d)"
   ]
  },
  {
   "cell_type": "markdown",
   "id": "0e0eede2",
   "metadata": {},
   "source": [
    "### Exercise"
   ]
  },
  {
   "cell_type": "markdown",
   "id": "c3c65fe8",
   "metadata": {},
   "source": [
    "1. Evaluate the following expressions:\n",
    "    \n",
    "    a. 2 ** 6 // 8 % 2\n",
    "    \n",
    "    b. 5 % 10 + 10 -23 * 4 // 3\n",
    "    \n",
    "    c. 5 + 5 // 5 - 5 * 5 ** 5 % 5"
   ]
  },
  {
   "cell_type": "markdown",
   "id": "6a268616",
   "metadata": {},
   "source": [
    "2. Obtain integer quotient and remainder while dividing 29 with 5."
   ]
  },
  {
   "cell_type": "markdown",
   "id": "0f982597",
   "metadata": {},
   "source": [
    "## Assignment Operators"
   ]
  },
  {
   "cell_type": "markdown",
   "id": "16272d6f",
   "metadata": {},
   "source": [
    "Assignment operators are used to store the result of an expression.\n",
    "\n",
    "Assignment operators can also be used to perform arithmetic operations and then store the result into a variable."
   ]
  },
  {
   "cell_type": "markdown",
   "id": "8a312c2f",
   "metadata": {},
   "source": [
    "| Operator | Description |\n",
    "| -------- | ----------- |\n",
    "| =        | Assignment Operator |\n",
    "| +=       | Addition assignment operator |\n",
    "| -=       | Subtraction assignment operator |\n",
    "| *=       | Multiplication assignment operator |\n",
    "| /=       | Division assignment operator |\n",
    "| %=       | Modulus assignment operator |\n",
    "| \\**=     | Exponentiation assignment operator |\n",
    "| //=      | Integer or floor division assignment operator |"
   ]
  },
  {
   "cell_type": "markdown",
   "id": "cd179bec",
   "metadata": {},
   "source": [
    "### Example 1"
   ]
  },
  {
   "cell_type": "code",
   "execution_count": 25,
   "id": "ee29cde6",
   "metadata": {},
   "outputs": [],
   "source": [
    "a = 1\n",
    "\n",
    "b = 2"
   ]
  },
  {
   "cell_type": "code",
   "execution_count": 26,
   "id": "407a60a6",
   "metadata": {},
   "outputs": [
    {
     "name": "stdout",
     "output_type": "stream",
     "text": [
      "1\n",
      "2\n"
     ]
    }
   ],
   "source": [
    "print(a)\n",
    "\n",
    "print(b)"
   ]
  },
  {
   "cell_type": "markdown",
   "id": "d1b23d54",
   "metadata": {},
   "source": [
    "### Example 2"
   ]
  },
  {
   "cell_type": "code",
   "execution_count": 27,
   "id": "557eadd7",
   "metadata": {},
   "outputs": [],
   "source": [
    "a = 1; b = 1;"
   ]
  },
  {
   "cell_type": "code",
   "execution_count": 28,
   "id": "da857a97",
   "metadata": {},
   "outputs": [
    {
     "name": "stdout",
     "output_type": "stream",
     "text": [
      "1\n",
      "1\n"
     ]
    }
   ],
   "source": [
    "print(a)\n",
    "\n",
    "print(b)"
   ]
  },
  {
   "cell_type": "markdown",
   "id": "13bf6c40",
   "metadata": {},
   "source": [
    "### Example 3"
   ]
  },
  {
   "cell_type": "code",
   "execution_count": 31,
   "id": "16833720",
   "metadata": {},
   "outputs": [],
   "source": [
    "a = b = 5"
   ]
  },
  {
   "cell_type": "code",
   "execution_count": 32,
   "id": "8147c82b",
   "metadata": {},
   "outputs": [
    {
     "name": "stdout",
     "output_type": "stream",
     "text": [
      "5\n",
      "5\n"
     ]
    }
   ],
   "source": [
    "print(a)\n",
    "\n",
    "print(b)"
   ]
  },
  {
   "cell_type": "markdown",
   "id": "704f4ef2",
   "metadata": {},
   "source": [
    "### Example 4"
   ]
  },
  {
   "cell_type": "code",
   "execution_count": 29,
   "id": "785efdc7",
   "metadata": {},
   "outputs": [],
   "source": [
    "a, b = 1, 2"
   ]
  },
  {
   "cell_type": "code",
   "execution_count": 30,
   "id": "a988080f",
   "metadata": {},
   "outputs": [
    {
     "name": "stdout",
     "output_type": "stream",
     "text": [
      "1\n",
      "2\n"
     ]
    }
   ],
   "source": [
    "print(a)\n",
    "\n",
    "print(b)"
   ]
  },
  {
   "cell_type": "markdown",
   "id": "4f6c215d",
   "metadata": {},
   "source": [
    "### Example 5"
   ]
  },
  {
   "cell_type": "code",
   "execution_count": 12,
   "id": "7535c27d",
   "metadata": {},
   "outputs": [
    {
     "name": "stdout",
     "output_type": "stream",
     "text": [
      "15\n"
     ]
    }
   ],
   "source": [
    "x = 5; y = 10\n",
    "\n",
    "x += y # x = x + y\n",
    "\n",
    "print(x)"
   ]
  },
  {
   "cell_type": "markdown",
   "id": "c4d6c914",
   "metadata": {},
   "source": [
    "## Unary Minus Operator"
   ]
  },
  {
   "cell_type": "markdown",
   "id": "5b19dcae",
   "metadata": {},
   "source": [
    "The unary minus operator is denoted by minus (-).\n",
    "\n",
    "When the minus operator is used before the variable, the value of the variable is negated."
   ]
  },
  {
   "cell_type": "markdown",
   "id": "4a0dfd80",
   "metadata": {},
   "source": [
    "### Example 1"
   ]
  },
  {
   "cell_type": "code",
   "execution_count": 33,
   "id": "23777683",
   "metadata": {},
   "outputs": [
    {
     "name": "stdout",
     "output_type": "stream",
     "text": [
      "-2024\n"
     ]
    }
   ],
   "source": [
    "number = 2024\n",
    "\n",
    "print(-number)"
   ]
  },
  {
   "cell_type": "markdown",
   "id": "13a7aada",
   "metadata": {},
   "source": [
    "### Example 2"
   ]
  },
  {
   "cell_type": "code",
   "execution_count": 34,
   "id": "c8ecc717",
   "metadata": {},
   "outputs": [
    {
     "name": "stdout",
     "output_type": "stream",
     "text": [
      "2000\n"
     ]
    }
   ],
   "source": [
    "number = -2000\n",
    "\n",
    "print(-number)"
   ]
  },
  {
   "cell_type": "markdown",
   "id": "00f56429",
   "metadata": {},
   "source": [
    "## Relational Operators"
   ]
  },
  {
   "cell_type": "markdown",
   "id": "6473fb8e",
   "metadata": {},
   "source": [
    "Relational operators are used to compare two quantities.\n",
    "\n",
    "Relational operators result in **True** or **False** value based on the comparision."
   ]
  },
  {
   "cell_type": "markdown",
   "id": "54219ae7",
   "metadata": {},
   "source": [
    "| Operator | Operation |\n",
    "| -------- | --------- |\n",
    "|     >    | Greater than |\n",
    "| >=       | Greater than or equal |\n",
    "| <        | Less than |\n",
    "| <=       | Less than or equal |\n",
    "| ==       | Equal |\n",
    "| !=       | Not equal |"
   ]
  },
  {
   "cell_type": "markdown",
   "id": "41b59673",
   "metadata": {},
   "source": [
    "### Example 1"
   ]
  },
  {
   "cell_type": "code",
   "execution_count": 40,
   "id": "968f122e",
   "metadata": {},
   "outputs": [
    {
     "name": "stdout",
     "output_type": "stream",
     "text": [
      "True\n"
     ]
    }
   ],
   "source": [
    "num_one = 10\n",
    "\n",
    "num_two = 5\n",
    "\n",
    "print(num_one > num_two)"
   ]
  },
  {
   "cell_type": "markdown",
   "id": "212fa6ef",
   "metadata": {},
   "source": [
    "### Example 2"
   ]
  },
  {
   "cell_type": "code",
   "execution_count": 39,
   "id": "a5099bee",
   "metadata": {},
   "outputs": [
    {
     "name": "stdout",
     "output_type": "stream",
     "text": [
      "False\n"
     ]
    }
   ],
   "source": [
    "num_one = 10\n",
    "\n",
    "num_two = 5\n",
    "\n",
    "print(num_two > num_one)"
   ]
  },
  {
   "cell_type": "markdown",
   "id": "08d2b96d",
   "metadata": {},
   "source": [
    "### Example 3"
   ]
  },
  {
   "cell_type": "code",
   "execution_count": 41,
   "id": "b90d1e9e",
   "metadata": {},
   "outputs": [
    {
     "name": "stdout",
     "output_type": "stream",
     "text": [
      "True\n"
     ]
    }
   ],
   "source": [
    "num_one = 10\n",
    "\n",
    "num_two = 10\n",
    "\n",
    "print(num_one >= num_two)"
   ]
  },
  {
   "cell_type": "markdown",
   "id": "238b32aa",
   "metadata": {},
   "source": [
    "### Example 4"
   ]
  },
  {
   "cell_type": "code",
   "execution_count": 42,
   "id": "813e346e",
   "metadata": {},
   "outputs": [
    {
     "name": "stdout",
     "output_type": "stream",
     "text": [
      "True\n"
     ]
    }
   ],
   "source": [
    "num_one = 10\n",
    "\n",
    "num_two = 10\n",
    "\n",
    "print(num_one == num_two)"
   ]
  },
  {
   "cell_type": "markdown",
   "id": "c5a71ed4",
   "metadata": {},
   "source": [
    "### Example 5"
   ]
  },
  {
   "cell_type": "code",
   "execution_count": 43,
   "id": "40c5d379",
   "metadata": {},
   "outputs": [
    {
     "name": "stdout",
     "output_type": "stream",
     "text": [
      "True\n"
     ]
    }
   ],
   "source": [
    "num_one = 10\n",
    "\n",
    "num_two = 20\n",
    "\n",
    "print(num_one != num_two)"
   ]
  },
  {
   "cell_type": "markdown",
   "id": "e3f6edf4",
   "metadata": {},
   "source": [
    "**Note:** Relational operators can be chained i.e., an expression can hold more than one relational operator."
   ]
  },
  {
   "cell_type": "markdown",
   "id": "784dae26",
   "metadata": {},
   "source": [
    "### Example 1"
   ]
  },
  {
   "cell_type": "code",
   "execution_count": 44,
   "id": "23baae3f",
   "metadata": {},
   "outputs": [
    {
     "name": "stdout",
     "output_type": "stream",
     "text": [
      "True\n"
     ]
    }
   ],
   "source": [
    "print(10 < 15 < 20)"
   ]
  },
  {
   "cell_type": "markdown",
   "id": "bb89b846",
   "metadata": {},
   "source": [
    "### Example 2"
   ]
  },
  {
   "cell_type": "code",
   "execution_count": 45,
   "id": "8a6cc575",
   "metadata": {},
   "outputs": [
    {
     "name": "stdout",
     "output_type": "stream",
     "text": [
      "False\n"
     ]
    }
   ],
   "source": [
    "print(1 < 2 > 3 < 4)"
   ]
  },
  {
   "cell_type": "markdown",
   "id": "dc988176",
   "metadata": {},
   "source": [
    "## Logical Operators"
   ]
  },
  {
   "cell_type": "markdown",
   "id": "f66050d5",
   "metadata": {},
   "source": [
    "Logical operators are used to combine conditional statements."
   ]
  },
  {
   "cell_type": "markdown",
   "id": "2a2de9ef",
   "metadata": {},
   "source": [
    "| Operator | Operation |\n",
    "| -------- | --------- |\n",
    "| and      | Returns True if both statements are True |\n",
    "| or       | Returns True if one of the statements is True |\n",
    "| not      | Reverse the result, returns False if the result is True |"
   ]
  },
  {
   "cell_type": "markdown",
   "id": "0496c7bf",
   "metadata": {},
   "source": [
    "### Example 1"
   ]
  },
  {
   "cell_type": "code",
   "execution_count": 47,
   "id": "7ac7f902",
   "metadata": {},
   "outputs": [
    {
     "name": "stdout",
     "output_type": "stream",
     "text": [
      "True\n"
     ]
    }
   ],
   "source": [
    "x = 10\n",
    "\n",
    "print((x < 50) and (x < 20)) "
   ]
  },
  {
   "cell_type": "code",
   "execution_count": 51,
   "id": "6663e0e1",
   "metadata": {},
   "outputs": [
    {
     "name": "stdout",
     "output_type": "stream",
     "text": [
      "True\n"
     ]
    }
   ],
   "source": [
    "# Alternate expression \n",
    "\n",
    "print(50 > x < 20)"
   ]
  },
  {
   "cell_type": "markdown",
   "id": "71f5cea4",
   "metadata": {},
   "source": [
    "### Example 2"
   ]
  },
  {
   "cell_type": "code",
   "execution_count": 52,
   "id": "d19b8a47",
   "metadata": {},
   "outputs": [
    {
     "name": "stdout",
     "output_type": "stream",
     "text": [
      "True\n"
     ]
    }
   ],
   "source": [
    "x = 3\n",
    "\n",
    "print((x < 5) or (x < 6))"
   ]
  },
  {
   "cell_type": "markdown",
   "id": "80b8c49f",
   "metadata": {},
   "source": [
    "### Example 3"
   ]
  },
  {
   "cell_type": "code",
   "execution_count": 53,
   "id": "539cc3cf",
   "metadata": {},
   "outputs": [
    {
     "name": "stdout",
     "output_type": "stream",
     "text": [
      "False\n"
     ]
    }
   ],
   "source": [
    "x = 3\n",
    "\n",
    "print(not((x < 5) or (x < 6)))"
   ]
  },
  {
   "cell_type": "markdown",
   "id": "688deecb",
   "metadata": {},
   "source": [
    "## Bitwise Operators"
   ]
  },
  {
   "cell_type": "markdown",
   "id": "66a5bd19",
   "metadata": {},
   "source": [
    "Bitwise operators operate on individual bits (0 and 1) of the operands.\n",
    "\n",
    "Bitwise operators can be used on binary numbers or on integers.\n",
    "\n",
    "When used on integers, the numbers are first converted into binary number and then bitwise operation is performed.\n",
    "\n",
    "The result of the bitwise operation is always in the form of integers (decimal value)."
   ]
  },
  {
   "cell_type": "markdown",
   "id": "6e6ee84e",
   "metadata": {},
   "source": [
    "| Operator | Name      | Operation |\n",
    "| -------- | --------- | -------   \n",
    "| &        | And       | Sets each bit to 1 if both bits are 1 |\n",
    "| \\|       | OR        | Sets each bit to 1 if one of two bits is 1 |\n",
    "| ^        | XOR       | Sets each bit to 1 if only one of two bits is 1 |\n",
    "| ~        | NOT       | Inverts all the bits |\n",
    "| <<       | Zero fill left shift | Shift left by pushing zeros in from the right and let the leftmost bits fall off |\n",
    "| >>       | Signed right shift | Shift right by pushing copies of the leftmost bit in from the left, and let the rightmost bits fall off|"
   ]
  },
  {
   "cell_type": "markdown",
   "id": "797a22a1",
   "metadata": {},
   "source": [
    "### Example 1"
   ]
  },
  {
   "cell_type": "code",
   "execution_count": 54,
   "id": "68b96057",
   "metadata": {},
   "outputs": [],
   "source": [
    "x = 10\n",
    "\n",
    "y = 11"
   ]
  },
  {
   "cell_type": "code",
   "execution_count": 62,
   "id": "1b7df5c3",
   "metadata": {},
   "outputs": [
    {
     "data": {
      "text/plain": [
       "('0b1010', '0b1011')"
      ]
     },
     "execution_count": 62,
     "metadata": {},
     "output_type": "execute_result"
    }
   ],
   "source": [
    "bin(x), bin(y)"
   ]
  },
  {
   "cell_type": "code",
   "execution_count": 55,
   "id": "3ec5e835",
   "metadata": {},
   "outputs": [
    {
     "name": "stdout",
     "output_type": "stream",
     "text": [
      "10\n"
     ]
    }
   ],
   "source": [
    "print(x & y)"
   ]
  },
  {
   "cell_type": "markdown",
   "id": "ee024bcc",
   "metadata": {},
   "source": [
    "### Example 2"
   ]
  },
  {
   "cell_type": "code",
   "execution_count": 56,
   "id": "675b622f",
   "metadata": {},
   "outputs": [],
   "source": [
    "x = 10\n",
    "\n",
    "y = 11"
   ]
  },
  {
   "cell_type": "code",
   "execution_count": 63,
   "id": "d2a0f637",
   "metadata": {},
   "outputs": [
    {
     "data": {
      "text/plain": [
       "('0b1010', '0b1011')"
      ]
     },
     "execution_count": 63,
     "metadata": {},
     "output_type": "execute_result"
    }
   ],
   "source": [
    "bin(x), bin(y)"
   ]
  },
  {
   "cell_type": "code",
   "execution_count": 57,
   "id": "8a4c7972",
   "metadata": {},
   "outputs": [
    {
     "name": "stdout",
     "output_type": "stream",
     "text": [
      "11\n"
     ]
    }
   ],
   "source": [
    "print(x | y)"
   ]
  },
  {
   "cell_type": "markdown",
   "id": "568d5fc9",
   "metadata": {},
   "source": [
    "### Example 3"
   ]
  },
  {
   "cell_type": "code",
   "execution_count": 64,
   "id": "74c43e66",
   "metadata": {},
   "outputs": [],
   "source": [
    "x = 10\n",
    "\n",
    "y = 11"
   ]
  },
  {
   "cell_type": "code",
   "execution_count": 65,
   "id": "e7c76e35",
   "metadata": {},
   "outputs": [
    {
     "data": {
      "text/plain": [
       "('0b1010', '0b1011')"
      ]
     },
     "execution_count": 65,
     "metadata": {},
     "output_type": "execute_result"
    }
   ],
   "source": [
    "bin(x), bin(y)"
   ]
  },
  {
   "cell_type": "code",
   "execution_count": 66,
   "id": "0763df53",
   "metadata": {},
   "outputs": [
    {
     "name": "stdout",
     "output_type": "stream",
     "text": [
      "1\n"
     ]
    }
   ],
   "source": [
    "print(x ^ y)"
   ]
  },
  {
   "cell_type": "markdown",
   "id": "a99719f4",
   "metadata": {},
   "source": [
    "### Example 4"
   ]
  },
  {
   "cell_type": "code",
   "execution_count": 67,
   "id": "1f7197d6",
   "metadata": {},
   "outputs": [],
   "source": [
    "x = 10"
   ]
  },
  {
   "cell_type": "code",
   "execution_count": 68,
   "id": "f8ddb257",
   "metadata": {},
   "outputs": [
    {
     "data": {
      "text/plain": [
       "'0b1010'"
      ]
     },
     "execution_count": 68,
     "metadata": {},
     "output_type": "execute_result"
    }
   ],
   "source": [
    "bin(x)"
   ]
  },
  {
   "cell_type": "code",
   "execution_count": 69,
   "id": "c342a972",
   "metadata": {},
   "outputs": [
    {
     "name": "stdout",
     "output_type": "stream",
     "text": [
      "-11\n"
     ]
    }
   ],
   "source": [
    "print(~x)"
   ]
  },
  {
   "cell_type": "markdown",
   "id": "6179590f",
   "metadata": {},
   "source": [
    "### Example 5"
   ]
  },
  {
   "cell_type": "code",
   "execution_count": 70,
   "id": "1ab63a6d",
   "metadata": {},
   "outputs": [
    {
     "name": "stdout",
     "output_type": "stream",
     "text": [
      "20\n"
     ]
    }
   ],
   "source": [
    "x = 10\n",
    "\n",
    "print(x << 1)"
   ]
  },
  {
   "cell_type": "markdown",
   "id": "9812d5ab",
   "metadata": {},
   "source": [
    "### Example 6"
   ]
  },
  {
   "cell_type": "code",
   "execution_count": 71,
   "id": "200fa4a8",
   "metadata": {},
   "outputs": [
    {
     "name": "stdout",
     "output_type": "stream",
     "text": [
      "5\n"
     ]
    }
   ],
   "source": [
    "x = 10\n",
    "\n",
    "print(x >> 1)"
   ]
  },
  {
   "cell_type": "markdown",
   "id": "d1e1b1f2",
   "metadata": {},
   "source": [
    "## Identity Operators"
   ]
  },
  {
   "cell_type": "markdown",
   "id": "ecb694c3",
   "metadata": {},
   "source": [
    "Identity operators are used to compare the memory location of two objects.\n",
    "\n",
    "The memory location of an object can be found using the id() function.\n",
    "\n",
    "The id() function returns an integer number, called the *identity number* that represents the memory location of the object."
   ]
  },
  {
   "cell_type": "markdown",
   "id": "8c9befac",
   "metadata": {},
   "source": [
    "### Example 1"
   ]
  },
  {
   "cell_type": "code",
   "execution_count": 74,
   "id": "5debd25f",
   "metadata": {},
   "outputs": [
    {
     "name": "stdout",
     "output_type": "stream",
     "text": [
      "8885608\n"
     ]
    }
   ],
   "source": [
    "x = 10\n",
    "\n",
    "print(id(x))"
   ]
  },
  {
   "cell_type": "code",
   "execution_count": 75,
   "id": "ff778284",
   "metadata": {},
   "outputs": [
    {
     "name": "stdout",
     "output_type": "stream",
     "text": [
      "8885928\n"
     ]
    }
   ],
   "source": [
    "y = 20\n",
    "\n",
    "print(id(y))"
   ]
  },
  {
   "cell_type": "code",
   "execution_count": 76,
   "id": "bd413be8",
   "metadata": {},
   "outputs": [
    {
     "name": "stdout",
     "output_type": "stream",
     "text": [
      "8885608\n"
     ]
    }
   ],
   "source": [
    "z = 10\n",
    "\n",
    "print(id(z))"
   ]
  },
  {
   "cell_type": "markdown",
   "id": "aa970c58",
   "metadata": {},
   "source": [
    "| Operator | Description |\n",
    "| -------- | ----------- |\n",
    "| is       | Returns True if both variables are the same object |\n",
    "| is not   | Returns True if both variables are not the same object |"
   ]
  },
  {
   "cell_type": "markdown",
   "id": "24d708ed",
   "metadata": {},
   "source": [
    "### Example 1"
   ]
  },
  {
   "cell_type": "code",
   "execution_count": 77,
   "id": "e19525ee",
   "metadata": {},
   "outputs": [],
   "source": [
    "x = 10\n",
    "\n",
    "y = 10"
   ]
  },
  {
   "cell_type": "code",
   "execution_count": 78,
   "id": "24240963",
   "metadata": {},
   "outputs": [
    {
     "data": {
      "text/plain": [
       "(8885608, 8885608)"
      ]
     },
     "execution_count": 78,
     "metadata": {},
     "output_type": "execute_result"
    }
   ],
   "source": [
    "id(x), id(y)"
   ]
  },
  {
   "cell_type": "code",
   "execution_count": 79,
   "id": "474d7bb3",
   "metadata": {},
   "outputs": [
    {
     "name": "stdout",
     "output_type": "stream",
     "text": [
      "True\n"
     ]
    }
   ],
   "source": [
    "print(x is y)"
   ]
  },
  {
   "cell_type": "markdown",
   "id": "5c0e9e9a",
   "metadata": {},
   "source": [
    "### Example 2"
   ]
  },
  {
   "cell_type": "code",
   "execution_count": 80,
   "id": "2c7fa3df",
   "metadata": {},
   "outputs": [],
   "source": [
    "x = 10\n",
    "\n",
    "y = 20"
   ]
  },
  {
   "cell_type": "code",
   "execution_count": 81,
   "id": "09c8b2af",
   "metadata": {},
   "outputs": [
    {
     "data": {
      "text/plain": [
       "(8885608, 8885928)"
      ]
     },
     "execution_count": 81,
     "metadata": {},
     "output_type": "execute_result"
    }
   ],
   "source": [
    "id(x), id(y)"
   ]
  },
  {
   "cell_type": "code",
   "execution_count": 82,
   "id": "e9771572",
   "metadata": {},
   "outputs": [
    {
     "name": "stdout",
     "output_type": "stream",
     "text": [
      "False\n"
     ]
    }
   ],
   "source": [
    "print(x is y)"
   ]
  },
  {
   "cell_type": "code",
   "execution_count": 83,
   "id": "5d5b97e1",
   "metadata": {},
   "outputs": [
    {
     "name": "stdout",
     "output_type": "stream",
     "text": [
      "True\n"
     ]
    }
   ],
   "source": [
    "print(x is not y)"
   ]
  },
  {
   "cell_type": "markdown",
   "id": "dafd344c",
   "metadata": {},
   "source": [
    "## Membership Operators"
   ]
  },
  {
   "cell_type": "markdown",
   "id": "e312d042",
   "metadata": {},
   "source": [
    "Membership operators are used to test for membership in a sequence such as strings, lists, tuple or dictionaries."
   ]
  },
  {
   "cell_type": "markdown",
   "id": "f0e93b8d",
   "metadata": {},
   "source": [
    "| Operator | Description |\n",
    "| -------- | ----------- |\n",
    "| in       | Returns True if an element is found in the specified sequence. |\n",
    "| not in   | Returns True if an element is not found in the sequence. |"
   ]
  },
  {
   "cell_type": "markdown",
   "id": "b91ab5f6",
   "metadata": {},
   "source": [
    "### Example 1"
   ]
  },
  {
   "cell_type": "code",
   "execution_count": 1,
   "id": "999ab7de",
   "metadata": {},
   "outputs": [],
   "source": [
    "country = 'India'"
   ]
  },
  {
   "cell_type": "code",
   "execution_count": 7,
   "id": "45cab16f",
   "metadata": {},
   "outputs": [
    {
     "data": {
      "text/plain": [
       "'I'"
      ]
     },
     "execution_count": 7,
     "metadata": {},
     "output_type": "execute_result"
    }
   ],
   "source": [
    "country[0]"
   ]
  },
  {
   "cell_type": "code",
   "execution_count": 9,
   "id": "de1b71cc",
   "metadata": {},
   "outputs": [
    {
     "data": {
      "text/plain": [
       "'a'"
      ]
     },
     "execution_count": 9,
     "metadata": {},
     "output_type": "execute_result"
    }
   ],
   "source": [
    "country[4]"
   ]
  },
  {
   "cell_type": "code",
   "execution_count": 2,
   "id": "95d50637",
   "metadata": {},
   "outputs": [
    {
     "name": "stdout",
     "output_type": "stream",
     "text": [
      "True\n"
     ]
    }
   ],
   "source": [
    "print('n' in country)"
   ]
  },
  {
   "cell_type": "markdown",
   "id": "d035d49d",
   "metadata": {},
   "source": [
    "### Example 2"
   ]
  },
  {
   "cell_type": "code",
   "execution_count": 3,
   "id": "5e4d6eb1",
   "metadata": {},
   "outputs": [],
   "source": [
    "message = \"Python is an easier programming language.\""
   ]
  },
  {
   "cell_type": "code",
   "execution_count": 10,
   "id": "80e140dd",
   "metadata": {},
   "outputs": [
    {
     "name": "stdout",
     "output_type": "stream",
     "text": [
      "n\n"
     ]
    }
   ],
   "source": [
    "print(message[5])"
   ]
  },
  {
   "cell_type": "code",
   "execution_count": 4,
   "id": "89b9827e",
   "metadata": {},
   "outputs": [
    {
     "name": "stdout",
     "output_type": "stream",
     "text": [
      "True\n"
     ]
    }
   ],
   "source": [
    "print(\"an\" in message)"
   ]
  },
  {
   "cell_type": "code",
   "execution_count": 5,
   "id": "5e1f7f6a",
   "metadata": {},
   "outputs": [
    {
     "name": "stdout",
     "output_type": "stream",
     "text": [
      "False\n"
     ]
    }
   ],
   "source": [
    "print(\"java\" in message)"
   ]
  },
  {
   "cell_type": "code",
   "execution_count": 6,
   "id": "f669a70b",
   "metadata": {},
   "outputs": [
    {
     "name": "stdout",
     "output_type": "stream",
     "text": [
      "True\n"
     ]
    }
   ],
   "source": [
    "print(\"python\" not in message) # Case sensitive"
   ]
  },
  {
   "cell_type": "code",
   "execution_count": 11,
   "id": "5cc4944f",
   "metadata": {},
   "outputs": [
    {
     "name": "stdout",
     "output_type": "stream",
     "text": [
      "True\n"
     ]
    }
   ],
   "source": [
    "print(\"on\" in message)"
   ]
  },
  {
   "cell_type": "markdown",
   "id": "19d9ad67",
   "metadata": {},
   "source": [
    "## Operator Precedence"
   ]
  },
  {
   "cell_type": "markdown",
   "id": "4e44d669",
   "metadata": {},
   "source": [
    "An expression or a formula may contain several operators.\n",
    "\n",
    "The sequence of execution of the operators is known as operator precedence.\n",
    "\n",
    "The operators with higher precedence will be executed first."
   ]
  },
  {
   "cell_type": "markdown",
   "id": "76894c66",
   "metadata": {},
   "source": [
    "| Operator | Name |\n",
    "| -------- | ---- |\n",
    "| ()       | Parenthesis |\n",
    "| **       | Exponentiation |\n",
    "| -, ~     | Unary minus, Bitwise complement |\n",
    "| *, /, //, % | Multiplication, Division, Floor devision, Modulus |\n",
    "| +, -     | Addition, Subtraction |\n",
    "| <<, >>   | Bitwise left shift, Bitwise right shift |\n",
    "| &        | Bitwise AND |\n",
    "| ^        | Bitwise XOR |\n",
    "| \\|       | Bitwise OR  |\n",
    "| >, >=, <, <=, ==, != | Relational Operators |\n",
    "| =, %=, /=, //=, -=, +=, *=, \\**= | Assignment Operators |\n",
    "| is, is not | Identity operators |\n",
    "| in, not in | Membership operatos |\n",
    "| not      | Logical not |\n",
    "| or       | Logical or  |\n",
    "| and      | Logical and |"
   ]
  },
  {
   "cell_type": "code",
   "execution_count": null,
   "id": "be5c5124",
   "metadata": {},
   "outputs": [],
   "source": []
  }
 ],
 "metadata": {
  "kernelspec": {
   "display_name": "Python 3 (ipykernel)",
   "language": "python",
   "name": "python3"
  },
  "language_info": {
   "codemirror_mode": {
    "name": "ipython",
    "version": 3
   },
   "file_extension": ".py",
   "mimetype": "text/x-python",
   "name": "python",
   "nbconvert_exporter": "python",
   "pygments_lexer": "ipython3",
   "version": "3.11.5"
  }
 },
 "nbformat": 4,
 "nbformat_minor": 5
}
