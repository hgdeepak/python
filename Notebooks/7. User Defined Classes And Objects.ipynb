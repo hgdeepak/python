{
 "cells": [
  {
   "cell_type": "markdown",
   "id": "0d53c73e",
   "metadata": {},
   "source": [
    "# Introduction"
   ]
  },
  {
   "cell_type": "markdown",
   "id": "988b1690",
   "metadata": {},
   "source": [
    "**Procedure-oriented programming**\n",
    "\n",
    "Program is written using functions or blocks of statements to manipulate data.\n",
    "    \n",
    "    \n",
    "**Object oriented programming**\n",
    "\n",
    "Object Oriented Programming is a programming paradigm based on the concept of **objects**.\n",
    "\n",
    "Objects contain data, in the form of attributes, and actions, in the form of functions known as methods.\n",
    " \n",
    "The aim of object oriented programming is to reuse the same code by providing the flexibility to create each object with their own features."
   ]
  },
  {
   "cell_type": "markdown",
   "id": "fbc5117a",
   "metadata": {},
   "source": [
    "# Classes and Objects"
   ]
  },
  {
   "cell_type": "markdown",
   "id": "bac9f9c2",
   "metadata": {},
   "source": [
    "Classes and objects are the two main aspects of object oriented programming.\n",
    "\n",
    "A **class** creates a new type and **object** is an instance of the class.\n",
    "\n",
    "A **class** provides a blueprint or template, using which objects are created.\n",
    "\n",
    "In Python, everything is an object or an instance of some class. For example, all integer variables are instances of class *int* and all string variables are instances of class *str*."
   ]
  },
  {
   "cell_type": "markdown",
   "id": "0b3c4660",
   "metadata": {},
   "source": [
    "## Defining a Class"
   ]
  },
  {
   "cell_type": "markdown",
   "id": "ead9004b",
   "metadata": {},
   "source": [
    "A class is created with the keyword *class* followed by the class name.\n",
    "\n",
    "Within the indentation of the *class* block, write the class members i.e., **attributes** and **actions**.\n",
    "\n",
    "The attributes are represented by variables and actions are performed by methods.\n",
    "\n",
    "Class members are accessed through class objects."
   ]
  },
  {
   "cell_type": "markdown",
   "id": "e8c1112a",
   "metadata": {},
   "source": [
    "### Naming Convention"
   ]
  },
  {
   "cell_type": "markdown",
   "id": "4c4eef5c",
   "metadata": {},
   "source": [
    "Each word of a class name should start with a capital letter.\n",
    "\n",
    "When a class represents exception, then its name should end with the word 'error'."
   ]
  },
  {
   "cell_type": "markdown",
   "id": "84b8235e",
   "metadata": {},
   "source": [
    "### Example 1"
   ]
  },
  {
   "cell_type": "code",
   "execution_count": 1,
   "id": "6c5b26dd",
   "metadata": {},
   "outputs": [],
   "source": [
    "# creating the class\n",
    "class Person():\n",
    "    pass"
   ]
  },
  {
   "cell_type": "markdown",
   "id": "75cd9c75",
   "metadata": {},
   "source": [
    "### Example 2"
   ]
  },
  {
   "cell_type": "code",
   "execution_count": 2,
   "id": "b5da76f0",
   "metadata": {},
   "outputs": [],
   "source": [
    "class Car():\n",
    "    pass"
   ]
  },
  {
   "cell_type": "markdown",
   "id": "f6eec8ba",
   "metadata": {},
   "source": [
    "**Note:**\n",
    "\n",
    "Class definition can appear anywhere in the program.\n",
    "\n",
    "Usually class definition is written near the beginning of the program, after the *import* statement.\n",
    "\n",
    "A class creates a new local namespace where all its members are defined.\n",
    "\n",
    "A class that has no statements should have a *pass* statement at least."
   ]
  },
  {
   "cell_type": "markdown",
   "id": "5810a025",
   "metadata": {},
   "source": [
    "## Creating Objects"
   ]
  },
  {
   "cell_type": "markdown",
   "id": "02a8ce9c",
   "metadata": {},
   "source": [
    "Once a class is created, the next job is to create an object or instance of that class.\n",
    "\n",
    "The class members are accessed through the class object using the dot (.) operator.\n",
    "\n",
    "Creating an object or instance of a class is known as *class instantiation*."
   ]
  },
  {
   "cell_type": "markdown",
   "id": "889fc235",
   "metadata": {},
   "source": [
    "### Example 1"
   ]
  },
  {
   "cell_type": "code",
   "execution_count": 3,
   "id": "883fe91d",
   "metadata": {},
   "outputs": [],
   "source": [
    "# Create an instance of the Person class and store into the variable saathvik\n",
    "saathvik = Person()"
   ]
  },
  {
   "cell_type": "code",
   "execution_count": 4,
   "id": "a6562500",
   "metadata": {},
   "outputs": [
    {
     "name": "stdout",
     "output_type": "stream",
     "text": [
      "<__main__.Person object at 0x000001FEF4CE1610>\n"
     ]
    }
   ],
   "source": [
    "print(saathvik)"
   ]
  },
  {
   "cell_type": "markdown",
   "id": "a52b7b27",
   "metadata": {},
   "source": [
    "The above code created an empty object of the class Person."
   ]
  },
  {
   "cell_type": "markdown",
   "id": "58d6c24b",
   "metadata": {},
   "source": [
    "**Note:** The above result shows that an instance was built from Person class and the instance is stored in memory location."
   ]
  },
  {
   "cell_type": "markdown",
   "id": "3d850e60",
   "metadata": {},
   "source": [
    "### Example 2"
   ]
  },
  {
   "cell_type": "code",
   "execution_count": 5,
   "id": "33a62434",
   "metadata": {},
   "outputs": [],
   "source": [
    "# Create an instance of the Car class and store into the variable honda\n",
    "honda_city = Car()"
   ]
  },
  {
   "cell_type": "code",
   "execution_count": 6,
   "id": "1f48ced6",
   "metadata": {},
   "outputs": [
    {
     "name": "stdout",
     "output_type": "stream",
     "text": [
      "<__main__.Car object at 0x000001FEF4CE10A0>\n"
     ]
    }
   ],
   "source": [
    "print(honda_city)"
   ]
  },
  {
   "cell_type": "markdown",
   "id": "1f92a6a4",
   "metadata": {},
   "source": [
    "When an instance of the class is created, the instance name holds the memory address of the instance. "
   ]
  },
  {
   "cell_type": "markdown",
   "id": "0bb8933a",
   "metadata": {},
   "source": [
    "## Creating Multiple Instances"
   ]
  },
  {
   "cell_type": "markdown",
   "id": "b274fe0d",
   "metadata": {},
   "source": [
    "We can create as many instances as we want from each class.\n",
    "\n",
    "Store each instance in a separate variable or data collections."
   ]
  },
  {
   "cell_type": "markdown",
   "id": "ea2eacb9",
   "metadata": {},
   "source": [
    "### Example 1"
   ]
  },
  {
   "cell_type": "code",
   "execution_count": 7,
   "id": "9bf3440d",
   "metadata": {},
   "outputs": [
    {
     "name": "stdout",
     "output_type": "stream",
     "text": [
      "<__main__.Person object at 0x000001FEF4CE26C0>\n"
     ]
    }
   ],
   "source": [
    "# Create an instance of the Person class and store into the variable samhithaa\n",
    "samhithaa = Person()\n",
    "\n",
    "print(samhithaa)"
   ]
  },
  {
   "cell_type": "code",
   "execution_count": 8,
   "id": "38115988",
   "metadata": {},
   "outputs": [
    {
     "name": "stdout",
     "output_type": "stream",
     "text": [
      "<__main__.Person object at 0x000001FEF4D10FE0>\n"
     ]
    }
   ],
   "source": [
    "# Create an instance of the Person class and store into the variable suchethana\n",
    "suchethana = Person()\n",
    "\n",
    "print(suchethana)"
   ]
  },
  {
   "cell_type": "markdown",
   "id": "1343255d",
   "metadata": {},
   "source": [
    "### Example 2"
   ]
  },
  {
   "cell_type": "code",
   "execution_count": 9,
   "id": "db79afe6",
   "metadata": {},
   "outputs": [
    {
     "name": "stdout",
     "output_type": "stream",
     "text": [
      "<__main__.Car object at 0x000001FEF4D10DA0>\n"
     ]
    }
   ],
   "source": [
    "# Create an instance of the Car class and store into the variable grandnios\n",
    "grand_nios = Car()\n",
    "\n",
    "print(grand_nios)"
   ]
  },
  {
   "cell_type": "code",
   "execution_count": 10,
   "id": "f50d371e",
   "metadata": {},
   "outputs": [
    {
     "name": "stdout",
     "output_type": "stream",
     "text": [
      "<__main__.Car object at 0x000001FEF4D110A0>\n"
     ]
    }
   ],
   "source": [
    "# Create an instance of the Car class and store into the variable wagonr\n",
    "wagonr = Car()\n",
    "\n",
    "print(wagonr)"
   ]
  },
  {
   "cell_type": "markdown",
   "id": "67c7f36c",
   "metadata": {},
   "source": [
    "**Note:** Although the two instances are created from the same class, they are stored as separate entities within the program."
   ]
  },
  {
   "cell_type": "markdown",
   "id": "d03704fa",
   "metadata": {},
   "source": [
    "### Exercises"
   ]
  },
  {
   "cell_type": "markdown",
   "id": "990ceabd",
   "metadata": {},
   "source": [
    "1. Create a class called \"Animals\", and create 2 instances from it, namely, \"lion\" and \"tiger\"."
   ]
  },
  {
   "cell_type": "code",
   "execution_count": 11,
   "id": "d7f00150",
   "metadata": {},
   "outputs": [],
   "source": [
    "class Animals():\n",
    "    pass"
   ]
  },
  {
   "cell_type": "code",
   "execution_count": 12,
   "id": "82e39f95",
   "metadata": {},
   "outputs": [
    {
     "name": "stdout",
     "output_type": "stream",
     "text": [
      "<__main__.Animals object at 0x000001FEF39629F0>\n"
     ]
    }
   ],
   "source": [
    "lion = Animals()\n",
    "\n",
    "print(lion)"
   ]
  },
  {
   "cell_type": "code",
   "execution_count": 13,
   "id": "6646cb29",
   "metadata": {},
   "outputs": [
    {
     "name": "stdout",
     "output_type": "stream",
     "text": [
      "<__main__.Animals object at 0x000001FEF3860CB0>\n"
     ]
    }
   ],
   "source": [
    "tiger = Animals()\n",
    "\n",
    "print(tiger)"
   ]
  },
  {
   "cell_type": "markdown",
   "id": "07c3a1c7",
   "metadata": {},
   "source": [
    "# Data Abstraction"
   ]
  },
  {
   "cell_type": "markdown",
   "id": "eec6a62d",
   "metadata": {},
   "source": [
    "Data abstraction is a process by which data and functions are defined in such a way that only essential details are provided to the outside world and the implementation details are hidden.\n",
    "\n",
    "In Python, a class provides methods to the outside world to provide the functionality of the object or to manipulate the object's data."
   ]
  },
  {
   "cell_type": "markdown",
   "id": "b82ba5e6",
   "metadata": {},
   "source": [
    "# Data Encapsulation"
   ]
  },
  {
   "cell_type": "markdown",
   "id": "4527ac6c",
   "metadata": {},
   "source": [
    "Encapsulation involves the bundling of data members and functions inside a single class.\n",
    "\n",
    "Encapsulation defines different access levels for data variables and member functions of the class:\n",
    "\n",
    "**public:** Any data or function with access level public can be accessed by any function belonging to any class.\n",
    "\n",
    "**private:** Any data or function with access level private can be accessed only by the class members, in which it is declared. In Python, private variables are prefixed with a double underscore."
   ]
  },
  {
   "cell_type": "code",
   "execution_count": 14,
   "id": "405f755c",
   "metadata": {},
   "outputs": [],
   "source": [
    "__date_of_birth = None"
   ]
  },
  {
   "cell_type": "markdown",
   "id": "d85c323d",
   "metadata": {},
   "source": [
    "# Method"
   ]
  },
  {
   "cell_type": "markdown",
   "id": "3e9a1db7",
   "metadata": {},
   "source": [
    "Objects are associated with certain attributes and actions with them.\n",
    "\n",
    "Example: Consider a car. It has attributes like make, model, variant, color, number of wheels, etc. It also perform actions like accelerate, stop, turn, etc.\n",
    "\n",
    "In a class, actions are represented through methods. \n",
    "\n",
    "Methods are essentially functions defined in the class."
   ]
  },
  {
   "cell_type": "markdown",
   "id": "a0eafb75",
   "metadata": {},
   "source": [
    "## Defining and Calling a Method"
   ]
  },
  {
   "cell_type": "markdown",
   "id": "07be0d02",
   "metadata": {},
   "source": [
    "To define a method, define a function within the *class* indentation block.\n",
    "\n",
    "To call the method use dot syntax and use parenthesis after the name."
   ]
  },
  {
   "cell_type": "markdown",
   "id": "19963b44",
   "metadata": {},
   "source": [
    "### Naming Convention"
   ]
  },
  {
   "cell_type": "markdown",
   "id": "92c5d626",
   "metadata": {},
   "source": [
    "Method name should be all lower case letters.\n",
    "\n",
    "When multiple words are used for a name, separate them using a an underscore."
   ]
  },
  {
   "cell_type": "markdown",
   "id": "c1b092fa",
   "metadata": {},
   "source": [
    "### Example 1"
   ]
  },
  {
   "cell_type": "code",
   "execution_count": 15,
   "id": "68a24881",
   "metadata": {},
   "outputs": [],
   "source": [
    "# Defining and calling a method\n",
    "class Dog():\n",
    "    def bark():\n",
    "        print('Bow! Bow!')"
   ]
  },
  {
   "cell_type": "code",
   "execution_count": 16,
   "id": "396623ce",
   "metadata": {},
   "outputs": [
    {
     "name": "stdout",
     "output_type": "stream",
     "text": [
      "Bow! Bow!\n"
     ]
    }
   ],
   "source": [
    "Dog.bark()"
   ]
  },
  {
   "cell_type": "markdown",
   "id": "7061c9ae",
   "metadata": {},
   "source": [
    "## The Class Constructor"
   ]
  },
  {
   "cell_type": "markdown",
   "id": "1a2a6122",
   "metadata": {},
   "source": [
    "A constructor is a special method that is used to initialize the instance variables of a class.\n",
    "\n",
    "A constructor is a method that has 2 underscores before and after the word init:  *\\_\\_init\\_\\_()*. \n",
    "\n",
    "A constructor includes the “self” variable as a first mandatory parameter.\n",
    "\n",
    "A constructor facilitates to instantiate objects with different attribute values upon creation.\n",
    "\n",
    "The *\\_\\_init\\_\\_()* method is executed automatically when an object of a class is created."
   ]
  },
  {
   "cell_type": "markdown",
   "id": "79d2f7c6",
   "metadata": {},
   "source": [
    "### Example"
   ]
  },
  {
   "cell_type": "code",
   "execution_count": 17,
   "id": "ecac14d7",
   "metadata": {},
   "outputs": [],
   "source": [
    "# Create a Person class with init method\n",
    "class Person():\n",
    "    def __init__(self):\n",
    "        pass"
   ]
  },
  {
   "cell_type": "markdown",
   "id": "9c868cfa",
   "metadata": {},
   "source": [
    "### *self* Parameter"
   ]
  },
  {
   "cell_type": "markdown",
   "id": "d68fafe7",
   "metadata": {},
   "source": [
    "*self* parameter contains the memory address of the instance of the class (object).\n",
    "\n",
    "We use *self* variable to refer all the instance variables and instance methods.\n",
    "\n",
    "When an instance of the class is created, the instance name holds the memory address of the instance. This memory address is internally passed to *self*.\n",
    "\n",
    "**Example:** Think about a cricket team we’ve never seen their play before. How do we distinguish each player from the next? Probably we use the numbers on the back of the team member's jerseys."
   ]
  },
  {
   "cell_type": "markdown",
   "id": "13124a06",
   "metadata": {},
   "source": [
    "### Example"
   ]
  },
  {
   "cell_type": "code",
   "execution_count": 18,
   "id": "64dc621e",
   "metadata": {},
   "outputs": [],
   "source": [
    "# Create a Person class with init method\n",
    "class Person():\n",
    "    def __init__(self):\n",
    "        self.name = 'Deepak'\n",
    "        self.gender = 'Male'"
   ]
  },
  {
   "cell_type": "code",
   "execution_count": 19,
   "id": "18132c14",
   "metadata": {},
   "outputs": [],
   "source": [
    "deepak = Person()"
   ]
  },
  {
   "cell_type": "code",
   "execution_count": 20,
   "id": "a2d4b77e",
   "metadata": {},
   "outputs": [
    {
     "data": {
      "text/plain": [
       "'Deepak'"
      ]
     },
     "execution_count": 20,
     "metadata": {},
     "output_type": "execute_result"
    }
   ],
   "source": [
    "deepak.name"
   ]
  },
  {
   "cell_type": "markdown",
   "id": "6a1f0ab5",
   "metadata": {},
   "source": [
    "**Note:** The *self* argument is ignored while the *init* method is called. The *init* method is called immediately when object is created."
   ]
  },
  {
   "cell_type": "markdown",
   "id": "102ee6ff",
   "metadata": {},
   "source": [
    "### Example"
   ]
  },
  {
   "cell_type": "code",
   "execution_count": 21,
   "id": "d211c52b",
   "metadata": {},
   "outputs": [],
   "source": [
    "# Create a Car class with init method\n",
    "class Car():\n",
    "    def __init__(self, make, model, color):\n",
    "        self.make = make\n",
    "        self.model = model\n",
    "        self.color = color"
   ]
  },
  {
   "cell_type": "code",
   "execution_count": 22,
   "id": "07680704",
   "metadata": {},
   "outputs": [],
   "source": [
    "my_tiago = Car('Tata', 'Tiago', 'White')"
   ]
  },
  {
   "cell_type": "markdown",
   "id": "3fe9c9cf",
   "metadata": {},
   "source": [
    "**Note:** It is recommended to initialize all the attributes of a class in the *\\_\\_init\\_\\_()* method."
   ]
  },
  {
   "cell_type": "markdown",
   "id": "a749d09e",
   "metadata": {},
   "source": [
    "# Destructor"
   ]
  },
  {
   "cell_type": "markdown",
   "id": "dd214a7d",
   "metadata": {},
   "source": [
    "Destructor is automatically called when an object is going out of scope.\n",
    "\n",
    "Destructor is used to return the resources occupied by the object, back to the system so that they can be reused.\n",
    "\n",
    "In Python, \\_\\_del\\_\\_() method does the job of the destructor."
   ]
  },
  {
   "cell_type": "code",
   "execution_count": 23,
   "id": "544760be",
   "metadata": {},
   "outputs": [],
   "source": [
    "class Car():\n",
    "    def __init__(self):\n",
    "        self.speed = 0\n",
    "              \n",
    "    def __del__(self):\n",
    "        print(\"The object is out of scope.\")"
   ]
  },
  {
   "cell_type": "code",
   "execution_count": 24,
   "id": "231ad389",
   "metadata": {},
   "outputs": [],
   "source": [
    "ioniq = Car()"
   ]
  },
  {
   "cell_type": "code",
   "execution_count": 25,
   "id": "edf014b1",
   "metadata": {},
   "outputs": [
    {
     "name": "stdout",
     "output_type": "stream",
     "text": [
      "The object is out of scope.\n"
     ]
    }
   ],
   "source": [
    "del ioniq"
   ]
  },
  {
   "cell_type": "markdown",
   "id": "18328899",
   "metadata": {},
   "source": [
    "**Note:**\n",
    "\n",
    "If the method is intended to be accessed through instance, use *self* as the first parameter in the definition. Without the *self* parameter, the method can only be accessed by the class itself.\n",
    "\n",
    "A class can have as many methods as required."
   ]
  },
  {
   "cell_type": "markdown",
   "id": "ac3ad0f0",
   "metadata": {},
   "source": [
    "# Variables"
   ]
  },
  {
   "cell_type": "markdown",
   "id": "30d713cd",
   "metadata": {},
   "source": [
    "The attributes of an object are represented through variables in a class.\n",
    "\n",
    "The variables written inside a class are of 2 types:\n",
    "\n",
    "* Class Variables or Static variables\n",
    "\n",
    "* Instance Variables"
   ]
  },
  {
   "cell_type": "markdown",
   "id": "8310c40f",
   "metadata": {},
   "source": [
    "### Naming Convention"
   ]
  },
  {
   "cell_type": "markdown",
   "id": "3191c3bf",
   "metadata": {},
   "source": [
    "Variable names should be all lower case letters.\n",
    "\n",
    "When multiple words are used, separate them using an underscore."
   ]
  },
  {
   "cell_type": "markdown",
   "id": "a137e0f8",
   "metadata": {},
   "source": [
    "## Class or Static Variables"
   ]
  },
  {
   "cell_type": "markdown",
   "id": "617a8066",
   "metadata": {},
   "source": [
    "Class variables are the variables whose single copy is available to all the instances of the class.\n",
    "\n",
    "Class variables are also called static variables."
   ]
  },
  {
   "cell_type": "markdown",
   "id": "ffa54caa",
   "metadata": {},
   "source": [
    "Class variables are accessed outside the class using the class name followed by the dot operator."
   ]
  },
  {
   "cell_type": "markdown",
   "id": "3876bcb4",
   "metadata": {},
   "source": [
    "### Example"
   ]
  },
  {
   "cell_type": "code",
   "execution_count": 26,
   "id": "b455ebc1",
   "metadata": {},
   "outputs": [],
   "source": [
    "class Account():\n",
    "    interest_rate = 0.075"
   ]
  },
  {
   "cell_type": "code",
   "execution_count": 27,
   "id": "22b81820",
   "metadata": {},
   "outputs": [
    {
     "name": "stdout",
     "output_type": "stream",
     "text": [
      "0.075\n"
     ]
    }
   ],
   "source": [
    "print(Account.interest_rate)"
   ]
  },
  {
   "cell_type": "markdown",
   "id": "9ac5497a",
   "metadata": {},
   "source": [
    "To access the class variables, use class methods.\n",
    "\n",
    "If we modify the class variable in an instance, it will be modified in all the other instances."
   ]
  },
  {
   "cell_type": "markdown",
   "id": "0e7621d4",
   "metadata": {},
   "source": [
    "### Example"
   ]
  },
  {
   "cell_type": "code",
   "execution_count": 34,
   "id": "3688aea5",
   "metadata": {},
   "outputs": [],
   "source": [
    "class Number():\n",
    "    num = 10\n",
    "\n",
    "    @classmethod\n",
    "    def increment(cls):\n",
    "        cls.num += 1"
   ]
  },
  {
   "cell_type": "code",
   "execution_count": 35,
   "id": "c8ee67e1",
   "metadata": {},
   "outputs": [
    {
     "name": "stdout",
     "output_type": "stream",
     "text": [
      "10\n",
      "10\n"
     ]
    }
   ],
   "source": [
    "num_one = Number()\n",
    "\n",
    "num_two = Number()\n",
    "\n",
    "print(num_one.num)\n",
    "\n",
    "print(num_two.num)"
   ]
  },
  {
   "cell_type": "code",
   "execution_count": 36,
   "id": "e85eb970",
   "metadata": {},
   "outputs": [],
   "source": [
    "num_one.increment()"
   ]
  },
  {
   "cell_type": "code",
   "execution_count": 37,
   "id": "6832b284",
   "metadata": {},
   "outputs": [
    {
     "name": "stdout",
     "output_type": "stream",
     "text": [
      "11\n",
      "11\n"
     ]
    }
   ],
   "source": [
    "print(num_one.num)\n",
    "\n",
    "print(num_two.num)"
   ]
  },
  {
   "cell_type": "markdown",
   "id": "6b0e9c06",
   "metadata": {},
   "source": [
    "Class variables are usually used to keep a count of number of objects created from a class.\n",
    "\n",
    "Class variables are used to define constants associated with a particular class or provide default attribute values."
   ]
  },
  {
   "cell_type": "markdown",
   "id": "f75aa411",
   "metadata": {},
   "source": [
    "## Instance Variables"
   ]
  },
  {
   "cell_type": "markdown",
   "id": "0b2ac394",
   "metadata": {},
   "source": [
    "Instance variables are the variables whose separate copy is created in every instance. \n",
    "\n",
    "Instance variables are defined and initialized using the constructor.\n",
    "\n",
    "Instance variables are accessed using instance methods."
   ]
  },
  {
   "cell_type": "markdown",
   "id": "eecbb246",
   "metadata": {},
   "source": [
    "### Example"
   ]
  },
  {
   "cell_type": "code",
   "execution_count": 28,
   "id": "f1ea1582",
   "metadata": {},
   "outputs": [],
   "source": [
    "class Person():   \n",
    "    def __init__(self):\n",
    "        self.name = 'Deepak'\n",
    "        self.gender = 'Male'"
   ]
  },
  {
   "cell_type": "code",
   "execution_count": 29,
   "id": "80e4364f",
   "metadata": {},
   "outputs": [],
   "source": [
    "deepak = Person()"
   ]
  },
  {
   "cell_type": "code",
   "execution_count": 30,
   "id": "864694c7",
   "metadata": {},
   "outputs": [
    {
     "name": "stdout",
     "output_type": "stream",
     "text": [
      "Deepak\n"
     ]
    }
   ],
   "source": [
    "print(deepak.name)"
   ]
  },
  {
   "cell_type": "code",
   "execution_count": 31,
   "id": "3ef212d9",
   "metadata": {},
   "outputs": [
    {
     "ename": "AttributeError",
     "evalue": "type object 'Person' has no attribute 'name'",
     "output_type": "error",
     "traceback": [
      "\u001b[1;31m---------------------------------------------------------------------------\u001b[0m",
      "\u001b[1;31mAttributeError\u001b[0m                            Traceback (most recent call last)",
      "Cell \u001b[1;32mIn[31], line 1\u001b[0m\n\u001b[1;32m----> 1\u001b[0m \u001b[38;5;28mprint\u001b[39m(\u001b[43mPerson\u001b[49m\u001b[38;5;241;43m.\u001b[39;49m\u001b[43mname\u001b[49m) \u001b[38;5;66;03m# Try accessing object variable like class variable\u001b[39;00m\n",
      "\u001b[1;31mAttributeError\u001b[0m: type object 'Person' has no attribute 'name'"
     ]
    }
   ],
   "source": [
    "print(Person.name) # Try accessing object variable like class variable"
   ]
  },
  {
   "cell_type": "markdown",
   "id": "17a64113",
   "metadata": {},
   "source": [
    "## Exercises"
   ]
  },
  {
   "cell_type": "markdown",
   "id": "e8d14398",
   "metadata": {},
   "source": [
    "1. Create a Dog class that has one class attribute and two instance level attributes. The class attribute should be “species”\n",
    "with a value of “Canine.”  The two instance attributes should be “name” and “breed.” Then instantiate two dog objects, \n",
    "a Husky named Sammi and a Chocolate Lab named Casey."
   ]
  },
  {
   "cell_type": "code",
   "execution_count": null,
   "id": "75d40bc1",
   "metadata": {},
   "outputs": [],
   "source": [
    "class Dog():\n",
    "    species = 'Canine'\n",
    "    \n",
    "    def __init__(self, name, breed):\n",
    "        self.name = name\n",
    "        self.breed = breed"
   ]
  },
  {
   "cell_type": "code",
   "execution_count": null,
   "id": "3193fe52",
   "metadata": {},
   "outputs": [],
   "source": [
    "sam = Dog('Sammi', 'Husky')"
   ]
  },
  {
   "cell_type": "code",
   "execution_count": null,
   "id": "cfe36b46",
   "metadata": {},
   "outputs": [],
   "source": [
    "cas = Dog('Casey', 'Chocolate Lab')"
   ]
  },
  {
   "cell_type": "markdown",
   "id": "06784f3b",
   "metadata": {},
   "source": [
    "2.  Create a Person class that has a single instance level attribute of “name.” Ask the user to input their name, and create an instance of the Person class with the name they typed in. Then print out their name."
   ]
  },
  {
   "cell_type": "code",
   "execution_count": null,
   "id": "193b4f08",
   "metadata": {},
   "outputs": [],
   "source": [
    "class Person():\n",
    "    def __init__(self):\n",
    "        self.name = ''"
   ]
  },
  {
   "cell_type": "code",
   "execution_count": null,
   "id": "36297388",
   "metadata": {},
   "outputs": [],
   "source": [
    "user = Person()"
   ]
  },
  {
   "cell_type": "code",
   "execution_count": null,
   "id": "590c45e6",
   "metadata": {},
   "outputs": [],
   "source": [
    "user.name = input(\"What is your name?\")"
   ]
  },
  {
   "cell_type": "code",
   "execution_count": null,
   "id": "be01a99c",
   "metadata": {},
   "outputs": [
    {
     "name": "stdout",
     "output_type": "stream",
     "text": [
      "Deepak\n"
     ]
    }
   ],
   "source": [
    "print(user.name)"
   ]
  },
  {
   "cell_type": "markdown",
   "id": "aa02a266",
   "metadata": {},
   "source": [
    "# Public and Private Data Members"
   ]
  },
  {
   "cell_type": "markdown",
   "id": "3a3d7d77",
   "metadata": {},
   "source": [
    "Public members can be accessed from anywhere in the program i.e., they can be accessed within the class as well as from outside the class in which they are defined.\n",
    "\n",
    "Private members can only be accessed within the class. \n",
    "\n",
    "Private members are defined in the class with a double underscore prefix."
   ]
  },
  {
   "cell_type": "markdown",
   "id": "57c5b34c",
   "metadata": {},
   "source": [
    "### Example 1 - Class Variables"
   ]
  },
  {
   "cell_type": "code",
   "execution_count": null,
   "id": "1a846c9a",
   "metadata": {},
   "outputs": [],
   "source": [
    "class Car():\n",
    "    __authentication_key = 20240229\n",
    "    \n",
    "    make = 'Kia'\n",
    "    \n",
    "    model = \"Sonet\""
   ]
  },
  {
   "cell_type": "code",
   "execution_count": null,
   "id": "71214645",
   "metadata": {},
   "outputs": [
    {
     "name": "stdout",
     "output_type": "stream",
     "text": [
      "Kia Sonet\n"
     ]
    }
   ],
   "source": [
    "print(Car.make, Car.model)"
   ]
  },
  {
   "cell_type": "code",
   "execution_count": null,
   "id": "08272ef5",
   "metadata": {},
   "outputs": [
    {
     "ename": "AttributeError",
     "evalue": "type object 'Car' has no attribute '__authentication_key'",
     "output_type": "error",
     "traceback": [
      "\u001b[1;31m---------------------------------------------------------------------------\u001b[0m",
      "\u001b[1;31mAttributeError\u001b[0m                            Traceback (most recent call last)",
      "Cell \u001b[1;32mIn[38], line 1\u001b[0m\n\u001b[1;32m----> 1\u001b[0m \u001b[38;5;28mprint\u001b[39m(Car\u001b[38;5;241m.\u001b[39m__authentication_key)\n",
      "\u001b[1;31mAttributeError\u001b[0m: type object 'Car' has no attribute '__authentication_key'"
     ]
    }
   ],
   "source": [
    "print(Car.__authentication_key)"
   ]
  },
  {
   "cell_type": "markdown",
   "id": "96d8af4d",
   "metadata": {},
   "source": [
    "### Example 2 - Instance Variables"
   ]
  },
  {
   "cell_type": "code",
   "execution_count": null,
   "id": "a0abaa43",
   "metadata": {},
   "outputs": [],
   "source": [
    "class Car():\n",
    "    def __init__(self):\n",
    "        self.__authentication_key = 20240229\n",
    "        \n",
    "        self.make = 'Kia'\n",
    "        \n",
    "        self.model = \"Sonet\""
   ]
  },
  {
   "cell_type": "code",
   "execution_count": null,
   "id": "b5f75e9d",
   "metadata": {},
   "outputs": [],
   "source": [
    "my_kia = Car()"
   ]
  },
  {
   "cell_type": "code",
   "execution_count": null,
   "id": "ca52ba3e",
   "metadata": {},
   "outputs": [
    {
     "name": "stdout",
     "output_type": "stream",
     "text": [
      "Kia Sonet\n"
     ]
    }
   ],
   "source": [
    "print(my_kia.make, my_kia.model)"
   ]
  },
  {
   "cell_type": "code",
   "execution_count": null,
   "id": "70ee69f7",
   "metadata": {},
   "outputs": [
    {
     "ename": "AttributeError",
     "evalue": "'Car' object has no attribute '__authentication_key'",
     "output_type": "error",
     "traceback": [
      "\u001b[1;31m---------------------------------------------------------------------------\u001b[0m",
      "\u001b[1;31mAttributeError\u001b[0m                            Traceback (most recent call last)",
      "Cell \u001b[1;32mIn[44], line 1\u001b[0m\n\u001b[1;32m----> 1\u001b[0m \u001b[38;5;28mprint\u001b[39m(my_kia\u001b[38;5;241m.\u001b[39m__authentication_key)\n",
      "\u001b[1;31mAttributeError\u001b[0m: 'Car' object has no attribute '__authentication_key'"
     ]
    }
   ],
   "source": [
    "print(my_kia.__authentication_key)"
   ]
  },
  {
   "cell_type": "code",
   "execution_count": null,
   "id": "d9cb41bd",
   "metadata": {},
   "outputs": [
    {
     "name": "stdout",
     "output_type": "stream",
     "text": [
      "20240229\n"
     ]
    }
   ],
   "source": [
    "print(my_kia._Car__authentication_key) # Not recommended"
   ]
  },
  {
   "cell_type": "markdown",
   "id": "3f693a4a",
   "metadata": {},
   "source": [
    "### Example 3 - Private Methods"
   ]
  },
  {
   "cell_type": "code",
   "execution_count": null,
   "id": "5714c39f",
   "metadata": {},
   "outputs": [],
   "source": [
    "class BankAccount():\n",
    "    \n",
    "    def __get_atm_pin(self):\n",
    "        print(\"******\")"
   ]
  },
  {
   "cell_type": "code",
   "execution_count": null,
   "id": "c1c17240",
   "metadata": {},
   "outputs": [],
   "source": [
    "my_bank = BankAccount()"
   ]
  },
  {
   "cell_type": "code",
   "execution_count": null,
   "id": "5591d5c6",
   "metadata": {},
   "outputs": [
    {
     "name": "stdout",
     "output_type": "stream",
     "text": [
      "******\n"
     ]
    }
   ],
   "source": [
    "my_bank._BankAccount__get_atm_pin() # Not recommended"
   ]
  },
  {
   "cell_type": "markdown",
   "id": "3d43ff3f",
   "metadata": {},
   "source": [
    "## Accessing Attributes in Methods"
   ]
  },
  {
   "cell_type": "markdown",
   "id": "b6fe69ce",
   "metadata": {},
   "source": [
    "Use the *self* keyword in order to access the attribute in a method.\n",
    "\n",
    "*self* is in reference to the instance accessing the class."
   ]
  },
  {
   "cell_type": "markdown",
   "id": "c32287d7",
   "metadata": {},
   "source": [
    "### Example 1"
   ]
  },
  {
   "cell_type": "code",
   "execution_count": null,
   "id": "cce10e85",
   "metadata": {},
   "outputs": [],
   "source": [
    "class Dog():\n",
    "    sound = \"Bow! Bow!\"\n",
    "    \n",
    "    def bark(self):\n",
    "        print(Dog.sound)"
   ]
  },
  {
   "cell_type": "code",
   "execution_count": null,
   "id": "2dd55ed7",
   "metadata": {},
   "outputs": [
    {
     "name": "stdout",
     "output_type": "stream",
     "text": [
      "Bow! Bow!\n"
     ]
    }
   ],
   "source": [
    "snoopy = Dog();\n",
    "\n",
    "snoopy.bark()"
   ]
  },
  {
   "cell_type": "markdown",
   "id": "68413cb8",
   "metadata": {},
   "source": [
    "**Note:** Anytime we need to reference an attribute using self, we must include self within the method parameters."
   ]
  },
  {
   "cell_type": "markdown",
   "id": "60c44916",
   "metadata": {},
   "source": [
    "## Class Methods"
   ]
  },
  {
   "cell_type": "markdown",
   "id": "c05790b4",
   "metadata": {},
   "source": [
    "Class methods are called by a class and not by instance of the class.\n",
    "\n",
    "The first parameter of the class methods is ***cls*** and **not *self***."
   ]
  },
  {
   "cell_type": "code",
   "execution_count": null,
   "id": "7031ad9b",
   "metadata": {},
   "outputs": [],
   "source": [
    "class Rectangle():\n",
    "    def __init__(self, length, breadth):\n",
    "        self.length = length\n",
    "        self.breadth = breadth\n",
    "        \n",
    "    def area(self):\n",
    "        return self.length * self.breadth\n",
    "    \n",
    "    @classmethod\n",
    "    def Square(cls, side):\n",
    "        return cls(side, side)"
   ]
  },
  {
   "cell_type": "code",
   "execution_count": null,
   "id": "19866713",
   "metadata": {},
   "outputs": [],
   "source": [
    "s = Rectangle.Square(5)"
   ]
  },
  {
   "cell_type": "code",
   "execution_count": null,
   "id": "7d67ad70",
   "metadata": {},
   "outputs": [
    {
     "name": "stdout",
     "output_type": "stream",
     "text": [
      "<__main__.Rectangle object at 0x000002161EA11F90>\n"
     ]
    }
   ],
   "source": [
    "print(s)"
   ]
  },
  {
   "cell_type": "code",
   "execution_count": null,
   "id": "129c12fa",
   "metadata": {},
   "outputs": [
    {
     "data": {
      "text/plain": [
       "25"
      ]
     },
     "execution_count": 62,
     "metadata": {},
     "output_type": "execute_result"
    }
   ],
   "source": [
    "s.area()"
   ]
  },
  {
   "cell_type": "markdown",
   "id": "fa390a38",
   "metadata": {},
   "source": [
    "## Static Methods"
   ]
  },
  {
   "cell_type": "markdown",
   "id": "40e60e15",
   "metadata": {},
   "source": [
    "A functionality that belongs to a class, but does not require the object, is placed in the static method.\n",
    "\n",
    "Static methods does not receive any addtional arguments like *self, cls*.\n",
    "\n",
    "A static method is defined using a built-in function *staticmethod*.\n",
    "\n",
    "Static method knows nothing about the class and just deals with the parameters.\n",
    "\n",
    "Static method cannot access the properties of the class itself.\n",
    "\n",
    "When we need a utility function that doesn't access any properties of a class but makes sense that it belongs to the class, we use static methods.\n",
    "\n",
    "A static method can be called either on the class or on an instance. \n"
   ]
  },
  {
   "cell_type": "markdown",
   "id": "3e97388d",
   "metadata": {},
   "source": [
    "### Example"
   ]
  },
  {
   "cell_type": "code",
   "execution_count": 4,
   "id": "003d7062",
   "metadata": {},
   "outputs": [],
   "source": [
    "# Class to write application errors into a log file\n",
    "\n",
    "class ErrorLog():\n",
    "    @staticmethod\n",
    "    def log_error(error):\n",
    "        with open(\"log.txt\", \"a\") as log_file:\n",
    "            log_file.write(\"\\n\")\n",
    "            log_file.write(error)"
   ]
  },
  {
   "cell_type": "code",
   "execution_count": 5,
   "id": "88fca25c",
   "metadata": {},
   "outputs": [],
   "source": [
    "# Calling a static method using class name\n",
    "\n",
    "try:\n",
    "    10 * (1/0)\n",
    "except Exception as ex:\n",
    "    ErrorLog.log_error(str(ex))\n",
    "    print(str(ex).title(), 'error has occured.')"
   ]
  },
  {
   "cell_type": "code",
   "execution_count": 6,
   "id": "1a1742b3",
   "metadata": {},
   "outputs": [],
   "source": [
    "with open(\"log.txt\", \"r\") as log_file:\n",
    "    print(log_file.read())"
   ]
  },
  {
   "cell_type": "markdown",
   "id": "1bb1bce1",
   "metadata": {},
   "source": [
    "## Passing Arguments into Methods"
   ]
  },
  {
   "cell_type": "markdown",
   "id": "d562f6b1",
   "metadata": {},
   "source": [
    "Methods work similar to functions. Hence we can pass arguments into the method.\n",
    "\n",
    "When arguments are passed in, they need not be referenced with the *self* parameter, as they are not attributes but a temporary variable."
   ]
  },
  {
   "cell_type": "markdown",
   "id": "80cedf59",
   "metadata": {},
   "source": [
    "### Example 1"
   ]
  },
  {
   "cell_type": "code",
   "execution_count": null,
   "id": "40429696",
   "metadata": {},
   "outputs": [],
   "source": [
    "class Dog():\n",
    "    def show_age(self, age):\n",
    "        print(age)           # does not need self, age is referencing the parameter not an attribute"
   ]
  },
  {
   "cell_type": "code",
   "execution_count": null,
   "id": "f5437055",
   "metadata": {},
   "outputs": [
    {
     "name": "stdout",
     "output_type": "stream",
     "text": [
      "2\n"
     ]
    }
   ],
   "source": [
    "rocky = Dog()\n",
    "\n",
    "rocky.show_age(2)"
   ]
  }
 ],
 "metadata": {
  "kernelspec": {
   "display_name": "Python 3 (ipykernel)",
   "language": "python",
   "name": "python3"
  },
  "language_info": {
   "codemirror_mode": {
    "name": "ipython",
    "version": 3
   },
   "file_extension": ".py",
   "mimetype": "text/x-python",
   "name": "python",
   "nbconvert_exporter": "python",
   "pygments_lexer": "ipython3",
   "version": "3.11.7"
  }
 },
 "nbformat": 4,
 "nbformat_minor": 5
}
