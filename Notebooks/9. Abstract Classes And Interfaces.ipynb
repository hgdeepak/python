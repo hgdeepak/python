{
 "cells": [
  {
   "cell_type": "code",
   "execution_count": 1,
   "id": "0da10601",
   "metadata": {},
   "outputs": [],
   "source": [
    "from abc import ABC, abstractmethod"
   ]
  },
  {
   "cell_type": "code",
   "execution_count": 2,
   "id": "44980e27",
   "metadata": {},
   "outputs": [],
   "source": [
    "class Mathematics(ABC):\n",
    "    @abstractmethod\n",
    "    def calculate(self, x):\n",
    "        pass"
   ]
  },
  {
   "cell_type": "code",
   "execution_count": 3,
   "id": "80a35534",
   "metadata": {},
   "outputs": [],
   "source": [
    "class sub1(Mathematics):\n",
    "    def calculate(self, x):\n",
    "        print('Square value:', x * x)"
   ]
  },
  {
   "cell_type": "code",
   "execution_count": 4,
   "id": "0e31c288",
   "metadata": {},
   "outputs": [],
   "source": [
    "class sub2(Mathematics):\n",
    "    def calculate(self, x):\n",
    "        print('Square root value:', x ** 0.5)"
   ]
  },
  {
   "cell_type": "code",
   "execution_count": 6,
   "id": "598ed56f",
   "metadata": {},
   "outputs": [
    {
     "name": "stdout",
     "output_type": "stream",
     "text": [
      "Square value: 25\n"
     ]
    }
   ],
   "source": [
    "sub_one = sub1()\n",
    "\n",
    "sub_one.calculate(5)"
   ]
  },
  {
   "cell_type": "code",
   "execution_count": 7,
   "id": "9d5d51f1",
   "metadata": {},
   "outputs": [
    {
     "name": "stdout",
     "output_type": "stream",
     "text": [
      "Square root value: 4.0\n"
     ]
    }
   ],
   "source": [
    "sub_two = sub2()\n",
    "\n",
    "sub_two.calculate(16)"
   ]
  },
  {
   "cell_type": "code",
   "execution_count": null,
   "id": "7d1046d5",
   "metadata": {},
   "outputs": [],
   "source": []
  }
 ],
 "metadata": {
  "kernelspec": {
   "display_name": "Python 3 (ipykernel)",
   "language": "python",
   "name": "python3"
  },
  "language_info": {
   "codemirror_mode": {
    "name": "ipython",
    "version": 3
   },
   "file_extension": ".py",
   "mimetype": "text/x-python",
   "name": "python",
   "nbconvert_exporter": "python",
   "pygments_lexer": "ipython3",
   "version": "3.11.7"
  }
 },
 "nbformat": 4,
 "nbformat_minor": 5
}
