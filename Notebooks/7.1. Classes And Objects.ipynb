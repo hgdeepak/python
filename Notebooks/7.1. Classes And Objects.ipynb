{
 "cells": [
  {
   "cell_type": "markdown",
   "id": "6d9364c7",
   "metadata": {},
   "source": [
    "# Introduction"
   ]
  },
  {
   "cell_type": "markdown",
   "id": "be9c2616",
   "metadata": {},
   "source": [
    "A class is a model or plan to create objects.\n",
    "\n",
    "A class is written with attributes and actions of objects.\n",
    "\n",
    "Attributes are represented by variables and actions are performed by methods.\n",
    "\n",
    "A function written inside a class is called a method."
   ]
  },
  {
   "cell_type": "markdown",
   "id": "4cfb16fa",
   "metadata": {},
   "source": [
    "# Creating a Class"
   ]
  },
  {
   "cell_type": "markdown",
   "id": "17316581",
   "metadata": {},
   "source": [
    "A class is created with the keyword *class* and then by writing the class name.\n",
    "\n",
    "A class name should start with a capital letter.\n",
    "\n",
    "After the class name, within the parenthesis, the keyword *object* is written.\n",
    "\n",
    "*object* represents the base class name from where all the classes in Python are derived.\n",
    "\n",
    "Mentioning *object* is not compulsory as it is implied."
   ]
  },
  {
   "cell_type": "markdown",
   "id": "dfada0d5",
   "metadata": {},
   "source": [
    "## General Format of a Class"
   ]
  },
  {
   "cell_type": "markdown",
   "id": "8312eb56",
   "metadata": {},
   "source": [
    "class ClassName(object):\n",
    "\n",
    "    \"\"\" Docstring describing the class \"\"\"\n",
    "    \n",
    "    Attributes\n",
    "    \n",
    "    def __init__(self):        \n",
    "\n",
    "    def method1():\n",
    "        \n",
    "    def method2():"
   ]
  },
  {
   "cell_type": "markdown",
   "id": "44a10dd0",
   "metadata": {},
   "source": [
    "The docstring is a string, written within triple double or single quotes, that describes the class and its usage.\n",
    "\n",
    "The docstring is used to create documentation file and hence it is optional."
   ]
  },
  {
   "cell_type": "markdown",
   "id": "809934d0",
   "metadata": {},
   "source": [
    "Attributes are nothing but the variables that contains data."
   ]
  },
  {
   "cell_type": "markdown",
   "id": "bd7e4ee9",
   "metadata": {},
   "source": [
    "The \\_\\_init\\_\\_(self) is a special method to initialize the variables and can't be called explicitly."
   ]
  },
  {
   "cell_type": "markdown",
   "id": "1d7fa443",
   "metadata": {},
   "source": [
    "method1() and method2() are the methods that process the variables."
   ]
  },
  {
   "cell_type": "markdown",
   "id": "4d60c7ad",
   "metadata": {},
   "source": [
    "## Example"
   ]
  },
  {
   "cell_type": "code",
   "execution_count": 3,
   "id": "99631a6f",
   "metadata": {},
   "outputs": [],
   "source": [
    "class Student:\n",
    "    '''Student Class. To get and process student data'''\n",
    "    def __init__(self):\n",
    "        self.name = 'Samhithaa'\n",
    "        self.semester = 2\n",
    "        self.branch = 'Computer Science And Engineering'\n",
    "        \n",
    "    def talk(self):\n",
    "        print(f\"My name is {self.name}.\")\n",
    "        print(f\"I am studying in {self.semester} semester, {self.branch} branch.\")"
   ]
  },
  {
   "cell_type": "markdown",
   "id": "f26a1192",
   "metadata": {},
   "source": [
    "## Example"
   ]
  },
  {
   "cell_type": "code",
   "execution_count": 4,
   "id": "ea762a60",
   "metadata": {},
   "outputs": [],
   "source": [
    "class Student(object):\n",
    "    '''Student Class. To get and process student data'''\n",
    "    def __init__(self):\n",
    "        self.name = 'Samhithaa'\n",
    "        self.semester = 2\n",
    "        self.branch = 'Computer Science And Engineering'\n",
    "        \n",
    "    def talk(self):\n",
    "        print(f\"My name is {self.name}.\")\n",
    "        print(f\"I am studying in {self.semester} semester, {self.branch} branch.\")"
   ]
  },
  {
   "cell_type": "markdown",
   "id": "2d2fc3bb",
   "metadata": {},
   "source": [
    "# Instance of a Class"
   ]
  },
  {
   "cell_type": "markdown",
   "id": "09ddcd49",
   "metadata": {},
   "source": [
    "Writing a class alone is not sufficient, it should be used.\n",
    "\n",
    "To use a class, create an instance (or object) to the class, known as instantiation.\n",
    "\n",
    "Instantiation represents allocating memory necessary to store the actual data of the variables."
   ]
  },
  {
   "cell_type": "markdown",
   "id": "06a5ea07",
   "metadata": {},
   "source": [
    "## Syntax to Create an instance"
   ]
  },
  {
   "cell_type": "markdown",
   "id": "1d8f9532",
   "metadata": {},
   "source": [
    "instancename = Classname()"
   ]
  },
  {
   "cell_type": "markdown",
   "id": "6daf68c5",
   "metadata": {},
   "source": [
    "### Example"
   ]
  },
  {
   "cell_type": "code",
   "execution_count": 5,
   "id": "21c199ed",
   "metadata": {},
   "outputs": [],
   "source": [
    "s1 = Student()"
   ]
  },
  {
   "cell_type": "markdown",
   "id": "984493f4",
   "metadata": {},
   "source": [
    "When an instance is created:\n",
    "\n",
    "* A block of memory is allocated on heap. The memory size is decided based on the attributes and methods of the class.\n",
    "\n",
    "* The special method \\_\\_init(self)\\_\\_ is called internally to initialize the data into the variables.\n",
    "\n",
    "* The allocated memory location address of the instance is returned to the instance name."
   ]
  },
  {
   "cell_type": "code",
   "execution_count": 13,
   "id": "42840aa8",
   "metadata": {},
   "outputs": [
    {
     "name": "stdout",
     "output_type": "stream",
     "text": [
      "<__main__.Student object at 0x0000028F722DB310>\n"
     ]
    }
   ],
   "source": [
    "print(s1)"
   ]
  },
  {
   "cell_type": "markdown",
   "id": "6cf4cbed",
   "metadata": {},
   "source": [
    "### Example"
   ]
  },
  {
   "cell_type": "code",
   "execution_count": 17,
   "id": "1edd1f79",
   "metadata": {},
   "outputs": [],
   "source": [
    "s2 = Student()"
   ]
  },
  {
   "cell_type": "code",
   "execution_count": 18,
   "id": "a1a82a66",
   "metadata": {},
   "outputs": [
    {
     "name": "stdout",
     "output_type": "stream",
     "text": [
      "<__main__.Student object at 0x0000028F7230D850>\n"
     ]
    }
   ],
   "source": [
    "print(s2)"
   ]
  },
  {
   "cell_type": "markdown",
   "id": "e3b49bdc",
   "metadata": {},
   "source": [
    "## Accessing the variables and methods "
   ]
  },
  {
   "cell_type": "markdown",
   "id": "ac793fe8",
   "metadata": {},
   "source": [
    "Any variable or methods in the instance can be accessed using the *dot* operator.\n",
    "\n",
    "The *dot* opertor takes the instance name at its left and the member of the instance at the right hand side."
   ]
  },
  {
   "cell_type": "markdown",
   "id": "7fa1c0b0",
   "metadata": {},
   "source": [
    "### Example"
   ]
  },
  {
   "cell_type": "code",
   "execution_count": 7,
   "id": "98033bc0",
   "metadata": {},
   "outputs": [
    {
     "name": "stdout",
     "output_type": "stream",
     "text": [
      "Samhithaa\n"
     ]
    }
   ],
   "source": [
    "print(s1.name)"
   ]
  },
  {
   "cell_type": "code",
   "execution_count": 8,
   "id": "61394f83",
   "metadata": {},
   "outputs": [
    {
     "name": "stdout",
     "output_type": "stream",
     "text": [
      "2\n"
     ]
    }
   ],
   "source": [
    "print(s1.semester)"
   ]
  },
  {
   "cell_type": "code",
   "execution_count": 9,
   "id": "153c61b6",
   "metadata": {},
   "outputs": [
    {
     "name": "stdout",
     "output_type": "stream",
     "text": [
      "Computer Science And Engineering\n"
     ]
    }
   ],
   "source": [
    "print(s1.branch)"
   ]
  },
  {
   "cell_type": "code",
   "execution_count": 11,
   "id": "a41627d0",
   "metadata": {},
   "outputs": [
    {
     "name": "stdout",
     "output_type": "stream",
     "text": [
      "My name is Samhithaa.\n",
      "I am studying in 2 semester, Computer Science And Engineering branch.\n",
      "None\n"
     ]
    }
   ],
   "source": [
    "print(s1.talk())"
   ]
  },
  {
   "cell_type": "markdown",
   "id": "b3bb08dc",
   "metadata": {},
   "source": [
    "# The *self* variable"
   ]
  },
  {
   "cell_type": "markdown",
   "id": "47eed43d",
   "metadata": {},
   "source": [
    "*self* is a default variable that contains the memory address of the instance of the class.\n",
    "\n",
    "*self* is used to refer to all the instance variables and instance methods.\n",
    "\n",
    "When an instance to the class is created, the instance name holds the memory location of the instance.\n",
    "\n",
    "The memory location is internally passed to *self* when referring to instance variables or methods."
   ]
  },
  {
   "cell_type": "code",
   "execution_count": 12,
   "id": "611cc182",
   "metadata": {},
   "outputs": [
    {
     "name": "stdout",
     "output_type": "stream",
     "text": [
      "<__main__.Student object at 0x0000028F722DB310>\n"
     ]
    }
   ],
   "source": [
    "print(s1)"
   ]
  },
  {
   "cell_type": "code",
   "execution_count": 14,
   "id": "6de697c5",
   "metadata": {},
   "outputs": [
    {
     "data": {
      "text/plain": [
       "2815119176464"
      ]
     },
     "execution_count": 14,
     "metadata": {},
     "output_type": "execute_result"
    }
   ],
   "source": [
    "int(0x0000028F722DB310)"
   ]
  },
  {
   "cell_type": "code",
   "execution_count": 15,
   "id": "8d1b70b1",
   "metadata": {},
   "outputs": [
    {
     "data": {
      "text/plain": [
       "2815119176464"
      ]
     },
     "execution_count": 15,
     "metadata": {},
     "output_type": "execute_result"
    }
   ],
   "source": [
    "id(s1)"
   ]
  },
  {
   "cell_type": "code",
   "execution_count": 19,
   "id": "76d8eb5d",
   "metadata": {},
   "outputs": [
    {
     "name": "stdout",
     "output_type": "stream",
     "text": [
      "<__main__.Student object at 0x0000028F7230D850>\n"
     ]
    }
   ],
   "source": [
    "print(s2)"
   ]
  },
  {
   "cell_type": "code",
   "execution_count": 20,
   "id": "b0028eaf",
   "metadata": {},
   "outputs": [
    {
     "data": {
      "text/plain": [
       "2815119382608"
      ]
     },
     "execution_count": 20,
     "metadata": {},
     "output_type": "execute_result"
    }
   ],
   "source": [
    "int(0x0000028F7230D850)"
   ]
  },
  {
   "cell_type": "markdown",
   "id": "e36bbc13",
   "metadata": {},
   "source": [
    "# Constructor"
   ]
  },
  {
   "cell_type": "markdown",
   "id": "72a3df10",
   "metadata": {},
   "source": [
    "A constructor is a special method that is used to initialize the instance variables of a class.\n",
    "\n",
    "In the constructor, instance variables are created and initialized with default values.\n",
    "\n",
    "The first parameter of the constructor will be *self* varaible, that holds the memory address of the instance."
   ]
  },
  {
   "cell_type": "markdown",
   "id": "17de259c",
   "metadata": {},
   "source": [
    "## General Syntax"
   ]
  },
  {
   "cell_type": "markdown",
   "id": "fb24431a",
   "metadata": {},
   "source": [
    "class ClassName(object):\n",
    "\n",
    "\"\"\" Docstring describing the class \"\"\"\n",
    "\n",
    "    def __init__(self):        "
   ]
  },
  {
   "cell_type": "markdown",
   "id": "b489ffef",
   "metadata": {},
   "source": [
    "### Example"
   ]
  },
  {
   "cell_type": "code",
   "execution_count": 22,
   "id": "212d4e2f",
   "metadata": {},
   "outputs": [],
   "source": [
    "class Student:\n",
    "    '''Student Class. To get and process student data'''\n",
    "    def __init__(self):\n",
    "        self.name = 'Saathvik'\n",
    "        self.semester = 2\n",
    "        self.branch = 'Robotics And Artificial Intelligence'"
   ]
  },
  {
   "cell_type": "code",
   "execution_count": 23,
   "id": "037fbd53",
   "metadata": {},
   "outputs": [],
   "source": [
    "s1 = Student()"
   ]
  },
  {
   "cell_type": "code",
   "execution_count": 24,
   "id": "f8202d43",
   "metadata": {},
   "outputs": [
    {
     "name": "stdout",
     "output_type": "stream",
     "text": [
      "<__main__.Student object at 0x0000028F72357B50>\n"
     ]
    }
   ],
   "source": [
    "print(s1)"
   ]
  },
  {
   "cell_type": "code",
   "execution_count": 25,
   "id": "f67391c5",
   "metadata": {},
   "outputs": [
    {
     "data": {
      "text/plain": [
       "2815119686480"
      ]
     },
     "execution_count": 25,
     "metadata": {},
     "output_type": "execute_result"
    }
   ],
   "source": [
    "int(0x0000028F72357B50)"
   ]
  },
  {
   "cell_type": "markdown",
   "id": "8452d7bd",
   "metadata": {},
   "source": [
    "A constructor can have parameters, so that the values can be passed to the constructor."
   ]
  },
  {
   "cell_type": "markdown",
   "id": "1bac7c41",
   "metadata": {},
   "source": [
    "### Example"
   ]
  },
  {
   "cell_type": "code",
   "execution_count": 26,
   "id": "33ecc618",
   "metadata": {},
   "outputs": [],
   "source": [
    "class Student:\n",
    "    '''Student Class. To get and process student data'''\n",
    "    def __init__(self, name, semester, branch):\n",
    "        self.name = name\n",
    "        self.semester = semester\n",
    "        self.branch = branch"
   ]
  },
  {
   "cell_type": "code",
   "execution_count": 27,
   "id": "184506e9",
   "metadata": {},
   "outputs": [
    {
     "ename": "TypeError",
     "evalue": "Student.__init__() missing 3 required positional arguments: 'name', 'semester', and 'branch'",
     "output_type": "error",
     "traceback": [
      "\u001b[1;31m---------------------------------------------------------------------------\u001b[0m",
      "\u001b[1;31mTypeError\u001b[0m                                 Traceback (most recent call last)",
      "Cell \u001b[1;32mIn[27], line 1\u001b[0m\n\u001b[1;32m----> 1\u001b[0m s1 \u001b[38;5;241m=\u001b[39m \u001b[43mStudent\u001b[49m\u001b[43m(\u001b[49m\u001b[43m)\u001b[49m\n",
      "\u001b[1;31mTypeError\u001b[0m: Student.__init__() missing 3 required positional arguments: 'name', 'semester', and 'branch'"
     ]
    }
   ],
   "source": [
    "s1 = Student()"
   ]
  },
  {
   "cell_type": "code",
   "execution_count": 28,
   "id": "75b5aff4",
   "metadata": {},
   "outputs": [],
   "source": [
    "s1 = Student('Suchethana', 2, 'Electronics and Communication')"
   ]
  },
  {
   "cell_type": "code",
   "execution_count": 29,
   "id": "4c829389",
   "metadata": {},
   "outputs": [
    {
     "name": "stdout",
     "output_type": "stream",
     "text": [
      "Suchethana\n"
     ]
    }
   ],
   "source": [
    "print(s1.name)"
   ]
  },
  {
   "cell_type": "code",
   "execution_count": 30,
   "id": "390e5e1a",
   "metadata": {},
   "outputs": [
    {
     "name": "stdout",
     "output_type": "stream",
     "text": [
      "2\n"
     ]
    }
   ],
   "source": [
    "print(s1.semester)"
   ]
  },
  {
   "cell_type": "code",
   "execution_count": 31,
   "id": "e179884b",
   "metadata": {},
   "outputs": [
    {
     "name": "stdout",
     "output_type": "stream",
     "text": [
      "Electronics and Communication\n"
     ]
    }
   ],
   "source": [
    "print(s1.branch)"
   ]
  },
  {
   "cell_type": "markdown",
   "id": "2bb458c7",
   "metadata": {},
   "source": [
    "## Note:"
   ]
  },
  {
   "cell_type": "markdown",
   "id": "8b3b1427",
   "metadata": {},
   "source": [
    "* A constructor does not create an instance.\n",
    "\n",
    "* A constructor is used to initialize or store the beginning values into the instance variables.\n",
    "\n",
    "* A constructor is called only once at the time of creating an instance."
   ]
  },
  {
   "cell_type": "markdown",
   "id": "b9c1a9f6",
   "metadata": {},
   "source": [
    "# Types of Variables"
   ]
  },
  {
   "cell_type": "markdown",
   "id": "31e982b0",
   "metadata": {},
   "source": [
    "The variables which are written inside a class are of 2 types:\n",
    "\n",
    "* Instance Variables\n",
    "\n",
    "* Class or Static Variables"
   ]
  },
  {
   "cell_type": "markdown",
   "id": "ce8432ea",
   "metadata": {},
   "source": [
    "## Instance Variables"
   ]
  },
  {
   "cell_type": "markdown",
   "id": "e2cd5194",
   "metadata": {},
   "source": [
    "Instance variables are the variables whose separate copy is created in every instance of the class.\n",
    "\n",
    "Instance variables are defined and initialized using the constructor.\n",
    "\n",
    "Instance variables are accessed or modified using the instance methods.\n",
    "\n",
    "Instance variables are accessed outside the class in the form: *instancename.variable*."
   ]
  },
  {
   "cell_type": "markdown",
   "id": "49b64e0b",
   "metadata": {},
   "source": [
    "### Example"
   ]
  },
  {
   "cell_type": "code",
   "execution_count": 14,
   "id": "cd0c961f",
   "metadata": {},
   "outputs": [],
   "source": [
    "class Arithmetic:\n",
    "    def __init__(self):\n",
    "        self.number = 0\n",
    "        \n",
    "    def increment(self):\n",
    "        self.number += 1"
   ]
  },
  {
   "cell_type": "code",
   "execution_count": 15,
   "id": "4f0ea6f2",
   "metadata": {},
   "outputs": [],
   "source": [
    "first_num = Arithmetic()"
   ]
  },
  {
   "cell_type": "code",
   "execution_count": 16,
   "id": "cb2f0415",
   "metadata": {},
   "outputs": [
    {
     "name": "stdout",
     "output_type": "stream",
     "text": [
      "0\n"
     ]
    }
   ],
   "source": [
    "print(first_num.number)"
   ]
  },
  {
   "cell_type": "code",
   "execution_count": 17,
   "id": "24b3f0d1",
   "metadata": {},
   "outputs": [
    {
     "name": "stdout",
     "output_type": "stream",
     "text": [
      "1\n"
     ]
    }
   ],
   "source": [
    "first_num.increment()\n",
    "\n",
    "print(first_num.number)"
   ]
  },
  {
   "cell_type": "code",
   "execution_count": 18,
   "id": "dbad2578",
   "metadata": {},
   "outputs": [],
   "source": [
    "sec_number = Arithmetic()"
   ]
  },
  {
   "cell_type": "code",
   "execution_count": 19,
   "id": "3115a186",
   "metadata": {},
   "outputs": [
    {
     "name": "stdout",
     "output_type": "stream",
     "text": [
      "0\n"
     ]
    }
   ],
   "source": [
    "print(sec_number.number)"
   ]
  },
  {
   "cell_type": "code",
   "execution_count": 20,
   "id": "db5a3443",
   "metadata": {},
   "outputs": [
    {
     "name": "stdout",
     "output_type": "stream",
     "text": [
      "2\n",
      "0\n"
     ]
    }
   ],
   "source": [
    "first_num.increment()\n",
    "\n",
    "print(first_num.number)\n",
    "\n",
    "print(sec_number.number)"
   ]
  },
  {
   "cell_type": "markdown",
   "id": "ab236a03",
   "metadata": {},
   "source": [
    "## Class Variables"
   ]
  },
  {
   "cell_type": "markdown",
   "id": "e9ddea7d",
   "metadata": {},
   "source": [
    "Class variables are the variables whose single copy is available to all the instances of the class.\n",
    "\n",
    "If the class variable is modified in one instance, it will get modified in all the other instances.\n",
    "\n",
    "Class variables are defined directly in the class and not in the constructor.\n",
    "\n",
    "Class variables are accessed or modified using the class methods.\n",
    "\n",
    "Class variables are accessed from outside the class in the form: *classname.variable*."
   ]
  },
  {
   "cell_type": "markdown",
   "id": "58b9e74c",
   "metadata": {},
   "source": [
    "### Example"
   ]
  },
  {
   "cell_type": "code",
   "execution_count": 21,
   "id": "206fd499",
   "metadata": {},
   "outputs": [],
   "source": [
    "class Account:\n",
    "    interest_rate = 0.095"
   ]
  },
  {
   "cell_type": "code",
   "execution_count": 23,
   "id": "c1635923",
   "metadata": {},
   "outputs": [
    {
     "name": "stdout",
     "output_type": "stream",
     "text": [
      "0.095\n"
     ]
    }
   ],
   "source": [
    "# Accessing the class variable outside the class\n",
    "\n",
    "print(Account.interest_rate)"
   ]
  },
  {
   "cell_type": "markdown",
   "id": "1c55b918",
   "metadata": {},
   "source": [
    "### Example"
   ]
  },
  {
   "cell_type": "code",
   "execution_count": 34,
   "id": "1c9ba920",
   "metadata": {},
   "outputs": [],
   "source": [
    "class Account:\n",
    "    interest_rate = 0.095\n",
    "    \n",
    "    @classmethod\n",
    "    def increment_interest_rate(cls):\n",
    "        cls.interest_rate += 0.001"
   ]
  },
  {
   "cell_type": "code",
   "execution_count": 35,
   "id": "cca615f1",
   "metadata": {},
   "outputs": [
    {
     "name": "stdout",
     "output_type": "stream",
     "text": [
      "0.095\n"
     ]
    }
   ],
   "source": [
    "print(Account.interest_rate)"
   ]
  },
  {
   "cell_type": "code",
   "execution_count": 36,
   "id": "d117d050",
   "metadata": {},
   "outputs": [],
   "source": [
    "account_one = Account()"
   ]
  },
  {
   "cell_type": "code",
   "execution_count": 37,
   "id": "3eb2f434",
   "metadata": {},
   "outputs": [
    {
     "name": "stdout",
     "output_type": "stream",
     "text": [
      "0.095\n"
     ]
    }
   ],
   "source": [
    "print(account_one.interest_rate)"
   ]
  },
  {
   "cell_type": "code",
   "execution_count": 38,
   "id": "7eb4a8c2",
   "metadata": {},
   "outputs": [],
   "source": [
    "account_two = Account()"
   ]
  },
  {
   "cell_type": "code",
   "execution_count": 39,
   "id": "64caf81b",
   "metadata": {},
   "outputs": [
    {
     "name": "stdout",
     "output_type": "stream",
     "text": [
      "0.095\n"
     ]
    }
   ],
   "source": [
    "print(account_two.interest_rate)"
   ]
  },
  {
   "cell_type": "code",
   "execution_count": 40,
   "id": "5143e879",
   "metadata": {},
   "outputs": [],
   "source": [
    "account_one.increment_interest_rate()"
   ]
  },
  {
   "cell_type": "code",
   "execution_count": 41,
   "id": "a20ee340",
   "metadata": {},
   "outputs": [
    {
     "name": "stdout",
     "output_type": "stream",
     "text": [
      "0.096\n"
     ]
    }
   ],
   "source": [
    "print(Account.interest_rate)"
   ]
  },
  {
   "cell_type": "code",
   "execution_count": 42,
   "id": "a3a6d294",
   "metadata": {},
   "outputs": [
    {
     "name": "stdout",
     "output_type": "stream",
     "text": [
      "0.096\n"
     ]
    }
   ],
   "source": [
    "print(account_one.interest_rate)"
   ]
  },
  {
   "cell_type": "code",
   "execution_count": 43,
   "id": "21d788ec",
   "metadata": {},
   "outputs": [
    {
     "name": "stdout",
     "output_type": "stream",
     "text": [
      "0.096\n"
     ]
    }
   ],
   "source": [
    "print(account_two.interest_rate)"
   ]
  },
  {
   "cell_type": "code",
   "execution_count": 44,
   "id": "f045850a",
   "metadata": {},
   "outputs": [
    {
     "data": {
      "text/plain": [
       "0.096"
      ]
     },
     "execution_count": 44,
     "metadata": {},
     "output_type": "execute_result"
    }
   ],
   "source": [
    "Account.interest_rate"
   ]
  },
  {
   "cell_type": "code",
   "execution_count": 45,
   "id": "3c8abb64",
   "metadata": {},
   "outputs": [],
   "source": [
    "Account.interest_rate = 0.085"
   ]
  },
  {
   "cell_type": "code",
   "execution_count": 46,
   "id": "efd3a97f",
   "metadata": {},
   "outputs": [
    {
     "name": "stdout",
     "output_type": "stream",
     "text": [
      "0.085\n",
      "0.085\n"
     ]
    },
    {
     "data": {
      "text/plain": [
       "(None, None)"
      ]
     },
     "execution_count": 46,
     "metadata": {},
     "output_type": "execute_result"
    }
   ],
   "source": [
    "print(account_one.interest_rate), print(account_two.interest_rate)"
   ]
  },
  {
   "cell_type": "markdown",
   "id": "5b336b10",
   "metadata": {},
   "source": [
    "# Types of Methods"
   ]
  },
  {
   "cell_type": "markdown",
   "id": "98d623a7",
   "metadata": {},
   "source": [
    "The purpose of a method is to process the variables provided in the class or in the method.\n",
    "\n",
    "The methods are classified as:\n",
    "\n",
    "* Instance methods\n",
    "\n",
    "     * Accessor methods\n",
    "\n",
    "     * Mutator methods\n",
    "    \n",
    "* Class methods\n",
    "\n",
    "* Static methods"
   ]
  },
  {
   "cell_type": "markdown",
   "id": "f2f1cfc7",
   "metadata": {},
   "source": [
    "## Instance Methods"
   ]
  },
  {
   "cell_type": "markdown",
   "id": "2f4a9bfb",
   "metadata": {},
   "source": [
    "Instance methods act upon the instance variables of the class.\n",
    "\n",
    "Instance variables are available in the instance. Hence instance methods need to know the memory address of the instance. The memory address is provided through *self* variable, which is the first parameter of the instance method.\n",
    "\n",
    "The instance methods are called in the form: *instancename.method()*.\n",
    "\n",
    "While calling the instance methods, no value to be passed to the *self* parameter.\n",
    "\n",
    "Instance methods are of two types:\n",
    "\n",
    "* Accessor methods\n",
    "\n",
    "* Mutator methods"
   ]
  },
  {
   "cell_type": "markdown",
   "id": "21d7937d",
   "metadata": {},
   "source": [
    "### Example"
   ]
  },
  {
   "cell_type": "code",
   "execution_count": 47,
   "id": "f90ee6f0",
   "metadata": {},
   "outputs": [],
   "source": [
    "class Student:\n",
    "    def __init__(self, name, institution):\n",
    "        self.name = name\n",
    "        self.institution = institution\n",
    "        \n",
    "    def print_details(self):\n",
    "        print(f\"My name is {self.name} and I am studying in {self.institution}.\")"
   ]
  },
  {
   "cell_type": "code",
   "execution_count": 48,
   "id": "125a3ff3",
   "metadata": {},
   "outputs": [],
   "source": [
    "s1 = Student('Samhithaa', 'RVK')"
   ]
  },
  {
   "cell_type": "code",
   "execution_count": 49,
   "id": "25c34655",
   "metadata": {},
   "outputs": [
    {
     "name": "stdout",
     "output_type": "stream",
     "text": [
      "My name is Samhithaa and I am studying in RVK.\n"
     ]
    }
   ],
   "source": [
    "s1.print_details()"
   ]
  },
  {
   "cell_type": "code",
   "execution_count": 50,
   "id": "a41b4251",
   "metadata": {},
   "outputs": [],
   "source": [
    "s2 = Student('Suchethana', 'EURO Kids')"
   ]
  },
  {
   "cell_type": "code",
   "execution_count": 51,
   "id": "40e4f067",
   "metadata": {},
   "outputs": [
    {
     "name": "stdout",
     "output_type": "stream",
     "text": [
      "My name is Suchethana and I am studying in EURO Kids.\n"
     ]
    }
   ],
   "source": [
    "s2.print_details()"
   ]
  },
  {
   "cell_type": "markdown",
   "id": "65fa7af5",
   "metadata": {},
   "source": [
    "### Accessor and Mutator Methods"
   ]
  },
  {
   "cell_type": "markdown",
   "id": "b6bdf5e4",
   "metadata": {},
   "source": [
    "| Accessor Method | Mutator Method |\n",
    "| --------------- | -------------- |\n",
    "| Accessor methods access or read the data of the instance variables. | Mutator methods not only read the data of the instance variables but also modify. |\n",
    "| Accessor methods are generally written in the form of getXXX(). | Mutator methods are generally written in the form of setXXX(). |\n",
    "| Accessor methods are also called *getter* methods. | Mutator methods are also called *setter* methods. |"
   ]
  },
  {
   "cell_type": "markdown",
   "id": "61cabbd0",
   "metadata": {},
   "source": [
    "#### Example"
   ]
  },
  {
   "cell_type": "code",
   "execution_count": 52,
   "id": "6d9b26e1",
   "metadata": {},
   "outputs": [],
   "source": [
    "class Student:\n",
    "    def setName(self, name):\n",
    "        self.name = name\n",
    "    \n",
    "    def getName(self):\n",
    "        return self.name\n",
    "    \n",
    "    def setInstitution(self, institution):\n",
    "        self.institution = institution\n",
    "        \n",
    "    def getInstitution(self):\n",
    "        return self.institution\n",
    "    \n",
    "    def print_details(self):\n",
    "        print(f\"My name is {self.name} and I am studying in {self.institution}.\")"
   ]
  },
  {
   "cell_type": "code",
   "execution_count": 53,
   "id": "ea56b3da",
   "metadata": {},
   "outputs": [],
   "source": [
    "s = Student()"
   ]
  },
  {
   "cell_type": "code",
   "execution_count": 54,
   "id": "e71cc808",
   "metadata": {},
   "outputs": [],
   "source": [
    "s.setName('Saathvik')\n",
    "\n",
    "s.setInstitution('RVKBSK')"
   ]
  },
  {
   "cell_type": "code",
   "execution_count": 55,
   "id": "eb8ebd82",
   "metadata": {},
   "outputs": [
    {
     "name": "stdout",
     "output_type": "stream",
     "text": [
      "My name is Saathvik and I am studying in RVKBSK.\n"
     ]
    }
   ],
   "source": [
    "s.print_details()"
   ]
  },
  {
   "cell_type": "markdown",
   "id": "6bc1d056",
   "metadata": {},
   "source": [
    "**Note:** Since mutator methods define the instance variables and store data, constructor is not required to be defined in the class to initialize the instance variables."
   ]
  },
  {
   "cell_type": "markdown",
   "id": "3c81435c",
   "metadata": {},
   "source": [
    "## Class Methods"
   ]
  },
  {
   "cell_type": "markdown",
   "id": "f923263f",
   "metadata": {},
   "source": [
    "Class methods act on the class or static variables.\n",
    "\n",
    "Class methods are written using the decorator @classmethod.\n",
    "\n",
    "The first parameter of the class method is *cls*, which refers to the class itself.\n",
    "\n",
    "Class methods are called in the form: *classname.method()*\n",
    "\n",
    "The processing which is commonly needed by all the instances of the class is handled by the class methods."
   ]
  },
  {
   "cell_type": "markdown",
   "id": "25faad50",
   "metadata": {},
   "source": [
    "### Example"
   ]
  },
  {
   "cell_type": "code",
   "execution_count": 56,
   "id": "adc54325",
   "metadata": {},
   "outputs": [],
   "source": [
    "class SavingsAccount:\n",
    "    interest_rate = 0.065\n",
    "    \n",
    "    @classmethod\n",
    "    def print_interest_rate(cls):\n",
    "        print(\"Savings Account interest rate is: \", cls.interest_rate)"
   ]
  },
  {
   "cell_type": "code",
   "execution_count": 57,
   "id": "95f543d3",
   "metadata": {},
   "outputs": [
    {
     "name": "stdout",
     "output_type": "stream",
     "text": [
      "Savings Account interest rate is:  0.065\n"
     ]
    }
   ],
   "source": [
    "SavingsAccount.print_interest_rate()"
   ]
  },
  {
   "cell_type": "markdown",
   "id": "c72ecc5d",
   "metadata": {},
   "source": [
    "## Static Methods"
   ]
  },
  {
   "cell_type": "markdown",
   "id": "48069fae",
   "metadata": {},
   "source": [
    "Static methods are used when the processing is related to the class but there is no involvement of the class or instance.\n",
    "\n",
    "Static methods are used to accept some values, process them and return the result.\n",
    "\n",
    "Static methods are written with a decorator @staticmethod.\n",
    "\n",
    "Static methods are called in the form: *classname.method()*."
   ]
  },
  {
   "cell_type": "code",
   "execution_count": 58,
   "id": "824fed1b",
   "metadata": {},
   "outputs": [],
   "source": [
    "# Class to write application errors into a log file\n",
    "\n",
    "class ErrorLog():\n",
    "    \n",
    "    @staticmethod\n",
    "    def log_error(error):\n",
    "        with open(\"log.txt\", \"a\") as log_file:\n",
    "            log_file.write(error)\n",
    "            log_file.write(\"\\n\")"
   ]
  },
  {
   "cell_type": "code",
   "execution_count": 68,
   "id": "6447145d",
   "metadata": {},
   "outputs": [
    {
     "name": "stdout",
     "output_type": "stream",
     "text": [
      "Division By Zero error has occured.\n"
     ]
    }
   ],
   "source": [
    "try:\n",
    "    10 * (1/0)\n",
    "except Exception as ex:\n",
    "    ErrorLog.log_error(str(ex))\n",
    "    print(str(ex).title(), 'error has occured.')"
   ]
  },
  {
   "cell_type": "code",
   "execution_count": 69,
   "id": "7a35f538",
   "metadata": {},
   "outputs": [
    {
     "name": "stdout",
     "output_type": "stream",
     "text": [
      "division by zero\n",
      "division by zero\n",
      "division by zero\n",
      "division by zero\n",
      "\n"
     ]
    }
   ],
   "source": [
    "with open(\"log.txt\", \"r\") as log_file:\n",
    "    print(log_file.read())"
   ]
  },
  {
   "cell_type": "markdown",
   "id": "acce0b6b",
   "metadata": {},
   "source": [
    "# Public and Private Data Members"
   ]
  },
  {
   "cell_type": "markdown",
   "id": "2bd656d1",
   "metadata": {},
   "source": [
    "Public members can be accessed from anywhere in the program i.e., they can be accessed within the class as well as from outside the class in which they are defined.\n",
    "\n",
    "Private members can only be accessed within the class. \n",
    "\n",
    "Private members are defined in the class with a double underscore prefix."
   ]
  },
  {
   "cell_type": "markdown",
   "id": "2e91ba21",
   "metadata": {},
   "source": [
    "## Example"
   ]
  },
  {
   "cell_type": "markdown",
   "id": "dc1e5566",
   "metadata": {},
   "source": [
    "### Public instance variables"
   ]
  },
  {
   "cell_type": "code",
   "execution_count": 15,
   "id": "8cc4f18a",
   "metadata": {},
   "outputs": [],
   "source": [
    "class Person:\n",
    "    def __init__(self, name, gender):\n",
    "        self.name = name\n",
    "        self.gender = gender\n",
    "        \n",
    "    def print_details(self):\n",
    "        print(f\"Name: {self.name} Gender: {self.gender}\")"
   ]
  },
  {
   "cell_type": "code",
   "execution_count": 16,
   "id": "8a5e23a8",
   "metadata": {},
   "outputs": [],
   "source": [
    "p = Person('Deepak', 'Male')"
   ]
  },
  {
   "cell_type": "code",
   "execution_count": 17,
   "id": "58e1970a",
   "metadata": {},
   "outputs": [
    {
     "name": "stdout",
     "output_type": "stream",
     "text": [
      "['__class__', '__delattr__', '__dict__', '__dir__', '__doc__', '__eq__', '__format__', '__ge__', '__getattribute__', '__getstate__', '__gt__', '__hash__', '__init__', '__init_subclass__', '__le__', '__lt__', '__module__', '__ne__', '__new__', '__reduce__', '__reduce_ex__', '__repr__', '__setattr__', '__sizeof__', '__str__', '__subclasshook__', '__weakref__', 'gender', 'name', 'print_details']\n"
     ]
    }
   ],
   "source": [
    "print(dir(p))"
   ]
  },
  {
   "cell_type": "code",
   "execution_count": 18,
   "id": "1021b8fe",
   "metadata": {},
   "outputs": [
    {
     "name": "stdout",
     "output_type": "stream",
     "text": [
      "Deepak\n"
     ]
    }
   ],
   "source": [
    "print(p.name)"
   ]
  },
  {
   "cell_type": "code",
   "execution_count": 19,
   "id": "3b8079d8",
   "metadata": {},
   "outputs": [
    {
     "name": "stdout",
     "output_type": "stream",
     "text": [
      "Name: Deepak Gender: Male\n"
     ]
    }
   ],
   "source": [
    "p.print_details()"
   ]
  },
  {
   "cell_type": "code",
   "execution_count": 20,
   "id": "3c119058",
   "metadata": {},
   "outputs": [
    {
     "name": "stdout",
     "output_type": "stream",
     "text": [
      "Name: Chaitra Gender: Female\n"
     ]
    }
   ],
   "source": [
    "p.name = 'Chaitra'\n",
    "p.gender = 'Female'\n",
    "\n",
    "p.print_details()"
   ]
  },
  {
   "cell_type": "markdown",
   "id": "b5031e60",
   "metadata": {},
   "source": [
    "### Private instance variables"
   ]
  },
  {
   "cell_type": "code",
   "execution_count": 87,
   "id": "23677e4b",
   "metadata": {},
   "outputs": [],
   "source": [
    "class Person:\n",
    "    def __init__(self, name, gender):\n",
    "        self.__name = name\n",
    "        self.__gender = gender\n",
    "        \n",
    "    def print_details(self):\n",
    "        print(f\"Name: {self.__name} Gender: {self.__gender}\")"
   ]
  },
  {
   "cell_type": "code",
   "execution_count": 88,
   "id": "d6e55f5b",
   "metadata": {},
   "outputs": [],
   "source": [
    "p = Person('Deepak', 'Male')"
   ]
  },
  {
   "cell_type": "code",
   "execution_count": 89,
   "id": "3024838c",
   "metadata": {},
   "outputs": [
    {
     "ename": "AttributeError",
     "evalue": "'Person' object has no attribute 'name'",
     "output_type": "error",
     "traceback": [
      "\u001b[1;31m---------------------------------------------------------------------------\u001b[0m",
      "\u001b[1;31mAttributeError\u001b[0m                            Traceback (most recent call last)",
      "Cell \u001b[1;32mIn[89], line 1\u001b[0m\n\u001b[1;32m----> 1\u001b[0m \u001b[43mp\u001b[49m\u001b[38;5;241;43m.\u001b[39;49m\u001b[43mname\u001b[49m\n",
      "\u001b[1;31mAttributeError\u001b[0m: 'Person' object has no attribute 'name'"
     ]
    }
   ],
   "source": [
    "p.name"
   ]
  },
  {
   "cell_type": "code",
   "execution_count": 83,
   "id": "138a8306",
   "metadata": {},
   "outputs": [
    {
     "name": "stdout",
     "output_type": "stream",
     "text": [
      "['_Person__gender', '_Person__name', '__class__', '__delattr__', '__dict__', '__dir__', '__doc__', '__eq__', '__format__', '__ge__', '__getattribute__', '__getstate__', '__gt__', '__hash__', '__init__', '__init_subclass__', '__le__', '__lt__', '__module__', '__ne__', '__new__', '__reduce__', '__reduce_ex__', '__repr__', '__setattr__', '__sizeof__', '__str__', '__subclasshook__', '__weakref__', 'print_details']\n"
     ]
    }
   ],
   "source": [
    "print(dir(p))"
   ]
  },
  {
   "cell_type": "code",
   "execution_count": 84,
   "id": "25d2100d",
   "metadata": {},
   "outputs": [
    {
     "name": "stdout",
     "output_type": "stream",
     "text": [
      "Name: Deepak Gender: Male\n"
     ]
    }
   ],
   "source": [
    "p.print_details()"
   ]
  },
  {
   "cell_type": "markdown",
   "id": "1120c9bf",
   "metadata": {},
   "source": [
    "#### Accessing Private instance variables - Not recommended"
   ]
  },
  {
   "cell_type": "code",
   "execution_count": 86,
   "id": "88674140",
   "metadata": {},
   "outputs": [
    {
     "data": {
      "text/plain": [
       "'Deepak'"
      ]
     },
     "execution_count": 86,
     "metadata": {},
     "output_type": "execute_result"
    }
   ],
   "source": [
    "p._Person__name"
   ]
  },
  {
   "cell_type": "markdown",
   "id": "d8bb7794",
   "metadata": {},
   "source": [
    "## Example"
   ]
  },
  {
   "cell_type": "markdown",
   "id": "f5688e0b",
   "metadata": {},
   "source": [
    "### Public Class Variable"
   ]
  },
  {
   "cell_type": "code",
   "execution_count": 90,
   "id": "5cffe655",
   "metadata": {},
   "outputs": [],
   "source": [
    "class Account:\n",
    "    interest_rate = 0.065"
   ]
  },
  {
   "cell_type": "code",
   "execution_count": 92,
   "id": "3df2f5b5",
   "metadata": {},
   "outputs": [
    {
     "data": {
      "text/plain": [
       "0.065"
      ]
     },
     "execution_count": 92,
     "metadata": {},
     "output_type": "execute_result"
    }
   ],
   "source": [
    "Account.interest_rate"
   ]
  },
  {
   "cell_type": "markdown",
   "id": "b66e50cb",
   "metadata": {},
   "source": [
    "### Private Class Variable"
   ]
  },
  {
   "cell_type": "code",
   "execution_count": 93,
   "id": "e6ca00f7",
   "metadata": {},
   "outputs": [],
   "source": [
    "class Account:\n",
    "    __interest_rate = 0.065"
   ]
  },
  {
   "cell_type": "markdown",
   "id": "a698ef33",
   "metadata": {},
   "source": [
    "#### Accessing Private class variables - Not recommended"
   ]
  },
  {
   "cell_type": "code",
   "execution_count": 95,
   "id": "7bb0ad32",
   "metadata": {},
   "outputs": [
    {
     "data": {
      "text/plain": [
       "0.065"
      ]
     },
     "execution_count": 95,
     "metadata": {},
     "output_type": "execute_result"
    }
   ],
   "source": [
    "Account._Account__interest_rate"
   ]
  },
  {
   "cell_type": "markdown",
   "id": "6463e32c",
   "metadata": {},
   "source": [
    "## Example"
   ]
  },
  {
   "cell_type": "code",
   "execution_count": 76,
   "id": "5b308b33",
   "metadata": {},
   "outputs": [],
   "source": [
    "class Person:\n",
    "   \n",
    "    def setName(self, name):\n",
    "        self.__name = name\n",
    "        \n",
    "    def getName(self):\n",
    "        return self.__name\n",
    "        \n",
    "    def print_name(self):\n",
    "        print(\"Name: {}\".format(self.__name))"
   ]
  },
  {
   "cell_type": "code",
   "execution_count": 77,
   "id": "04419f81",
   "metadata": {},
   "outputs": [],
   "source": [
    "p = Person()"
   ]
  },
  {
   "cell_type": "code",
   "execution_count": 78,
   "id": "f5064e9c",
   "metadata": {},
   "outputs": [],
   "source": [
    "p.setName('Saathvik')"
   ]
  },
  {
   "cell_type": "code",
   "execution_count": 79,
   "id": "3d2b9c3f",
   "metadata": {},
   "outputs": [
    {
     "data": {
      "text/plain": [
       "'Saathvik'"
      ]
     },
     "execution_count": 79,
     "metadata": {},
     "output_type": "execute_result"
    }
   ],
   "source": [
    "p.getName()"
   ]
  },
  {
   "cell_type": "code",
   "execution_count": 26,
   "id": "87ebe22f",
   "metadata": {},
   "outputs": [
    {
     "name": "stdout",
     "output_type": "stream",
     "text": [
      "Name: Saathvik\n"
     ]
    }
   ],
   "source": [
    "p.print_name()"
   ]
  },
  {
   "cell_type": "markdown",
   "id": "019906a7",
   "metadata": {},
   "source": [
    "## Example"
   ]
  },
  {
   "cell_type": "markdown",
   "id": "c1d12093",
   "metadata": {},
   "source": [
    "### Private Method"
   ]
  },
  {
   "cell_type": "code",
   "execution_count": 66,
   "id": "4ca6ca26",
   "metadata": {},
   "outputs": [],
   "source": [
    "class Vehicle:\n",
    "    def __init__(self):\n",
    "        self.engine_on = False\n",
    "        \n",
    "    def turn_on(self):\n",
    "        self.__start_ignition()\n",
    "        self.engine_on = True\n",
    "        print('The vehicle is on.')\n",
    "        \n",
    "    def turn_off(self):\n",
    "        self.__stop_ignition()\n",
    "        self.engine_on = False\n",
    "        print('The vehicle is off.')\n",
    "        \n",
    "    def __start_ignition(self):\n",
    "        print('Compress the fuel.')\n",
    "        print('Ignite the fuel')\n",
    "        \n",
    "    def __stop_ignition(self):\n",
    "        print('Stop ignition')\n",
    "        print('Stop compression')"
   ]
  },
  {
   "cell_type": "code",
   "execution_count": 67,
   "id": "11f0b83b",
   "metadata": {},
   "outputs": [],
   "source": [
    "alto = Vehicle()"
   ]
  },
  {
   "cell_type": "code",
   "execution_count": 68,
   "id": "50f7bf76",
   "metadata": {},
   "outputs": [
    {
     "name": "stdout",
     "output_type": "stream",
     "text": [
      "Compress the fuel.\n",
      "Ignite the fuel\n",
      "The vehicle is on.\n"
     ]
    }
   ],
   "source": [
    "alto.turn_on()"
   ]
  },
  {
   "cell_type": "code",
   "execution_count": 69,
   "id": "eceed05c",
   "metadata": {},
   "outputs": [
    {
     "name": "stdout",
     "output_type": "stream",
     "text": [
      "True\n"
     ]
    }
   ],
   "source": [
    "print(alto.engine_on)"
   ]
  },
  {
   "cell_type": "code",
   "execution_count": 70,
   "id": "1c39edc4",
   "metadata": {},
   "outputs": [
    {
     "name": "stdout",
     "output_type": "stream",
     "text": [
      "Stop ignition\n",
      "Stop compression\n",
      "The vehicle is off.\n"
     ]
    }
   ],
   "source": [
    "alto.turn_off()"
   ]
  },
  {
   "cell_type": "code",
   "execution_count": 71,
   "id": "38b29be7",
   "metadata": {},
   "outputs": [
    {
     "name": "stdout",
     "output_type": "stream",
     "text": [
      "False\n"
     ]
    }
   ],
   "source": [
    "print(alto.engine_on)"
   ]
  },
  {
   "cell_type": "markdown",
   "id": "e213fbe4",
   "metadata": {},
   "source": [
    "#### Accessing the private method - Not recommended"
   ]
  },
  {
   "cell_type": "code",
   "execution_count": 80,
   "id": "d7b313da",
   "metadata": {},
   "outputs": [
    {
     "name": "stdout",
     "output_type": "stream",
     "text": [
      "Compress the fuel.\n",
      "Ignite the fuel\n"
     ]
    }
   ],
   "source": [
    "alto._Vehicle__start_ignition()"
   ]
  },
  {
   "cell_type": "markdown",
   "id": "605bd314",
   "metadata": {},
   "source": [
    "# Passing Members of one class to another class"
   ]
  },
  {
   "cell_type": "markdown",
   "id": "a3a98508",
   "metadata": {},
   "source": [
    "To pass all the members of one class to another, instance of the class is passed to another class."
   ]
  },
  {
   "cell_type": "markdown",
   "id": "9008fc33",
   "metadata": {},
   "source": [
    "### Example"
   ]
  },
  {
   "cell_type": "code",
   "execution_count": 1,
   "id": "77ab7fe3",
   "metadata": {},
   "outputs": [],
   "source": [
    "class Employee:\n",
    "    '''Emplyee Class'''\n",
    "    def __init__(self, id, name, salary):\n",
    "        self.id = id\n",
    "        self.name = name\n",
    "        self.salary = salary\n",
    "        \n",
    "    def show_details(self):\n",
    "        print('ID: ', self.id)\n",
    "        print('Name: ', self.name)\n",
    "        print('Salary: ', self.salary)"
   ]
  },
  {
   "cell_type": "code",
   "execution_count": 2,
   "id": "3196a6f1",
   "metadata": {},
   "outputs": [],
   "source": [
    "class MyClass:\n",
    "    \n",
    "    @staticmethod\n",
    "    def increment_salary(employee):\n",
    "        employee.salary += 1000\n",
    "        \n",
    "        employee.show_details()"
   ]
  },
  {
   "cell_type": "code",
   "execution_count": 3,
   "id": "f8bec23f",
   "metadata": {},
   "outputs": [],
   "source": [
    "emp = Employee(92968, 'Deepak', 105000)"
   ]
  },
  {
   "cell_type": "code",
   "execution_count": 4,
   "id": "4c2acc25",
   "metadata": {},
   "outputs": [
    {
     "name": "stdout",
     "output_type": "stream",
     "text": [
      "ID:  92968\n",
      "Name:  Deepak\n",
      "Salary:  106000\n"
     ]
    }
   ],
   "source": [
    "MyClass.increment_salary(emp)"
   ]
  },
  {
   "cell_type": "markdown",
   "id": "ecc8a092",
   "metadata": {},
   "source": [
    "# Nested Classes"
   ]
  },
  {
   "cell_type": "markdown",
   "id": "aa7a2125",
   "metadata": {},
   "source": [
    "A class within another class is called an inner class or nested class"
   ]
  },
  {
   "cell_type": "markdown",
   "id": "9ad634de",
   "metadata": {},
   "source": [
    "### Example"
   ]
  },
  {
   "cell_type": "code",
   "execution_count": 10,
   "id": "b75f7303",
   "metadata": {},
   "outputs": [],
   "source": [
    "class Person:\n",
    "    def __init__(self, name):\n",
    "        self.name = name\n",
    "        self.dob = self.DateofBirth()\n",
    "        \n",
    "    def show_details(self):\n",
    "        print(\"Name: \", self.name)\n",
    "    \n",
    "    class DateofBirth:\n",
    "        def __init__(self):\n",
    "            self.day = 17\n",
    "            self.month = 3\n",
    "            self.year = 1980\n",
    "            \n",
    "        def show_details(self):\n",
    "            print(\"Day: {} Month: {} Year: {}\".format(self.day, self.month, self.year))\n",
    "            "
   ]
  },
  {
   "cell_type": "code",
   "execution_count": 11,
   "id": "10c13b2d",
   "metadata": {},
   "outputs": [],
   "source": [
    "p = Person('Deepak')"
   ]
  },
  {
   "cell_type": "code",
   "execution_count": 12,
   "id": "03aadd18",
   "metadata": {},
   "outputs": [
    {
     "name": "stdout",
     "output_type": "stream",
     "text": [
      "Name:  Deepak\n"
     ]
    }
   ],
   "source": [
    "p.show_details()"
   ]
  },
  {
   "cell_type": "code",
   "execution_count": 13,
   "id": "6a4f001e",
   "metadata": {},
   "outputs": [
    {
     "name": "stdout",
     "output_type": "stream",
     "text": [
      "Day: 17 Month: 3 Year: 1980\n"
     ]
    }
   ],
   "source": [
    "p.dob.show_details()"
   ]
  },
  {
   "cell_type": "markdown",
   "id": "249b53a4",
   "metadata": {},
   "source": [
    "### Example"
   ]
  },
  {
   "cell_type": "code",
   "execution_count": 14,
   "id": "3d5b1594",
   "metadata": {},
   "outputs": [],
   "source": [
    "class Person:\n",
    "    def __init__(self, name):\n",
    "        self.name = name\n",
    "        \n",
    "    def show_details(self):\n",
    "        print(\"Name: \", self.name)\n",
    "    \n",
    "    class DateofBirth:\n",
    "        def __init__(self):\n",
    "            self.day = 17\n",
    "            self.month = 3\n",
    "            self.year = 1980\n",
    "            \n",
    "        def show_details(self):\n",
    "            print(\"Day: {} Month: {} Year: {}\".format(self.day, self.month, self.year))            "
   ]
  },
  {
   "cell_type": "code",
   "execution_count": 15,
   "id": "c2211704",
   "metadata": {},
   "outputs": [],
   "source": [
    "p = Person('Chaitra')"
   ]
  },
  {
   "cell_type": "code",
   "execution_count": 16,
   "id": "3f259258",
   "metadata": {},
   "outputs": [
    {
     "name": "stdout",
     "output_type": "stream",
     "text": [
      "Name:  Chaitra\n"
     ]
    }
   ],
   "source": [
    "p.show_details()"
   ]
  },
  {
   "cell_type": "code",
   "execution_count": 17,
   "id": "4e8ec3d5",
   "metadata": {},
   "outputs": [
    {
     "name": "stdout",
     "output_type": "stream",
     "text": [
      "Day: 17 Month: 3 Year: 1980\n"
     ]
    }
   ],
   "source": [
    "p.DateofBirth().show_details()"
   ]
  },
  {
   "cell_type": "code",
   "execution_count": null,
   "id": "9307f4fb",
   "metadata": {},
   "outputs": [],
   "source": []
  }
 ],
 "metadata": {
  "kernelspec": {
   "display_name": "Python 3 (ipykernel)",
   "language": "python",
   "name": "python3"
  },
  "language_info": {
   "codemirror_mode": {
    "name": "ipython",
    "version": 3
   },
   "file_extension": ".py",
   "mimetype": "text/x-python",
   "name": "python",
   "nbconvert_exporter": "python",
   "pygments_lexer": "ipython3",
   "version": "3.11.7"
  }
 },
 "nbformat": 4,
 "nbformat_minor": 5
}
