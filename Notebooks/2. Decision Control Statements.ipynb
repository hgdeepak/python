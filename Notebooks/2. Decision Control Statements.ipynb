{
 "cells": [
  {
   "cell_type": "markdown",
   "id": "9d8aa2ad-dd3b-421b-8f86-32b24132635b",
   "metadata": {},
   "source": [
    "# Introduction"
   ]
  },
  {
   "cell_type": "markdown",
   "id": "40070067-0a2e-483d-a5fb-6071e07444c2",
   "metadata": {},
   "source": [
    "A control statement determines the sequence in which the instructions in a program are to be executed.\n",
    "\n",
    "A control statement can comprise of one or more instructions.\n",
    "\n",
    "There are 3 fundamental methods of control flow in a programming language:\n",
    "\n",
    "* Sequential control flow\n",
    "* Selection control flow\n",
    "* Iterative control flow\n",
    "\n",
    "Generally, in a computer program, the instructions are executed sequentially, from the first line of the program to its last line. This is known as sequential flow.\n",
    "\n",
    "In some cases only the selected statements in a program are to be executed. This is known as selection control flow.\n",
    "\n",
    "In some cases, only a set of statements to be executed repeatedly. This is known as iterative control flow.\n",
    "\n",
    "Thus, the decision control statements alter the flow of execution of instructions in a program."
   ]
  },
  {
   "cell_type": "markdown",
   "id": "03bfe52e-fc9d-4292-a949-c267f8454ccb",
   "metadata": {},
   "source": [
    "# Selection/Conditional Branching Statements"
   ]
  },
  {
   "cell_type": "markdown",
   "id": "605456e8-6bde-4398-b0fd-27c174571a00",
   "metadata": {},
   "source": [
    "Selection control statements allow to execute the statements selectively based on the decisions/conditions.\n",
    "\n",
    "The different types of conditional branching statements supported by Python are:\n",
    "\n",
    "* *if* statement\n",
    "* *if-else* statement\n",
    "* Nested *if* statement\n",
    "* *if-elif-else* statement"
   ]
  },
  {
   "cell_type": "markdown",
   "id": "3e72a7ce-25ae-4fcd-b18c-0e2de915e979",
   "metadata": {},
   "source": [
    "## *if* statement"
   ]
  },
  {
   "cell_type": "markdown",
   "id": "07183809-9cfe-47a7-a637-4d7ed4374613",
   "metadata": {},
   "source": [
    "An *if* statement is a selection control statement based on the value of a given Boolean expression.\n",
    "\n",
    "The general form of the *if* statement is:\n",
    "\n",
    "if *test_expression*:\n",
    "\n",
    "    statement 1\n",
    "\n",
    "The *if* structure may include 1 or more statements within the *if* block.\n",
    "\n",
    "The *test_expression* is evaluated first and if it is *True* then the statements of the *if* block are executed. Otherwise the statements within the *if* block are skipped.\n",
    "\n",
    "The *test_expression* is any valid expression, including logical operators."
   ]
  },
  {
   "cell_type": "markdown",
   "id": "529778ac-f45e-474b-b6f1-55c8ac474226",
   "metadata": {},
   "source": [
    "### Example"
   ]
  },
  {
   "cell_type": "code",
   "execution_count": 1,
   "id": "c7b27fd8-32db-4f2b-9acb-9d6d4537bdc2",
   "metadata": {},
   "outputs": [
    {
     "name": "stdout",
     "output_type": "stream",
     "text": [
      "Even\n"
     ]
    }
   ],
   "source": [
    "# Progam to check whether the number is even or not\n",
    "number = 10\n",
    "\n",
    "if (number % 2 == 0):\n",
    "    print('Even')"
   ]
  },
  {
   "cell_type": "markdown",
   "id": "04529453-7979-402c-a798-03b2600bee42",
   "metadata": {},
   "source": [
    "## *if-else* statement"
   ]
  },
  {
   "cell_type": "markdown",
   "id": "98d88d24-7fd0-4ee5-aa11-1551b35ec823",
   "metadata": {},
   "source": [
    "*if-else* statement is used to execute a separate set of statements when the *test_expression* returns False.\n",
    "\n",
    "The general form of *if-else* statement is:\n",
    "\n",
    "if *test_expression*:\n",
    "\n",
    "    statement 1\n",
    "\n",
    "else:\n",
    "\n",
    "    statement 2"
   ]
  },
  {
   "cell_type": "markdown",
   "id": "f98f303b-16b8-40fc-9e7a-9a76bcc9a67e",
   "metadata": {},
   "source": [
    "### Example"
   ]
  },
  {
   "cell_type": "code",
   "execution_count": 3,
   "id": "fa926be1-cbfb-4db3-bf78-e002fc038c9d",
   "metadata": {},
   "outputs": [
    {
     "name": "stdout",
     "output_type": "stream",
     "text": [
      "Odd\n"
     ]
    }
   ],
   "source": [
    "# Progam to check whether the number is even or odd\n",
    "number = 11\n",
    "\n",
    "if (number % 2 == 0):\n",
    "    print('Even')\n",
    "else:\n",
    "    print('Odd')"
   ]
  },
  {
   "cell_type": "markdown",
   "id": "e553c1a6-c822-4c32-9b36-c2807f9edf80",
   "metadata": {},
   "source": [
    "## Nested *if* Statements"
   ]
  },
  {
   "cell_type": "markdown",
   "id": "b209c98b-8fb2-4e92-a285-33f12301048c",
   "metadata": {},
   "source": [
    "*if* statement can be nested i.e., placed one statement inside the other, to perform complex checks."
   ]
  },
  {
   "cell_type": "markdown",
   "id": "7deede0c-f5ec-4084-9d78-b662869039b7",
   "metadata": {},
   "source": [
    "### Example"
   ]
  },
  {
   "cell_type": "code",
   "execution_count": 4,
   "id": "36e5e49a-ec01-46e3-b35b-3408fc5a3eba",
   "metadata": {},
   "outputs": [
    {
     "name": "stdout",
     "output_type": "stream",
     "text": [
      "First Class\n"
     ]
    }
   ],
   "source": [
    "# Program to decide the result of a student based the percentage of marks\n",
    "\n",
    "total_percentage = 60\n",
    "\n",
    "if total_percentage > 40:\n",
    "    if total_percentage > 80:\n",
    "        print('Distinction')\n",
    "    if (total_percentage >= 60) and (total_percentage < 80):\n",
    "        print('First Class')\n",
    "    if (total_percentage >= 40) and (total_percentage < 60):\n",
    "        print('Second Class')"
   ]
  },
  {
   "cell_type": "markdown",
   "id": "1ec850f8-178d-40db-ab08-dc6276598d77",
   "metadata": {},
   "source": [
    "## *if-elif-else* Statement"
   ]
  },
  {
   "cell_type": "markdown",
   "id": "d5b8d013-d9fc-4233-8a97-a1ddf2e7d7a4",
   "metadata": {},
   "source": [
    "The *if-elif-else* statement works in the same way as *if-else*.\n",
    "\n",
    "The general form of *if-elif-else* statement is:\n",
    "\n",
    "if *test_expression*:\n",
    "\n",
    "    statement 1\n",
    "    \n",
    "elif *test_expression*:\n",
    "\n",
    "    statement 1\n",
    "else:\n",
    "\n",
    "    statement 2"
   ]
  },
  {
   "cell_type": "markdown",
   "id": "c90d18cf-7bf3-4ce0-8d0f-60b1f6b88b4c",
   "metadata": {},
   "source": [
    "#### Example"
   ]
  },
  {
   "cell_type": "code",
   "execution_count": 5,
   "id": "edbd1aa9-a541-4280-8619-8bf060f2e3ed",
   "metadata": {},
   "outputs": [
    {
     "name": "stdout",
     "output_type": "stream",
     "text": [
      "Number is negative\n"
     ]
    }
   ],
   "source": [
    "# Program to check whether the number is positive or negative or zero\n",
    "\n",
    "number = -10\n",
    "\n",
    "if number > 0:\n",
    "    print('Number is positive')\n",
    "elif number < 0:\n",
    "    print('Number is negative')\n",
    "else:\n",
    "    print('Number is zero')"
   ]
  },
  {
   "cell_type": "markdown",
   "id": "9272db8f-9ce0-47b7-8259-4245723ab930",
   "metadata": {},
   "source": [
    "# Basic Loop Structures/Iterative Statements"
   ]
  },
  {
   "cell_type": "code",
   "execution_count": null,
   "id": "2a7f8d28-bf4f-4191-b85d-fa60f83c441e",
   "metadata": {},
   "outputs": [],
   "source": []
  }
 ],
 "metadata": {
  "kernelspec": {
   "display_name": "Python 3 (ipykernel)",
   "language": "python",
   "name": "python3"
  },
  "language_info": {
   "codemirror_mode": {
    "name": "ipython",
    "version": 3
   },
   "file_extension": ".py",
   "mimetype": "text/x-python",
   "name": "python",
   "nbconvert_exporter": "python",
   "pygments_lexer": "ipython3",
   "version": "3.12.4"
  }
 },
 "nbformat": 4,
 "nbformat_minor": 5
}
