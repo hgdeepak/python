{
 "cells": [
  {
   "cell_type": "markdown",
   "id": "9e2cac7a-a0ae-4351-8120-4e1c9f844f81",
   "metadata": {},
   "source": [
    "# Sequence"
   ]
  },
  {
   "cell_type": "markdown",
   "id": "8cb0e877-1e87-414d-8b7b-97e588b9defe",
   "metadata": {},
   "source": [
    "A data structure is a group of data elements that are put together under one name.\n",
    "\n",
    "Sequence is the basic data structure in Python.\n",
    "\n",
    "In the sequence data structure, each element has a specific index.\n",
    "\n",
    "The index value starts from zero and is auto incremented for the next element in the sequence.\n",
    "\n",
    "In Python, sequence is the generic term for an ordered set."
   ]
  },
  {
   "cell_type": "markdown",
   "id": "efc39e3f-5f44-42b2-9fb3-43c1d477d659",
   "metadata": {},
   "source": [
    "# Lists"
   ]
  },
  {
   "cell_type": "markdown",
   "id": "9af61508-8f4b-4c7c-bb8b-404a52dfc210",
   "metadata": {},
   "source": [
    "List is a sequence in which elements are written as a list of comma-separated values between square brackets.\n",
    "\n",
    "List can have elements that belong to different data types.\n",
    "\n",
    "List is mutable i.e., the value of its elements can be changed."
   ]
  },
  {
   "cell_type": "markdown",
   "id": "6d4e11a1-34fd-48bf-b19c-428734832923",
   "metadata": {},
   "source": [
    "### Example"
   ]
  },
  {
   "cell_type": "code",
   "execution_count": null,
   "id": "c4a9b247-1a01-4706-bba0-cd8c38858543",
   "metadata": {},
   "outputs": [],
   "source": [
    "colours = ['Violet', 'Indigo', 'Blue', 'Green', 'Yellow', 'Orange', 'Red']"
   ]
  },
  {
   "cell_type": "code",
   "execution_count": null,
   "id": "4fe2d9bd-6577-4020-9c58-e7cdddc00dd9",
   "metadata": {},
   "outputs": [],
   "source": [
    "print(colours)"
   ]
  },
  {
   "cell_type": "markdown",
   "id": "1e18284d-0c49-4e88-9a78-eda5d9e5d379",
   "metadata": {},
   "source": [
    "### Example"
   ]
  },
  {
   "cell_type": "code",
   "execution_count": null,
   "id": "907a5b1d-0e46-44cf-9589-45e4c81cb8ae",
   "metadata": {},
   "outputs": [],
   "source": [
    "numbers = [0, 1, 2, 3, 4, 5, 6, 7, 8, 9]"
   ]
  },
  {
   "cell_type": "code",
   "execution_count": null,
   "id": "77633c0c-ca95-4bcb-b146-d93aad15f732",
   "metadata": {},
   "outputs": [],
   "source": [
    "print(numbers)"
   ]
  },
  {
   "cell_type": "markdown",
   "id": "f8920f38-0240-44fe-98a3-ed302126633d",
   "metadata": {},
   "source": [
    "### Example"
   ]
  },
  {
   "cell_type": "code",
   "execution_count": null,
   "id": "310f5ed9-f909-4b5f-9c49-185bb6b48398",
   "metadata": {},
   "outputs": [],
   "source": [
    "numbers = [10, 11.5, 2 + 3j]"
   ]
  },
  {
   "cell_type": "code",
   "execution_count": null,
   "id": "670b0e1a-5b27-4e4f-9908-c7e6c4803989",
   "metadata": {},
   "outputs": [],
   "source": [
    "print(numbers)"
   ]
  },
  {
   "cell_type": "markdown",
   "id": "f9cee2c5",
   "metadata": {},
   "source": [
    "### Example"
   ]
  },
  {
   "cell_type": "code",
   "execution_count": null,
   "id": "49831688",
   "metadata": {},
   "outputs": [],
   "source": [
    "person = ['Deepak', 44, 5.11]"
   ]
  },
  {
   "cell_type": "code",
   "execution_count": null,
   "id": "97ec0d8c",
   "metadata": {},
   "outputs": [],
   "source": [
    "print(person)"
   ]
  },
  {
   "cell_type": "markdown",
   "id": "45d5adb5-8bf9-4921-85f0-b57273e8c857",
   "metadata": {},
   "source": [
    "## Access values in Lists"
   ]
  },
  {
   "cell_type": "markdown",
   "id": "48c8a675-7def-4686-bd48-15e8d39516a6",
   "metadata": {},
   "source": [
    "To access values in lists, square brackets are used to slice along with the index or indices to get value stored at that index."
   ]
  },
  {
   "cell_type": "markdown",
   "id": "8dcdfbad-7c1a-4da0-83d0-c3f3b0f53537",
   "metadata": {},
   "source": [
    "### Example"
   ]
  },
  {
   "cell_type": "code",
   "execution_count": null,
   "id": "2b17c524-e2c3-4d6e-a5ca-c9b32debf106",
   "metadata": {},
   "outputs": [],
   "source": [
    "colours = ['Violet', 'Indigo', 'Blue', 'Green', 'Yellow', 'Orange', 'Red']"
   ]
  },
  {
   "cell_type": "code",
   "execution_count": null,
   "id": "7d98afc6-e36e-47b3-8165-d8ef58416a28",
   "metadata": {},
   "outputs": [],
   "source": [
    "colours[0]"
   ]
  },
  {
   "cell_type": "code",
   "execution_count": null,
   "id": "e31af791-fa3e-4345-9228-eaff730b294f",
   "metadata": {},
   "outputs": [],
   "source": [
    "colours[1]"
   ]
  },
  {
   "cell_type": "code",
   "execution_count": null,
   "id": "ffd5fcdd-65d6-4725-8bad-912e4f19d994",
   "metadata": {},
   "outputs": [],
   "source": [
    "colours[2]"
   ]
  },
  {
   "cell_type": "code",
   "execution_count": null,
   "id": "504d1711-793e-45ee-986c-7adaea3855a7",
   "metadata": {},
   "outputs": [],
   "source": [
    "colours[-1]"
   ]
  },
  {
   "cell_type": "code",
   "execution_count": null,
   "id": "85af2a5a-4014-4574-958f-c113dabd99e4",
   "metadata": {},
   "outputs": [],
   "source": [
    "colours[1:4]"
   ]
  },
  {
   "cell_type": "code",
   "execution_count": null,
   "id": "d2f7c37d-2dd2-407e-8640-912e6773e9b6",
   "metadata": {},
   "outputs": [],
   "source": [
    "colours[::2]"
   ]
  },
  {
   "cell_type": "code",
   "execution_count": null,
   "id": "f8785c63",
   "metadata": {},
   "outputs": [],
   "source": [
    "colours[-4:-1:]"
   ]
  },
  {
   "cell_type": "markdown",
   "id": "20bbb0ab-832b-403f-b566-1be4502f8bec",
   "metadata": {},
   "source": [
    "## Updating Values in Lists"
   ]
  },
  {
   "cell_type": "markdown",
   "id": "68d63656-4131-4b3c-bcb2-945508bbac16",
   "metadata": {},
   "source": [
    "Lists are mutable i.e., we can modify the contents of a list.\n",
    "\n",
    "A list can be appended and updated with the new values and existing values can be removed from the list."
   ]
  },
  {
   "cell_type": "markdown",
   "id": "a88869a2-3967-47e1-bc98-5e171aeacacc",
   "metadata": {},
   "source": [
    "### Example - Update List "
   ]
  },
  {
   "cell_type": "code",
   "execution_count": null,
   "id": "36e2093a-f0d9-42d3-87d5-be78b1865201",
   "metadata": {},
   "outputs": [],
   "source": [
    "colours = ['Violet', 'Indigo', 'Blue', 'Green', 'Yellow', 'Orange', 'Red']"
   ]
  },
  {
   "cell_type": "code",
   "execution_count": null,
   "id": "c31b8cfd-8789-4da8-b17b-3268467a5a53",
   "metadata": {},
   "outputs": [],
   "source": [
    "colours"
   ]
  },
  {
   "cell_type": "code",
   "execution_count": null,
   "id": "e953949f-21fa-4c50-8ac2-68566793468f",
   "metadata": {},
   "outputs": [],
   "source": [
    "# Update an element\n",
    "\n",
    "colours[3] = 'White'"
   ]
  },
  {
   "cell_type": "code",
   "execution_count": null,
   "id": "b9d8f846-8ede-48fe-8de3-77b0f57b5e2a",
   "metadata": {},
   "outputs": [],
   "source": [
    "colours"
   ]
  },
  {
   "cell_type": "markdown",
   "id": "ed9c931f-5821-4314-9469-c2610209ddd2",
   "metadata": {},
   "source": [
    "### Example - Update List"
   ]
  },
  {
   "cell_type": "code",
   "execution_count": null,
   "id": "bdd47c3e-5dcd-4e56-a55c-b34a1485236c",
   "metadata": {},
   "outputs": [],
   "source": [
    "even_numbers = [2, 4, 6, 8]"
   ]
  },
  {
   "cell_type": "code",
   "execution_count": null,
   "id": "d5b80e76-d073-4ca9-98ca-4d1e13d86e97",
   "metadata": {},
   "outputs": [],
   "source": [
    "even_numbers"
   ]
  },
  {
   "cell_type": "code",
   "execution_count": null,
   "id": "410df004-c427-403b-8908-38bb5eaf5aad",
   "metadata": {},
   "outputs": [],
   "source": [
    "even_numbers[1:3] = [10, 12]"
   ]
  },
  {
   "cell_type": "code",
   "execution_count": null,
   "id": "e53afb87-0208-40c1-901e-dda768a66b02",
   "metadata": {},
   "outputs": [],
   "source": [
    "even_numbers"
   ]
  },
  {
   "cell_type": "markdown",
   "id": "d79a917c-967f-4b38-9c01-a0a52198c4b2",
   "metadata": {},
   "source": [
    "### Example - Append new element"
   ]
  },
  {
   "cell_type": "code",
   "execution_count": null,
   "id": "bca83a74-42b8-4c7d-825c-1bd889972738",
   "metadata": {},
   "outputs": [],
   "source": [
    "colours = ['Violet', 'Indigo', 'Blue', 'Green', 'Yellow', 'Orange', 'Red']"
   ]
  },
  {
   "cell_type": "code",
   "execution_count": null,
   "id": "e039fd2f-b79a-4a3d-9506-b525329419d0",
   "metadata": {},
   "outputs": [],
   "source": [
    "# Append a new colour\n",
    "\n",
    "colours.append('Black')"
   ]
  },
  {
   "cell_type": "code",
   "execution_count": null,
   "id": "ca33a807-4dbb-4a2a-9a8e-cb5009ef1880",
   "metadata": {},
   "outputs": [],
   "source": [
    "colours"
   ]
  },
  {
   "cell_type": "markdown",
   "id": "f66897fb-26e6-4589-bdf4-5efb1515005d",
   "metadata": {},
   "source": [
    "### Example - Delete Element"
   ]
  },
  {
   "cell_type": "code",
   "execution_count": null,
   "id": "fc1113e7-4dd7-4720-9b8f-21bcd3c05ec7",
   "metadata": {},
   "outputs": [],
   "source": [
    "colours"
   ]
  },
  {
   "cell_type": "code",
   "execution_count": null,
   "id": "64fefe20-45d9-4173-87e4-da440e019f55",
   "metadata": {},
   "outputs": [],
   "source": [
    "del colours[7]"
   ]
  },
  {
   "cell_type": "code",
   "execution_count": null,
   "id": "176e5c6c-1c73-4400-ac65-5b9b010a72d3",
   "metadata": {},
   "outputs": [],
   "source": [
    "colours"
   ]
  },
  {
   "cell_type": "markdown",
   "id": "498de2d0-794d-4450-accf-e2e48ccf8868",
   "metadata": {},
   "source": [
    "### Example - Delete List"
   ]
  },
  {
   "cell_type": "code",
   "execution_count": null,
   "id": "b0c684f4-d1b9-4cc4-b63e-cb89eed49e7e",
   "metadata": {},
   "outputs": [],
   "source": [
    "colours"
   ]
  },
  {
   "cell_type": "code",
   "execution_count": null,
   "id": "bf50c858-1259-480f-b68e-832908256f7a",
   "metadata": {},
   "outputs": [],
   "source": [
    "del colours"
   ]
  },
  {
   "cell_type": "code",
   "execution_count": null,
   "id": "38c7d6df-e7e3-44ef-9424-7afe1e5f0855",
   "metadata": {},
   "outputs": [],
   "source": [
    "colours"
   ]
  },
  {
   "cell_type": "markdown",
   "id": "bec06d7a-1047-4839-94d2-d91703aae663",
   "metadata": {},
   "source": [
    "## Nested Lists"
   ]
  },
  {
   "cell_type": "markdown",
   "id": "31d3d82c-b380-40a6-a0f5-f472a15b3be4",
   "metadata": {},
   "source": [
    "A list within another list is called a nested list."
   ]
  },
  {
   "cell_type": "markdown",
   "id": "275fbfa1-7cf2-475f-93f3-479abdc1cb47",
   "metadata": {},
   "source": [
    "### Example"
   ]
  },
  {
   "cell_type": "code",
   "execution_count": null,
   "id": "a6e930df-62ec-4d4b-bddb-f958ed59ab0e",
   "metadata": {},
   "outputs": [],
   "source": [
    "month_days = [31, [28, 29], 31, 30]"
   ]
  },
  {
   "cell_type": "code",
   "execution_count": null,
   "id": "5a77d1f8-7d56-4ab1-b344-5dd53833d605",
   "metadata": {},
   "outputs": [],
   "source": [
    "month_days"
   ]
  },
  {
   "cell_type": "code",
   "execution_count": null,
   "id": "3658c522-48c2-4da2-b2b4-7500fd9cf853",
   "metadata": {},
   "outputs": [],
   "source": [
    "month_days[1]"
   ]
  },
  {
   "cell_type": "code",
   "execution_count": null,
   "id": "ee14d9e7-2795-4e46-90f2-f00b08eb1e89",
   "metadata": {},
   "outputs": [],
   "source": [
    "month_days[1][1]"
   ]
  },
  {
   "cell_type": "markdown",
   "id": "745a8aef-eb6d-4b6f-ae6b-f7a13b6bd56f",
   "metadata": {},
   "source": [
    "### Example - Matrix"
   ]
  },
  {
   "cell_type": "code",
   "execution_count": null,
   "id": "7e6ff0b4-03f6-4aea-8d8a-e94907b4c34d",
   "metadata": {},
   "outputs": [],
   "source": [
    "matrix = [[1, 2], [3, 4]]"
   ]
  },
  {
   "cell_type": "code",
   "execution_count": null,
   "id": "8e0a7f8e-9925-4c91-83e1-ba9d15c9adb2",
   "metadata": {},
   "outputs": [],
   "source": [
    "matrix"
   ]
  },
  {
   "cell_type": "code",
   "execution_count": null,
   "id": "f744215a",
   "metadata": {},
   "outputs": [],
   "source": [
    "matrix[0][1]"
   ]
  },
  {
   "cell_type": "markdown",
   "id": "cfc8ed9a-660f-4f84-b579-a7e83d7d0fe0",
   "metadata": {},
   "source": [
    "## List Aliasing"
   ]
  },
  {
   "cell_type": "markdown",
   "id": "d31ca64a-acfb-42d6-a7c0-5b83e6fe6f6f",
   "metadata": {},
   "source": [
    "When a variable or an object is assigned to another variable or object, both of them points to the same memory.\n",
    "\n",
    "Giving a new name to an existing list is called **aliasing**."
   ]
  },
  {
   "cell_type": "markdown",
   "id": "6d25b3dc-f3c7-4b1a-94eb-d7a9b27f37af",
   "metadata": {},
   "source": [
    "### Example"
   ]
  },
  {
   "cell_type": "code",
   "execution_count": null,
   "id": "287be8b1-bb95-4159-b4c6-4c0103efe4ee",
   "metadata": {},
   "outputs": [],
   "source": [
    "a = 10"
   ]
  },
  {
   "cell_type": "code",
   "execution_count": null,
   "id": "90cb5354-d281-4363-8b72-aef2bbc1e30a",
   "metadata": {},
   "outputs": [],
   "source": [
    "b = a"
   ]
  },
  {
   "cell_type": "code",
   "execution_count": null,
   "id": "8bb7e14e-6ee8-42c4-b800-92cf348ecb45",
   "metadata": {},
   "outputs": [],
   "source": [
    "print(a, b)"
   ]
  },
  {
   "cell_type": "code",
   "execution_count": null,
   "id": "0b6522b8-d62e-4cc6-8125-573ef2616c95",
   "metadata": {},
   "outputs": [],
   "source": [
    "id(a), id(b)"
   ]
  },
  {
   "cell_type": "markdown",
   "id": "f7388949-42a6-44e4-83a8-0e0e2e0fd47e",
   "metadata": {},
   "source": [
    "### Example"
   ]
  },
  {
   "cell_type": "code",
   "execution_count": null,
   "id": "968321ce-6c3e-41ff-976a-fdc790e7dab5",
   "metadata": {},
   "outputs": [],
   "source": [
    "x = [10, 20, 30, 40, 50]"
   ]
  },
  {
   "cell_type": "code",
   "execution_count": null,
   "id": "082f2376-7b63-474d-99af-fabc7dfd135a",
   "metadata": {},
   "outputs": [],
   "source": [
    "y = x"
   ]
  },
  {
   "cell_type": "code",
   "execution_count": null,
   "id": "d46c89e1-4ee5-4da5-ab9a-be1e49b7bc3a",
   "metadata": {},
   "outputs": [],
   "source": [
    "print(x)"
   ]
  },
  {
   "cell_type": "code",
   "execution_count": null,
   "id": "f048b6d5-f9b7-48e4-b775-67567b35aa00",
   "metadata": {},
   "outputs": [],
   "source": [
    "print(y)"
   ]
  },
  {
   "cell_type": "markdown",
   "id": "6ac6670c-b0c7-4049-93c3-58d598217100",
   "metadata": {},
   "source": [
    "#### Updating the list"
   ]
  },
  {
   "cell_type": "code",
   "execution_count": null,
   "id": "3206359b-d7b9-41b5-af9f-82931b02fccd",
   "metadata": {},
   "outputs": [],
   "source": [
    "x[1] = 99"
   ]
  },
  {
   "cell_type": "code",
   "execution_count": null,
   "id": "b20622aa-624b-4434-8159-dfd5c138da07",
   "metadata": {},
   "outputs": [],
   "source": [
    "print(x)"
   ]
  },
  {
   "cell_type": "code",
   "execution_count": null,
   "id": "28810b89-d6cd-40e3-a94d-cf54158a716f",
   "metadata": {},
   "outputs": [],
   "source": [
    "print(y)"
   ]
  },
  {
   "cell_type": "markdown",
   "id": "ca8bf468-6e49-44f6-ae2c-47e944f489b2",
   "metadata": {},
   "source": [
    "## Cloning Lists"
   ]
  },
  {
   "cell_type": "markdown",
   "id": "8ed10c72-3a7a-4587-bd3e-fedd97d023b9",
   "metadata": {},
   "source": [
    "The process of modifying a list and keeping a copy of the original list is called as cloning.\n",
    "\n",
    "If two independent lists are required, then we should not go for aliasing. We should use cloning or copying.\n",
    "\n",
    "To clone a list, use slicing operation."
   ]
  },
  {
   "cell_type": "markdown",
   "id": "ae7d6339-7b02-4998-b14e-f104fd72c763",
   "metadata": {},
   "source": [
    "### Example"
   ]
  },
  {
   "cell_type": "code",
   "execution_count": null,
   "id": "eb5fea54-3a29-490b-abec-cfefdeb6fc91",
   "metadata": {},
   "outputs": [],
   "source": [
    "even_numbers = [2, 4, 6, 8, 10]"
   ]
  },
  {
   "cell_type": "code",
   "execution_count": null,
   "id": "919b65d0-809f-463d-8e4d-f4ebb87187e6",
   "metadata": {},
   "outputs": [],
   "source": [
    "numbers = even_numbers[:]"
   ]
  },
  {
   "cell_type": "code",
   "execution_count": null,
   "id": "e514afff-4ac6-4da5-bec1-ec1b9ef179dd",
   "metadata": {},
   "outputs": [],
   "source": [
    "numbers"
   ]
  },
  {
   "cell_type": "code",
   "execution_count": null,
   "id": "6fa90e05-6147-4085-9399-16c34a611a58",
   "metadata": {},
   "outputs": [],
   "source": [
    "even_numbers[0] = 20"
   ]
  },
  {
   "cell_type": "code",
   "execution_count": null,
   "id": "3e0e2f4d-e348-4dbd-824b-396667930258",
   "metadata": {},
   "outputs": [],
   "source": [
    "print(even_numbers)"
   ]
  },
  {
   "cell_type": "code",
   "execution_count": null,
   "id": "5ef6286a-5bd3-4e89-be99-ab1cc9a2b46c",
   "metadata": {},
   "outputs": [],
   "source": [
    "print(numbers)"
   ]
  },
  {
   "cell_type": "markdown",
   "id": "71463e8d-3841-473f-89dc-7a7b1337a965",
   "metadata": {},
   "source": [
    "## Basic List Operations"
   ]
  },
  {
   "cell_type": "markdown",
   "id": "38565f07-1e4c-4085-a003-9aad812e83bd",
   "metadata": {},
   "source": [
    "### Length of a list"
   ]
  },
  {
   "cell_type": "markdown",
   "id": "7edd5de9-111f-4bb4-a831-0daf59e57d7a",
   "metadata": {},
   "source": [
    "Length of a list refers to the number of elements in a list.\n",
    "\n",
    "The function *len()* is used to find the length of a list."
   ]
  },
  {
   "cell_type": "markdown",
   "id": "535e263b-293f-4bbd-9f40-27fa223b8f90",
   "metadata": {},
   "source": [
    "#### Example"
   ]
  },
  {
   "cell_type": "code",
   "execution_count": null,
   "id": "be239594-1440-43d7-b539-289fb2f01141",
   "metadata": {},
   "outputs": [],
   "source": [
    "numbers = [10, 20, 30, 40, 50]"
   ]
  },
  {
   "cell_type": "code",
   "execution_count": null,
   "id": "bd50172f-5f43-41a6-9f97-f5cf4886a38b",
   "metadata": {},
   "outputs": [],
   "source": [
    "len(numbers)"
   ]
  },
  {
   "cell_type": "markdown",
   "id": "629745c1-5041-4930-8e6f-f2d884687ea8",
   "metadata": {},
   "source": [
    "### Concatenation of Two Lists"
   ]
  },
  {
   "cell_type": "markdown",
   "id": "45bb375e-97cc-45c8-a2fb-19b0506bcad0",
   "metadata": {},
   "source": [
    "Use + operator on two lists to join them."
   ]
  },
  {
   "cell_type": "markdown",
   "id": "1bfdf09c-8ce6-462d-947a-72b83b53d3b7",
   "metadata": {},
   "source": [
    "#### Example"
   ]
  },
  {
   "cell_type": "code",
   "execution_count": null,
   "id": "3b338b80-2d63-4195-863b-7fe07e837d9b",
   "metadata": {},
   "outputs": [],
   "source": [
    "x = [10, 20, 30, 40]\n",
    "\n",
    "y = [50, 60, 70, 80]"
   ]
  },
  {
   "cell_type": "code",
   "execution_count": null,
   "id": "3614876e-9071-4ed5-8622-9c10a262050e",
   "metadata": {},
   "outputs": [],
   "source": [
    "print(x + y)"
   ]
  },
  {
   "cell_type": "markdown",
   "id": "295a2faa-1885-47b7-b375-e81b1a3c57f3",
   "metadata": {},
   "source": [
    "### Repetition of Lists"
   ]
  },
  {
   "cell_type": "markdown",
   "id": "5091915e-6b75-4c49-8f32-3400174d2051",
   "metadata": {},
   "source": [
    "The elements of a list can be repeated n times uisng the * operator."
   ]
  },
  {
   "cell_type": "markdown",
   "id": "7516cf41-5ab5-4ea1-8c3b-769cd4978ed5",
   "metadata": {},
   "source": [
    "#### Example"
   ]
  },
  {
   "cell_type": "code",
   "execution_count": null,
   "id": "693483ba-4511-451b-ae74-844c2f7ae4c0",
   "metadata": {},
   "outputs": [],
   "source": [
    "days = ['Sun', 'Mon', 'Tue', 'Wed', 'Thu', 'Fri', 'Sat']"
   ]
  },
  {
   "cell_type": "code",
   "execution_count": null,
   "id": "17d52f3b-4a1e-4d03-b805-a148a1ec294f",
   "metadata": {},
   "outputs": [],
   "source": [
    "print(days * 2)"
   ]
  },
  {
   "cell_type": "markdown",
   "id": "bd5cf0fb-f6d2-4b07-9437-241f778ca2e0",
   "metadata": {},
   "source": [
    "### Membership in Lists"
   ]
  },
  {
   "cell_type": "markdown",
   "id": "c3098a42-ed42-401c-8fd3-72b8e7d56390",
   "metadata": {},
   "source": [
    "Use *in* or *not in* operator to check if an element is a member of a list or not.\n",
    "\n",
    "*in* returns **True** if the element is a member of the list else returns **False**.\n",
    "\n",
    "*not in* returns **True** if the element is not a member of the list else returns **False**."
   ]
  },
  {
   "cell_type": "markdown",
   "id": "5d937b03-8aed-4cd6-8baf-8059870a72bc",
   "metadata": {},
   "source": [
    "#### Example"
   ]
  },
  {
   "cell_type": "code",
   "execution_count": null,
   "id": "46b518b3-7097-4efd-9710-72724ff36265",
   "metadata": {},
   "outputs": [],
   "source": [
    "days = ['Sun', 'Mon', 'Tue', 'Wed', 'Thu', 'Fri', 'Sat']"
   ]
  },
  {
   "cell_type": "code",
   "execution_count": null,
   "id": "f8e96bdc-645c-47cf-868f-e48580852a70",
   "metadata": {},
   "outputs": [],
   "source": [
    "print('Mon' in days)"
   ]
  },
  {
   "cell_type": "code",
   "execution_count": null,
   "id": "1b05d290-9312-492b-9978-56a651748032",
   "metadata": {},
   "outputs": [],
   "source": [
    "print('Thu' not in days)"
   ]
  },
  {
   "cell_type": "markdown",
   "id": "ec3de2e1-a7a2-443b-83d2-f310b324f8d2",
   "metadata": {},
   "source": [
    "### Largest and Smallest element in a list"
   ]
  },
  {
   "cell_type": "markdown",
   "id": "3410fefd-4475-48e5-9d30-fd31915a5d44",
   "metadata": {},
   "source": [
    "Use *min()* function to find the smallest element in the list.\n",
    "\n",
    "Use *max()* function to find the largest element in the list."
   ]
  },
  {
   "cell_type": "markdown",
   "id": "479b53d7-f948-410b-8408-612f646c7364",
   "metadata": {},
   "source": [
    "#### Example"
   ]
  },
  {
   "cell_type": "code",
   "execution_count": null,
   "id": "d1681f3e-70b0-47a4-8563-f59d9cd0db76",
   "metadata": {},
   "outputs": [],
   "source": [
    "numbers = [20, 10, 5, 20, 15]"
   ]
  },
  {
   "cell_type": "code",
   "execution_count": null,
   "id": "e693239c-8eaa-4cdf-9bfd-dc7e20260f32",
   "metadata": {},
   "outputs": [],
   "source": [
    "min(numbers)"
   ]
  },
  {
   "cell_type": "code",
   "execution_count": null,
   "id": "7de8c5fb-90d7-4337-954d-a0eee0417f5c",
   "metadata": {},
   "outputs": [],
   "source": [
    "max(numbers)"
   ]
  },
  {
   "cell_type": "markdown",
   "id": "340bc93c-9cb6-4607-becc-8937afc46dc9",
   "metadata": {},
   "source": [
    "### Sum of elements of a list"
   ]
  },
  {
   "cell_type": "markdown",
   "id": "4e132e0e-9fbd-4352-9357-eb7f09d159bb",
   "metadata": {},
   "source": [
    "Use *sum()* function to find the sum of all the elements of a list, if the elements are numbers."
   ]
  },
  {
   "cell_type": "markdown",
   "id": "3a7f48ac-a992-4ea6-bfef-d09d9ab5363d",
   "metadata": {},
   "source": [
    "#### Example"
   ]
  },
  {
   "cell_type": "code",
   "execution_count": null,
   "id": "0bb4df36-54f0-45f2-899e-8a2b5ff7a7e6",
   "metadata": {},
   "outputs": [],
   "source": [
    "numbers = [10, 20, 30, 40]"
   ]
  },
  {
   "cell_type": "code",
   "execution_count": null,
   "id": "a4fa21d2-4357-4885-9a03-d8971d09c4cd",
   "metadata": {},
   "outputs": [],
   "source": [
    "print(sum(numbers))"
   ]
  },
  {
   "cell_type": "markdown",
   "id": "6b10585e-618e-43ef-841f-6581d5fa2f99",
   "metadata": {},
   "source": [
    "### *all()* function"
   ]
  },
  {
   "cell_type": "markdown",
   "id": "e3b24110-b439-4d03-aba2-c1c1d22693c2",
   "metadata": {},
   "source": [
    "Returns *True* if all the elements of the list are **True** or the list is empty."
   ]
  },
  {
   "cell_type": "markdown",
   "id": "3d3083d6-84e2-45b3-af85-2c4c24c220bc",
   "metadata": {},
   "source": [
    "#### Example"
   ]
  },
  {
   "cell_type": "code",
   "execution_count": null,
   "id": "8d5cb9a6-1b19-43c9-89b0-a25b5220d742",
   "metadata": {},
   "outputs": [],
   "source": [
    "numbers = [1, 2, 3]"
   ]
  },
  {
   "cell_type": "code",
   "execution_count": null,
   "id": "740dbcb0-4bae-41fd-ad03-b157ca76f93b",
   "metadata": {},
   "outputs": [],
   "source": [
    "all(numbers)"
   ]
  },
  {
   "cell_type": "markdown",
   "id": "ef920c59-ff21-4cdd-90d9-f0337f539cc7",
   "metadata": {},
   "source": [
    "#### Example"
   ]
  },
  {
   "cell_type": "code",
   "execution_count": null,
   "id": "0e3e05ea-7f60-40ce-b7d9-cb823f7cd4df",
   "metadata": {},
   "outputs": [],
   "source": [
    "all([0, 1, 2, 3])"
   ]
  },
  {
   "cell_type": "markdown",
   "id": "b4d5762f-f369-46d1-9377-197961fa3286",
   "metadata": {},
   "source": [
    "#### Example"
   ]
  },
  {
   "cell_type": "code",
   "execution_count": null,
   "id": "695bec4a-e552-4d69-8403-1ec80f264921",
   "metadata": {},
   "outputs": [],
   "source": [
    "all([])"
   ]
  },
  {
   "cell_type": "markdown",
   "id": "1894460d-bcdd-4d2d-ab69-8f8b34dc1fd3",
   "metadata": {},
   "source": [
    "### *any()* function"
   ]
  },
  {
   "cell_type": "markdown",
   "id": "2c360ab6-84f9-4e41-903d-196ae472d1e9",
   "metadata": {},
   "source": [
    "Returns *True* if any element of the list is **True**.\n",
    "\n",
    "Returns *False* if the list is empty."
   ]
  },
  {
   "cell_type": "markdown",
   "id": "a7df77b1-7cbf-43dd-90a7-66979a0c0e94",
   "metadata": {},
   "source": [
    "#### Example"
   ]
  },
  {
   "cell_type": "code",
   "execution_count": null,
   "id": "35d7e01b-5b84-4a5c-8d6e-f36697057526",
   "metadata": {},
   "outputs": [],
   "source": [
    "any([1, 2, 0, 4])"
   ]
  },
  {
   "cell_type": "markdown",
   "id": "9573f9ab-95e1-4773-9003-985493c5e8b2",
   "metadata": {},
   "source": [
    "#### Example"
   ]
  },
  {
   "cell_type": "code",
   "execution_count": null,
   "id": "ffb59cac-fca4-4623-9570-9486a5ecb69b",
   "metadata": {},
   "outputs": [],
   "source": [
    "any([])"
   ]
  },
  {
   "cell_type": "markdown",
   "id": "751dcacf-5724-445f-9587-a09fd192bfe2",
   "metadata": {},
   "source": [
    "### list() function"
   ]
  },
  {
   "cell_type": "markdown",
   "id": "21608e2d-31b5-4ad6-bd08-47581e8f1404",
   "metadata": {},
   "source": [
    "Converts an iterable to a list."
   ]
  },
  {
   "cell_type": "markdown",
   "id": "984722bb-fe17-413a-846d-f3b341f82f36",
   "metadata": {},
   "source": [
    "#### Example"
   ]
  },
  {
   "cell_type": "code",
   "execution_count": null,
   "id": "2ef7192d-9a20-4cd1-b3dc-8bf27ca659ef",
   "metadata": {},
   "outputs": [],
   "source": [
    "list(\"Python\")"
   ]
  },
  {
   "cell_type": "markdown",
   "id": "822ab51d-25bd-48bb-83c0-e6a2bc71d8c0",
   "metadata": {},
   "source": [
    "### *sorted()* function"
   ]
  },
  {
   "cell_type": "markdown",
   "id": "1ce0a423-c05b-4d04-958d-5d538e86c5dc",
   "metadata": {},
   "source": [
    "Returns a new sorted list.\n",
    "\n",
    "The original list is not sorted."
   ]
  },
  {
   "cell_type": "markdown",
   "id": "c88fb89b-0d9c-4061-938c-5795ea60d6e2",
   "metadata": {},
   "source": [
    "#### Example"
   ]
  },
  {
   "cell_type": "code",
   "execution_count": null,
   "id": "3b2db468-a308-4b0e-bd67-5e266fb75175",
   "metadata": {},
   "outputs": [],
   "source": [
    "numbers = [3, 4, 1, 2, 7, 8]"
   ]
  },
  {
   "cell_type": "code",
   "execution_count": null,
   "id": "cb2cb99e-7858-4670-9034-5ec87491f52f",
   "metadata": {},
   "outputs": [],
   "source": [
    "sorted(numbers)"
   ]
  },
  {
   "cell_type": "code",
   "execution_count": null,
   "id": "1b3c9105-cc3d-43b3-938c-a91acdbae504",
   "metadata": {},
   "outputs": [],
   "source": [
    "print(numbers)"
   ]
  },
  {
   "cell_type": "markdown",
   "id": "436f7109",
   "metadata": {},
   "source": [
    "#### Example"
   ]
  },
  {
   "cell_type": "code",
   "execution_count": null,
   "id": "34d18e1f",
   "metadata": {},
   "outputs": [],
   "source": [
    "numbers = [3, 4, 1, 2, 7, 8]"
   ]
  },
  {
   "cell_type": "code",
   "execution_count": null,
   "id": "ef49984b",
   "metadata": {},
   "outputs": [],
   "source": [
    "sorted(numbers, reverse=True)"
   ]
  },
  {
   "cell_type": "markdown",
   "id": "9960ecd1-a0d9-4894-8c1d-3c1a641f2b0b",
   "metadata": {},
   "source": [
    "## List Methods"
   ]
  },
  {
   "cell_type": "markdown",
   "id": "8e994081",
   "metadata": {},
   "source": [
    "### *append()* method"
   ]
  },
  {
   "cell_type": "markdown",
   "id": "8364beb5",
   "metadata": {},
   "source": [
    "Appends an element to the list."
   ]
  },
  {
   "cell_type": "markdown",
   "id": "9a80ba08",
   "metadata": {},
   "source": [
    "#### Example"
   ]
  },
  {
   "cell_type": "code",
   "execution_count": 2,
   "id": "cb6ae5ef",
   "metadata": {},
   "outputs": [],
   "source": [
    "prime_numbers = [1, 3, 5, 7]"
   ]
  },
  {
   "cell_type": "code",
   "execution_count": 3,
   "id": "8817e446",
   "metadata": {},
   "outputs": [],
   "source": [
    "prime_numbers.append(11)"
   ]
  },
  {
   "cell_type": "code",
   "execution_count": 4,
   "id": "d6d70d37",
   "metadata": {},
   "outputs": [
    {
     "name": "stdout",
     "output_type": "stream",
     "text": [
      "[1, 3, 5, 7, 11]\n"
     ]
    }
   ],
   "source": [
    "print(prime_numbers)"
   ]
  },
  {
   "cell_type": "markdown",
   "id": "4b878304",
   "metadata": {},
   "source": [
    "### *count()* method"
   ]
  },
  {
   "cell_type": "markdown",
   "id": "3f9eca6b",
   "metadata": {},
   "source": [
    "Returns the number of times an element appears in the list."
   ]
  },
  {
   "cell_type": "code",
   "execution_count": 5,
   "id": "6608be5d",
   "metadata": {},
   "outputs": [],
   "source": [
    "colour_codes = ['B', 'B', 'R', 'O', 'Y', 'G', 'B', 'V', 'G']"
   ]
  },
  {
   "cell_type": "code",
   "execution_count": 6,
   "id": "6afa5790",
   "metadata": {},
   "outputs": [
    {
     "data": {
      "text/plain": [
       "3"
      ]
     },
     "execution_count": 6,
     "metadata": {},
     "output_type": "execute_result"
    }
   ],
   "source": [
    "colour_codes.count('B')"
   ]
  },
  {
   "cell_type": "markdown",
   "id": "d1cdb5a4",
   "metadata": {},
   "source": [
    "### *index()* method"
   ]
  },
  {
   "cell_type": "markdown",
   "id": "77cba118",
   "metadata": {},
   "source": [
    "Returns the lowest index of the element in the list.\n",
    "\n",
    "Returns a *ValueError* if the element is not present in the list."
   ]
  },
  {
   "cell_type": "markdown",
   "id": "8149d655",
   "metadata": {},
   "source": [
    "#### Example"
   ]
  },
  {
   "cell_type": "code",
   "execution_count": 7,
   "id": "a0e5bb2c",
   "metadata": {},
   "outputs": [],
   "source": [
    "even_numbers = [2, 4, 6, 8, 10, 8, 8]"
   ]
  },
  {
   "cell_type": "code",
   "execution_count": 9,
   "id": "017d52c9",
   "metadata": {},
   "outputs": [
    {
     "data": {
      "text/plain": [
       "3"
      ]
     },
     "execution_count": 9,
     "metadata": {},
     "output_type": "execute_result"
    }
   ],
   "source": [
    "even_numbers.index(8)"
   ]
  },
  {
   "cell_type": "markdown",
   "id": "687fda28",
   "metadata": {},
   "source": [
    "#### Example"
   ]
  },
  {
   "cell_type": "code",
   "execution_count": 10,
   "id": "58fb636b",
   "metadata": {},
   "outputs": [
    {
     "ename": "ValueError",
     "evalue": "11 is not in list",
     "output_type": "error",
     "traceback": [
      "\u001b[1;31m---------------------------------------------------------------------------\u001b[0m",
      "\u001b[1;31mValueError\u001b[0m                                Traceback (most recent call last)",
      "Cell \u001b[1;32mIn[10], line 1\u001b[0m\n\u001b[1;32m----> 1\u001b[0m \u001b[43meven_numbers\u001b[49m\u001b[38;5;241;43m.\u001b[39;49m\u001b[43mindex\u001b[49m\u001b[43m(\u001b[49m\u001b[38;5;241;43m11\u001b[39;49m\u001b[43m)\u001b[49m\n",
      "\u001b[1;31mValueError\u001b[0m: 11 is not in list"
     ]
    }
   ],
   "source": [
    "even_numbers.index(11)"
   ]
  },
  {
   "cell_type": "markdown",
   "id": "ab013e6b",
   "metadata": {},
   "source": [
    "### *insert()* method"
   ]
  },
  {
   "cell_type": "markdown",
   "id": "6efa94c2",
   "metadata": {},
   "source": [
    "Inserts an element at the specified index in the list."
   ]
  },
  {
   "cell_type": "markdown",
   "id": "7fa75334",
   "metadata": {},
   "source": [
    "#### Example"
   ]
  },
  {
   "cell_type": "code",
   "execution_count": 11,
   "id": "c80033df",
   "metadata": {},
   "outputs": [],
   "source": [
    "odd_numbers = [1, 3, 5, 7, 9]"
   ]
  },
  {
   "cell_type": "code",
   "execution_count": 12,
   "id": "d12db248",
   "metadata": {},
   "outputs": [],
   "source": [
    "odd_numbers.insert(2, 11)"
   ]
  },
  {
   "cell_type": "code",
   "execution_count": 13,
   "id": "eff508bb",
   "metadata": {},
   "outputs": [
    {
     "name": "stdout",
     "output_type": "stream",
     "text": [
      "[1, 3, 11, 5, 7, 9]\n"
     ]
    }
   ],
   "source": [
    "print(odd_numbers)"
   ]
  },
  {
   "cell_type": "markdown",
   "id": "60c85473",
   "metadata": {},
   "source": [
    "### *pop()* method"
   ]
  },
  {
   "cell_type": "markdown",
   "id": "dbe65171",
   "metadata": {},
   "source": [
    "Removes the last element from the list.\n",
    "\n",
    "If index is passed as an argument, the element at the specified index will be removed from the list."
   ]
  },
  {
   "cell_type": "markdown",
   "id": "d58060df",
   "metadata": {},
   "source": [
    "#### Example"
   ]
  },
  {
   "cell_type": "code",
   "execution_count": 14,
   "id": "f47da6de",
   "metadata": {},
   "outputs": [],
   "source": [
    "colours = ['Black', 'Blue', 'Red', 'Orange', 'Yellow']"
   ]
  },
  {
   "cell_type": "code",
   "execution_count": 15,
   "id": "44916d1b",
   "metadata": {},
   "outputs": [
    {
     "data": {
      "text/plain": [
       "'Yellow'"
      ]
     },
     "execution_count": 15,
     "metadata": {},
     "output_type": "execute_result"
    }
   ],
   "source": [
    "colours.pop()"
   ]
  },
  {
   "cell_type": "code",
   "execution_count": 16,
   "id": "5a94f20b",
   "metadata": {},
   "outputs": [
    {
     "name": "stdout",
     "output_type": "stream",
     "text": [
      "['Black', 'Blue', 'Red', 'Orange']\n"
     ]
    }
   ],
   "source": [
    "print(colours)"
   ]
  },
  {
   "cell_type": "markdown",
   "id": "2d517831",
   "metadata": {},
   "source": [
    "#### Example"
   ]
  },
  {
   "cell_type": "code",
   "execution_count": 17,
   "id": "56132e0e",
   "metadata": {},
   "outputs": [],
   "source": [
    "colours = ['Black', 'Blue', 'Red', 'Orange', 'Yellow']"
   ]
  },
  {
   "cell_type": "code",
   "execution_count": 18,
   "id": "e3d8208c",
   "metadata": {},
   "outputs": [
    {
     "data": {
      "text/plain": [
       "'Blue'"
      ]
     },
     "execution_count": 18,
     "metadata": {},
     "output_type": "execute_result"
    }
   ],
   "source": [
    "colours.pop(1)"
   ]
  },
  {
   "cell_type": "code",
   "execution_count": 19,
   "id": "91a03683",
   "metadata": {},
   "outputs": [
    {
     "name": "stdout",
     "output_type": "stream",
     "text": [
      "['Black', 'Red', 'Orange', 'Yellow']\n"
     ]
    }
   ],
   "source": [
    "print(colours)"
   ]
  },
  {
   "cell_type": "markdown",
   "id": "0bfcf686",
   "metadata": {},
   "source": [
    "### *remove()* method"
   ]
  },
  {
   "cell_type": "markdown",
   "id": "1d8a0955",
   "metadata": {},
   "source": [
    "Deletes the element from the list.\n",
    "\n",
    "*ValueError* is generated if the element is not present in the list.\n",
    "\n",
    "If multiple copies of the element exists in the list, then the first value is deleted."
   ]
  },
  {
   "cell_type": "markdown",
   "id": "e8b9be33",
   "metadata": {},
   "source": [
    "#### Example"
   ]
  },
  {
   "cell_type": "code",
   "execution_count": 20,
   "id": "d94f4bec",
   "metadata": {},
   "outputs": [],
   "source": [
    "even_numbers = [2, 4, 6, 8, 10]"
   ]
  },
  {
   "cell_type": "code",
   "execution_count": 21,
   "id": "9758da9c",
   "metadata": {},
   "outputs": [],
   "source": [
    "even_numbers.remove(10)"
   ]
  },
  {
   "cell_type": "code",
   "execution_count": 22,
   "id": "3ae8da8c",
   "metadata": {},
   "outputs": [
    {
     "name": "stdout",
     "output_type": "stream",
     "text": [
      "[2, 4, 6, 8]\n"
     ]
    }
   ],
   "source": [
    "print(even_numbers)"
   ]
  },
  {
   "cell_type": "markdown",
   "id": "f0406203",
   "metadata": {},
   "source": [
    "#### Example"
   ]
  },
  {
   "cell_type": "code",
   "execution_count": 25,
   "id": "f89cc1f4",
   "metadata": {},
   "outputs": [],
   "source": [
    "even_numbers = [2, 4, 6, 8, 10, 12, 12, 10]"
   ]
  },
  {
   "cell_type": "code",
   "execution_count": 26,
   "id": "8b8e7a93",
   "metadata": {},
   "outputs": [],
   "source": [
    "even_numbers.remove(12)"
   ]
  },
  {
   "cell_type": "code",
   "execution_count": 27,
   "id": "836a3d7a",
   "metadata": {},
   "outputs": [
    {
     "name": "stdout",
     "output_type": "stream",
     "text": [
      "[2, 4, 6, 8, 10, 12, 10]\n"
     ]
    }
   ],
   "source": [
    "print(even_numbers)"
   ]
  },
  {
   "cell_type": "markdown",
   "id": "391e1297",
   "metadata": {},
   "source": [
    "#### Example "
   ]
  },
  {
   "cell_type": "code",
   "execution_count": 23,
   "id": "95fbe522",
   "metadata": {},
   "outputs": [],
   "source": [
    "odd_numbers = [1, 3, 5]"
   ]
  },
  {
   "cell_type": "code",
   "execution_count": 24,
   "id": "d1338d76",
   "metadata": {},
   "outputs": [
    {
     "ename": "ValueError",
     "evalue": "list.remove(x): x not in list",
     "output_type": "error",
     "traceback": [
      "\u001b[1;31m---------------------------------------------------------------------------\u001b[0m",
      "\u001b[1;31mValueError\u001b[0m                                Traceback (most recent call last)",
      "Cell \u001b[1;32mIn[24], line 1\u001b[0m\n\u001b[1;32m----> 1\u001b[0m \u001b[43modd_numbers\u001b[49m\u001b[38;5;241;43m.\u001b[39;49m\u001b[43mremove\u001b[49m\u001b[43m(\u001b[49m\u001b[38;5;241;43m7\u001b[39;49m\u001b[43m)\u001b[49m\n",
      "\u001b[1;31mValueError\u001b[0m: list.remove(x): x not in list"
     ]
    }
   ],
   "source": [
    "odd_numbers.remove(7)"
   ]
  },
  {
   "cell_type": "markdown",
   "id": "408e1abb",
   "metadata": {},
   "source": [
    "### *reverse()* method"
   ]
  },
  {
   "cell_type": "markdown",
   "id": "15cb2f05",
   "metadata": {},
   "source": [
    "Reverse the elements in the list."
   ]
  },
  {
   "cell_type": "markdown",
   "id": "6b870012",
   "metadata": {},
   "source": [
    "#### Example"
   ]
  },
  {
   "cell_type": "code",
   "execution_count": 28,
   "id": "61499663",
   "metadata": {},
   "outputs": [],
   "source": [
    "colours = ['Black', 'Blue', 'Red', 'Orange', 'Yellow']"
   ]
  },
  {
   "cell_type": "code",
   "execution_count": 29,
   "id": "e13c2042",
   "metadata": {},
   "outputs": [],
   "source": [
    "colours.reverse()"
   ]
  },
  {
   "cell_type": "code",
   "execution_count": 30,
   "id": "d671ca6e",
   "metadata": {},
   "outputs": [
    {
     "name": "stdout",
     "output_type": "stream",
     "text": [
      "['Yellow', 'Orange', 'Red', 'Blue', 'Black']\n"
     ]
    }
   ],
   "source": [
    "print(colours)"
   ]
  },
  {
   "cell_type": "markdown",
   "id": "d452dcb2",
   "metadata": {},
   "source": [
    "### *sort()* method"
   ]
  },
  {
   "cell_type": "markdown",
   "id": "04ccb2cb",
   "metadata": {},
   "source": [
    "Sorts the elements in the list.\n",
    "\n",
    "The *sort()* method uses ASCII values to sort the values in the list.\n",
    "\n",
    "Uppercase letter comes before the lowercase letters and numbers comes even before the uppercase letters."
   ]
  },
  {
   "cell_type": "markdown",
   "id": "ecfd196c",
   "metadata": {},
   "source": [
    "#### Example"
   ]
  },
  {
   "cell_type": "code",
   "execution_count": 32,
   "id": "ca5f58d4",
   "metadata": {},
   "outputs": [],
   "source": [
    "numbers = [6, 3, 7, 0, 1, 2, 4, 9]"
   ]
  },
  {
   "cell_type": "code",
   "execution_count": 33,
   "id": "e0c200f4",
   "metadata": {},
   "outputs": [],
   "source": [
    "numbers.sort() # Sort in Ascending Order"
   ]
  },
  {
   "cell_type": "code",
   "execution_count": 34,
   "id": "549f86f5",
   "metadata": {},
   "outputs": [
    {
     "name": "stdout",
     "output_type": "stream",
     "text": [
      "[0, 1, 2, 3, 4, 6, 7, 9]\n"
     ]
    }
   ],
   "source": [
    "print(numbers)"
   ]
  },
  {
   "cell_type": "markdown",
   "id": "7d8f86e3",
   "metadata": {},
   "source": [
    "#### Example"
   ]
  },
  {
   "cell_type": "code",
   "execution_count": 35,
   "id": "7c0a72e6",
   "metadata": {},
   "outputs": [],
   "source": [
    "numbers = [6, 3, 7, 0, 1, 2, 4, 9]"
   ]
  },
  {
   "cell_type": "code",
   "execution_count": 36,
   "id": "aea01c51",
   "metadata": {},
   "outputs": [],
   "source": [
    "\n",
    "numbers.sort(reverse=True) # Sort in Descending Order"
   ]
  },
  {
   "cell_type": "code",
   "execution_count": 37,
   "id": "67088a4e",
   "metadata": {},
   "outputs": [
    {
     "name": "stdout",
     "output_type": "stream",
     "text": [
      "[9, 7, 6, 4, 3, 2, 1, 0]\n"
     ]
    }
   ],
   "source": [
    "print(numbers)"
   ]
  },
  {
   "cell_type": "markdown",
   "id": "19b38bbb",
   "metadata": {},
   "source": [
    "#### Example"
   ]
  },
  {
   "cell_type": "code",
   "execution_count": 41,
   "id": "160ffe00",
   "metadata": {},
   "outputs": [],
   "source": [
    "colours = ['Black', 'blue', 'Red', 'Orange', 'Yellow']"
   ]
  },
  {
   "cell_type": "code",
   "execution_count": 42,
   "id": "cb1770a8",
   "metadata": {},
   "outputs": [],
   "source": [
    "colours.sort(reverse=True)"
   ]
  },
  {
   "cell_type": "code",
   "execution_count": 43,
   "id": "b29ef233",
   "metadata": {},
   "outputs": [
    {
     "name": "stdout",
     "output_type": "stream",
     "text": [
      "['blue', 'Yellow', 'Red', 'Orange', 'Black']\n"
     ]
    }
   ],
   "source": [
    "print(colours)"
   ]
  },
  {
   "cell_type": "markdown",
   "id": "9def5275",
   "metadata": {},
   "source": [
    "### *extend()* method"
   ]
  },
  {
   "cell_type": "markdown",
   "id": "ce7eb767",
   "metadata": {},
   "source": [
    "Adds the elements of a list to the end of another list."
   ]
  },
  {
   "cell_type": "code",
   "execution_count": 48,
   "id": "a88d8aed",
   "metadata": {},
   "outputs": [],
   "source": [
    "colours = ['Violet', 'Indigo', 'Blue', 'Green']"
   ]
  },
  {
   "cell_type": "code",
   "execution_count": 49,
   "id": "564a2103",
   "metadata": {},
   "outputs": [],
   "source": [
    "colours_new = ['Yellow', 'Orange', 'Red']"
   ]
  },
  {
   "cell_type": "code",
   "execution_count": 46,
   "id": "c1b49a38",
   "metadata": {},
   "outputs": [],
   "source": [
    "colours.extend(colours_new)"
   ]
  },
  {
   "cell_type": "code",
   "execution_count": 47,
   "id": "5ec5123e",
   "metadata": {},
   "outputs": [
    {
     "name": "stdout",
     "output_type": "stream",
     "text": [
      "['Violet', 'Indigo', 'Blue', 'Green', 'Yellow', 'Orange', 'Red']\n"
     ]
    }
   ],
   "source": [
    "print(colours)"
   ]
  },
  {
   "cell_type": "code",
   "execution_count": 50,
   "id": "2db941ee",
   "metadata": {},
   "outputs": [
    {
     "data": {
      "text/plain": [
       "['Violet', 'Indigo', 'Blue', 'Green', 'Yellow', 'Orange', 'Red']"
      ]
     },
     "execution_count": 50,
     "metadata": {},
     "output_type": "execute_result"
    }
   ],
   "source": [
    "colours + colours_new"
   ]
  },
  {
   "cell_type": "markdown",
   "id": "0d9e7724",
   "metadata": {},
   "source": [
    "## Using Lists as Stack"
   ]
  },
  {
   "cell_type": "markdown",
   "id": "b5b580d4",
   "metadata": {},
   "source": [
    "Stack is an important data strucutre which stores its elements in an ordered manner."
   ]
  },
  {
   "cell_type": "markdown",
   "id": "15fc00ee",
   "metadata": {},
   "source": [
    "### Example:"
   ]
  },
  {
   "cell_type": "markdown",
   "id": "9ea8202a",
   "metadata": {},
   "source": [
    "A pile of plates where one plate is placed on top of another.\n",
    "\n",
    "When we want to remove a plate, we remove the topmost plate first.\n",
    "\n",
    "We can add or remove a plate only at or from one position, which is the topmost position."
   ]
  },
  {
   "cell_type": "markdown",
   "id": "92cc798c",
   "metadata": {},
   "source": [
    "Stack is a linear data structure which uses the above principle i.e., the elements in a stack are added and removed only from one end.\n",
    "\n",
    "A stack is called a **LIFO** (Last-In-First-Out) data structure, as the element that was inserted last is the first one to be taken out."
   ]
  },
  {
   "cell_type": "markdown",
   "id": "58b7b439",
   "metadata": {},
   "source": [
    "### Appliction of Stack"
   ]
  },
  {
   "cell_type": "markdown",
   "id": "66adf0e8",
   "metadata": {},
   "source": [
    "The principle of stack is used in function calls.\n",
    "\n",
    "We are executing the function **A**.\n",
    "\n",
    "During the execution, **A** calls another function **B**.\n",
    "\n",
    "Function **B** calls another function **C**.\n",
    "\n",
    "In order to keep track of the returning point of each active function, a special stack called system stack or call stack is used.\n",
    "\n",
    "Whenever a function calls another function, the calling function is pushed onto the top of the stack.\n",
    "\n",
    "After the called function is executed, the control is passed back to the calling function."
   ]
  },
  {
   "cell_type": "markdown",
   "id": "601093f7",
   "metadata": {},
   "source": [
    "A stack supports 3 basic operations:\n",
    "\n",
    "* push\n",
    "* pop\n",
    "* peep\n",
    "\n",
    "The *push* operation adds an element at the end of the stack.\n",
    "\n",
    "The *pop* operation removes the last element from the stack.\n",
    "\n",
    "The *peep* operation returns the value of the last element of the stack, without deleting it.\n",
    "\n"
   ]
  },
  {
   "cell_type": "markdown",
   "id": "3ba40fb7",
   "metadata": {},
   "source": [
    "In Python:\n",
    "\n",
    "* use the *append()* method to add an element.\n",
    "* use the *pop()* method to remove the last element.\n",
    "* use the *slicing* operation to get the last element."
   ]
  },
  {
   "cell_type": "markdown",
   "id": "ead6b28e",
   "metadata": {},
   "source": [
    "### Example"
   ]
  },
  {
   "cell_type": "code",
   "execution_count": 52,
   "id": "d72606fb",
   "metadata": {},
   "outputs": [],
   "source": [
    "stack = [0, 1, 2, 3, 4]"
   ]
  },
  {
   "cell_type": "code",
   "execution_count": 53,
   "id": "4c13ab02",
   "metadata": {},
   "outputs": [],
   "source": [
    "# push operation\n",
    "\n",
    "stack.append(5)"
   ]
  },
  {
   "cell_type": "code",
   "execution_count": 54,
   "id": "30fc3d84",
   "metadata": {},
   "outputs": [
    {
     "name": "stdout",
     "output_type": "stream",
     "text": [
      "[0, 1, 2, 3, 4, 5]\n"
     ]
    }
   ],
   "source": [
    "print(stack)"
   ]
  },
  {
   "cell_type": "code",
   "execution_count": 58,
   "id": "042d4538",
   "metadata": {},
   "outputs": [
    {
     "data": {
      "text/plain": [
       "4"
      ]
     },
     "execution_count": 58,
     "metadata": {},
     "output_type": "execute_result"
    }
   ],
   "source": [
    "# peep operation\n",
    "stack[-1]"
   ]
  },
  {
   "cell_type": "code",
   "execution_count": 55,
   "id": "456ea521",
   "metadata": {},
   "outputs": [
    {
     "data": {
      "text/plain": [
       "5"
      ]
     },
     "execution_count": 55,
     "metadata": {},
     "output_type": "execute_result"
    }
   ],
   "source": [
    "# pop operation\n",
    "stack.pop()"
   ]
  },
  {
   "cell_type": "code",
   "execution_count": 57,
   "id": "549c1ad9",
   "metadata": {},
   "outputs": [
    {
     "name": "stdout",
     "output_type": "stream",
     "text": [
      "[0, 1, 2, 3, 4]\n"
     ]
    }
   ],
   "source": [
    "print(stack)"
   ]
  },
  {
   "cell_type": "markdown",
   "id": "dc97eb82",
   "metadata": {},
   "source": [
    "## Using Lists as Queue"
   ]
  },
  {
   "cell_type": "markdown",
   "id": "709b4cbc",
   "metadata": {},
   "source": [
    "Queue is an important data structure which stores its elements in an ordered manner."
   ]
  },
  {
   "cell_type": "markdown",
   "id": "ee460122",
   "metadata": {},
   "source": [
    "### Example"
   ]
  },
  {
   "cell_type": "markdown",
   "id": "eec53f44",
   "metadata": {},
   "source": [
    "People standing outside the ticketing window of a cinema hall. The first person in the line will get the ticket first and will be the first one to move out.\n",
    "\n",
    "Luggage kept on a conveyor belt. The bag which was placed first will be the first to come out at the other end.\n",
    "\n",
    "Cars lined at a toll bridge. The first car to reach the bridge will be the first to leave."
   ]
  },
  {
   "cell_type": "markdown",
   "id": "7cb1e6d1",
   "metadata": {},
   "source": [
    "In the above examples, the element at the first position is served first.\n",
    "\n",
    "A queue is a **FIFO** (First-In-First-Out) data structure in which the element that is inserted first is the first one to be taken out.\n",
    "\n",
    "The elements in a queue are added at one end and removed from the other end."
   ]
  },
  {
   "cell_type": "markdown",
   "id": "11fd4747",
   "metadata": {},
   "source": [
    "### Applications"
   ]
  },
  {
   "cell_type": "markdown",
   "id": "c44cfce0",
   "metadata": {},
   "source": [
    "* Playlist of jukebox.\n",
    "\n",
    "* To transfer data asynchronously between two processes."
   ]
  },
  {
   "cell_type": "markdown",
   "id": "049a3e23",
   "metadata": {},
   "source": [
    "Queue supports 3 basic operations:\n",
    "\n",
    "* insert\n",
    "* delete\n",
    "* peep"
   ]
  },
  {
   "cell_type": "markdown",
   "id": "6507db29",
   "metadata": {},
   "source": [
    "In Python:\n",
    "\n",
    "* use the *append()* method to insert an element at the end of the queue.\n",
    "\n",
    "* use the *pop()* method with an index 0 to delete the first element from the queue.\n",
    "\n",
    "* use the *slice operation* to print the value of the last element of the queue."
   ]
  },
  {
   "cell_type": "markdown",
   "id": "97a1b60a",
   "metadata": {},
   "source": [
    "### Example"
   ]
  },
  {
   "cell_type": "code",
   "execution_count": 60,
   "id": "e312463d",
   "metadata": {},
   "outputs": [],
   "source": [
    "queue = [1, 2, 3, 4, 5, 6]"
   ]
  },
  {
   "cell_type": "code",
   "execution_count": 61,
   "id": "dbad381b",
   "metadata": {},
   "outputs": [
    {
     "name": "stdout",
     "output_type": "stream",
     "text": [
      "[1, 2, 3, 4, 5, 6, 7]\n"
     ]
    }
   ],
   "source": [
    "# inserting an element to the queue\n",
    "queue.append(7)\n",
    "\n",
    "print(queue)"
   ]
  },
  {
   "cell_type": "code",
   "execution_count": 62,
   "id": "48fad98a",
   "metadata": {},
   "outputs": [
    {
     "data": {
      "text/plain": [
       "1"
      ]
     },
     "execution_count": 62,
     "metadata": {},
     "output_type": "execute_result"
    }
   ],
   "source": [
    "# remove the first element from the queue\n",
    "queue.pop(0)"
   ]
  },
  {
   "cell_type": "code",
   "execution_count": null,
   "id": "795dc2ea",
   "metadata": {},
   "outputs": [],
   "source": [
    "print(queue)"
   ]
  },
  {
   "cell_type": "code",
   "execution_count": null,
   "id": "f7cda485",
   "metadata": {},
   "outputs": [],
   "source": [
    "# get the last element of the queue\n",
    "queue[-1]"
   ]
  },
  {
   "cell_type": "markdown",
   "id": "6b285ef2",
   "metadata": {},
   "source": [
    "## List Comprehensions"
   ]
  },
  {
   "cell_type": "markdown",
   "id": "11a5e595",
   "metadata": {},
   "source": [
    " ### Creating an empty list"
   ]
  },
  {
   "cell_type": "markdown",
   "id": "413d8521",
   "metadata": {},
   "source": [
    "#### Example"
   ]
  },
  {
   "cell_type": "code",
   "execution_count": 1,
   "id": "476740a2",
   "metadata": {},
   "outputs": [
    {
     "name": "stdout",
     "output_type": "stream",
     "text": [
      "[]\n"
     ]
    }
   ],
   "source": [
    "numbers = []\n",
    "\n",
    "print(numbers)"
   ]
  },
  {
   "cell_type": "code",
   "execution_count": 2,
   "id": "c1fcf893",
   "metadata": {},
   "outputs": [
    {
     "data": {
      "text/plain": [
       "list"
      ]
     },
     "execution_count": 2,
     "metadata": {},
     "output_type": "execute_result"
    }
   ],
   "source": [
    "type(numbers)"
   ]
  },
  {
   "cell_type": "markdown",
   "id": "0a7f7256",
   "metadata": {},
   "source": [
    "#### Example"
   ]
  },
  {
   "cell_type": "code",
   "execution_count": 3,
   "id": "30ba991f",
   "metadata": {},
   "outputs": [],
   "source": [
    "days = list() # Using list object"
   ]
  },
  {
   "cell_type": "code",
   "execution_count": 4,
   "id": "96e703fe",
   "metadata": {},
   "outputs": [
    {
     "name": "stdout",
     "output_type": "stream",
     "text": [
      "[]\n"
     ]
    }
   ],
   "source": [
    "print(days)"
   ]
  },
  {
   "cell_type": "code",
   "execution_count": null,
   "id": "5db94904",
   "metadata": {},
   "outputs": [],
   "source": [
    "1, 4, 9, 16, 25"
   ]
  },
  {
   "cell_type": "code",
   "execution_count": 6,
   "id": "28e07943",
   "metadata": {},
   "outputs": [
    {
     "name": "stdout",
     "output_type": "stream",
     "text": [
      "[1, 4, 9, 16, 25]\n"
     ]
    }
   ],
   "source": [
    "numbers = []\n",
    "\n",
    "number = 1\n",
    "\n",
    "for number in range(1, 6, 1):\n",
    "    numbers.append(number ** 2)\n",
    "\n",
    "print(numbers)"
   ]
  },
  {
   "cell_type": "code",
   "execution_count": 19,
   "id": "47bb2bc1",
   "metadata": {},
   "outputs": [
    {
     "name": "stdout",
     "output_type": "stream",
     "text": [
      "[0, 2, 0, 4, 0, 6, 0, 8, 0, 10, 0, 12, 0, 14, 0, 16, 0, 18, 0, 20]\n"
     ]
    }
   ],
   "source": [
    "even_numbers = [number if (number % 2 == 0) else 0 for number in range(1, 21)]\n",
    "\n",
    "print(even_numbers)"
   ]
  },
  {
   "cell_type": "markdown",
   "id": "86b7f0c2",
   "metadata": {},
   "source": [
    "Python supports computed lists called *list comprehension*.\n",
    "\n",
    "The sysntax: \n",
    "\n",
    "*list = [expression for variable in sequence]*\n",
    "\n",
    "where the expression is evaluated once, for every item in the sequence."
   ]
  },
  {
   "cell_type": "markdown",
   "id": "a16ca37e",
   "metadata": {},
   "source": [
    "### Example"
   ]
  },
  {
   "cell_type": "markdown",
   "id": "96ea6999",
   "metadata": {},
   "source": [
    "#### To create a list of even numbers"
   ]
  },
  {
   "cell_type": "code",
   "execution_count": null,
   "id": "508c86e5",
   "metadata": {},
   "outputs": [],
   "source": [
    "even_numbers = []\n",
    "\n",
    "number = 2\n",
    "\n",
    "while number < 11:\n",
    "    even_numbers.append(number)\n",
    "\n",
    "    number = number + 2\n",
    "\n",
    "print(even_numbers)"
   ]
  },
  {
   "cell_type": "code",
   "execution_count": null,
   "id": "81e97230",
   "metadata": {},
   "outputs": [],
   "source": [
    "even_numbers = []\n",
    "\n",
    "for number in range(2, 11, 2):\n",
    "    even_numbers.append(number)\n",
    "\n",
    "print(even_numbers)"
   ]
  },
  {
   "cell_type": "code",
   "execution_count": null,
   "id": "f452d7ca",
   "metadata": {},
   "outputs": [],
   "source": [
    "# Using list comprehension\n",
    "\n",
    "even_numbers = [number for number in range(2, 11, 2)]\n",
    "\n",
    "print(even_numbers)"
   ]
  },
  {
   "cell_type": "code",
   "execution_count": null,
   "id": "efaa432e",
   "metadata": {},
   "outputs": [],
   "source": [
    "numbers = [n+1 for n in range(0, 11, 1)]\n",
    "\n",
    "numbers"
   ]
  },
  {
   "cell_type": "markdown",
   "id": "c365aeef",
   "metadata": {},
   "source": [
    "## Looping in Lists"
   ]
  },
  {
   "cell_type": "markdown",
   "id": "0839b43a",
   "metadata": {},
   "source": [
    "Python *for* loop is an easy way to access each element in a list."
   ]
  },
  {
   "cell_type": "markdown",
   "id": "9d53bfae",
   "metadata": {},
   "source": [
    "### Example"
   ]
  },
  {
   "cell_type": "code",
   "execution_count": 20,
   "id": "bfc95b8d",
   "metadata": {},
   "outputs": [
    {
     "name": "stdout",
     "output_type": "stream",
     "text": [
      "[2, 4, 6, 8, 10]\n"
     ]
    }
   ],
   "source": [
    "even_numbers = [number for number in range(2, 11, 2)]\n",
    "\n",
    "print(even_numbers)"
   ]
  },
  {
   "cell_type": "code",
   "execution_count": 21,
   "id": "5b5de72d",
   "metadata": {},
   "outputs": [
    {
     "data": {
      "text/plain": [
       "6"
      ]
     },
     "execution_count": 21,
     "metadata": {},
     "output_type": "execute_result"
    }
   ],
   "source": [
    "even_numbers[2]"
   ]
  },
  {
   "cell_type": "code",
   "execution_count": 22,
   "id": "b507c0e6",
   "metadata": {},
   "outputs": [
    {
     "name": "stdout",
     "output_type": "stream",
     "text": [
      "2 4 6 8 10 "
     ]
    }
   ],
   "source": [
    "for number in even_numbers:\n",
    "    print(number, end=' ')"
   ]
  },
  {
   "cell_type": "markdown",
   "id": "4ffee01f",
   "metadata": {},
   "source": [
    "### The *enumerate()* function"
   ]
  },
  {
   "cell_type": "markdown",
   "id": "13988344",
   "metadata": {},
   "source": [
    "The *enumerate()* function is used to print both the index and the element in the list."
   ]
  },
  {
   "cell_type": "markdown",
   "id": "5a898712",
   "metadata": {},
   "source": [
    "#### Example"
   ]
  },
  {
   "cell_type": "code",
   "execution_count": 35,
   "id": "27122d52",
   "metadata": {},
   "outputs": [
    {
     "data": {
      "text/plain": [
       "{2, 4, 6, 8, 10}"
      ]
     },
     "execution_count": 35,
     "metadata": {},
     "output_type": "execute_result"
    }
   ],
   "source": [
    "even_numbers = [number for number in range(2, 11, 2)]\n",
    "\n",
    "even_numbers = set(even_numbers)\n",
    "\n",
    "even_numbers"
   ]
  },
  {
   "cell_type": "code",
   "execution_count": 36,
   "id": "383473b3",
   "metadata": {},
   "outputs": [
    {
     "name": "stdout",
     "output_type": "stream",
     "text": [
      "0: 2\n",
      "1: 4\n",
      "2: 6\n",
      "3: 8\n",
      "4: 10\n"
     ]
    }
   ],
   "source": [
    "for index, element in enumerate(even_numbers):\n",
    "    print(index, element, sep=': ')"
   ]
  },
  {
   "cell_type": "markdown",
   "id": "63255299",
   "metadata": {},
   "source": [
    "### The *range()* function"
   ]
  },
  {
   "cell_type": "markdown",
   "id": "a3692714",
   "metadata": {},
   "source": [
    "#### Example"
   ]
  },
  {
   "cell_type": "code",
   "execution_count": 37,
   "id": "4bedf0ee",
   "metadata": {},
   "outputs": [
    {
     "name": "stdout",
     "output_type": "stream",
     "text": [
      "[100, 200, 300, 400, 500, 600, 700, 800, 900, 1000]\n"
     ]
    }
   ],
   "source": [
    "numbers = range(100, 1001, 100)\n",
    "\n",
    "# Converting to a list\n",
    "print(list(numbers))"
   ]
  },
  {
   "cell_type": "markdown",
   "id": "0cde2d7c",
   "metadata": {},
   "source": [
    "### The *iter()* function"
   ]
  },
  {
   "cell_type": "markdown",
   "id": "f54a248b",
   "metadata": {},
   "source": [
    "An iterator is used to loop over the elements of the list.\n",
    "\n",
    "The iterator fetches the value and then automatically points to the next element in the list when it is used with the *next()* method."
   ]
  },
  {
   "cell_type": "markdown",
   "id": "2b445c17",
   "metadata": {},
   "source": [
    "#### Example"
   ]
  },
  {
   "cell_type": "code",
   "execution_count": 38,
   "id": "8f5b82e1",
   "metadata": {},
   "outputs": [
    {
     "name": "stdout",
     "output_type": "stream",
     "text": [
      "0\n",
      "1\n",
      "2\n",
      "3\n",
      "4\n"
     ]
    }
   ],
   "source": [
    "numbers = [0, 1, 2, 3, 4]\n",
    "\n",
    "iterator = iter(numbers)\n",
    "\n",
    "for i in range(len(numbers)):\n",
    "    print(next(iterator))"
   ]
  },
  {
   "cell_type": "code",
   "execution_count": null,
   "id": "6966068d",
   "metadata": {},
   "outputs": [],
   "source": []
  }
 ],
 "metadata": {
  "kernelspec": {
   "display_name": "Python 3 (ipykernel)",
   "language": "python",
   "name": "python3"
  },
  "language_info": {
   "codemirror_mode": {
    "name": "ipython",
    "version": 3
   },
   "file_extension": ".py",
   "mimetype": "text/x-python",
   "name": "python",
   "nbconvert_exporter": "python",
   "pygments_lexer": "ipython3",
   "version": "3.11.7"
  }
 },
 "nbformat": 4,
 "nbformat_minor": 5
}
